{
 "cells": [
  {
   "cell_type": "markdown",
   "id": "aa720897",
   "metadata": {},
   "source": [
    "# Monitoring Environmental Waste Utilization Scores\n",
    "# A guide for generating EWU-Dashboards\n",
    "**Sarah Schmidt & David Laner**  \n",
    "*January 2023*"
   ]
  },
  {
   "cell_type": "markdown",
   "id": "2c01f25a",
   "metadata": {},
   "source": [
    "## 1. Configuration"
   ]
  },
  {
   "cell_type": "markdown",
   "id": "cac01654",
   "metadata": {},
   "source": [
    "### 1.1 Import Packages"
   ]
  },
  {
   "cell_type": "code",
   "execution_count": 3,
   "id": "978cf032",
   "metadata": {},
   "outputs": [],
   "source": [
    "import pandas as pd\n",
    "import numpy as np\n",
    "import brightway2 as bw\n",
    "import premise\n",
    "from mycolorpy import colorlist as mcp\n",
    "import string\n",
    "\n",
    "import warnings\n",
    "warnings.simplefilter(action='ignore', category=UserWarning)"
   ]
  },
  {
   "cell_type": "markdown",
   "id": "02a879ee",
   "metadata": {},
   "source": [
    "### 1.2 Gather General Information"
   ]
  },
  {
   "cell_type": "code",
   "execution_count": null,
   "id": "2122418f",
   "metadata": {},
   "outputs": [],
   "source": [
    "# create a list with MS Excel-column names (will be used for preparing calculations in MS Excel)\n",
    "alphabet = list(string.ascii_uppercase)\n",
    "excel_cols=[]\n",
    "\n",
    "for i in range(100):\n",
    "    n=0\n",
    "    j=i\n",
    "    while j-len(alphabet)>=0:\n",
    "        j=j-len(alphabet)\n",
    "        n=n+1\n",
    "    if n>0:\n",
    "        col=alphabet[n-1]+alphabet[j]\n",
    "    else:\n",
    "        col=alphabet[j]\n",
    "    excel_cols.append(col)"
   ]
  },
  {
   "cell_type": "markdown",
   "id": "a14faa43",
   "metadata": {},
   "source": [
    "### 1.3 Create Databases"
   ]
  },
  {
   "cell_type": "code",
   "execution_count": null,
   "id": "b2c28368",
   "metadata": {},
   "outputs": [],
   "source": []
  }
 ],
 "metadata": {
  "kernelspec": {
   "display_name": "Python 3 (ipykernel)",
   "language": "python",
   "name": "python3"
  },
  "language_info": {
   "codemirror_mode": {
    "name": "ipython",
    "version": 3
   },
   "file_extension": ".py",
   "mimetype": "text/x-python",
   "name": "python",
   "nbconvert_exporter": "python",
   "pygments_lexer": "ipython3",
   "version": "3.9.12"
  },
  "toc": {
   "base_numbering": 1,
   "nav_menu": {},
   "number_sections": false,
   "sideBar": true,
   "skip_h1_title": true,
   "title_cell": "Table of Contents",
   "title_sidebar": "Contents",
   "toc_cell": false,
   "toc_position": {},
   "toc_section_display": true,
   "toc_window_display": true
  }
 },
 "nbformat": 4,
 "nbformat_minor": 5
}
