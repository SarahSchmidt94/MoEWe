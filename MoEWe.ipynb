{
 "cells": [
  {
   "cell_type": "markdown",
   "id": "1973976f",
   "metadata": {},
   "source": [
    "# Monitoring Environmental Waste Utilization Scores\n",
    "# A guide for generating EWU-Dashboards\n",
    "**Sarah Schmidt & David Laner**  \n",
    "*January 2023*"
   ]
  },
  {
   "cell_type": "markdown",
   "id": "3cf45c31",
   "metadata": {},
   "source": [
    "### Table of Contents\n",
    "[1. Configuration](#1)  \n",
    "&nbsp; [1.1 Import packages](#11)  \n",
    "&nbsp; [1.2 Gather case study-specific information](#12)  \n",
    "&nbsp; [1.3 Setup and import of databases](#13)   \n",
    "&nbsp;&nbsp;&nbsp;&nbsp;&nbsp;&nbsp; [1.3.1 Setup](#131)   \n",
    "&nbsp;&nbsp;&nbsp;&nbsp;&nbsp;&nbsp; [1.3.2 Ecoinvent](#132)   \n",
    "&nbsp;&nbsp;&nbsp;&nbsp;&nbsp;&nbsp; [1.3.3 Prospective databases (premise)](#133)   \n",
    "&nbsp;&nbsp;&nbsp;&nbsp;&nbsp;&nbsp; [1.3.4 Overview of databases](#134)   \n",
    "&nbsp; [1.4 LCIA Methods, Normalization Factors & Weighting Factors](#14)  \n",
    "[2. Calculations](#2)   \n",
    "&nbsp; [2.1 Life Cycle Inventory](#21)  \n",
    "&nbsp;&nbsp;&nbsp;&nbsp;&nbsp;&nbsp; [2.1.1 Activities](#211)   \n",
    "&nbsp;&nbsp;&nbsp;&nbsp;&nbsp;&nbsp; [2.1.2 Exchanges](#212)   \n",
    "&nbsp;&nbsp;&nbsp;&nbsp;&nbsp;&nbsp; [2.1.3 Manual Background Scenarios](#213)   \n",
    "&nbsp; [2.2 Modular Life Cycle Assessment](#22)  \n",
    "&nbsp;&nbsp;&nbsp;&nbsp;&nbsp;&nbsp; [2.2.1 LCI to DataFrame](#221)   \n",
    "&nbsp;&nbsp;&nbsp;&nbsp;&nbsp;&nbsp; [2.2.2 Add parameters](#222)   \n",
    "&nbsp;&nbsp;&nbsp;&nbsp;&nbsp;&nbsp; [2.2.3 LCA calculations for unique exchanges](#223)   \n",
    "&nbsp;&nbsp;&nbsp;&nbsp;&nbsp;&nbsp; [2.2.4 Add characterization factors to LCI-DataFrame](#224)   \n",
    "&nbsp;&nbsp;&nbsp;&nbsp;&nbsp;&nbsp; [2.2.5 LCA Results](#225)   \n",
    "&nbsp; [2.3 Perturbation Analysis](#23)  \n",
    "&nbsp; [2.4 Waste Composition](#24)  \n",
    "&nbsp; [2.5 Waste Generation](#25)  \n",
    "&nbsp; [2.6 Original Environmental Value](#26)  \n",
    "&nbsp;&nbsp;&nbsp;&nbsp;&nbsp;&nbsp; [2.6.1 Materials](#261)   \n",
    "&nbsp;&nbsp;&nbsp;&nbsp;&nbsp;&nbsp; [2.6.2 Pathways](#262)   \n",
    "&nbsp; [2.7 Environmental Waste Utilization](#27)  \n",
    "&nbsp;&nbsp;&nbsp;&nbsp;&nbsp;&nbsp; [2.7.1 Per Pathway](#271)   \n",
    "&nbsp;&nbsp;&nbsp;&nbsp;&nbsp;&nbsp; [2.7.2 Aggregated](#272)   \n",
    "&nbsp; [2.8 Supply Chain](#28)  \n",
    "&nbsp; [2.9 Contribution Analysis](#29)  \n",
    "&nbsp;&nbsp;&nbsp;&nbsp;&nbsp;&nbsp; [2.9.1 Pathways](#291)   \n",
    "&nbsp;&nbsp;&nbsp;&nbsp;&nbsp;&nbsp; [2.9.2 Activities](#292)   \n",
    "&nbsp; [2.10 EWU-Components: Treatment - Utilization - Material](#210)  \n",
    "&nbsp;&nbsp;&nbsp;&nbsp;&nbsp;&nbsp; [2.10.1 Per Impact Category](#2101)   \n",
    "&nbsp;&nbsp;&nbsp;&nbsp;&nbsp;&nbsp; [2.10.2 Aggregated](#2102)   \n",
    "&nbsp; [2.11 Dashboard](#2_11)  \n",
    "&nbsp;&nbsp;&nbsp;&nbsp;&nbsp;&nbsp; [2.11.1 Figure 1: Indicator Scores per Impact Category (Spider Chart)](#2_11_1)   \n",
    "&nbsp;&nbsp;&nbsp;&nbsp;&nbsp;&nbsp; [2.11.2 Figure 2: Aggregated Indicator Scores (Bar Chart)](#2_11_2)   \n",
    "&nbsp;&nbsp;&nbsp;&nbsp;&nbsp;&nbsp; [2.11.3 Figure 3: Contribution Analysis - Pathways (Bar Chart - Stacked)](#2_11_3)   \n",
    "&nbsp;&nbsp;&nbsp;&nbsp;&nbsp;&nbsp; [2.11.4 Figure 4: Contribution Analysis - Processes (Bar Chart - Stacked)](#2_11_4)  \n",
    "&nbsp;&nbsp;&nbsp;&nbsp;&nbsp;&nbsp; [2.11.5 Figure 5: Scenario Analysis - Foreground System (Bar Chart)](#2_11_5)   \n",
    "&nbsp;&nbsp;&nbsp;&nbsp;&nbsp;&nbsp; [2.11.6 Figure 6: Scenario Analysis - Background System (Bar Chart)](#2_11_6)   \n",
    "&nbsp;&nbsp;&nbsp;&nbsp;&nbsp;&nbsp; [2.11.7 Figure 7: EWU - Components (Bar Chart)](#2_11_7)   \n",
    "&nbsp; [2.12 Impact-based Weighting Factors](#2_12)  \n",
    "[3. Export to Excel](#3)   \n",
    "&nbsp; [3.1 Format](#31)  \n",
    "&nbsp; [3.2 Colors](#32)  \n",
    "&nbsp; [3.3 Create workbooks](#33)  \n",
    "&nbsp; [3.4 Write data to workbooks](#34)  \n",
    "&nbsp;&nbsp;&nbsp;&nbsp;&nbsp;&nbsp; [3.4.1 Indicator](#341)   \n",
    "&nbsp;&nbsp;&nbsp;&nbsp;&nbsp;&nbsp; [3.4.2 Weighted Indicator](#342)  \n",
    "&nbsp;&nbsp;&nbsp;&nbsp;&nbsp;&nbsp; [3.4.3 Weighting Methods](#343)   \n",
    "&nbsp;&nbsp;&nbsp;&nbsp;&nbsp;&nbsp; [3.4.4 LCA Results](#344)  \n",
    "&nbsp;&nbsp;&nbsp;&nbsp;&nbsp;&nbsp; [3.4.5 Contribution Analysis - Pathways](#345)   \n",
    "&nbsp;&nbsp;&nbsp;&nbsp;&nbsp;&nbsp; [3.4.6 Contribution Analysis - Activities](#346)  \n",
    "&nbsp;&nbsp;&nbsp;&nbsp;&nbsp;&nbsp; [3.4.7 Supply Chain](#347)   \n",
    "&nbsp;&nbsp;&nbsp;&nbsp;&nbsp;&nbsp; [3.4.8 EWU-Components: Treatment - Utilization - Material](#348)  \n",
    "&nbsp;&nbsp;&nbsp;&nbsp;&nbsp;&nbsp; [3.4.9 Weighted EWU-Components: Treatment - Utilization - Material](#349)   \n",
    "&nbsp;&nbsp;&nbsp;&nbsp;&nbsp;&nbsp; [3.4.10 Parameters](#3410)  \n",
    "&nbsp;&nbsp;&nbsp;&nbsp;&nbsp;&nbsp; [3.4.11 Waste Quantitities](#3411)   \n",
    "&nbsp;&nbsp;&nbsp;&nbsp;&nbsp;&nbsp; [3.4.12 Waste Composition](#3412)  \n",
    "&nbsp;&nbsp;&nbsp;&nbsp;&nbsp;&nbsp; [3.4.13 LCI](#3413)  \n",
    "&nbsp;&nbsp;&nbsp;&nbsp;&nbsp;&nbsp; [3.4.14 Original Environmental Value (Material Value)](#3414)   \n",
    "&nbsp;&nbsp;&nbsp;&nbsp;&nbsp;&nbsp; [3.4.15 Normalization Factors](#3415)  \n",
    "&nbsp;&nbsp;&nbsp;&nbsp;&nbsp;&nbsp; [3.4.16 Dictionary](#3416)   \n",
    "&nbsp;&nbsp;&nbsp;&nbsp;&nbsp;&nbsp; [3.4.17 Documentation](#3417)  \n",
    "&nbsp;&nbsp;&nbsp;&nbsp;&nbsp;&nbsp; [3.4.18 Figure Data](#3418)   \n",
    "&nbsp;&nbsp;&nbsp;&nbsp;&nbsp;&nbsp; [3.4.19 Dashboard](#3419)  \n",
    "&nbsp; [3.5 Save & Close](#35)  \n",
    "&nbsp; [3.6 Insert User Guide and Glossar](#36)  "
   ]
  },
  {
   "cell_type": "markdown",
   "id": "8b96867e",
   "metadata": {},
   "source": [
    "<a class=\"anchor\" id=\"1\"></a>\n",
    "## 1. Configuration"
   ]
  },
  {
   "cell_type": "markdown",
   "id": "806ac130",
   "metadata": {},
   "source": [
    "<a class=\"anchor\" id=\"11\"></a>\n",
    "### 1.1 Import packages"
   ]
  },
  {
   "cell_type": "code",
   "execution_count": 1,
   "id": "9f3148d2",
   "metadata": {},
   "outputs": [],
   "source": [
    "import os\n",
    "import pandas as pd\n",
    "import numpy as np\n",
    "import brightway2 as bw\n",
    "import premise\n",
    "from mycolorpy import colorlist as mcp\n",
    "import string\n",
    "\n",
    "import warnings\n",
    "warnings.simplefilter(action='ignore', category=UserWarning)"
   ]
  },
  {
   "cell_type": "code",
   "execution_count": 2,
   "id": "f4b6bfe7",
   "metadata": {},
   "outputs": [],
   "source": [
    "# create a list with MS Excel column indices (A, B, ..., Z, AA, AB, ...)\n",
    "# will be used for preparing calculations in MS Excel\n",
    "alphabet = list(string.ascii_uppercase)\n",
    "excel_cols=[]\n",
    "\n",
    "for i in range(100):\n",
    "    n=0\n",
    "    j=i\n",
    "    while j-len(alphabet)>=0:\n",
    "        j=j-len(alphabet)\n",
    "        n=n+1\n",
    "    if n>0:\n",
    "        col=alphabet[n-1]+alphabet[j]\n",
    "    else:\n",
    "        col=alphabet[j]\n",
    "    excel_cols.append(col)"
   ]
  },
  {
   "cell_type": "code",
   "execution_count": 3,
   "id": "6d3a724b",
   "metadata": {},
   "outputs": [],
   "source": [
    "conversion_factors={'kg':1,\n",
    "                    't':1e3,\n",
    "                    'kt':1e6,\n",
    "                    'g':1e-3,\n",
    "                    'Mg':1e3,\n",
    "                    'Gg':1e6}"
   ]
  },
  {
   "cell_type": "markdown",
   "id": "a82308e6",
   "metadata": {},
   "source": [
    "<a class=\"anchor\" id=\"12\"></a>\n",
    "### 1.2 Gather case study-specific information"
   ]
  },
  {
   "cell_type": "code",
   "execution_count": 4,
   "id": "d8042a75",
   "metadata": {},
   "outputs": [],
   "source": [
    "# read various case study specific information from input data file (EWU_Dashboard_InputTemplate.xlsx)\n",
    "general_info=pd.read_excel('EWU_Dashboard_InputTemplate.xlsx', sheet_name='GeneralInformation', index_col=0)\n",
    "general_info=general_info[general_info.columns[0]].to_dict()\n",
    "\n",
    "Pathway_codes=pd.read_excel('EWU_Dashboard_InputTemplate.xlsx', sheet_name='Activities')\n",
    "Pathway_codes=Pathway_codes[Pathway_codes['Pathway tag'].notnull()]['Activity code'].to_list()\n",
    "Pathway_names=pd.read_excel('EWU_Dashboard_InputTemplate.xlsx', sheet_name='Activities')\n",
    "Pathway_names=Pathway_names[Pathway_names['Pathway tag'].notnull()]['Pathway tag'].to_list()\n",
    "\n",
    "WasteGen_code=pd.read_excel('EWU_Dashboard_InputTemplate.xlsx', sheet_name='Activities')\n",
    "WasteGen_code=WasteGen_code[WasteGen_code['Waste generation'].notnull()]['Activity code'].iloc[0]\n",
    "\n",
    "act_codes=[WasteGen_code,*Pathway_codes]\n",
    "act_names=[general_info['Acronym'],*Pathway_names]\n",
    "\n",
    "# foreground system\n",
    "activity_df=pd.read_excel('EWU_Dashboard_InputTemplate.xlsx', sheet_name='Activities')\n",
    "foreground_system_codes=activity_df[activity_df['Foreground'].notnull()]['Activity code'].to_list()\n",
    "\n",
    "# number of foreground system scenarios\n",
    "n_scenarios=general_info['Maximum number of foreground system scenarios']\n",
    "\n",
    "# materials for calculation of the environmental impact of materials\n",
    "material_names=pd.read_excel('EWU_Dashboard_InputTemplate.xlsx', sheet_name='EnvironmentalValue')\n",
    "material_names=material_names['Material Name'].to_list()\n",
    "material_codes=pd.read_excel('EWU_Dashboard_InputTemplate.xlsx', sheet_name='EnvironmentalValue')\n",
    "material_codes=material_codes['Material Code'].to_list()\n",
    "activity_material_dict={}\n",
    "for i in activity_df.index:\n",
    "    if pd.isnull(activity_df.loc[i,'Material tag'])==False:\n",
    "        activity_material_dict[activity_df.loc[i,'Activity code']]=activity_df.loc[i,'Material tag']\n",
    "        \n",
    "waste_utilization_codes=pd.read_excel('EWU_Dashboard_InputTemplate.xlsx', sheet_name='Activities')\n",
    "waste_utilization_codes=waste_utilization_codes[pd.isnull(waste_utilization_codes['Waste utilization'])==False]['Activity code'].to_list()\n",
    "\n",
    "# activity tags for contribution analysis\n",
    "activity_tags=pd.read_excel('EWU_Dashboard_InputTemplate.xlsx', sheet_name='Activities')\n",
    "activity_tags=activity_tags['Activity tag'].to_list()\n",
    "activity_tags=[tag for tag in activity_tags if pd.isnull(tag)==False]\n",
    "activity_tags=list(set(activity_tags))\n",
    "activity_tags.append('Others')\n",
    "\n",
    "# waste quantity in kg\n",
    "WQ_kg=general_info['Waste quantity']*conversion_factors[general_info['Unit']]"
   ]
  },
  {
   "cell_type": "markdown",
   "id": "9df8316d",
   "metadata": {},
   "source": [
    "<a class=\"anchor\" id=\"13\"></a>\n",
    "### 1.3 Setup and import of databases"
   ]
  },
  {
   "cell_type": "markdown",
   "id": "f6e6b626",
   "metadata": {},
   "source": [
    "<a class=\"anchor\" id=\"131\"></a>\n",
    "#### 1.3.1 Setup"
   ]
  },
  {
   "cell_type": "code",
   "execution_count": 5,
   "id": "8f262f8c",
   "metadata": {},
   "outputs": [],
   "source": [
    "# create a new project or open an existing project\n",
    "bw.projects.set_current(general_info['Project name'])"
   ]
  },
  {
   "cell_type": "code",
   "execution_count": 6,
   "id": "82e653f5",
   "metadata": {},
   "outputs": [
    {
     "name": "stdout",
     "output_type": "stream",
     "text": [
      "Creating default biosphere\n",
      "\n"
     ]
    },
    {
     "name": "stderr",
     "output_type": "stream",
     "text": [
      "Writing activities to SQLite3 database:\n"
     ]
    },
    {
     "name": "stdout",
     "output_type": "stream",
     "text": [
      "Applying strategy: normalize_units\n",
      "Applying strategy: drop_unspecified_subcategories\n",
      "Applying strategy: ensure_categories_are_tuples\n",
      "Applied 3 strategies in 0.01 seconds\n"
     ]
    },
    {
     "name": "stderr",
     "output_type": "stream",
     "text": [
      "0% [##############################] 100% | ETA: 00:00:00\n",
      "Total time elapsed: 00:00:00\n"
     ]
    },
    {
     "name": "stdout",
     "output_type": "stream",
     "text": [
      "Title: Writing activities to SQLite3 database:\n",
      "  Started: 04/19/2023 16:50:09\n",
      "  Finished: 04/19/2023 16:50:09\n",
      "  Total time elapsed: 00:00:00\n",
      "  CPU %: 25.00\n",
      "  Memory %: 1.64\n",
      "Created database: biosphere3\n",
      "Creating default LCIA methods\n",
      "\n",
      "Applying strategy: normalize_units\n",
      "Applying strategy: set_biosphere_type\n",
      "Applying strategy: fix_ecoinvent_38_lcia_implementation\n",
      "Applying strategy: drop_unspecified_subcategories\n",
      "Applying strategy: link_iterable_by_fields\n",
      "Applied 5 strategies in 1.95 seconds\n",
      "Wrote 975 LCIA methods with 254388 characterization factors\n",
      "Creating core data migrations\n",
      "\n"
     ]
    }
   ],
   "source": [
    "# creates the database \"biosphere 3\"\n",
    "bw.bw2setup() \n",
    "biosphere = bw.Database(\"biosphere3\")"
   ]
  },
  {
   "cell_type": "markdown",
   "id": "d9bf8e42",
   "metadata": {},
   "source": [
    "<a class=\"anchor\" id=\"132\"></a>\n",
    "#### 1.3.2 Ecoinvent"
   ]
  },
  {
   "cell_type": "code",
   "execution_count": 7,
   "id": "70bc2119",
   "metadata": {},
   "outputs": [
    {
     "name": "stdout",
     "output_type": "stream",
     "text": [
      "Extracting XML data from 19128 datasets\n",
      "Extracted 19128 datasets in 84.30 seconds\n",
      "Applying strategy: normalize_units\n",
      "Applying strategy: update_ecoinvent_locations\n",
      "Applying strategy: remove_zero_amount_coproducts\n",
      "Applying strategy: remove_zero_amount_inputs_with_no_activity\n",
      "Applying strategy: remove_unnamed_parameters\n",
      "Applying strategy: es2_assign_only_product_with_amount_as_reference_product\n",
      "Applying strategy: assign_single_product_as_activity\n",
      "Applying strategy: create_composite_code\n",
      "Applying strategy: drop_unspecified_subcategories\n",
      "Applying strategy: fix_ecoinvent_flows_pre35\n",
      "Applying strategy: drop_temporary_outdated_biosphere_flows\n",
      "Applying strategy: link_biosphere_by_flow_uuid\n",
      "Applying strategy: link_internal_technosphere_by_composite_code\n",
      "Applying strategy: delete_exchanges_missing_activity\n",
      "Applying strategy: delete_ghost_exchanges\n",
      "Applying strategy: remove_uncertainty_from_negative_loss_exchanges\n",
      "Applying strategy: fix_unreasonably_high_lognormal_uncertainties\n",
      "Applying strategy: set_lognormal_loc_value\n",
      "Applying strategy: convert_activity_parameters_to_list\n",
      "Applying strategy: add_cpc_classification_from_single_reference_product\n",
      "Applying strategy: delete_none_synonyms\n",
      "Applied 21 strategies in 8.26 seconds\n",
      "19128 datasets\n",
      "621719 exchanges\n",
      "0 unlinked exchanges\n",
      "  \n"
     ]
    },
    {
     "name": "stderr",
     "output_type": "stream",
     "text": [
      "Writing activities to SQLite3 database:\n",
      "0% [##############################] 100% | ETA: 00:00:00\n",
      "Total time elapsed: 00:00:52\n"
     ]
    },
    {
     "name": "stdout",
     "output_type": "stream",
     "text": [
      "Title: Writing activities to SQLite3 database:\n",
      "  Started: 04/19/2023 16:53:49\n",
      "  Finished: 04/19/2023 16:54:41\n",
      "  Total time elapsed: 00:00:52\n",
      "  CPU %: 16.70\n",
      "  Memory %: 21.98\n",
      "Created database: ecoinvent 3.7.1_cutoff_ecoSpold02_default\n"
     ]
    }
   ],
   "source": [
    "# import of the ecoinvent database\n",
    "db_default_name=general_info['Database name']+'_default'\n",
    "if db_default_name in bw.databases:\n",
    "    print(\"Database has already been imported.\")\n",
    "    eidb_default = bw.Database(db_default_name)\n",
    "else:\n",
    "    # mind that the ecoinvent file must be unzipped; then: path to the datasets subfolder\n",
    "    fpeidbcut = r\"{}\".format(general_info['Database file path'])\n",
    "    # the \"r\" makes sure that the path is read as a string - especially useful when you have spaces in your string\n",
    "    eidbcut = bw.SingleOutputEcospold2Importer(fpeidbcut, general_info['Database name']+'_default')\n",
    "    eidbcut\n",
    "    eidbcut.apply_strategies()\n",
    "    eidbcut.statistics()\n",
    "    eidb_default=eidbcut.write_database()"
   ]
  },
  {
   "cell_type": "code",
   "execution_count": 8,
   "id": "ce1ea6bb",
   "metadata": {},
   "outputs": [
    {
     "name": "stderr",
     "output_type": "stream",
     "text": [
      "Writing activities to SQLite3 database:\n",
      "0% [##############################] 100% | ETA: 00:00:00\n",
      "Total time elapsed: 00:00:57\n"
     ]
    },
    {
     "name": "stdout",
     "output_type": "stream",
     "text": [
      "Title: Writing activities to SQLite3 database:\n",
      "  Started: 04/19/2023 16:57:40\n",
      "  Finished: 04/19/2023 16:58:37\n",
      "  Total time elapsed: 00:00:57\n",
      "  CPU %: 16.10\n",
      "  Memory %: 55.96\n"
     ]
    }
   ],
   "source": [
    "# copy of the unmodified version of the ecoinvent database\n",
    "if general_info['Database name'] in bw.databases:\n",
    "    print(\"Database has already been imported.\")\n",
    "else:\n",
    "    eidb_default.copy(general_info['Database name'])\n",
    "eidb = bw.Database(general_info['Database name'])"
   ]
  },
  {
   "cell_type": "markdown",
   "id": "c2b464db",
   "metadata": {},
   "source": [
    "<a class=\"anchor\" id=\"133\"></a>\n",
    "#### 1.3.3 Prospective Databases (premise)"
   ]
  },
  {
   "cell_type": "code",
   "execution_count": 9,
   "id": "7296497b",
   "metadata": {},
   "outputs": [],
   "source": [
    "# gather information which prospective scenarios shall be created\n",
    "premise_scenarios=pd.read_excel('EWU_Dashboard_InputTemplate.xlsx', sheet_name='ProspectiveScenarios', \n",
    "                                skiprows=3, nrows=8)\n",
    "premise_update=pd.read_excel('EWU_Dashboard_InputTemplate.xlsx', sheet_name='ProspectiveScenarios', \n",
    "                                index_col=0, skiprows=15, nrows=9, usecols='A:B')\n",
    "premise_update=premise_update[premise_update['Update']=='yes']"
   ]
  },
  {
   "cell_type": "code",
   "execution_count": 10,
   "id": "ad7edc03",
   "metadata": {},
   "outputs": [],
   "source": [
    "# read encryption key \n",
    "# (to be requested from the premise library maintainers if you want ot use default scenarios included in `premise`)\n",
    "encryption_key=pd.read_excel('EWU_Dashboard_InputTemplate.xlsx', sheet_name='ProspectiveScenarios', \n",
    "                         usecols = \"B\", header = 0, nrows=0).columns[0]"
   ]
  },
  {
   "cell_type": "code",
   "execution_count": 11,
   "id": "fc6d95ec",
   "metadata": {
    "scrolled": false
   },
   "outputs": [],
   "source": [
    "if general_info['Generate background system scenarios']=='yes':\n",
    "    if (general_info ['Type of background system scenarios']=='premise') or (general_info ['Type of background system scenarios']=='manual + premise'):\n",
    "        \n",
    "        premise_scenarios_dictlist=[]\n",
    "        premise_scenario_names_list=[]\n",
    "\n",
    "        for i in premise_scenarios.index:\n",
    "            for c in premise_scenarios.columns[3:]:\n",
    "                if premise_scenarios.loc[i,c]=='x':\n",
    "                    scenario_dict={\"model\":premise_scenarios.loc[i,'IAM'], \n",
    "                                   \"pathway\":premise_scenarios.loc[i,'SSP']+'-'+premise_scenarios.loc[i,'RCP'], \n",
    "                                   \"year\":c}\n",
    "                    scenario_name=premise_scenarios.loc[i,'IAM']+str(c)+'_'+premise_scenarios.loc[i,'SSP']+'-'+premise_scenarios.loc[i,'RCP']\n",
    "                    premise_scenarios_dictlist.append(scenario_dict)\n",
    "                    premise_scenario_names_list.append(scenario_name)\n",
    "       \n",
    "                    if scenario_name not in bw.databases:\n",
    "                        ndb = premise.NewDatabase(\n",
    "                            scenarios=[scenario_dict],\n",
    "                            source_db=eidb_default.name, # name of the database in the BW2 project. Must be a string.\n",
    "                            source_version=general_info['Database version'], # version of ecoinvent. Can be \"3.5\", \"3.6\", \"3.7\" or \"3.8\". Must be a string.\n",
    "                            key=encryption_key,# <-- decryption key\n",
    "                            quiet=True\n",
    "                            # to be requested from the library maintainers if you want ot use default scenarios included in `premise`\n",
    "                            )\n",
    "\n",
    "\n",
    "                        if len(premise_update)==8:\n",
    "                            ndb.update_all()\n",
    "                        else:\n",
    "                            if 'Electricity' in premise_update.index:\n",
    "                                ndb.update_electricity()\n",
    "                            if 'Cement' in premise_update.index:\n",
    "                                ndb.update_cement()\n",
    "                            if 'Steel' in premise_update.index:\n",
    "                                ndb.update_steel()\n",
    "                            if 'Fuels' in premise_update.index:\n",
    "                                ndb.update_fuels()\n",
    "                            if 'Cars' in premise_update.index:\n",
    "                                ndb.update_cars()\n",
    "                            if 'Trucks' in premise_update.index:\n",
    "                                ndb.update_trucks()\n",
    "                            if 'Two wheelers' in premise_update.index:\n",
    "                                ndb.update_two_wheelers()\n",
    "                            if 'Buses' in premise_update.index:\n",
    "                                ndb.update_buses()\n",
    "\n",
    "                        ndb.write_db_to_brightway(name=[scenario_name])    "
   ]
  },
  {
   "cell_type": "markdown",
   "id": "4c6d5de1",
   "metadata": {},
   "source": [
    "<a class=\"anchor\" id=\"134\"></a>\n",
    "#### 1.3.4 Overview of databases to be included in the EWU-Dashboard"
   ]
  },
  {
   "cell_type": "code",
   "execution_count": 12,
   "id": "dcf26b8e",
   "metadata": {},
   "outputs": [],
   "source": [
    "dbs=[eidb]\n",
    "\n",
    "db_names_dict={}\n",
    "db_names_dict['default']=eidb.name\n",
    "n=1\n",
    "\n",
    "if general_info['Generate background system scenarios']=='yes':\n",
    "    if (general_info ['Type of background system scenarios']=='premise') or (general_info ['Type of background system scenarios']=='manual + premise'):\n",
    "        for scenario in premise_scenario_names_list:\n",
    "            dbs.append(bw.Database(scenario))\n",
    "            db='db'+str(n)\n",
    "            db_names_dict[db]=scenario\n",
    "            n=n+1\n",
    "\n",
    "db_names=[db for db in db_names_dict.keys()]"
   ]
  },
  {
   "cell_type": "markdown",
   "id": "5ae7fb30",
   "metadata": {},
   "source": [
    "<a class=\"anchor\" id=\"14\"></a>\n",
    "### 1.4 LCIA Methods, Normalization Factors & Weighting Factors"
   ]
  },
  {
   "cell_type": "markdown",
   "id": "07c9cdaa",
   "metadata": {},
   "source": [
    "**Methods**"
   ]
  },
  {
   "cell_type": "code",
   "execution_count": 13,
   "id": "82056b4f",
   "metadata": {},
   "outputs": [],
   "source": [
    "LCIAmethod_df=pd.read_excel('EWU_Dashboard_InputTemplate.xlsx', sheet_name='LCIA_Methods')\n",
    "LCIA_method_names=LCIAmethod_df['Acronym'].to_list()"
   ]
  },
  {
   "cell_type": "code",
   "execution_count": 14,
   "id": "30216f51",
   "metadata": {},
   "outputs": [],
   "source": [
    "LCIA_methods=[]\n",
    "for i in LCIAmethod_df.index:\n",
    "    method=[m for m in bw.methods if m[0]==LCIAmethod_df.loc[i, 'Method_Part1'] and\n",
    "                                     m[1]==LCIAmethod_df.loc[i, 'Method_Part2'] and\n",
    "                                     m[2]==LCIAmethod_df.loc[i, 'Method_Part3']][0]\n",
    "    LCIA_methods.append(method)"
   ]
  },
  {
   "cell_type": "code",
   "execution_count": 15,
   "id": "ca81a2a9",
   "metadata": {},
   "outputs": [],
   "source": [
    "LCIAmethod_sheet_name='LCIA_Methods'"
   ]
  },
  {
   "cell_type": "code",
   "execution_count": 16,
   "id": "5439d037",
   "metadata": {},
   "outputs": [],
   "source": [
    "LCIAmethod_df=LCIAmethod_df.set_index('Acronym', drop=True)"
   ]
  },
  {
   "cell_type": "markdown",
   "id": "68c228f5",
   "metadata": {},
   "source": [
    "**Normalization Factors**"
   ]
  },
  {
   "cell_type": "code",
   "execution_count": 17,
   "id": "c45228ba",
   "metadata": {},
   "outputs": [],
   "source": [
    "nfs=LCIAmethod_df['Normalization Factor'].to_list()"
   ]
  },
  {
   "cell_type": "markdown",
   "id": "f701f773",
   "metadata": {},
   "source": [
    "**Weighting Factors**"
   ]
  },
  {
   "cell_type": "code",
   "execution_count": 18,
   "id": "33d3a4e1",
   "metadata": {},
   "outputs": [],
   "source": [
    "Weighting_sheet_name='Weighting'"
   ]
  },
  {
   "cell_type": "code",
   "execution_count": 19,
   "id": "83447860",
   "metadata": {},
   "outputs": [],
   "source": [
    "Weighting=pd.read_excel(\"EWU_Dashboard_InputTemplate.xlsx\", sheet_name=\"Weighting\", index_col=0)"
   ]
  },
  {
   "cell_type": "markdown",
   "id": "98c5a9aa",
   "metadata": {},
   "source": [
    "<a class=\"anchor\" id=\"2\"></a>\n",
    "## 2. Calculations"
   ]
  },
  {
   "cell_type": "markdown",
   "id": "c73959bc",
   "metadata": {},
   "source": [
    "<a class=\"anchor\" id=\"21\"></a>\n",
    "### 2.1 Life Cycle Inventory"
   ]
  },
  {
   "cell_type": "markdown",
   "id": "c6db9d7a",
   "metadata": {},
   "source": [
    "<a class=\"anchor\" id=\"211\"></a>\n",
    "#### 2.1.1 Activities"
   ]
  },
  {
   "cell_type": "code",
   "execution_count": 20,
   "id": "ca369e82",
   "metadata": {},
   "outputs": [],
   "source": [
    "activity_df=pd.read_excel('EWU_Dashboard_InputTemplate.xlsx', sheet_name='Activities')"
   ]
  },
  {
   "cell_type": "code",
   "execution_count": 21,
   "id": "1f19ffa4",
   "metadata": {},
   "outputs": [
    {
     "name": "stdout",
     "output_type": "stream",
     "text": [
      "ecoinvent 3.7.1_cutoff_ecoSpold02\n"
     ]
    }
   ],
   "source": [
    "for db in dbs:\n",
    "    print(db.name)\n",
    "    for i in activity_df.index:\n",
    "        if len([act for act in db if act['code']==activity_df.loc[i,'Activity code']])==0:\n",
    "            activity = db.new_activity(code = activity_df.loc[i,'Activity code'], name = activity_df.loc[i,'Activity name'], unit = activity_df.loc[i,'Unit'], location = activity_df.loc[i,'Location'])\n",
    "            activity.save()\n",
    "        else:\n",
    "            activity=[act for act in db if act['code']==activity_df.loc[i,'Activity code']][0]\n",
    "            if activity['name']!=activity_df.loc[i,'Activity name']:\n",
    "                print(\"Error: Activity name\", activity['name'], activity_df.loc[i,'Activity name'])\n",
    "            if activity['location']!=activity_df.loc[i,'Location']:\n",
    "                print(\"Error: Activity location\", activity['location'], activity_df.loc[i,'Location'])\n",
    "            if activity['unit']!=activity_df.loc[i,'Unit']:\n",
    "                print(\"Error: Activity unit\", activity['unit'], activity_df.loc[i,'Unit'])"
   ]
  },
  {
   "cell_type": "markdown",
   "id": "ef94d917",
   "metadata": {},
   "source": [
    "<a class=\"anchor\" id=\"212\"></a>\n",
    "#### 2.1.2 Exchanges"
   ]
  },
  {
   "cell_type": "code",
   "execution_count": 22,
   "id": "f8713196",
   "metadata": {},
   "outputs": [],
   "source": [
    "exchanges_df=pd.read_excel('EWU_Dashboard_InputTemplate.xlsx', sheet_name='Exchanges')"
   ]
  },
  {
   "cell_type": "code",
   "execution_count": 23,
   "id": "da5a4356",
   "metadata": {},
   "outputs": [
    {
     "name": "stdout",
     "output_type": "stream",
     "text": [
      "ecoinvent 3.7.1_cutoff_ecoSpold02\n"
     ]
    }
   ],
   "source": [
    "for db in dbs:\n",
    "    print(db.name)\n",
    "    for actcode in exchanges_df['activity code'].unique():\n",
    "        act_exchanges_df=exchanges_df[exchanges_df['activity code']==actcode]\n",
    "        act=[act for act in db if act['code']==actcode][0]\n",
    "        act.exchanges().delete()\n",
    "        for i in act_exchanges_df.index:\n",
    "            if (act_exchanges_df.loc[i,'type']=='technosphere') or (act_exchanges_df.loc[i,'type']=='production'):\n",
    "                exc_input=[act for act in db if act['code']==act_exchanges_df.loc[i,'input code']][0]\n",
    "            if act_exchanges_df.loc[i,'type']=='biosphere':\n",
    "                exc_input=[act for act in biosphere if act['code']==act_exchanges_df.loc[i,'input code']][0]\n",
    "            act.new_exchange(input = exc_input.key, amount = act_exchanges_df.loc[i,'amount'], \n",
    "                                 unit = act_exchanges_df.loc[i,'input unit'], type = act_exchanges_df.loc[i,'type']).save() \n",
    "            act.save()             \n",
    "\n",
    "            exc=[exc for exc in act.exchanges() if exc['input']==exc_input.key][0]\n",
    "\n",
    "            #import material flow tag\n",
    "            if (exc_input['code'] in activity_df['Activity code']) & (exc_input['unit'] == 'kilogram'):\n",
    "                exc['tag']='material flow'\n",
    "                exc.save()\n",
    "                act.save()"
   ]
  },
  {
   "cell_type": "markdown",
   "id": "f54ad0d8",
   "metadata": {},
   "source": [
    "<a class=\"anchor\" id=\"213\"></a>\n",
    "#### 2.1.3 Manual Background Scenarios"
   ]
  },
  {
   "cell_type": "code",
   "execution_count": 24,
   "id": "c96b16b0",
   "metadata": {},
   "outputs": [],
   "source": [
    "background_scenarios=pd.read_excel('EWU_Dashboard_InputTemplate.xlsx', \n",
    "                                   sheet_name='BackgroundScenarios')"
   ]
  },
  {
   "cell_type": "code",
   "execution_count": 25,
   "id": "cb79a2d1",
   "metadata": {},
   "outputs": [
    {
     "name": "stderr",
     "output_type": "stream",
     "text": [
      "Writing activities to SQLite3 database:\n",
      "0% [##############################] 100% | ETA: 00:00:00\n",
      "Total time elapsed: 00:00:57\n"
     ]
    },
    {
     "name": "stdout",
     "output_type": "stream",
     "text": [
      "Title: Writing activities to SQLite3 database:\n",
      "  Started: 04/19/2023 17:06:51\n",
      "  Finished: 04/19/2023 17:07:49\n",
      "  Total time elapsed: 00:00:57\n",
      "  CPU %: 20.60\n",
      "  Memory %: 57.19\n"
     ]
    }
   ],
   "source": [
    "if general_info['Generate background system scenarios']=='yes':\n",
    "    if (general_info ['Type of background system scenarios']=='manual') or (general_info ['Type of background system scenarios']=='manual + premise'):\n",
    "        \n",
    "        background_scenario_names_list=[]\n",
    "        \n",
    "        for bs in background_scenarios['background scenario'].unique():\n",
    "            sub_df=background_scenarios[background_scenarios['background scenario']==bs]          \n",
    "            for database in sub_df['database'].unique():\n",
    "                db_name=database+'_'+bs\n",
    "                if db_name not in bw.databases:\n",
    "                    db=bw.Database(database)\n",
    "                    db.copy(db_name)\n",
    "                else:\n",
    "                    print(\"Database has already been imported.\")\n",
    "                \n",
    "                if db_name not in background_scenario_names_list:\n",
    "                    background_scenario_names_list.append(db_name)\n",
    "            \n",
    "            \n",
    "        if general_info['Handling of manual background system scenarios']=='adapt exchange amounts':\n",
    "            for i in background_scenarios.index:\n",
    "                db_name=background_scenarios.loc[i,'database']+'_'+background_scenarios.loc[i,'background scenario']\n",
    "                bsdb=bw.Database(db_name)\n",
    "                act=bsdb.get(background_scenarios.loc[i,'activity code'])\n",
    "                exc=[exc for exc in act.exchanges() if exc.input.as_dict()['code']==background_scenarios.loc[i,'input code']][0]\n",
    "\n",
    "                exc['amount']=background_scenarios.loc[i,'amount']\n",
    "                exc.save()\n",
    "                    \n",
    "        if general_info['Handling of manual background system scenarios']=='new exchanges':\n",
    "            for bs in background_scenarios['background scenario'].unique():\n",
    "                sub_df=background_scenarios[background_scenarios['background scenario']==bs]\n",
    "                for database in sub_df['database'].unique():\n",
    "                    sub_sub_df=sub_df[sub_df['database']==database]\n",
    "                    for actcode in sub_sub_df['activity code'].unique():\n",
    "                        sub_sub_sub_df=sub_sub_df[sub_sub_df['activity code']==actcode]\n",
    "                        db_name=database+'_'+bs\n",
    "                        bsdb=bw.Database(db_name)\n",
    "                        act=bsdb.get(actcode)\n",
    "                        act.technosphere().delete()\n",
    "                        act.biosphere().delete()\n",
    "                        for i in sub_sub_sub_df.index:\n",
    "                            if sub_sub_sub_df.loc[i,'type']=='technosphere':\n",
    "                                input_act=bsdb.get(sub_sub_sub_df.loc[i,'input code'])\n",
    "                            else:\n",
    "                                input_act=biosphere.get(sub_sub_sub_df.loc[i,'input code'])\n",
    "                            act.new_exchange(input=input_act.key,\n",
    "                                            unit=input_act['unit'],\n",
    "                                            amount=sub_sub_sub_df.loc[i,'amount'],\n",
    "                                            type=sub_sub_sub_df.loc[i,'type']).save()\n",
    "                            act.save()"
   ]
  },
  {
   "cell_type": "code",
   "execution_count": 26,
   "id": "f8341b77",
   "metadata": {},
   "outputs": [],
   "source": [
    "if general_info['Generate background system scenarios']=='yes':\n",
    "    if (general_info ['Type of background system scenarios']=='manual') or (general_info['Type of background system scenarios']=='manual + premise'):\n",
    "        for scenario in background_scenario_names_list:\n",
    "            dbs.append(bw.Database(scenario))\n",
    "            db='db'+str(n)\n",
    "            db_names_dict[db]=scenario\n",
    "            n=n+1\n",
    "            \n",
    "db_names=[db for db in db_names_dict.keys()]"
   ]
  },
  {
   "cell_type": "markdown",
   "id": "92af6766",
   "metadata": {},
   "source": [
    "<a class=\"anchor\" id=\"22\"></a>\n",
    "### 2.2 Modular Life Cycle Assessment"
   ]
  },
  {
   "cell_type": "code",
   "execution_count": 27,
   "id": "2efd2b47",
   "metadata": {},
   "outputs": [],
   "source": [
    "activity_df=pd.read_excel('EWU_Dashboard_InputTemplate.xlsx', sheet_name='Activities')"
   ]
  },
  {
   "cell_type": "code",
   "execution_count": 28,
   "id": "d161ceb4",
   "metadata": {},
   "outputs": [],
   "source": [
    "foreground_system=[]\n",
    "for actcode in foreground_system_codes:\n",
    "    foreground_system.append(eidb.get(actcode))"
   ]
  },
  {
   "cell_type": "code",
   "execution_count": 29,
   "id": "edce5870",
   "metadata": {},
   "outputs": [],
   "source": [
    "foreground_system_groups={}\n",
    "for ac,actcode in enumerate(foreground_system_codes):\n",
    "    foreground_system_groups[actcode]=ac"
   ]
  },
  {
   "cell_type": "markdown",
   "id": "51f1ce39",
   "metadata": {},
   "source": [
    "<a class=\"anchor\" id=\"221\"></a>\n",
    "#### 2.2.1 LCI to DataFrame"
   ]
  },
  {
   "cell_type": "code",
   "execution_count": 30,
   "id": "db8f13f7",
   "metadata": {},
   "outputs": [
    {
     "data": {
      "text/html": [
       "<div>\n",
       "<style scoped>\n",
       "    .dataframe tbody tr th:only-of-type {\n",
       "        vertical-align: middle;\n",
       "    }\n",
       "\n",
       "    .dataframe tbody tr th {\n",
       "        vertical-align: top;\n",
       "    }\n",
       "\n",
       "    .dataframe thead th {\n",
       "        text-align: right;\n",
       "    }\n",
       "</style>\n",
       "<table border=\"1\" class=\"dataframe\">\n",
       "  <thead>\n",
       "    <tr style=\"text-align: right;\">\n",
       "      <th></th>\n",
       "      <th>input</th>\n",
       "      <th>input code</th>\n",
       "      <th>input unit</th>\n",
       "      <th>input location</th>\n",
       "      <th>activity</th>\n",
       "      <th>activity code</th>\n",
       "      <th>activity location</th>\n",
       "      <th>amount</th>\n",
       "      <th>type</th>\n",
       "      <th>material flow</th>\n",
       "    </tr>\n",
       "  </thead>\n",
       "  <tbody>\n",
       "    <tr>\n",
       "      <th>0</th>\n",
       "      <td>road debris</td>\n",
       "      <td>road_debris</td>\n",
       "      <td>kilogram</td>\n",
       "      <td>DE</td>\n",
       "      <td>road debris</td>\n",
       "      <td>road_debris</td>\n",
       "      <td>DE</td>\n",
       "      <td>1.000000e+00</td>\n",
       "      <td>production</td>\n",
       "      <td>False</td>\n",
       "    </tr>\n",
       "    <tr>\n",
       "      <th>1</th>\n",
       "      <td>market for pitch</td>\n",
       "      <td>1425b702f710e05afac9fb8133ce44d6</td>\n",
       "      <td>kilogram</td>\n",
       "      <td>Europe without Switzerland</td>\n",
       "      <td>road debris</td>\n",
       "      <td>road_debris</td>\n",
       "      <td>DE</td>\n",
       "      <td>8.000000e-02</td>\n",
       "      <td>technosphere</td>\n",
       "      <td>False</td>\n",
       "    </tr>\n",
       "    <tr>\n",
       "      <th>2</th>\n",
       "      <td>market for sand</td>\n",
       "      <td>3811f41971c3f0709eebb44d8fbede43</td>\n",
       "      <td>kilogram</td>\n",
       "      <td>RoW</td>\n",
       "      <td>road debris</td>\n",
       "      <td>road_debris</td>\n",
       "      <td>DE</td>\n",
       "      <td>6.600000e-01</td>\n",
       "      <td>technosphere</td>\n",
       "      <td>False</td>\n",
       "    </tr>\n",
       "    <tr>\n",
       "      <th>3</th>\n",
       "      <td>market for lime, packed</td>\n",
       "      <td>3bf86ab9b73a2030453791b1757ee40d</td>\n",
       "      <td>kilogram</td>\n",
       "      <td>Europe without Switzerland</td>\n",
       "      <td>road debris</td>\n",
       "      <td>road_debris</td>\n",
       "      <td>DE</td>\n",
       "      <td>2.600000e-01</td>\n",
       "      <td>technosphere</td>\n",
       "      <td>False</td>\n",
       "    </tr>\n",
       "    <tr>\n",
       "      <th>4</th>\n",
       "      <td>waste generation</td>\n",
       "      <td>waste_generation</td>\n",
       "      <td>kilogram</td>\n",
       "      <td>DE</td>\n",
       "      <td>waste generation</td>\n",
       "      <td>waste_generation</td>\n",
       "      <td>DE</td>\n",
       "      <td>-1.000000e+00</td>\n",
       "      <td>production</td>\n",
       "      <td>False</td>\n",
       "    </tr>\n",
       "    <tr>\n",
       "      <th>...</th>\n",
       "      <td>...</td>\n",
       "      <td>...</td>\n",
       "      <td>...</td>\n",
       "      <td>...</td>\n",
       "      <td>...</td>\n",
       "      <td>...</td>\n",
       "      <td>...</td>\n",
       "      <td>...</td>\n",
       "      <td>...</td>\n",
       "      <td>...</td>\n",
       "    </tr>\n",
       "    <tr>\n",
       "      <th>66</th>\n",
       "      <td>treatment of road debris, disposal on landfills</td>\n",
       "      <td>LandfillDisposal</td>\n",
       "      <td>kilogram</td>\n",
       "      <td>GLO</td>\n",
       "      <td>treatment of road debris, disposal on landfills</td>\n",
       "      <td>LandfillDisposal</td>\n",
       "      <td>GLO</td>\n",
       "      <td>-1.000000e+00</td>\n",
       "      <td>production</td>\n",
       "      <td>False</td>\n",
       "    </tr>\n",
       "    <tr>\n",
       "      <th>67</th>\n",
       "      <td>transport, freight, lorry &gt;32 metric ton, EURO6</td>\n",
       "      <td>b971e503ad95e6ae08b2c1d14527f795</td>\n",
       "      <td>ton kilometer</td>\n",
       "      <td>RER</td>\n",
       "      <td>treatment of road debris, disposal on landfills</td>\n",
       "      <td>LandfillDisposal</td>\n",
       "      <td>GLO</td>\n",
       "      <td>5.000000e-02</td>\n",
       "      <td>technosphere</td>\n",
       "      <td>False</td>\n",
       "    </tr>\n",
       "    <tr>\n",
       "      <th>68</th>\n",
       "      <td>treatment of waste asphalt, sanitary landfill</td>\n",
       "      <td>8db6952721c41e9661cb72d299096833</td>\n",
       "      <td>kilogram</td>\n",
       "      <td>RoW</td>\n",
       "      <td>treatment of road debris, disposal on landfills</td>\n",
       "      <td>LandfillDisposal</td>\n",
       "      <td>GLO</td>\n",
       "      <td>-1.000000e+00</td>\n",
       "      <td>technosphere</td>\n",
       "      <td>False</td>\n",
       "    </tr>\n",
       "    <tr>\n",
       "      <th>69</th>\n",
       "      <td>Benzo(a)pyrene</td>\n",
       "      <td>5debbf40-9fc7-4115-b276-9dcae25f4cdd</td>\n",
       "      <td>kilogram</td>\n",
       "      <td>('water', 'surface water')</td>\n",
       "      <td>treatment of road debris, disposal on landfills</td>\n",
       "      <td>LandfillDisposal</td>\n",
       "      <td>GLO</td>\n",
       "      <td>1.710000e-09</td>\n",
       "      <td>biosphere</td>\n",
       "      <td>False</td>\n",
       "    </tr>\n",
       "    <tr>\n",
       "      <th>70</th>\n",
       "      <td>Naphtalene</td>\n",
       "      <td>6ed91be2-eb3f-4676-957c-60de03d8e536</td>\n",
       "      <td>kilogram</td>\n",
       "      <td>('water', 'surface water')</td>\n",
       "      <td>treatment of road debris, disposal on landfills</td>\n",
       "      <td>LandfillDisposal</td>\n",
       "      <td>GLO</td>\n",
       "      <td>2.310000e-08</td>\n",
       "      <td>biosphere</td>\n",
       "      <td>False</td>\n",
       "    </tr>\n",
       "  </tbody>\n",
       "</table>\n",
       "<p>71 rows × 10 columns</p>\n",
       "</div>"
      ],
      "text/plain": [
       "                                              input  \\\n",
       "0                                       road debris   \n",
       "1                                  market for pitch   \n",
       "2                                   market for sand   \n",
       "3                           market for lime, packed   \n",
       "4                                  waste generation   \n",
       "..                                              ...   \n",
       "66  treatment of road debris, disposal on landfills   \n",
       "67  transport, freight, lorry >32 metric ton, EURO6   \n",
       "68    treatment of waste asphalt, sanitary landfill   \n",
       "69                                   Benzo(a)pyrene   \n",
       "70                                       Naphtalene   \n",
       "\n",
       "                              input code     input unit  \\\n",
       "0                            road_debris       kilogram   \n",
       "1       1425b702f710e05afac9fb8133ce44d6       kilogram   \n",
       "2       3811f41971c3f0709eebb44d8fbede43       kilogram   \n",
       "3       3bf86ab9b73a2030453791b1757ee40d       kilogram   \n",
       "4                       waste_generation       kilogram   \n",
       "..                                   ...            ...   \n",
       "66                      LandfillDisposal       kilogram   \n",
       "67      b971e503ad95e6ae08b2c1d14527f795  ton kilometer   \n",
       "68      8db6952721c41e9661cb72d299096833       kilogram   \n",
       "69  5debbf40-9fc7-4115-b276-9dcae25f4cdd       kilogram   \n",
       "70  6ed91be2-eb3f-4676-957c-60de03d8e536       kilogram   \n",
       "\n",
       "                input location  \\\n",
       "0                           DE   \n",
       "1   Europe without Switzerland   \n",
       "2                          RoW   \n",
       "3   Europe without Switzerland   \n",
       "4                           DE   \n",
       "..                         ...   \n",
       "66                         GLO   \n",
       "67                         RER   \n",
       "68                         RoW   \n",
       "69  ('water', 'surface water')   \n",
       "70  ('water', 'surface water')   \n",
       "\n",
       "                                           activity     activity code  \\\n",
       "0                                       road debris       road_debris   \n",
       "1                                       road debris       road_debris   \n",
       "2                                       road debris       road_debris   \n",
       "3                                       road debris       road_debris   \n",
       "4                                  waste generation  waste_generation   \n",
       "..                                              ...               ...   \n",
       "66  treatment of road debris, disposal on landfills  LandfillDisposal   \n",
       "67  treatment of road debris, disposal on landfills  LandfillDisposal   \n",
       "68  treatment of road debris, disposal on landfills  LandfillDisposal   \n",
       "69  treatment of road debris, disposal on landfills  LandfillDisposal   \n",
       "70  treatment of road debris, disposal on landfills  LandfillDisposal   \n",
       "\n",
       "   activity location        amount          type material flow  \n",
       "0                 DE  1.000000e+00    production         False  \n",
       "1                 DE  8.000000e-02  technosphere         False  \n",
       "2                 DE  6.600000e-01  technosphere         False  \n",
       "3                 DE  2.600000e-01  technosphere         False  \n",
       "4                 DE -1.000000e+00    production         False  \n",
       "..               ...           ...           ...           ...  \n",
       "66               GLO -1.000000e+00    production         False  \n",
       "67               GLO  5.000000e-02  technosphere         False  \n",
       "68               GLO -1.000000e+00  technosphere         False  \n",
       "69               GLO  1.710000e-09     biosphere         False  \n",
       "70               GLO  2.310000e-08     biosphere         False  \n",
       "\n",
       "[71 rows x 10 columns]"
      ]
     },
     "execution_count": 30,
     "metadata": {},
     "output_type": "execute_result"
    }
   ],
   "source": [
    "LCI_df=pd.DataFrame()\n",
    "i=0\n",
    "\n",
    "for act in foreground_system:   \n",
    "    act_name=act.as_dict()['name']\n",
    "    act_code=act.as_dict()['code']\n",
    "    act_unit=act.as_dict()['unit']\n",
    "    act_location=act.as_dict()['location']\n",
    "    #production exchange\n",
    "    LCI_df.loc[i,'input']=act_name\n",
    "    LCI_df.loc[i,'input code']=act_code\n",
    "    LCI_df.loc[i,'input unit']=act_unit\n",
    "    LCI_df.loc[i,'input location']=act_location\n",
    "    LCI_df.loc[i,'activity']=act_name\n",
    "    LCI_df.loc[i,'activity code']=act_code\n",
    "    LCI_df.loc[i,'activity location']=act_location\n",
    "    if len([exc for exc in eidb.get(act_code).production()]) >0:\n",
    "        LCI_df.loc[i,'amount']=[exc.amount for exc in eidb.get(act_code).production()][0]\n",
    "    else:\n",
    "        LCI_df.loc[i,'amount']=1\n",
    "    LCI_df.loc[i,'type']='production'\n",
    "    LCI_df.loc[i,'material flow']=False\n",
    "    i=i+1\n",
    "\n",
    "    #technosphere exchanges\n",
    "    for exc in act.technosphere():\n",
    "        LCI_df.loc[i,'input']=exc.input.as_dict()['name']\n",
    "        LCI_df.loc[i,'input code']=exc.input.as_dict()['code']\n",
    "        LCI_df.loc[i,'input unit']=exc.input.as_dict()['unit']\n",
    "        LCI_df.loc[i,'input location']=exc.input.as_dict()['location']\n",
    "        LCI_df.loc[i,'activity']=act_name\n",
    "        LCI_df.loc[i,'activity code']=act_code\n",
    "        LCI_df.loc[i,'activity location']=act_location\n",
    "        LCI_df.loc[i,'amount']=exc.amount\n",
    "        LCI_df.loc[i,'type']='technosphere'\n",
    "        if exc.input.as_dict()['code'] in foreground_system_codes:\n",
    "            LCI_df.loc[i,'material flow']=True\n",
    "        else:\n",
    "            LCI_df.loc[i,'material flow']=False\n",
    "        i=i+1\n",
    "        \n",
    "    #biosphere exchanges\n",
    "    for exc in act.biosphere():\n",
    "        LCI_df.loc[i,'input']=exc.input.as_dict()['name']\n",
    "        LCI_df.loc[i,'input code']=exc.input.as_dict()['code']\n",
    "        LCI_df.loc[i,'input unit']=exc.input.as_dict()['unit']\n",
    "        LCI_df.loc[i,'input location']=str(exc.input.as_dict()['categories'])\n",
    "        LCI_df.loc[i,'activity']=act_name\n",
    "        LCI_df.loc[i,'activity code']=act_code\n",
    "        LCI_df.loc[i,'activity location']=act_location\n",
    "        LCI_df.loc[i,'amount']=exc.amount\n",
    "        LCI_df.loc[i,'type']='biosphere'\n",
    "        LCI_df.loc[i,'material flow']=False\n",
    "        i=i+1\n",
    "\n",
    "LCI_df"
   ]
  },
  {
   "cell_type": "markdown",
   "id": "a7dd6dd4",
   "metadata": {},
   "source": [
    "<a class=\"anchor\" id=\"222\"></a>\n",
    "#### 2.2.2 Add parameters"
   ]
  },
  {
   "cell_type": "code",
   "execution_count": 31,
   "id": "9d0178dc",
   "metadata": {},
   "outputs": [],
   "source": [
    "# Excel sheet name (EWU-Dashboard)\n",
    "params_sheet_name='Parameter'"
   ]
  },
  {
   "cell_type": "code",
   "execution_count": 32,
   "id": "992d4895",
   "metadata": {},
   "outputs": [],
   "source": [
    "scenarios=['default']\n",
    "\n",
    "for s in range(n_scenarios):\n",
    "    scenarios.append('S'+str(s+1))"
   ]
  },
  {
   "cell_type": "code",
   "execution_count": 33,
   "id": "d8391814",
   "metadata": {},
   "outputs": [
    {
     "data": {
      "text/html": [
       "<div>\n",
       "<style scoped>\n",
       "    .dataframe tbody tr th:only-of-type {\n",
       "        vertical-align: middle;\n",
       "    }\n",
       "\n",
       "    .dataframe tbody tr th {\n",
       "        vertical-align: top;\n",
       "    }\n",
       "\n",
       "    .dataframe thead th {\n",
       "        text-align: right;\n",
       "    }\n",
       "</style>\n",
       "<table border=\"1\" class=\"dataframe\">\n",
       "  <thead>\n",
       "    <tr style=\"text-align: right;\">\n",
       "      <th></th>\n",
       "      <th>Parameter-ID</th>\n",
       "      <th>Parameter Description</th>\n",
       "      <th>Default Amount</th>\n",
       "      <th>Unit</th>\n",
       "      <th>Group</th>\n",
       "    </tr>\n",
       "  </thead>\n",
       "  <tbody>\n",
       "  </tbody>\n",
       "</table>\n",
       "</div>"
      ],
      "text/plain": [
       "Empty DataFrame\n",
       "Columns: [Parameter-ID, Parameter Description, Default Amount, Unit, Group]\n",
       "Index: []"
      ]
     },
     "execution_count": 33,
     "metadata": {},
     "output_type": "execute_result"
    }
   ],
   "source": [
    "param_df=pd.read_excel('EWU_Dashboard_InputTemplate.xlsx', sheet_name='Parameters')\n",
    "param_df"
   ]
  },
  {
   "cell_type": "code",
   "execution_count": 34,
   "id": "84a28449",
   "metadata": {
    "scrolled": true
   },
   "outputs": [],
   "source": [
    "parameter_df=pd.DataFrame()\n",
    "p=1\n",
    "\n",
    "parameter_df.loc[0,'Parameter-ID']='P0'\n",
    "parameter_df.loc[0,'Parameter']='Waste Quantity'\n",
    "for s in range(n_scenarios):\n",
    "    parameter_df.loc[0,'Parameter Value - S'+str(s+1)]=WQ_kg\n",
    "parameter_df.loc[0,'Parameter Value - default']=WQ_kg\n",
    "parameter_df.loc[0,'Unit']='kilogram'\n",
    "\n",
    "if general_info['Type of parameterization']=='predefined parameters':\n",
    "    param_df=pd.read_excel('EWU_Dashboard_InputTemplate.xlsx', sheet_name='Parameters')\n",
    "    for i in param_df.index:\n",
    "        parameter_df.loc[i+1,'Parameter-ID']=param_df.loc[i,'Parameter-ID']\n",
    "        parameter_df.loc[i+1,'Parameter']=param_df.loc[i,'Parameter Description']\n",
    "        parameter_df.loc[i+1,'Unit']=param_df.loc[i,'Unit']  \n",
    "        parameter_df.loc[i+1,'Group']=param_df.loc[i,'Group']  \n",
    "        for s in range(n_scenarios):\n",
    "            parameter_df.loc[i+1,'Parameter Value - S'+str(s+1)]=param_df.loc[i,'Default Amount']  \n",
    "        parameter_df.loc[i+1,'Parameter Value - default']=param_df.loc[i,'Default Amount']\n",
    "        \n",
    "    param_exchanges_df=exchanges_df[pd.isnull(exchanges_df['formula'])==False]\n",
    "    for param_ind in param_exchanges_df.index:\n",
    "        exc_ind=LCI_df[(LCI_df['input code']==param_exchanges_df.loc[param_ind, 'input code'])&\n",
    "                       (LCI_df['activity code']==param_exchanges_df.loc[param_ind, 'activity code'])].index[0]\n",
    "        LCI_df.loc[exc_ind, 'formula']=param_exchanges_df.loc[param_ind, 'formula']\n",
    "    \n",
    "\n",
    "if general_info['Type of parameterization']=='automatically generated parameters':\n",
    "    if general_info['Parameterize exchanges']=='technosphere':\n",
    "        for i in LCI_df.index:\n",
    "            if LCI_df.loc[i,'type']=='technosphere':\n",
    "                param='P'+str(p+1)\n",
    "                LCI_df.loc[i,'formula']=param\n",
    "                parameter_df.loc[p,'Parameter-ID']=param\n",
    "                parameter_df.loc[p,'Parameter']='FROM: '+LCI_df.loc[i,'input']+' ('+LCI_df.loc[i,'input location']+', '+LCI_df.loc[i,'input unit']+'), TO: '+LCI_df.loc[i,'activity']+'('+LCI_df.loc[i,'activity location']+')'\n",
    "                parameter_df.loc[p,'Unit']=LCI_df.loc[i,'input unit']       \n",
    "                for s in range(n_scenarios):\n",
    "                    parameter_df.loc[p,'Parameter Value - S'+str(s+1)]=LCI_df.loc[i,'amount']\n",
    "                parameter_df.loc[p,'Parameter Value - default']=LCI_df.loc[i,'amount']\n",
    "                if LCI_df.loc[i,'material flow'] == True:\n",
    "                    parameter_df.loc[p, 'Group']=foreground_system_groups[LCI_df.loc[i,'activity code']]\n",
    "                p=p+1\n",
    "                \n",
    "    if general_info['Parameterize exchanges']=='biosphere':\n",
    "        for i in LCI_df.index:\n",
    "            if LCI_df.loc[i,'type']=='biosphere':\n",
    "                param='P'+str(p+1)\n",
    "                LCI_df.loc[i,'formula']=param\n",
    "                parameter_df.loc[p,'Parameter-ID']=param\n",
    "                parameter_df.loc[p,'Parameter']='FROM: '+LCI_df.loc[i,'input']+' ('+LCI_df.loc[i,'input location']+', '+LCI_df.loc[i,'input unit']+'), TO: '+LCI_df.loc[i,'activity']+'('+LCI_df.loc[i,'activity location']+')'\n",
    "                parameter_df.loc[p,'Unit']=LCI_df.loc[i,'input unit']       \n",
    "                for s in range(n_scenarios):\n",
    "                    parameter_df.loc[p,'Parameter Value - S'+str(s+1)]=LCI_df.loc[i,'amount']\n",
    "                parameter_df.loc[p,'Parameter Value - default']=LCI_df.loc[i,'amount']\n",
    "                if LCI_df.loc[i,'material flow'] == True:\n",
    "                    parameter_df.loc[p, 'Group']=foreground_system_groups[LCI_df.loc[i,'activity code']]\n",
    "                p=p+1\n",
    "                \n",
    "    if general_info['Parameterize exchanges']=='technosphere & biosphere':\n",
    "        for i in LCI_df.index:\n",
    "            if LCI_df.loc[i,'type']!='production':\n",
    "                param='P'+str(p+1)\n",
    "                LCI_df.loc[i,'formula']=param\n",
    "                parameter_df.loc[p,'Parameter-ID']=param\n",
    "                parameter_df.loc[p,'Parameter']='FROM: '+LCI_df.loc[i,'input']+' ('+LCI_df.loc[i,'input location']+', '+LCI_df.loc[i,'input unit']+'), TO: '+LCI_df.loc[i,'activity']+'('+LCI_df.loc[i,'activity location']+')'\n",
    "                parameter_df.loc[p,'Unit']=LCI_df.loc[i,'input unit']       \n",
    "                for s in range(n_scenarios):\n",
    "                    parameter_df.loc[p,'Parameter Value - S'+str(s+1)]=LCI_df.loc[i,'amount']\n",
    "                parameter_df.loc[p,'Parameter Value - default']=LCI_df.loc[i,'amount']\n",
    "                if LCI_df.loc[i,'material flow'] == True:\n",
    "                    parameter_df.loc[p, 'Group']=foreground_system_groups[LCI_df.loc[i,'activity code']]\n",
    "                p=p+1"
   ]
  },
  {
   "cell_type": "code",
   "execution_count": 35,
   "id": "59f8581e",
   "metadata": {},
   "outputs": [],
   "source": [
    "params_col_dict={}\n",
    "for c,col in enumerate(parameter_df.columns):\n",
    "    params_col_dict[col]=excel_cols[c]\n",
    "    \n",
    "params_row_dict={}\n",
    "for p,param in enumerate(parameter_df['Parameter-ID']):\n",
    "    params_row_dict[param]=p+2\n",
    "#params_row_dict"
   ]
  },
  {
   "cell_type": "markdown",
   "id": "f285f7fd",
   "metadata": {},
   "source": [
    "<a class=\"anchor\" id=\"223\"></a>\n",
    "#### 2.2.3 LCA calculations for unique exchanges"
   ]
  },
  {
   "cell_type": "markdown",
   "id": "d6578056",
   "metadata": {},
   "source": [
    "**Technosphere**"
   ]
  },
  {
   "cell_type": "code",
   "execution_count": 36,
   "id": "1e217760",
   "metadata": {},
   "outputs": [],
   "source": [
    "LCI_df_tech=LCI_df[LCI_df['type']=='technosphere']\n",
    "unique_inputs_tech=LCI_df_tech['input code'].unique()\n",
    "unique_activities_tech=LCI_df_tech['activity code'].unique()\n",
    "CF_dict_techno={}\n",
    "\n",
    "for d,db in enumerate(dbs):\n",
    "    functional_units_tech=[]\n",
    "    reference_actcodes_tech=[]\n",
    "\n",
    "    for actcode in unique_inputs_tech:\n",
    "        if actcode not in unique_activities_tech:\n",
    "            reference_actcodes_tech.append(actcode)\n",
    "            functional_unit={db.get(actcode):1}\n",
    "            functional_units_tech.append(functional_unit)\n",
    "        \n",
    "    calculation_setup = {'inv': functional_units_tech, 'ia': LCIA_methods}\n",
    "    bw.calculation_setups['excel tool'] = calculation_setup\n",
    "    mlca = bw.MultiLCA('excel tool')\n",
    "    \n",
    "    CF_dict_techno_db={}\n",
    "\n",
    "    for a,actcode in enumerate(reference_actcodes_tech):\n",
    "        CF_dict_techno_flow={}\n",
    "        for i,IC in enumerate(LCIA_method_names):\n",
    "            CF_dict_techno_flow[IC]=mlca.results[a,i]\n",
    "        CF_dict_techno_db[actcode]=CF_dict_techno_flow\n",
    "    \n",
    "    CF_dict_techno[db_names[d]]=CF_dict_techno_db"
   ]
  },
  {
   "cell_type": "code",
   "execution_count": 37,
   "id": "d9020be5",
   "metadata": {},
   "outputs": [],
   "source": [
    "CF_techno_dfs={}\n",
    "for db in db_names:\n",
    "    CF_techno_df_db=pd.DataFrame.from_dict(CF_dict_techno[db]).transpose()\n",
    "    CF_techno_dfs[db]=CF_techno_df_db"
   ]
  },
  {
   "cell_type": "code",
   "execution_count": 38,
   "id": "f6548508",
   "metadata": {},
   "outputs": [],
   "source": [
    "CF_techno_sheet_names={}\n",
    "\n",
    "for db in db_names:\n",
    "    CF_techno_sheet_names[db]='CF_techno_'+db"
   ]
  },
  {
   "cell_type": "markdown",
   "id": "6a98ecc1",
   "metadata": {},
   "source": [
    "**Biosphere**"
   ]
  },
  {
   "cell_type": "code",
   "execution_count": 39,
   "id": "ac023a0c",
   "metadata": {},
   "outputs": [],
   "source": [
    "LCIA_fp=r\"{}\".format(general_info['LCIA implementation file path'])"
   ]
  },
  {
   "cell_type": "code",
   "execution_count": 40,
   "id": "86371507",
   "metadata": {},
   "outputs": [],
   "source": [
    "LCIA=pd.read_excel(LCIA_fp,sheet_name='CFs')\n",
    "\n",
    "LCI_df_bio=LCI_df[LCI_df['type']=='biosphere']\n",
    "unique_inputs_bio=LCI_df_bio['input code'].unique()\n",
    "unique_activities_bio=LCI_df_bio['activity code'].unique()\n",
    "\n",
    "functional_units_bio=[]\n",
    "reference_actcodes_bio=[]\n",
    "\n",
    "for actcode in unique_inputs_bio:\n",
    "    if actcode not in unique_activities_bio:\n",
    "        reference_actcodes_bio.append(actcode)\n",
    "        functional_unit={biosphere.get(actcode):1}\n",
    "        functional_units_bio.append(functional_unit)\n",
    "        \n",
    "functional_units=[*functional_units_tech,*functional_units_bio]\n",
    "reference_actcodes=[*reference_actcodes_tech,*reference_actcodes_bio]\n",
    "\n",
    "CF_dfs={}\n",
    "for i,IC in enumerate(LCIA_method_names):\n",
    "    CF_dfs[IC]=LCIA[(LCIA['Method']==LCIA_methods[i][0])&(LCIA['Category']==LCIA_methods[i][1])&(LCIA['Indicator']==LCIA_methods[i][2])]\n",
    "    \n",
    "    \n",
    "CF_dict_bio={}\n",
    "for actcode in reference_actcodes_bio:\n",
    "    bioflow=biosphere.get(actcode)\n",
    "    bioflow_name=bioflow['name']\n",
    "    bioflow_c0=bioflow['categories'][0]\n",
    "    if len(bioflow['categories'])==2:\n",
    "        bioflow_c1=bioflow['categories'][1]\n",
    "    else:\n",
    "        bioflow_c1='unspecified'\n",
    "    CF_dict_bio_bioflow={}\n",
    "    for IC in LCIA_method_names:\n",
    "        CF_df=CF_dfs[IC]\n",
    "        CF_df_filtered=CF_df[(CF_df['Name']==bioflow_name)&(CF_df['Compartment']==bioflow_c0)&(CF_df['Subcompartment']==bioflow_c1)]\n",
    "        if len(CF_df_filtered)==0:\n",
    "            CF=0\n",
    "        else:\n",
    "            CF=CF_df_filtered['CF'].values[0]\n",
    "        CF_dict_bio_bioflow[IC]=CF\n",
    "    CF_dict_bio[actcode]=CF_dict_bio_bioflow    "
   ]
  },
  {
   "cell_type": "code",
   "execution_count": 41,
   "id": "d17d482f",
   "metadata": {},
   "outputs": [],
   "source": [
    "CF_bio_df=pd.DataFrame.from_dict(CF_dict_bio).transpose()"
   ]
  },
  {
   "cell_type": "code",
   "execution_count": 42,
   "id": "9df84c55",
   "metadata": {},
   "outputs": [],
   "source": [
    "CF_bio_sheet_name='CF_bio'"
   ]
  },
  {
   "cell_type": "markdown",
   "id": "fe3aa910",
   "metadata": {},
   "source": [
    "<a class=\"anchor\" id=\"224\"></a>\n",
    "#### 2.2.4 Add characterization factors to LCI-DataFrame"
   ]
  },
  {
   "cell_type": "code",
   "execution_count": 43,
   "id": "46d1d4f6",
   "metadata": {},
   "outputs": [],
   "source": [
    "LCI_df_sheet_names={}\n",
    "\n",
    "for db in db_names:\n",
    "    for s in scenarios:\n",
    "        LCI_df_sheet_names[db+'_'+s]='LCI_'+db+'_'+s"
   ]
  },
  {
   "cell_type": "code",
   "execution_count": 44,
   "id": "f4b0966c",
   "metadata": {},
   "outputs": [],
   "source": [
    "LCI_dbs={}\n",
    "\n",
    "for d,db in enumerate(dbs):\n",
    "    for s in scenarios:\n",
    "        LCI_df_db=LCI_df.copy()\n",
    "\n",
    "        for i in LCI_df_db.index:\n",
    "            input_code=LCI_df_db.loc[i,'input code']\n",
    "            exc_type=LCI_df_db.loc[i,'type']\n",
    "            if exc_type=='biosphere':\n",
    "                for IC in LCIA_method_names:\n",
    "                    LCI_df_db.loc[i,IC]=CF_dict_bio[input_code][IC]\n",
    "            if exc_type=='technosphere':\n",
    "                if input_code in reference_actcodes_tech:\n",
    "                    for IC in LCIA_method_names:\n",
    "                        LCI_df_db.loc[i,IC]=CF_dict_techno[db_names[d]][input_code][IC] \n",
    "                        \n",
    "        LCI_df_db['formula excel']=LCI_df_db['formula']\n",
    "        parameters=parameter_df['Parameter-ID']        \n",
    "            \n",
    "        # Excel formula\n",
    "        for i in LCI_df_db.index:\n",
    "            formula=LCI_df_db.loc[i,'formula']\n",
    "            if type(formula)==str:\n",
    "                formula_new=formula\n",
    "                for p,param in enumerate(reversed(parameters)):\n",
    "                    formula_new=formula_new.replace(param,params_sheet_name+'!'\\\n",
    "                                +params_col_dict['Parameter Value - '+s]+str(params_row_dict[param]))\n",
    "                formula_new='='+formula_new\n",
    "                formula_new=formula_new.replace('amount',excel_cols[LCI_df_db.columns.get_loc('amount')]+str(i+2))\n",
    "                LCI_df_db.loc[i,'formula excel']=formula_new\n",
    "            else:\n",
    "                LCI_df_db.loc[i,'formula excel']='='+excel_cols[LCI_df_db.columns.get_loc('amount')]\\\n",
    "                                                    +str(i+2)\n",
    "        \n",
    "        for i in LCI_df_db.index:\n",
    "            if LCI_df_db.loc[i,'type']!='production':\n",
    "                for IC in LCIA_method_names:\n",
    "                    LCI_df_db.loc[i,IC+' Impact']='='+excel_cols[LCI_df_db.columns.get_loc('formula excel')]\\\n",
    "                                                        +str(i+2)+'*'\\\n",
    "                                                    +excel_cols[LCI_df_db.columns.get_loc(IC)]+str(i+2)\n",
    "                    \n",
    "        for actcode in LCI_df_db['activity code'].unique():\n",
    "            sub_df=LCI_df_db[LCI_df_db['activity code']==actcode]\n",
    "            for n,IC in enumerate(LCIA_method_names):\n",
    "                formula='='\n",
    "                col=excel_cols[LCI_df_db.columns.get_loc(IC+' Impact')]\n",
    "                for i in sub_df.index[1:]:\n",
    "                    ind=str(i+2)\n",
    "                    formula=formula+'+'+col+ind\n",
    "                LCI_df_db.loc[sub_df.index[0], IC+' Impact']=formula\n",
    "                \n",
    "        LCI_df_db_prod=LCI_df_db[LCI_df_db['type']=='production']\n",
    "        prod_dict={}\n",
    "        \n",
    "        for i in LCI_df_db_prod.index:\n",
    "            actcode=LCI_df_db_prod.loc[i,'activity code']\n",
    "            prod_dict[actcode]=i+2\n",
    "            \n",
    "        for i in LCI_df_db.index:\n",
    "            if LCI_df_db.loc[i,'type']!='production':\n",
    "                input_code=LCI_df_db.loc[i,'input code']\n",
    "                if input_code in prod_dict.keys():\n",
    "                    for n,IC in enumerate(LCIA_method_names):\n",
    "                        col=excel_cols[LCI_df_db.columns.get_loc(IC+' Impact')]\n",
    "                        LCI_df_db.loc[i,IC]='='+col+str(prod_dict[input_code])+'*'\\\n",
    "                                               +excel_cols[LCI_df_db.columns.get_loc('formula excel')]\\\n",
    "                                               +str(prod_dict[input_code])\n",
    "                    \n",
    "        LCI_dbs[db_names[d]+'_'+s]=LCI_df_db"
   ]
  },
  {
   "cell_type": "code",
   "execution_count": 45,
   "id": "7f48b502",
   "metadata": {},
   "outputs": [],
   "source": [
    "LCI_df_col_dict={}\n",
    "for c,col in enumerate(LCI_df_db.columns):\n",
    "    LCI_df_col_dict[col]=excel_cols[c]"
   ]
  },
  {
   "cell_type": "markdown",
   "id": "4d7454bc",
   "metadata": {},
   "source": [
    "<a class=\"anchor\" id=\"225\"></a>\n",
    "#### 2.2.5 LCA Results"
   ]
  },
  {
   "cell_type": "code",
   "execution_count": 46,
   "id": "6ec8de10",
   "metadata": {},
   "outputs": [],
   "source": [
    "LCA_results_sheet_names={}\n",
    "\n",
    "for db in db_names:\n",
    "    for s in scenarios:\n",
    "        LCA_results_sheet_names[db+'_'+s]='LCA_'+db+'_'+s"
   ]
  },
  {
   "cell_type": "code",
   "execution_count": 47,
   "id": "6d5ea64b",
   "metadata": {},
   "outputs": [],
   "source": [
    "LCA_results={}\n",
    "\n",
    "for db in db_names:\n",
    "    for s in scenarios:\n",
    "        LCA_results_db=pd.DataFrame()\n",
    "        actcodes=act_codes\n",
    "        actnames=act_names\n",
    "\n",
    "        for a,actcode in enumerate(actcodes):\n",
    "            LCA_results_db.loc[a,'Pathway']=actnames[a]\n",
    "            for i,IC in enumerate(LCIA_method_names):\n",
    "                col=IC+' Impact'\n",
    "                LCA_results_db.loc[a,IC]='=LCI_'+db+'_'+s+'!'+LCI_df_col_dict[col]+str(prod_dict[actcode])\\\n",
    "                                         +'/LCIA_Methods!D'+str(i+2)\n",
    "\n",
    "        LCA_results[db+'_'+s]=LCA_results_db"
   ]
  },
  {
   "cell_type": "markdown",
   "id": "57e932b6",
   "metadata": {},
   "source": [
    "<a class=\"anchor\" id=\"23\"></a>\n",
    "### 2.3 Perturbation Analysis"
   ]
  },
  {
   "cell_type": "code",
   "execution_count": 48,
   "id": "e59d99b9",
   "metadata": {},
   "outputs": [
    {
     "name": "stdout",
     "output_type": "stream",
     "text": [
      "run1\n",
      "run2\n",
      "run3\n",
      "run4\n",
      "run5\n",
      "run6\n",
      "run7\n",
      "run8\n",
      "run9\n",
      "run10\n",
      "run11\n",
      "run12\n",
      "run13\n",
      "run14\n",
      "run15\n",
      "run16\n",
      "run17\n",
      "run18\n",
      "run19\n",
      "run20\n",
      "run21\n",
      "run22\n",
      "run23\n",
      "run24\n",
      "run25\n",
      "run26\n",
      "run27\n",
      "run28\n",
      "run29\n",
      "run30\n",
      "run31\n",
      "run32\n",
      "run33\n",
      "run34\n",
      "run35\n",
      "run36\n",
      "run37\n",
      "run38\n",
      "run39\n",
      "run40\n",
      "run41\n",
      "run42\n",
      "run43\n",
      "run44\n",
      "run45\n",
      "run46\n",
      "run47\n",
      "run48\n",
      "run49\n",
      "run50\n",
      "run51\n",
      "run52\n"
     ]
    }
   ],
   "source": [
    "if general_info['Conduct perturbation analysis'] == 'yes':\n",
    "\n",
    "    default_values={}\n",
    "    for i in parameter_df.index:\n",
    "        default_values[parameter_df.loc[i,'Parameter-ID']]=parameter_df.loc[i,'Parameter Value - default']\n",
    "\n",
    "    perturbation_runs={}\n",
    "    for r in parameter_df.index:\n",
    "        run='run'+str(r+1)\n",
    "        run_params={}\n",
    "        for i in parameter_df.index:\n",
    "            if i!=r:\n",
    "                run_params[parameter_df.loc[i,'Parameter-ID']]=parameter_df.loc[i,'Parameter Value - default']\n",
    "            else:\n",
    "                run_params[parameter_df.loc[i,'Parameter-ID']]=parameter_df.loc[i,'Parameter Value - default']*1.001\n",
    "        perturbation_runs[run]=run_params\n",
    "\n",
    "    relevant_indices_runs={}\n",
    "    for run in perturbation_runs.keys():\n",
    "        relevant_indices={}\n",
    "        for i in LCI_df_db.index:\n",
    "            formula=LCI_df_db.loc[i,'formula']\n",
    "            if type(formula)==str:\n",
    "                evaluated_formula=formula\n",
    "                for p,param in enumerate(reversed(perturbation_runs[run].keys())):\n",
    "                    evaluated_formula=evaluated_formula.replace(param,str(perturbation_runs[run][param]))\n",
    "                evaluated_formula=evaluated_formula.replace('amount', str(LCI_df_db.loc[i,'amount']))\n",
    "                evaluated_formula=float(eval(evaluated_formula))\n",
    "                if LCI_df_db.loc[i,'amount']!=evaluated_formula:\n",
    "                    relevant_indices[i]=evaluated_formula\n",
    "                    #print(run,i,evaluated_formula)\n",
    "        relevant_indices_runs[run]=relevant_indices\n",
    "    relevant_indices_runs\n",
    "\n",
    "    exc_dict={}\n",
    "    for i in LCI_df.index:\n",
    "        act=eidb.get(LCI_df.loc[i,'activity code'])\n",
    "        exchg=[exc for exc in act.exchanges() if exc.input.as_dict()['code'] ==LCI_df.loc[i,'input code']][0]\n",
    "        exc_dict[i]=exchg\n",
    "    exc_dict\n",
    "\n",
    "    perturbation_df=pd.DataFrame()\n",
    "\n",
    "    wg=eidb.get(WasteGen_code)\n",
    "    \n",
    "    non_stochastic_lca=bw.LCA({wg:1})\n",
    "    non_stochastic_lca.lci()\n",
    "    C_matrices={}\n",
    "    for i,method in enumerate(LCIA_methods):\n",
    "        non_stochastic_lca.switch_method(method)\n",
    "        C_matrices[LCIA_method_names[i]] = non_stochastic_lca.characterization_matrix\n",
    "    \n",
    "    for r,run in enumerate(perturbation_runs.keys()):\n",
    "        print(run)\n",
    "        if run == 'run1':\n",
    "            lca = bw.LCA({wg:1.001})   \n",
    "\n",
    "        else:\n",
    "            for ind in relevant_indices_runs[run].keys():\n",
    "                default_amount=LCI_df.loc[ind,'amount']\n",
    "                exc_dict[ind]['amount']=relevant_indices_runs[run][ind]\n",
    "                exc_dict[ind].save()\n",
    "\n",
    "            lca = bw.LCA({wg:1})          \n",
    "\n",
    "        lca.lci()\n",
    "        for IC in LCIA_method_names:\n",
    "            perturbation_df.loc['P'+str(r),IC]=(C_matrices[IC]*lca.inventory).sum()\n",
    "\n",
    "        if run != 'run1':\n",
    "            for ind in relevant_indices_runs[run].keys():\n",
    "                default_amount=LCI_df.loc[ind,'amount']\n",
    "                exc_dict[ind]['amount']=default_amount\n",
    "                exc_dict[ind].save()        \n",
    "\n",
    "    # calculation of sensitivity ratios\n",
    "    calculation_setup = {'inv': [{wg:1}], 'ia': LCIA_methods}\n",
    "    bw.calculation_setups['perturbation'] = calculation_setup\n",
    "    default_mlca = bw.MultiLCA('perturbation')       \n",
    "\n",
    "    senstivity_ratio_df=pd.DataFrame()\n",
    "\n",
    "    for i,ind in enumerate(perturbation_df.index):\n",
    "        for c,col in enumerate(perturbation_df.columns):\n",
    "            delta_rel_lca=(perturbation_df.loc[ind,col]-default_mlca.results[0][c])/default_mlca.results[0][c]\n",
    "            delta_rel_param=0.001\n",
    "            senstivity_ratio_df.loc[ind,col]=delta_rel_lca/delta_rel_param\n",
    "\n",
    "    senstivity_ratio_df=senstivity_ratio_df.reset_index(drop=True)\n",
    "\n",
    "    parameter_df=pd.concat([parameter_df, senstivity_ratio_df], axis=1)"
   ]
  },
  {
   "cell_type": "markdown",
   "id": "c834cca5",
   "metadata": {},
   "source": [
    "<a class=\"anchor\" id=\"24\"></a>\n",
    "### 2.4 Waste Composition"
   ]
  },
  {
   "cell_type": "code",
   "execution_count": 49,
   "id": "9caa7336",
   "metadata": {},
   "outputs": [],
   "source": [
    "Waste_Comp_sheet_names={}\n",
    "\n",
    "for s in scenarios:\n",
    "    Waste_Comp_sheet_names[s]='Waste_Composition_'+s"
   ]
  },
  {
   "cell_type": "code",
   "execution_count": 50,
   "id": "569b33d5",
   "metadata": {},
   "outputs": [],
   "source": [
    "Waste_Comp={}\n",
    "\n",
    "for s in scenarios:\n",
    "    Waste_Comp_S=pd.DataFrame()\n",
    "    for a,actname in enumerate(Pathway_names):\n",
    "        sub_df=LCI_df[LCI_df['activity code']==Pathway_codes[a]]\n",
    "        for i in sub_df.index:\n",
    "            for mat in material_names:\n",
    "                if sub_df.loc[i,'input code'] in activity_material_dict.keys():\n",
    "                    if mat == activity_material_dict[sub_df.loc[i,'input code']]:\n",
    "                        Waste_Comp_S.loc[mat,actname]='=ABS(LCI_default_'+s+'!'+LCI_df_col_dict['formula excel']+str(i+2)+')'    \n",
    "    Waste_Comp_S=Waste_Comp_S.loc[material_names]\n",
    "    Waste_Comp[s]=Waste_Comp_S"
   ]
  },
  {
   "cell_type": "code",
   "execution_count": 51,
   "id": "284b0a56",
   "metadata": {},
   "outputs": [],
   "source": [
    "Waste_Comp_col_dict={}\n",
    "for c,col in enumerate(Waste_Comp_S.columns):\n",
    "    Waste_Comp_col_dict[col]=excel_cols[c+1]"
   ]
  },
  {
   "cell_type": "markdown",
   "id": "9ba73a0a",
   "metadata": {},
   "source": [
    "<a class=\"anchor\" id=\"25\"></a>\n",
    "### 2.5 Waste Generation"
   ]
  },
  {
   "cell_type": "code",
   "execution_count": 52,
   "id": "88c77f0b",
   "metadata": {},
   "outputs": [],
   "source": [
    "Waste_Gen_sheet_names={}\n",
    "\n",
    "for s in scenarios:\n",
    "    Waste_Gen_sheet_names[s]='Waste_Generation_'+s"
   ]
  },
  {
   "cell_type": "code",
   "execution_count": 53,
   "id": "2e482f89",
   "metadata": {},
   "outputs": [],
   "source": [
    "Waste_Gen={}\n",
    "\n",
    "for s in scenarios:\n",
    "    Waste_Gen_S=pd.DataFrame(index=act_names)\n",
    "    name_code_dict={}\n",
    "    for a,ac in enumerate(Pathway_codes):\n",
    "        name_code_dict[Pathway_names[a]]=ac\n",
    "\n",
    "    sub_df=LCI_df[LCI_df['activity code']==WasteGen_code]\n",
    "    for i in sub_df.index:\n",
    "        for a,ac in enumerate(Pathway_codes):\n",
    "            if ac == sub_df.loc[i,'input code']:\n",
    "                Waste_Gen_S.loc[Pathway_names[a],'relative']='=ABS(LCI_default_'+s+'!'\\\n",
    "                                                        +LCI_df_col_dict['formula excel']+str(i+2)+')'\n",
    "                Waste_Gen_S.loc[Pathway_names[a],'absolute [kg]']='=ABS(LCI_default_'+s+'!'\\\n",
    "                                                +LCI_df_col_dict['formula excel']+str(i+2)+'*'\\\n",
    "                                                +\"HLOOKUP(\\\"Parameter Value - \"+s+\"\\\",Parameter!C1:\"\\\n",
    "                                                +excel_cols[n_scenarios+2]+\"2,2,FALSE))\"\n",
    "    #Waste_Gen_S=Waste_Gen_S.sort_index()\n",
    "    for c,col in enumerate(Waste_Gen_S.columns):\n",
    "        Waste_Gen_S.loc[act_names[0],col]='=SUM('+excel_cols[c+1]+str(3)+':'+excel_cols[c+1]+str(len(Waste_Gen_S)+1)+')'\n",
    "    \n",
    "    Waste_Gen[s]=Waste_Gen_S"
   ]
  },
  {
   "cell_type": "markdown",
   "id": "e835ded0",
   "metadata": {},
   "source": [
    "<a class=\"anchor\" id=\"26\"></a>\n",
    "### 2.6 Original Environmental Value"
   ]
  },
  {
   "cell_type": "markdown",
   "id": "88e06265",
   "metadata": {},
   "source": [
    "<a class=\"anchor\" id=\"261\"></a>\n",
    "#### 2.6.1 Materials"
   ]
  },
  {
   "cell_type": "code",
   "execution_count": 54,
   "id": "99d107ab",
   "metadata": {},
   "outputs": [],
   "source": [
    "EV_df=pd.read_excel(\"EWU_Dashboard_InputTemplate.xlsx\", index_col=0, sheet_name='EnvironmentalValue')"
   ]
  },
  {
   "cell_type": "code",
   "execution_count": 55,
   "id": "b5f10309",
   "metadata": {},
   "outputs": [],
   "source": [
    "OEV_material_sheet_names={}\n",
    "\n",
    "for db in db_names:\n",
    "    OEV_material_sheet_names[db]='OEV_materials_'+db"
   ]
  },
  {
   "cell_type": "code",
   "execution_count": 56,
   "id": "32e1c06f",
   "metadata": {},
   "outputs": [],
   "source": [
    "material_dict={}\n",
    "\n",
    "for d,db in enumerate(dbs):\n",
    "    material_dict_db={}\n",
    "    for i in EV_df.index:\n",
    "        material_dict_db[i]=[act for act in db if act['name']==EV_df.loc[i,'Material activity name']\n",
    "                            and act['unit']==EV_df.loc[i,'Material activity unit']\n",
    "                            and act['location']==EV_df.loc[i,'Material activity location']][0]\n",
    "    material_dict[db_names[d]]=material_dict_db"
   ]
  },
  {
   "cell_type": "code",
   "execution_count": 57,
   "id": "92ac3f66",
   "metadata": {},
   "outputs": [],
   "source": [
    "OEV_materials={}\n",
    "\n",
    "for d,db in enumerate(db_names):\n",
    "    functional_units=[]\n",
    "    for act in material_dict[db].values():\n",
    "        functional_units.append({act:1})\n",
    "    functional_units\n",
    "\n",
    "    calculation_setup = {'inv': functional_units, 'ia': LCIA_methods}\n",
    "\n",
    "    bw.calculation_setups['materials'] = calculation_setup\n",
    "\n",
    "    mlca = bw.MultiLCA('materials')\n",
    "\n",
    "    OEV_material_norm=np.empty(np.shape(mlca.results))\n",
    "\n",
    "    for f,fu in enumerate(functional_units):\n",
    "        OEV_material_norm[f]=mlca.results[f]/nfs\n",
    "\n",
    "    OEV_materials_db=pd.DataFrame(OEV_material_norm, \n",
    "                 index=EV_df.index,\n",
    "                 columns=LCIA_method_names)\n",
    "\n",
    "    OEV_materials[db]=OEV_materials_db"
   ]
  },
  {
   "cell_type": "code",
   "execution_count": 58,
   "id": "ba75ba49",
   "metadata": {},
   "outputs": [],
   "source": [
    "OEV_materials_col_dict={}\n",
    "for c,col in enumerate(OEV_materials[db].columns):\n",
    "    OEV_materials_col_dict[col]=excel_cols[c+1]"
   ]
  },
  {
   "cell_type": "markdown",
   "id": "0a36d918",
   "metadata": {},
   "source": [
    "<a class=\"anchor\" id=\"262\"></a>\n",
    "#### 2.6.2 Pathways"
   ]
  },
  {
   "cell_type": "code",
   "execution_count": 59,
   "id": "5cf94993",
   "metadata": {},
   "outputs": [],
   "source": [
    "OEV_Pathways_sheet_names={}\n",
    "\n",
    "for db in db_names:\n",
    "    for s in scenarios:\n",
    "        OEV_Pathways_sheet_names[db+'_'+s]='OEV_Pathways_'+db+'_'+s"
   ]
  },
  {
   "cell_type": "code",
   "execution_count": 60,
   "id": "fbe2fdea",
   "metadata": {},
   "outputs": [],
   "source": [
    "OEV_Pathways={}\n",
    "\n",
    "for db in db_names:\n",
    "    for s in scenarios:\n",
    "        OEV_Pathways_db=pd.DataFrame(index=act_names)\n",
    "        actnames=Pathway_names\n",
    "\n",
    "        for Pathway in actnames:\n",
    "            for n,IC in enumerate(LCIA_method_names):\n",
    "                OEV_Pathways_db.loc[Pathway,IC]='=SUMPRODUCT('+OEV_material_sheet_names[db]+'!'+OEV_materials_col_dict[IC]+'2:'+\\\n",
    "                                    OEV_material_sheet_names[db]+'!'+OEV_materials_col_dict[IC]+str(len(EV_df.index)+1)+','+ \\\n",
    "                                    Waste_Comp_sheet_names[s]+'!'+Waste_Comp_col_dict[Pathway]+'2:'+\\\n",
    "                                    Waste_Comp_sheet_names[s]+'!'+Waste_Comp_col_dict[Pathway]+str(len(EV_df.index)+1) \\\n",
    "                                    +')'\n",
    "    \n",
    "        for i,IC in enumerate(LCIA_method_names):\n",
    "            OEV_Pathways_db.loc[act_names[0],IC]='=SUMPRODUCT('+Waste_Gen_sheet_names[s]+'!B3:'+Waste_Gen_sheet_names[s]+'!B'+str(len(actnames)+2)+','\\\n",
    "                                            +excel_cols[i+1]+str(3)+':'+excel_cols[i+1]+str(len(actnames)+2)+')'\n",
    "\n",
    "        OEV_Pathways[db+'_'+s]=OEV_Pathways_db"
   ]
  },
  {
   "cell_type": "markdown",
   "id": "4a1fcb14",
   "metadata": {},
   "source": [
    "<a class=\"anchor\" id=\"27\"></a>\n",
    "### 2.7 Environmental Waste Utilization"
   ]
  },
  {
   "cell_type": "markdown",
   "id": "76976d68",
   "metadata": {},
   "source": [
    "<a class=\"anchor\" id=\"271\"></a>\n",
    "#### 2.7.1 Per Pathway"
   ]
  },
  {
   "cell_type": "code",
   "execution_count": 61,
   "id": "24d3acf7",
   "metadata": {},
   "outputs": [],
   "source": [
    "Indicator_sheet_names={}\n",
    "\n",
    "for db in db_names:\n",
    "    for s in scenarios:\n",
    "        Indicator_sheet_names[db+'_'+s]='Indicator_'+db+'_'+s"
   ]
  },
  {
   "cell_type": "code",
   "execution_count": 62,
   "id": "3d57bcf6",
   "metadata": {},
   "outputs": [],
   "source": [
    "Indicator={}\n",
    "\n",
    "for db in db_names:\n",
    "    for s in scenarios:\n",
    "        Indicator_db=pd.DataFrame(index=OEV_Pathways_db.index,columns=OEV_Pathways_db.columns)\n",
    "\n",
    "        for i,ind in enumerate(Indicator_db.index):\n",
    "            for c,col in enumerate(Indicator_db.columns):\n",
    "                Indicator_db.loc[ind,col]='=-'+LCA_results_sheet_names[db+'_'+s]+'!'\\\n",
    "                +excel_cols[c+1]+str(i+2)+'/'+OEV_Pathways_sheet_names[db+'_'+s]+'!'+excel_cols[c+1]+str(i+2)\n",
    "        \n",
    "        Indicator[db+'_'+s]=Indicator_db"
   ]
  },
  {
   "cell_type": "markdown",
   "id": "b6156f0e",
   "metadata": {},
   "source": [
    "<a class=\"anchor\" id=\"272\"></a>\n",
    "#### 2.7.2 Aggregated"
   ]
  },
  {
   "cell_type": "code",
   "execution_count": 63,
   "id": "1e10be38",
   "metadata": {},
   "outputs": [],
   "source": [
    "Weighted_Indicator_sheet_names={}\n",
    "\n",
    "for db in db_names:\n",
    "    for s in scenarios:\n",
    "        Weighted_Indicator_sheet_names[db+'_'+s]='W_Ind_'+db+'_'+s"
   ]
  },
  {
   "cell_type": "code",
   "execution_count": 64,
   "id": "e707e945",
   "metadata": {},
   "outputs": [],
   "source": [
    "Weighted_Indicator={}\n",
    "\n",
    "for db in db_names:\n",
    "    for s in scenarios:\n",
    "        Weighted_Indicator_db=pd.DataFrame()\n",
    "\n",
    "        for a,act in enumerate(Indicator_db.index):\n",
    "            for w,wm in enumerate(Weighting.columns):\n",
    "                formula='='\n",
    "                for i,IC in enumerate(LCIA_method_names):\n",
    "                    formula=formula+'+'+Indicator_sheet_names[db+'_'+s]+'!'+excel_cols[i+1]+str(a+2)\\\n",
    "                            +'*'+Weighting_sheet_name+'!'+excel_cols[w+1]+str(i+2)\n",
    "                Weighted_Indicator_db.loc[act,wm]=formula\n",
    "        Weighted_Indicator[db+'_'+s]=Weighted_Indicator_db"
   ]
  },
  {
   "cell_type": "markdown",
   "id": "6f6c3284",
   "metadata": {},
   "source": [
    "<a class=\"anchor\" id=\"28\"></a>\n",
    "### 2.8 Supply Chain"
   ]
  },
  {
   "cell_type": "code",
   "execution_count": 65,
   "id": "a28c3f6b",
   "metadata": {},
   "outputs": [],
   "source": [
    "supply_chain_sheet_names={}\n",
    "\n",
    "for s in scenarios:\n",
    "    for act in act_names:\n",
    "        supply_chain_sheet_names[s+'_'+act]='supply_chain_'+s+'_'+act"
   ]
  },
  {
   "cell_type": "code",
   "execution_count": 66,
   "id": "8850febf",
   "metadata": {},
   "outputs": [],
   "source": [
    "def supply_chain_per_Pathway(LCI,\n",
    "                       activity_df,\n",
    "                       supply_chain_df,\n",
    "                       db, scenario, n_scenarios, \n",
    "                       amount_col=None,\n",
    "                       excel_cols=excel_cols,\n",
    "                       previous_input_code=None, \n",
    "                       previous_input_name=None,\n",
    "                       first=True, x=None):\n",
    "    if first == True:\n",
    "        x=1\n",
    "        amount_col=excel_cols[LCI.columns.get_loc('formula excel')]\n",
    "        reference_amount=\"=VLOOKUP(\\\"\"+previous_input_name+\"\\\",Waste_Generation_\"+scenario+\"!A1:C100,3,FALSE)*\" \\\n",
    "                            +str(LCI[(LCI['type']=='production')&(LCI['input code']==previous_input_code)]['amount'].iloc[0])\n",
    "        supply_chain_df.loc[previous_input_code,'amount']=reference_amount\n",
    "        \n",
    "    if previous_input_code not in LCI['activity code'].unique():\n",
    "        return\n",
    "    else:\n",
    "        if x ==1000:\n",
    "            return\n",
    "        else:\n",
    "            x=x+1\n",
    "            ref=LCI[LCI['activity code']==previous_input_code]\n",
    "            previous_index=supply_chain_df.index.get_loc(previous_input_code)+2\n",
    "            production_index=ref[(ref['input code']==previous_input_code)&(ref['type']=='production')].index[0]+2\n",
    "            for i in ref.index:\n",
    "                if ref.loc[i,'type']!='production':\n",
    "                    input_code=ref.loc[i,'input code']\n",
    "                    if len(LCI[(LCI['input code']==input_code)&(LCI['type']=='production')])>0:\n",
    "                        act_index=LCI[(LCI['input code']==input_code)&(LCI['type']=='production')].index[0]+2\n",
    "                    else:\n",
    "                        act_index=LCI[(LCI['input code']==input_code)].index[0]+2\n",
    "                    if pd.isnull(supply_chain_df.loc[input_code,'amount'])==True:\n",
    "                        supply_chain_df.loc[input_code,'amount']='=B'+str(previous_index)+'*'+'LCI_'+db+'_'+scenario+'!'\\\n",
    "                                                                +amount_col+str(i+2)+'*'+'LCI_'+db+'_'+scenario+'!'\\\n",
    "                                                                +amount_col+str(production_index)\n",
    "                    else:\n",
    "                        formula='B'+str(previous_index)+'*'+'LCI_'+db+'_'+scenario+'!'+amount_col+str(i+2)+'*'\\\n",
    "                                                                +'LCI_'+db+'_'+scenario+'!'\\\n",
    "                                                                +amount_col+str(production_index)\n",
    "                        if formula not in supply_chain_df.loc[input_code,'amount']:\n",
    "                            supply_chain_df.loc[input_code,'amount']=supply_chain_df.loc[input_code,'amount']+'+'+formula\n",
    "                    previous_input_code=input_code\n",
    "                    supply_chain_per_Pathway(LCI=LCI,\n",
    "                                       activity_df=activity_df,\n",
    "                                       supply_chain_df=supply_chain_df,\n",
    "                                       db=db, scenario=scenario, n_scenarios=n_scenarios, \n",
    "                                       amount_col=amount_col,\n",
    "                                       excel_cols=excel_cols,\n",
    "                                       previous_input_code=previous_input_code, \n",
    "                                       first=False,x=x)"
   ]
  },
  {
   "cell_type": "code",
   "execution_count": 67,
   "id": "c90a6bbd",
   "metadata": {},
   "outputs": [],
   "source": [
    "LCI=LCI_dbs[db_names[0]+'_'+scenarios[0]]"
   ]
  },
  {
   "cell_type": "code",
   "execution_count": 68,
   "id": "82428961",
   "metadata": {},
   "outputs": [],
   "source": [
    "supply_chain={}\n",
    "db=db_names[0]\n",
    "\n",
    "for scenario in scenarios:\n",
    "    for a,actcode in enumerate(act_codes):\n",
    "        #print(scenario+'_'+act_names[a], actcode)\n",
    "        supply_chain_df=pd.DataFrame(index=LCI['input code'].unique())\n",
    "\n",
    "        supply_chain_per_Pathway(LCI,\n",
    "                       activity_df, \n",
    "                       supply_chain_df,\n",
    "                       db, scenario, n_scenarios,\n",
    "                       previous_input_code=actcode,\n",
    "                       previous_input_name=act_names[a])\n",
    "\n",
    "        supply_chain_df=supply_chain_df.replace(np.nan,0)\n",
    "\n",
    "        supply_chain[scenario+'_'+act_names[a]]=supply_chain_df"
   ]
  },
  {
   "cell_type": "markdown",
   "id": "72616c0d",
   "metadata": {},
   "source": [
    "<a class=\"anchor\" id=\"29\"></a>\n",
    "### 2.9 Contribution Analysis"
   ]
  },
  {
   "cell_type": "markdown",
   "id": "a6db2ba7",
   "metadata": {},
   "source": [
    "<a class=\"anchor\" id=\"291\"></a>\n",
    "#### 2.9.1 Pathways"
   ]
  },
  {
   "cell_type": "code",
   "execution_count": 69,
   "id": "4fd6bcff",
   "metadata": {},
   "outputs": [],
   "source": [
    "CA_Pathways_sheet_names={}\n",
    "\n",
    "for db in db_names:\n",
    "    for s in scenarios:\n",
    "        CA_Pathways_sheet_names[db+'_'+s]='CA_Pathways_'+db+'_'+s"
   ]
  },
  {
   "cell_type": "code",
   "execution_count": 70,
   "id": "3800ed30",
   "metadata": {},
   "outputs": [],
   "source": [
    "CA_Pathways={}\n",
    "amount_col=excel_cols[LCI_df_db.columns.get_loc('formula excel')]\n",
    "\n",
    "for db in db_names:\n",
    "    for s in scenarios:\n",
    "        CA_Pathways_db=pd.DataFrame(index=OEV_Pathways_db.index, columns=LCIA_method_names)\n",
    "\n",
    "        for n,IC in enumerate(CA_Pathways_db.columns):\n",
    "            for i,ind in enumerate(CA_Pathways_db.index):\n",
    "                 CA_Pathways_db.loc[ind,IC]='='+LCA_results_sheet_names[db+'_'+s]+'!'+excel_cols[n+1]\\\n",
    "                                    +str(i+2)+'*'+Waste_Gen_sheet_names[s]+'!C'+str(i+2)\n",
    "\n",
    "        CA_Pathways[db+'_'+s]=CA_Pathways_db"
   ]
  },
  {
   "cell_type": "markdown",
   "id": "e0116616",
   "metadata": {},
   "source": [
    "<a class=\"anchor\" id=\"292\"></a>\n",
    "#### 2.9.2 Activities"
   ]
  },
  {
   "cell_type": "code",
   "execution_count": 71,
   "id": "edc49ad2",
   "metadata": {},
   "outputs": [],
   "source": [
    "CA_acts_sheet_names={}\n",
    "\n",
    "for db in db_names:\n",
    "    for s in scenarios:\n",
    "        CA_acts_sheet_names[db+'_'+s]='CA_acts_'+db+'_'+s"
   ]
  },
  {
   "cell_type": "code",
   "execution_count": 72,
   "id": "bf9389a1",
   "metadata": {},
   "outputs": [],
   "source": [
    "# activity tags\n",
    "activity_tag_dict={}\n",
    "\n",
    "for tag in activity_df['Activity tag'].unique():\n",
    "    if pd.isnull(tag)==False:\n",
    "        tag_list=[]\n",
    "        sub_df=activity_df[activity_df['Activity tag']==tag]\n",
    "        for i in sub_df.index:\n",
    "            sub_dict={}\n",
    "            sub_dict['name']=activity_df.loc[i,'Activity name']\n",
    "            sub_dict['code']=activity_df.loc[i,'Activity code']\n",
    "            sub_dict['unit']=activity_df.loc[i,'Unit']\n",
    "            sub_dict['location']=activity_df.loc[i,'Location']\n",
    "            tag_list.append(sub_dict)\n",
    "        activity_tag_dict[tag]=tag_list"
   ]
  },
  {
   "cell_type": "code",
   "execution_count": 73,
   "id": "29e97f63",
   "metadata": {},
   "outputs": [],
   "source": [
    "df=LCI_dbs['default_default']\n",
    "db='default'\n",
    "scenario='default'"
   ]
  },
  {
   "cell_type": "code",
   "execution_count": 74,
   "id": "6f7e4a9f",
   "metadata": {},
   "outputs": [],
   "source": [
    "for tag in activity_tag_dict.keys():\n",
    "    for tag_act in activity_tag_dict[tag]:\n",
    "        name=tag_act['name']\n",
    "        location=tag_act['location']\n",
    "        unit=tag_act['unit']\n",
    "        code=tag_act['code']\n",
    "        for i in df.index:\n",
    "            if (df.loc[i,'input']==name)&(df.loc[i,'input location']==location)&(df.loc[i,'input unit']==unit)&(df.loc[i,'input code']==code):\n",
    "                df.loc[i,'activity tag']=tag"
   ]
  },
  {
   "cell_type": "code",
   "execution_count": 75,
   "id": "df32b00f",
   "metadata": {},
   "outputs": [],
   "source": [
    "for db in db_names:\n",
    "    for scenario in scenarios:\n",
    "        for tag in activity_tag_dict.keys():\n",
    "            for tag_act in activity_tag_dict[tag]:\n",
    "                if len(df[(df['activity']==tag_act['name'])&(df['type']=='production')])>0:\n",
    "                    foreground=True\n",
    "                    for i in df[(df['activity code']==tag_act['code'])&(df['type']=='production')].index:\n",
    "                        sub_dict={}\n",
    "                        sub=df[(df['activity code']==tag_act['code'])&(df['activity location']==tag_act['location'])]\n",
    "                        index=sub[(sub['activity tag'].isnull()==False)&(sub['type']=='production')].index[0]\n",
    "                        sub_tags=sub[(sub['activity tag'].isnull()==False)&(sub['type']!='production')].index\n",
    "                        tag_act['sub_tags']=sub_tags\n",
    "                        ref_amount= LCI_df_col_dict['formula excel']+str(index+2)       \n",
    "                else:\n",
    "                    index=df[(df['input']==tag_act['name'])].index[0]\n",
    "                    ref_amount= LCI_df_col_dict['formula excel']+str(index+2)\n",
    "                    foreground=False\n",
    "                tag_act['index']=index\n",
    "                tag_act['ref_amount']=ref_amount\n",
    "                code=df.loc[index,'input code']\n",
    "                tag_act['code']=code\n",
    "                tag_act['foreground']=foreground"
   ]
  },
  {
   "cell_type": "code",
   "execution_count": 76,
   "id": "f19845af",
   "metadata": {},
   "outputs": [],
   "source": [
    "CA_acts={}\n",
    "\n",
    "for db in db_names:\n",
    "    for scenario in scenarios:\n",
    "        CA_acts_df=pd.DataFrame()\n",
    "        for tag in activity_tag_dict:\n",
    "            for i,IC in enumerate(LCIA_method_names):\n",
    "                unit_impact='('\n",
    "                \n",
    "                for t,tag_act in enumerate(activity_tag_dict[tag]):\n",
    "                    if t != 0:\n",
    "                        unit_impact=unit_impact+'+'\n",
    "                        \n",
    "                    if tag_act['foreground']==True:\n",
    "                        unit_impact=unit_impact+supply_chain_sheet_names[scenario+'_'+act_names[0]]+'!B'\\\n",
    "                                        +str(supply_chain_df.index.get_loc(tag_act['code'])+2)+'*'+'('+'LCI_'+db+'_'+scenario+'!'+LCI_df_col_dict[IC+' Impact']\\\n",
    "                                        +str(tag_act['index']+2)\n",
    "                        if 'sub_tags' in tag_act.keys():\n",
    "                            for sub_tag in tag_act['sub_tags']:\n",
    "                                unit_impact=unit_impact+'-LCI_'+db+'_'+scenario+'!'+LCI_df_col_dict[IC+' Impact']\\\n",
    "                                            +str(sub_tag+2)\n",
    "                        unit_impact=unit_impact+')'+'/'+'LCI_'+db+'_'+scenario+'!'+tag_act['ref_amount']\n",
    "                    else:\n",
    "                        formula=supply_chain_sheet_names[scenario+'_'+act_names[0]]+'!B'\\\n",
    "                                        +str(supply_chain_df.index.get_loc(tag_act['code'])+2)+'*'+'LCI_'+db+'_'+scenario+'!'+LCI_df_col_dict[IC]\\\n",
    "                                        +str(tag_act['index']+2)\n",
    "                        if formula not in unit_impact:\n",
    "                            unit_impact=unit_impact+formula\n",
    "                        else:\n",
    "                            unit_impact=unit_impact[:-1]\n",
    "\n",
    "                CA_acts_df.loc[tag,IC]='='+unit_impact+')'+'/LCIA_Methods!D'+str(i+2)\n",
    "        CA_acts[db+'_'+scenario]=CA_acts_df"
   ]
  },
  {
   "cell_type": "code",
   "execution_count": 77,
   "id": "083ec8b6",
   "metadata": {},
   "outputs": [],
   "source": [
    "n_tags=len(activity_tag_dict.keys())"
   ]
  },
  {
   "cell_type": "code",
   "execution_count": 78,
   "id": "d0f6664f",
   "metadata": {},
   "outputs": [],
   "source": [
    "for db in db_names:\n",
    "    for scenario in scenarios:\n",
    "        CA_acts_df=CA_acts[db+'_'+scenario]\n",
    "        for i,IC in enumerate(LCIA_method_names):\n",
    "            col=excel_cols[i+1]\n",
    "            reference_amount='ABS('+supply_chain_sheet_names[scenario+'_'+act_names[0]]+'!B'\\\n",
    "                                    +str(supply_chain_df.index.get_loc(WasteGen_code)+2)+')'\n",
    "            CA_acts_df.loc['Others', IC]='=LCA_'+db+'_'+scenario+'!'+col+'2*'+reference_amount+'-SUM('+col+'2:'\\\n",
    "                                        +col+str(n_tags+1)+')'"
   ]
  },
  {
   "cell_type": "markdown",
   "id": "fbc3f145",
   "metadata": {},
   "source": [
    "<a class=\"anchor\" id=\"210\"></a>\n",
    "### 2.10 EWU-Components: Treatment - Utilization - Material"
   ]
  },
  {
   "cell_type": "markdown",
   "id": "ebade2a5",
   "metadata": {},
   "source": [
    "<a class=\"anchor\" id=\"2101\"></a>\n",
    "#### 2.10.1 Per Impact Category"
   ]
  },
  {
   "cell_type": "code",
   "execution_count": 79,
   "id": "366ad3c9",
   "metadata": {},
   "outputs": [],
   "source": [
    "TUM_sheet_names={}\n",
    "\n",
    "for db in db_names:\n",
    "    for s in scenarios:\n",
    "        for TUM_type in ['Treatm', 'Util', 'Mat']:\n",
    "            TUM_sheet_names[db+'_'+s+'_'+TUM_type]='TUM_'+db+'_'+s+'_'+TUM_type"
   ]
  },
  {
   "cell_type": "code",
   "execution_count": 80,
   "id": "6fa93a80",
   "metadata": {},
   "outputs": [],
   "source": [
    "sc_indices={}\n",
    "LCI_indices={}\n",
    "for wuc in waste_utilization_codes:\n",
    "    sc_indices[wuc]=str(supply_chain_df.index.get_loc(wuc)+2)\n",
    "    LCI_indices[wuc]=str(LCI[LCI['input code']==wuc].index[0]+2)"
   ]
  },
  {
   "cell_type": "code",
   "execution_count": 81,
   "id": "42d689f4",
   "metadata": {},
   "outputs": [],
   "source": [
    "TUM={}\n",
    "\n",
    "for db in db_names:\n",
    "    for s in scenarios:\n",
    "        for TUM_type in ['Treatm', 'Util', 'Mat']:\n",
    "            TUM_df=pd.DataFrame(index=act_names, columns=LCIA_method_names)\n",
    "            if TUM_type == 'Util':\n",
    "                for act in TUM_df.index:\n",
    "                    for i,IC in enumerate(LCIA_method_names):\n",
    "                        formula='=('\n",
    "                        for wuc in waste_utilization_codes:\n",
    "                            formula = formula + '+(supply_chain_'+s+'_'+act+'!B'+sc_indices[wuc]+'*'+'LCI_'+db+'_'+s+'!'+LCI_df_col_dict[IC]\\\n",
    "                                                    +LCI_indices[wuc]+')'                   \n",
    "                        TUM_df.loc[act, IC]=formula+')/LCIA_Methods!D'+str(i+2)\n",
    "                TUM[db+'_'+s+'_'+'Util']=TUM_df\n",
    "            if TUM_type == 'Treatm':\n",
    "                for a,act in enumerate(TUM_df.index):\n",
    "                    for i,IC in enumerate(LCIA_method_names):\n",
    "                        TUM_df.loc[act, IC]='=CA_Pathways_'+db+'_'+s+'!'+excel_cols[i+1]+str(a+2)+\\\n",
    "                                            '-TUM_'+db+'_'+s+'_'+'Util'+'!'+excel_cols[i+1]+str(a+2)\n",
    "                TUM[db+'_'+s+'_'+'Treatm']=TUM_df\n",
    "            if TUM_type == 'Mat':\n",
    "                for a,act in enumerate(TUM_df.index):\n",
    "                    for i,IC in enumerate(LCIA_method_names):\n",
    "                        TUM_df.loc[act, IC]='=OEV_Pathways_'+db+'_'+s+'!'+excel_cols[i+1]+str(a+2)+\"*VLOOKUP(\\\"\"+act+\"\\\",Waste_Generation_\"+scenario+\"!A1:C100,3,FALSE)\"\n",
    "                TUM[db+'_'+s+'_'+'Mat']=TUM_df                "
   ]
  },
  {
   "cell_type": "markdown",
   "id": "bef16c03",
   "metadata": {},
   "source": [
    "<a class=\"anchor\" id=\"2102\"></a>\n",
    "#### 2.10.2 Aggregated"
   ]
  },
  {
   "cell_type": "code",
   "execution_count": 82,
   "id": "04a97a8b",
   "metadata": {},
   "outputs": [],
   "source": [
    "Weighted_TUM_sheet_names={}\n",
    "\n",
    "for db in db_names:\n",
    "    for s in scenarios:\n",
    "        for TUM_type in ['Treatm', 'Util', 'Mat']:\n",
    "            Weighted_TUM_sheet_names[db+'_'+s+'_'+TUM_type]='WTUM_'+db+'_'+s+'_'+TUM_type"
   ]
  },
  {
   "cell_type": "code",
   "execution_count": 83,
   "id": "a17f5338",
   "metadata": {},
   "outputs": [],
   "source": [
    "Weighted_TUM={}\n",
    "\n",
    "for db in db_names:\n",
    "    for s in scenarios:\n",
    "        for TUM_type in ['Treatm', 'Util', 'Mat']:\n",
    "            Weighted_TUM_df=pd.DataFrame()\n",
    "\n",
    "            for a,act in enumerate(TUM_df.index):\n",
    "                for w,wm in enumerate(Weighting.columns):\n",
    "                    formula='='\n",
    "                    for i,IC in enumerate(LCIA_method_names):\n",
    "                        formula=formula+'+'+TUM_sheet_names[db+'_'+s+'_'+TUM_type]+'!'+excel_cols[i+1]+str(a+2)\\\n",
    "                                +'*'+Weighting_sheet_name+'!'+excel_cols[w+1]+str(i+2)\n",
    "                    Weighted_TUM_df.loc[act,wm]=formula\n",
    "            Weighted_TUM[db+'_'+s+'_'+TUM_type]=Weighted_TUM_df"
   ]
  },
  {
   "cell_type": "markdown",
   "id": "8a4f4368",
   "metadata": {},
   "source": [
    "<a class=\"anchor\" id=\"2_11\"></a>\n",
    "### 2.11 Dashboard"
   ]
  },
  {
   "cell_type": "markdown",
   "id": "248fcfb1",
   "metadata": {},
   "source": [
    "<a class=\"anchor\" id=\"2_11_1\"></a>\n",
    "#### 2.11.1 Figure 1: Indicator Scores per Impact Category (Spider Chart)"
   ]
  },
  {
   "cell_type": "code",
   "execution_count": 84,
   "id": "a34cee20",
   "metadata": {},
   "outputs": [],
   "source": [
    "figure1_sheet_name='Figure1_Data'"
   ]
  },
  {
   "cell_type": "code",
   "execution_count": 85,
   "id": "9e0decbe",
   "metadata": {},
   "outputs": [],
   "source": [
    "figure1_index='=EWU_Dashboard!B3' #selected treatment path / system\n",
    "figure1_df=pd.DataFrame(columns=LCIA_method_names)\n",
    "for i,IC in enumerate(LCIA_method_names):\n",
    "    for a,act in enumerate(act_names):\n",
    "        figure1_df.loc[act,IC]=\"=IF(EWU_Dashboard!B3=A\"+str(a+2)+\",INDIRECT(\\\"\\'\\\"&\"+\\\n",
    "                                            excel_cols[i+1]+str(len(act_names)+2)+\\\n",
    "                                            \"&\\\"\\'!\"+excel_cols[i+1]\\\n",
    "                                            +\"\\\"&VLOOKUP(EWU_Dashboard!B3,dict!A2:B100,2,FALSE)),#N/A)\"\n",
    "    figure1_df.loc['sheet_name',IC]=\"=\\\"Indicator_\\\"&\"+excel_cols[i+1]+str(len(act_names)+3)\\\n",
    "                                        +\"&\\\"_\\\"&EWU_Dashboard!B5\"\n",
    "    figure1_df.loc['db_short',IC]=\"=VLOOKUP(EWU_Dashboard!B4,dict!A2:B100,2,FALSE)\""
   ]
  },
  {
   "cell_type": "markdown",
   "id": "a22a19f7",
   "metadata": {},
   "source": [
    "<a class=\"anchor\" id=\"2_11_2\"></a>\n",
    "#### 2.11.2 Figure 2: Aggregated Indicator Scores (Bar Chart)"
   ]
  },
  {
   "cell_type": "code",
   "execution_count": 86,
   "id": "e4568879",
   "metadata": {},
   "outputs": [],
   "source": [
    "figure2_sheet_name='Figure2_Data'"
   ]
  },
  {
   "cell_type": "code",
   "execution_count": 87,
   "id": "89dced1b",
   "metadata": {},
   "outputs": [],
   "source": [
    "figure2_index='=EWU_Dashboard!B6' #selected weighting method\n",
    "figure2_df=pd.DataFrame(columns=act_names)\n",
    "\n",
    "for a,act in enumerate(act_names):\n",
    "    figure2_df.loc[figure2_index,act]=\"=HLOOKUP(A2,INDIRECT(\"+excel_cols[a+1]+\"3\"+\"&\\\"!B1:\"\\\n",
    "                                        +excel_cols[len(Weighting.columns)]+str(len(act_names)+1)+\"\\\"),\"+\\\n",
    "                                        \"VLOOKUP(\"+excel_cols[a+1]+\"1,dict!A2:B100,2,FALSE),FALSE)\"\n",
    "    figure2_df.loc['sheet_name',act]=\"=\\\"W_Ind_\\\"&\"+excel_cols[a+1]+\"4&\\\"_\\\"&EWU_Dashboard!B5\"\n",
    "    figure2_df.loc['db_short',act]=\"=VLOOKUP(EWU_Dashboard!B4,dict!A2:B100,2,FALSE)\""
   ]
  },
  {
   "cell_type": "markdown",
   "id": "93f2421d",
   "metadata": {},
   "source": [
    "<a class=\"anchor\" id=\"2_11_3\"></a>\n",
    "#### 2.11.3 Figure 3: Contribution Analysis - Pathways (Bar Chart - Stacked)"
   ]
  },
  {
   "cell_type": "code",
   "execution_count": 88,
   "id": "86f42ccf",
   "metadata": {},
   "outputs": [],
   "source": [
    "figure3_sheet_name='Figure3_Data'"
   ]
  },
  {
   "cell_type": "code",
   "execution_count": 89,
   "id": "476bbefd",
   "metadata": {},
   "outputs": [],
   "source": [
    "figure3_df=pd.DataFrame(columns=LCIA_method_names)\n",
    "fig3_sheet_name=\"=\\\"CA_Pathways_\\\"&B2&\\\"_\\\"&EWU_Dashboard!B5\" #cell B1\n",
    "fig3_db_short=\"=VLOOKUP(EWU_Dashboard!B4,dict!A2:B100,2,FALSE)\" # cell B2\n",
    "\n",
    "for a,act in enumerate(act_names):\n",
    "    for i,IC in enumerate(LCIA_method_names):\n",
    "        figure3_df.loc[act,IC]=\"=INDIRECT(B1&\\\"!\"+excel_cols[i+1]+str(a+2)+\"\\\")\"#+\"*INDIRECT(B3&\\\"!C\"+str(a+2)+\"\\\")\""
   ]
  },
  {
   "cell_type": "markdown",
   "id": "112d9abc",
   "metadata": {},
   "source": [
    "<a class=\"anchor\" id=\"2_11_4\"></a>\n",
    "#### 2.11.4 Figure 4: Contribution Analysis - Processes (Bar Chart - Stacked)"
   ]
  },
  {
   "cell_type": "code",
   "execution_count": 90,
   "id": "89d5f180",
   "metadata": {},
   "outputs": [],
   "source": [
    "figure4_sheet_name='Figure4_Data'"
   ]
  },
  {
   "cell_type": "code",
   "execution_count": 91,
   "id": "a09e672c",
   "metadata": {},
   "outputs": [],
   "source": [
    "figure4_df=pd.DataFrame(columns=LCIA_method_names)\n",
    "fig4_sheet_name=\"=\\\"CA_acts_\\\"&B2&\\\"_\\\"&EWU_Dashboard!B5\" #cell B1\n",
    "fig4_db_short=\"=VLOOKUP(EWU_Dashboard!B4,dict!A2:B100,2,FALSE)\" # cell B2\n",
    "\n",
    "for a,act in enumerate(CA_acts_df.index):\n",
    "    for i,IC in enumerate(LCIA_method_names):\n",
    "        figure4_df.loc[act,IC]=\"=INDIRECT(B1&\\\"!\"+excel_cols[i+1]+str(a+2)+\"\\\")\""
   ]
  },
  {
   "cell_type": "markdown",
   "id": "e36a2d0d",
   "metadata": {},
   "source": [
    "<a class=\"anchor\" id=\"2_11_5\"></a>\n",
    "#### 2.11.5 Figure 5: Scenario Analysis - Foreground System (Bar Chart)"
   ]
  },
  {
   "cell_type": "code",
   "execution_count": 92,
   "id": "35dd1192",
   "metadata": {},
   "outputs": [],
   "source": [
    "figure5_sheet_name='Figure5_Data'"
   ]
  },
  {
   "cell_type": "code",
   "execution_count": 93,
   "id": "75663120",
   "metadata": {},
   "outputs": [],
   "source": [
    "n_weightingsets=len(Weighting.columns)\n",
    "n_acts=len(act_names)"
   ]
  },
  {
   "cell_type": "code",
   "execution_count": 94,
   "id": "9a02c2a0",
   "metadata": {},
   "outputs": [],
   "source": [
    "figure5_index='=EWU_Dashboard!B3' #selected treatment path / system\n",
    "figure5_df=pd.DataFrame(columns=scenarios)\n",
    "\n",
    "for s,scenario in enumerate(scenarios):\n",
    "    for a,act in enumerate(act_names):\n",
    "        figure5_df.loc[act,scenario]=\"=IF(EWU_Dashboard!B3=A\"+str(a+2)+\",HLOOKUP(EWU_Dashboard!B6,INDIRECT(\"+excel_cols[s+1]\\\n",
    "                                                +str(len(act_names)+2)+\"&\\\"!A1:\"\\\n",
    "                                                +excel_cols[n_weightingsets]+str(n_acts+1)\\\n",
    "                                                +\"\\\"),VLOOKUP(EWU_Dashboard!B3,dict!A2:B100,2,FALSE),FALSE),0)\"\n",
    "    figure5_df.loc['sheet_name',scenario]=\"=\\\"W_Ind_\\\"&\"+excel_cols[s+1]+str(len(act_names)+3)+\"&\\\"_\\\"&\\\"\"+scenario+\"\\\"\"\n",
    "    figure5_df.loc['db_short',scenario]=\"=VLOOKUP(EWU_Dashboard!B4,dict!A2:B100,2,FALSE)\""
   ]
  },
  {
   "cell_type": "markdown",
   "id": "bed07b5c",
   "metadata": {},
   "source": [
    "<a class=\"anchor\" id=\"2_11_6\"></a>\n",
    "#### 2.11.6 Figure 6: Scenario Analysis - Background System (Bar Chart)"
   ]
  },
  {
   "cell_type": "code",
   "execution_count": 95,
   "id": "153a5351",
   "metadata": {},
   "outputs": [],
   "source": [
    "figure6_sheet_name='Figure6_Data'"
   ]
  },
  {
   "cell_type": "code",
   "execution_count": 96,
   "id": "233e6b05",
   "metadata": {},
   "outputs": [],
   "source": [
    "figure6_index='=EWU_Dashboard!B3' #selected treatment path / system\n",
    "figure6_df=pd.DataFrame(columns=db_names)\n",
    "\n",
    "for d,db in enumerate(db_names):\n",
    "    for a,act in enumerate(act_names):\n",
    "        figure6_df.loc[act,db]=\"=IF(EWU_Dashboard!B3=A\"+str(a+2)+\",HLOOKUP(\"+excel_cols[d+1]+str(len(act_names)+3)+\",INDIRECT(\"+excel_cols[d+1]\\\n",
    "                                            +str(len(act_names)+4)+\"&\\\"!A1:\"\\\n",
    "                                            +excel_cols[n_weightingsets]+str(n_acts+1)\\\n",
    "                                            +\"\\\"),VLOOKUP(EWU_Dashboard!B3,dict!A1:B100,2,FALSE),FALSE),0)\"\n",
    "    figure6_df.loc['scenario',db]=\"=EWU_Dashboard!B5\"\n",
    "    figure6_df.loc['weighting_method',db]=\"=EWU_Dashboard!B6\"\n",
    "    figure6_df.loc['sheet_name',db]=\"=\\\"W_Ind_\\\"&\"+excel_cols[d+1]+\"1&\\\"_\\\"&\"+excel_cols[d+1]+str(len(act_names)+2)"
   ]
  },
  {
   "cell_type": "markdown",
   "id": "add903b6",
   "metadata": {},
   "source": [
    "<a class=\"anchor\" id=\"2_11_7\"></a>\n",
    "#### 2.11.7 Figure 7: EWU - Components"
   ]
  },
  {
   "cell_type": "code",
   "execution_count": 97,
   "id": "214812d6",
   "metadata": {},
   "outputs": [],
   "source": [
    "figure7_sheet_name='Figure7_Data'"
   ]
  },
  {
   "cell_type": "code",
   "execution_count": 98,
   "id": "29c724bf",
   "metadata": {},
   "outputs": [],
   "source": [
    "figure7_df=pd.DataFrame(columns=['Treatment', 'Utilization', 'Material'])\n",
    "col_shorts=['Treatm', 'Util', 'Mat']\n",
    "\n",
    "for c,col in enumerate(figure7_df.columns):\n",
    "    for a,act in enumerate(act_names):\n",
    "        figure7_df.loc[act,col]=\"=HLOOKUP(\"+excel_cols[c+1]+str(len(act_names)+4)+\",INDIRECT(\"+excel_cols[c+1]\\\n",
    "                                            +str(len(act_names)+5)+\"&\\\"!A1:\"\\\n",
    "                                            +excel_cols[n_weightingsets]+str(n_acts+1)\\\n",
    "                                            +\"\\\"),\"+str(a+2)+\",FALSE)\"\n",
    "    figure7_df.loc['db_short',col]=\"=VLOOKUP(EWU_Dashboard!B4,dict!A2:B100,2,FALSE)\"\n",
    "    figure7_df.loc['scenario',col]=\"=EWU_Dashboard!B5\"\n",
    "    figure7_df.loc['weighting_method',col]=\"=EWU_Dashboard!B6\"\n",
    "    figure7_df.loc['sheet_name',col]=\"=\\\"WTUM_\\\"&\"+excel_cols[c+1]+str(len(act_names)+2)+\"&\\\"_\\\"&\"+\\\n",
    "                                        excel_cols[c+1]+str(len(act_names)+3)+\"&\\\"_\"+col_shorts[c]+\"\\\"\""
   ]
  },
  {
   "cell_type": "markdown",
   "id": "326f1c43",
   "metadata": {},
   "source": [
    "<a class=\"anchor\" id=\"2_12\"></a>\n",
    "### 2.12 Weighting Factors based on Impact Size"
   ]
  },
  {
   "cell_type": "code",
   "execution_count": 99,
   "id": "1357bed1",
   "metadata": {},
   "outputs": [],
   "source": [
    "if 'Weighting based on impact size' in Weighting.columns:\n",
    "    col_ind=Weighting.columns.get_loc('Weighting based on impact size')\n",
    "    for i,IC in enumerate(Weighting.index):\n",
    "        Weighting.loc[IC, 'Weighting based on impact size']='=ABS('+figure3_sheet_name+'!'+excel_cols[i+1]+'6)/'\\\n",
    "                                                     +'SUMPRODUCT(ABS('+figure3_sheet_name+'!B6:'\\\n",
    "                                                     +excel_cols[len(Weighting.index)]+'6))'\n",
    "    \n",
    "    for col in Weighting.columns:\n",
    "        if ('Weighting based on impact size' in col) & ('Weighting based on impact size' != col):\n",
    "            comb_method=col.split('+ ')[1]\n",
    "            comb_method_ind=Weighting.columns.get_loc(comb_method)\n",
    "            for i,IC in enumerate(Weighting.index):\n",
    "                Weighting.loc[IC, col]='='+excel_cols[col_ind+1]+str(i+2)+'*'+excel_cols[comb_method_ind+1]+str(i+2)\\\n",
    "                                          +'/SUMPRODUCT('+excel_cols[col_ind+1]+'2:'+excel_cols[col_ind+1]\\\n",
    "                                          +str(len(Weighting.index)+1)+','+excel_cols[comb_method_ind+1]+'2:'\\\n",
    "                                          +excel_cols[comb_method_ind+1]+str(len(Weighting.index)+1)+')'\n",
    "                \n",
    "                \n",
    "            #print(col, comb_method)"
   ]
  },
  {
   "cell_type": "markdown",
   "id": "b3a15a7a",
   "metadata": {},
   "source": [
    "<a class=\"anchor\" id=\"3\"></a>\n",
    "## 3. Export to Excel"
   ]
  },
  {
   "cell_type": "markdown",
   "id": "8b2823c0",
   "metadata": {},
   "source": [
    "<a class=\"anchor\" id=\"31\"></a>\n",
    "### 3.1 Format"
   ]
  },
  {
   "cell_type": "code",
   "execution_count": 100,
   "id": "be694dc8",
   "metadata": {},
   "outputs": [],
   "source": [
    "EWU_dashboard='EWU_Dashboard.xlsx'"
   ]
  },
  {
   "cell_type": "code",
   "execution_count": 101,
   "id": "2f29a27d",
   "metadata": {},
   "outputs": [],
   "source": [
    "writer = pd.ExcelWriter(EWU_dashboard, engine='xlsxwriter')\n",
    "workbook = writer.book"
   ]
  },
  {
   "cell_type": "code",
   "execution_count": 102,
   "id": "2ceb5bf1",
   "metadata": {},
   "outputs": [],
   "source": [
    "title_format = workbook.add_format({'num_format': '0.00','text_wrap':False, \n",
    "                                         'font':'Arial', 'font_size':22,'bold':True, \n",
    "                                         'border':0,'border_color':'black'})\n",
    "subtitle_format = workbook.add_format({'num_format': '0.00','text_wrap':False, \n",
    "                                         'font':'Arial', 'font_size':22,'bold':True, \n",
    "                                         'border':0,'border_color':'black'})\n",
    "text_format = workbook.add_format({'num_format': '0%','text_wrap':False, \n",
    "                                         'font':'Arial', 'font_size':18, \n",
    "                                         'border':1,'border_color':'black'})\n",
    "text_format2 = workbook.add_format({'num_format': '0%','text_wrap':False, \n",
    "                                         'font':'Arial', 'font_size':18, \n",
    "                                         'bold': True, 'font_color': 'white',\n",
    "                                         'fg_color':'#595959',\n",
    "                                         'border':1,'border_color':'black'})\n",
    "heading_format = workbook.add_format({'num_format': '0.00','text_wrap':True, \n",
    "                                         'font':'Arial', 'font_size':10,'bold':True, \n",
    "                                         'border':1,'border_color':'black'})\n",
    "percentage_format = workbook.add_format({'num_format': '0%','text_wrap':True, \n",
    "                                         'font':'Arial', 'font_size':10, \n",
    "                                         'border':1,'border_color':'black'})\n",
    "number_format = workbook.add_format({'num_format': '0.00','text_wrap':True, \n",
    "                                         'font':'Arial', 'font_size':10, \n",
    "                                         'border':1,'border_color':'black'})\n",
    "scientific_format = workbook.add_format({'num_format': '0.00E+00','text_wrap':True, \n",
    "                                         'font':'Arial', 'font_size':10, \n",
    "                                         'border':1,'border_color':'black'})\n",
    "background_format = workbook.add_format({'bg_color':'white'})\n",
    "int_format = workbook.add_format({'num_format': '0','text_wrap':True, \n",
    "                                         'font':'Arial', 'font_size':10, \n",
    "                                         'border':1,'border_color':'black'})"
   ]
  },
  {
   "cell_type": "markdown",
   "id": "493d93f3",
   "metadata": {},
   "source": [
    "<a class=\"anchor\" id=\"32\"></a>\n",
    "### 3.2 Colors"
   ]
  },
  {
   "cell_type": "code",
   "execution_count": 103,
   "id": "dfdaa8fd",
   "metadata": {},
   "outputs": [],
   "source": [
    "color_df=pd.read_excel('EWU_Dashboard_InputTemplate.xlsx', sheet_name='Format', index_col=0)"
   ]
  },
  {
   "cell_type": "code",
   "execution_count": 104,
   "id": "8510e077",
   "metadata": {},
   "outputs": [],
   "source": [
    "if len(color_df)==0:\n",
    "    color_dict={}\n",
    "else:\n",
    "    color_dict=color_df.iloc[:,0].to_dict()\n",
    "    \n",
    "color_keys=[*act_names, *activity_tags]"
   ]
  },
  {
   "cell_type": "code",
   "execution_count": 105,
   "id": "84ebc2fe",
   "metadata": {},
   "outputs": [],
   "source": [
    "ck_notincl=[]\n",
    "for ck in color_keys:\n",
    "    if ck not in color_dict.keys():\n",
    "        ck_notincl.append(ck)\n",
    "        \n",
    "add_colors=mcp.gen_color(cmap=\"turbo\",n=len(ck_notincl))\n",
    "\n",
    "for c,ck in enumerate(ck_notincl):\n",
    "    color_dict[ck]=add_colors[c]"
   ]
  },
  {
   "cell_type": "markdown",
   "id": "ade05bfc",
   "metadata": {},
   "source": [
    "<a class=\"anchor\" id=\"33\"></a>\n",
    "### 3.3 Create workbooks"
   ]
  },
  {
   "cell_type": "code",
   "execution_count": 106,
   "id": "cf324ab8",
   "metadata": {},
   "outputs": [],
   "source": [
    "Dashboard_sheet=workbook.add_worksheet('EWU_Dashboard')\n",
    "params_sheet=workbook.add_worksheet(params_sheet_name)\n",
    "\n",
    "figure1_sheet=workbook.add_worksheet(figure1_sheet_name)\n",
    "figure2_sheet=workbook.add_worksheet(figure2_sheet_name)\n",
    "figure3_sheet=workbook.add_worksheet(figure3_sheet_name)\n",
    "figure4_sheet=workbook.add_worksheet(figure4_sheet_name)\n",
    "figure5_sheet=workbook.add_worksheet(figure5_sheet_name)\n",
    "figure6_sheet=workbook.add_worksheet(figure6_sheet_name)\n",
    "figure7_sheet=workbook.add_worksheet(figure7_sheet_name)\n",
    "documentation_sheet=workbook.add_worksheet('Documentation')\n",
    "dict_sheet=workbook.add_worksheet('dict')\n",
    "\n",
    "Indicator_sheets={}\n",
    "for db_s in Indicator_sheet_names.keys():\n",
    "    Indicator_sheets[db_s]=workbook.add_worksheet(Indicator_sheet_names[db_s])\n",
    "    \n",
    "Weighted_Indicator_sheets={}\n",
    "for db_s in Weighted_Indicator_sheet_names.keys():\n",
    "    Weighted_Indicator_sheets[db_s]=workbook.add_worksheet(Weighted_Indicator_sheet_names[db_s])\n",
    "    \n",
    "Weighting_sheet=workbook.add_worksheet(Weighting_sheet_name)\n",
    "\n",
    "LCA_results_sheets={}\n",
    "for db_s in LCA_results_sheet_names.keys():\n",
    "    LCA_results_sheets[db_s]=workbook.add_worksheet(LCA_results_sheet_names[db_s])\n",
    "\n",
    "CA_Pathways_sheets={}\n",
    "for db_s in CA_Pathways_sheet_names.keys():\n",
    "    CA_Pathways_sheets[db_s]=workbook.add_worksheet(CA_Pathways_sheet_names[db_s])\n",
    "\n",
    "CA_acts_sheets={}\n",
    "for db_s in CA_acts_sheet_names.keys():\n",
    "    CA_acts_sheets[db_s]=workbook.add_worksheet(CA_acts_sheet_names[db_s])\n",
    "\n",
    "Waste_Gen_sheets={}\n",
    "for db_s in Waste_Gen_sheet_names.keys():\n",
    "    Waste_Gen_sheets[db_s]=workbook.add_worksheet(Waste_Gen_sheet_names[db_s])\n",
    "    \n",
    "Waste_Comp_sheets={}\n",
    "for db_s in Waste_Comp_sheet_names.keys():\n",
    "    Waste_Comp_sheets[db_s]=workbook.add_worksheet(Waste_Comp_sheet_names[db_s])\n",
    "    \n",
    "LCI_df_sheets={}\n",
    "for db_s in LCI_df_sheet_names.keys():    \n",
    "    LCI_df_sheets[db_s]=workbook.add_worksheet(LCI_df_sheet_names[db_s])\n",
    "    \n",
    "LCIAmethod_sheet=workbook.add_worksheet(LCIAmethod_sheet_name)\n",
    "\n",
    "OEV_material_sheets={}\n",
    "for db_s in OEV_material_sheet_names.keys():\n",
    "    OEV_material_sheets[db_s]=workbook.add_worksheet(OEV_material_sheet_names[db_s])\n",
    "    \n",
    "OEV_Pathways_sheets={}\n",
    "for db_s in OEV_Pathways_sheet_names.keys():\n",
    "    OEV_Pathways_sheets[db_s]=workbook.add_worksheet(OEV_Pathways_sheet_names[db_s])\n",
    "    \n",
    "supply_chain_sheets={}\n",
    "for db_s in supply_chain_sheet_names.keys():\n",
    "    supply_chain_sheets[db_s]=workbook.add_worksheet(supply_chain_sheet_names[db_s])\n",
    "    \n",
    "TUM_sheets={}\n",
    "for db_s_m in TUM_sheet_names.keys():\n",
    "    TUM_sheets[db_s_m]=workbook.add_worksheet(TUM_sheet_names[db_s_m])\n",
    "    \n",
    "Weighted_TUM_sheets={}\n",
    "for db_s_m in Weighted_TUM_sheet_names.keys():\n",
    "    Weighted_TUM_sheets[db_s_m]=workbook.add_worksheet(Weighted_TUM_sheet_names[db_s_m])"
   ]
  },
  {
   "cell_type": "markdown",
   "id": "8b587020",
   "metadata": {},
   "source": [
    "<a class=\"anchor\" id=\"34\"></a>\n",
    "### 3.4 Write data to workbooks"
   ]
  },
  {
   "cell_type": "markdown",
   "id": "1e1ed49a",
   "metadata": {},
   "source": [
    "<a class=\"anchor\" id=\"341\"></a>\n",
    "#### 3.4.1 Indicator"
   ]
  },
  {
   "cell_type": "code",
   "execution_count": 107,
   "id": "ec3bbfbc",
   "metadata": {},
   "outputs": [],
   "source": [
    "# Indicator\n",
    "for db in db_names:\n",
    "    for s in scenarios:\n",
    "        Indicator_sheet=Indicator_sheets[db+'_'+s]\n",
    "        for c,col in enumerate(Indicator[db+'_'+s].columns):\n",
    "            Indicator_sheet.write(0,c+1,Indicator[db+'_'+s].columns[c],heading_format)\n",
    "            for i,ind in enumerate(Indicator[db+'_'+s].index):\n",
    "                if c==0:\n",
    "                    Indicator_sheet.write(i+1,0,Indicator[db+'_'+s].index[i],heading_format)\n",
    "                Indicator_sheet.write(i+1,c+1,Indicator[db+'_'+s].loc[ind,col],percentage_format)\n",
    "        Indicator_sheet.set_tab_color('green')\n",
    "        Indicator_sheet.hide()"
   ]
  },
  {
   "cell_type": "markdown",
   "id": "bb10f20a",
   "metadata": {},
   "source": [
    "<a class=\"anchor\" id=\"342\"></a>\n",
    "#### 3.4.2 Weighted Indicator"
   ]
  },
  {
   "cell_type": "code",
   "execution_count": 108,
   "id": "e3e1be29",
   "metadata": {},
   "outputs": [],
   "source": [
    "# Weighted Indicator\n",
    "for db in db_names:\n",
    "    for s in scenarios:\n",
    "        Weighted_Indicator_sheet=Weighted_Indicator_sheets[db+'_'+s]\n",
    "        for c,col in enumerate(Weighted_Indicator[db+'_'+s].columns):\n",
    "            Weighted_Indicator_sheet.write(0,c+1,Weighted_Indicator[db+'_'+s].columns[c],heading_format)    \n",
    "            for i,ind in enumerate(Weighted_Indicator[db+'_'+s].index):\n",
    "                if c==0:\n",
    "                    Weighted_Indicator_sheet.write(i+1,0,Weighted_Indicator[db+'_'+s].index[i],heading_format)\n",
    "                Weighted_Indicator_sheet.write(i+1,c+1,Weighted_Indicator[db+'_'+s].loc[ind,col],percentage_format)\n",
    "        Weighted_Indicator_sheet.set_column_pixels(0,c+1, 100)    \n",
    "        Weighted_Indicator_sheet.set_tab_color('green')\n",
    "        Weighted_Indicator_sheet.hide()"
   ]
  },
  {
   "cell_type": "markdown",
   "id": "f22e688d",
   "metadata": {},
   "source": [
    "<a class=\"anchor\" id=\"343\"></a>\n",
    "#### 3.4.3 Weighting Methods"
   ]
  },
  {
   "cell_type": "code",
   "execution_count": 109,
   "id": "5a4b368b",
   "metadata": {},
   "outputs": [],
   "source": [
    "# Weighting\n",
    "for c,col in enumerate(Weighting.columns):\n",
    "    Weighting_sheet.write(0,c+1,Weighting.columns[c],heading_format)    \n",
    "    for i,ind in enumerate(Weighting.index):\n",
    "        if c==0:\n",
    "            Weighting_sheet.write(i+1,0,Weighting.index[i],heading_format)\n",
    "        Weighting_sheet.write(i+1,c+1,Weighting.loc[ind,col],percentage_format)\n",
    "Weighting_sheet.set_column_pixels(0,len(Weighting.columns)+1, 100)   \n",
    "Weighting_sheet.hide()"
   ]
  },
  {
   "cell_type": "markdown",
   "id": "25d50a97",
   "metadata": {},
   "source": [
    "<a class=\"anchor\" id=\"344\"></a>\n",
    "#### 3.4.4 LCA Results"
   ]
  },
  {
   "cell_type": "code",
   "execution_count": 110,
   "id": "3a3044e0",
   "metadata": {},
   "outputs": [],
   "source": [
    "# LCA Results\n",
    "for db in db_names:\n",
    "    for s in scenarios:\n",
    "        LCA_results_sheet=LCA_results_sheets[db+'_'+s]\n",
    "        for c,col in enumerate(LCA_results[db+'_'+s].columns):\n",
    "            if c>0:\n",
    "                LCA_results_sheet.write(0,c,LCA_results[db+'_'+s].columns[c],heading_format)\n",
    "                for i,ind in enumerate(LCA_results[db+'_'+s].index):\n",
    "                    if c==1:\n",
    "                        LCA_results_sheet.write(i+1,0,LCA_results[db+'_'+s].loc[ind,'Pathway'],heading_format)\n",
    "                    LCA_results_sheet.write(i+1,c,LCA_results[db+'_'+s].loc[ind,col],scientific_format)\n",
    "        LCA_results_sheet.hide()"
   ]
  },
  {
   "cell_type": "markdown",
   "id": "0a34863e",
   "metadata": {},
   "source": [
    "<a class=\"anchor\" id=\"345\"></a>\n",
    "#### 3.4.5 Contribution Analysis - Pathways"
   ]
  },
  {
   "cell_type": "code",
   "execution_count": 111,
   "id": "729c85f7",
   "metadata": {},
   "outputs": [],
   "source": [
    "# CA_Pathways\n",
    "for db in db_names:\n",
    "    for s in scenarios:\n",
    "        CA_Pathways_sheet=CA_Pathways_sheets[db+'_'+s]\n",
    "        for c,col in enumerate(CA_Pathways[db+'_'+s].columns):\n",
    "            CA_Pathways_sheet.write(0,c+1,CA_Pathways[db+'_'+s].columns[c],heading_format)\n",
    "            for i,ind in enumerate(CA_Pathways[db+'_'+s].index):\n",
    "                if c==0:\n",
    "                    CA_Pathways_sheet.write(i+1,0,CA_Pathways[db+'_'+s].index[i],heading_format)\n",
    "                CA_Pathways_sheet.write(i+1,c+1,CA_Pathways[db+'_'+s].loc[ind,col],scientific_format)\n",
    "        CA_Pathways_sheet.hide()"
   ]
  },
  {
   "cell_type": "markdown",
   "id": "ebc73d96",
   "metadata": {},
   "source": [
    "<a class=\"anchor\" id=\"346\"></a>\n",
    "#### 3.4.6 Contribution Analysis - Activities"
   ]
  },
  {
   "cell_type": "code",
   "execution_count": 112,
   "id": "916a025b",
   "metadata": {},
   "outputs": [],
   "source": [
    "# CA_acts\n",
    "for db in db_names:\n",
    "    for s in scenarios:\n",
    "        CA_acts_sheet=CA_acts_sheets[db+'_'+s]\n",
    "        for c,col in enumerate(CA_acts[db+'_'+s].columns):\n",
    "            CA_acts_sheet.write(0,c+1,CA_acts[db+'_'+s].columns[c],heading_format)\n",
    "            for i,ind in enumerate(CA_acts[db+'_'+s].index):\n",
    "                if c==0:\n",
    "                    CA_acts_sheet.write(i+1,0,CA_acts[db+'_'+s].index[i],heading_format)\n",
    "                CA_acts_sheet.write(i+1,c+1,CA_acts[db+'_'+s].loc[ind,col],scientific_format)\n",
    "        CA_acts_sheet.hide()"
   ]
  },
  {
   "cell_type": "markdown",
   "id": "5602a7e1",
   "metadata": {},
   "source": [
    "<a class=\"anchor\" id=\"347\"></a>\n",
    "#### 3.4.7 Supply Chain"
   ]
  },
  {
   "cell_type": "code",
   "execution_count": 113,
   "id": "02ef7f32",
   "metadata": {},
   "outputs": [],
   "source": [
    "def split_formulas(x):\n",
    "    ints=[i for i in range(1,int(len(x)/7000)+2) if i < (len(x)/7000+1)]\n",
    "\n",
    "    sections=[]\n",
    "    for c in ints:\n",
    "        lower_bound=7000*c\n",
    "        if c != ints[-1]:\n",
    "            upper_bound=7000*c+1000\n",
    "            x_section=x[lower_bound:upper_bound]\n",
    "            plus_position=x_section.rfind('+')+lower_bound\n",
    "            if c==1:\n",
    "                lower_plus_bound=0\n",
    "            plus_section=x[lower_plus_bound:plus_position]\n",
    "            if c != 1:\n",
    "                plus_section='='+plus_section\n",
    "        else:\n",
    "            upper_bound=len(x)+1\n",
    "            plus_section=x[lower_plus_bound:]\n",
    "            plus_section='='+plus_section\n",
    "        sections.append(plus_section)\n",
    "        lower_plus_bound=plus_position+1\n",
    "        \n",
    "    return sections"
   ]
  },
  {
   "cell_type": "code",
   "execution_count": 114,
   "id": "23f9d511",
   "metadata": {},
   "outputs": [],
   "source": [
    "# supply_chain\n",
    "for s in scenarios:\n",
    "    for actname in act_names:\n",
    "        supply_chain_sheet=supply_chain_sheets[s+'_'+actname]\n",
    "        for c,col in enumerate(supply_chain[s+'_'+actname].columns):\n",
    "            supply_chain_sheet.write(0,c+1,supply_chain[s+'_'+actname].columns[c],heading_format)\n",
    "            for i,ind in enumerate(supply_chain[s+'_'+actname].index):\n",
    "                if c==0:\n",
    "                    supply_chain_sheet.write(i+1,0,supply_chain[s+'_'+actname].index[i],heading_format)\n",
    "                supply_chain_sheet.write(i+1,c+1,supply_chain[s+'_'+actname].loc[ind,col],scientific_format)\n",
    "        supply_chain_sheet.hide()"
   ]
  },
  {
   "cell_type": "markdown",
   "id": "0946e700",
   "metadata": {},
   "source": [
    "<a class=\"anchor\" id=\"348\"></a>\n",
    "#### 3.4.8 EWU-Components: Treatment - Utilization - Material"
   ]
  },
  {
   "cell_type": "code",
   "execution_count": 115,
   "id": "f4e04ed7",
   "metadata": {},
   "outputs": [],
   "source": [
    "# TUM\n",
    "for db in db_names:\n",
    "    for s in scenarios:\n",
    "        for TUM_type in ['Treatm', 'Util', 'Mat']:\n",
    "            TUM_sheet=TUM_sheets[db+'_'+s+'_'+TUM_type]\n",
    "            for c,col in enumerate(TUM[db+'_'+s+'_'+TUM_type].columns):\n",
    "                TUM_sheet.write(0,c+1,TUM[db+'_'+s+'_'+TUM_type].columns[c],heading_format)\n",
    "                for i,ind in enumerate(TUM[db+'_'+s+'_'+TUM_type].index):\n",
    "                    if c==0:\n",
    "                        TUM_sheet.write(i+1,0,TUM[db+'_'+s+'_'+TUM_type].index[i],heading_format)\n",
    "                    TUM_sheet.write(i+1,c+1,TUM[db+'_'+s+'_'+TUM_type].loc[ind,col],scientific_format)\n",
    "                    TUM_sheet.hide()"
   ]
  },
  {
   "cell_type": "markdown",
   "id": "c2c8e030",
   "metadata": {},
   "source": [
    "<a class=\"anchor\" id=\"349\"></a>\n",
    "#### 3.4.9 Weighted EWU-Components: Treatment - Utilization - Material"
   ]
  },
  {
   "cell_type": "code",
   "execution_count": 116,
   "id": "fa5f17a9",
   "metadata": {},
   "outputs": [],
   "source": [
    "# TUM\n",
    "for db in db_names:\n",
    "    for s in scenarios:\n",
    "        for TUM_type in ['Treatm', 'Util', 'Mat']:\n",
    "            Weighted_TUM_sheet=Weighted_TUM_sheets[db+'_'+s+'_'+TUM_type]\n",
    "            for c,col in enumerate(Weighted_TUM[db+'_'+s+'_'+TUM_type].columns):\n",
    "                Weighted_TUM_sheet.write(0,c+1,Weighted_TUM[db+'_'+s+'_'+TUM_type].columns[c],heading_format)\n",
    "                for i,ind in enumerate(Weighted_TUM[db+'_'+s+'_'+TUM_type].index):\n",
    "                    if c==0:\n",
    "                        Weighted_TUM_sheet.write(i+1,0,Weighted_TUM[db+'_'+s+'_'+TUM_type].index[i],heading_format)\n",
    "                    Weighted_TUM_sheet.write(i+1,c+1,Weighted_TUM[db+'_'+s+'_'+TUM_type].loc[ind,col],scientific_format)\n",
    "                    Weighted_TUM_sheet.hide()"
   ]
  },
  {
   "cell_type": "markdown",
   "id": "f8375e82",
   "metadata": {},
   "source": [
    "<a class=\"anchor\" id=\"3410\"></a>\n",
    "#### 3.4.10 Parameters"
   ]
  },
  {
   "cell_type": "code",
   "execution_count": 117,
   "id": "6c4b575b",
   "metadata": {},
   "outputs": [],
   "source": [
    "# Parameters\n",
    "for c,col in enumerate(parameter_df.columns):\n",
    "    if c>0:\n",
    "        params_sheet.write(0,c,parameter_df.columns[c],heading_format)\n",
    "        for i,ind in enumerate(parameter_df.index):\n",
    "            if c==1:\n",
    "                params_sheet.write(i+1,0,str(parameter_df.loc[ind,'Parameter-ID']),heading_format)\n",
    "            if col == 'Group':\n",
    "                if pd.isnull(parameter_df.loc[ind,col])==False:\n",
    "                    params_sheet.write(i+1,c,parameter_df.loc[ind,col],int_format)\n",
    "                else:\n",
    "                    params_sheet.write(i+1,c,'None',int_format)\n",
    "            else:\n",
    "                try:\n",
    "                    params_sheet.write(i+1,c,parameter_df.loc[ind,col],scientific_format)\n",
    "                except:\n",
    "                    pass\n",
    "params_sheet.set_column_pixels(1,len(parameter_df.columns)+1, 100)  \n",
    "\n",
    "sc_format = workbook.add_format({'bold': 1, 'bg_color': 'yellow'})\n",
    "col_default = excel_cols[parameter_df.columns.get_loc(\"Parameter Value - \"+scenarios[0])]\n",
    "scenario_cols=[col for col in parameter_df.columns if ('Parameter Value' in col) and ('Parameter Value - default' not in col)]\n",
    "for i in parameter_df.index:\n",
    "    for col in scenario_cols:\n",
    "        col_name = excel_cols[parameter_df.columns.get_loc(col)]\n",
    "        cell=col_name+str(i+2)\n",
    "        params_sheet.conditional_format(cell, \n",
    "                                        {'type': 'cell',\n",
    "                                                 'criteria': \"not equal to\",\n",
    "                                                 'value': col_default+str(i+2),\n",
    "                                                 'format': sc_format})\n",
    "    \n",
    "if general_info['Conduct perturbation analysis'] == 'yes':\n",
    "    col_x = parameter_df.columns.get_loc(LCIA_method_names[0])\n",
    "    #col_y = parameter_df.columns.get_loc(LCIA_method_names[-1]) + 1\n",
    "    for i,IC in enumerate(LCIA_method_names):\n",
    "        min_val=parameter_df[IC].min()\n",
    "        max_val=parameter_df[IC].max()\n",
    "        cells=excel_cols[col_x+i]+str(2)+':'+excel_cols[col_x+i]+str(len(parameter_df)+2)\n",
    "        params_sheet.conditional_format(cells, {'type': '3_color_scale',\n",
    "                                             'min_color': \"#C00000\",\n",
    "                                             'mid_color': \"#FFFFFF\",\n",
    "                                             'max_color': \"#9BBB59\",\n",
    "                                             'min_value':min_val,\n",
    "                                             'mid_value':0,\n",
    "                                             'max_value':max_val})\n",
    "\n",
    "#params_sheet.set_tab_color('yellow')"
   ]
  },
  {
   "cell_type": "markdown",
   "id": "efc4699e",
   "metadata": {},
   "source": [
    "<a class=\"anchor\" id=\"3411\"></a>\n",
    "#### 3.4.11 Waste Quantitities"
   ]
  },
  {
   "cell_type": "code",
   "execution_count": 118,
   "id": "aa628b8b",
   "metadata": {},
   "outputs": [],
   "source": [
    "# Waste Generation\n",
    "for s in scenarios:\n",
    "    Waste_Gen_sheet=Waste_Gen_sheets[s]\n",
    "    for c,col in enumerate(Waste_Gen[s].columns):\n",
    "        Waste_Gen_sheet.write(0,c+1,Waste_Gen[s].columns[c],heading_format)    \n",
    "        for i,ind in enumerate(Waste_Gen[s].index):\n",
    "            if c==0:\n",
    "                Waste_Gen_sheet.write(i+1,0,Waste_Gen[s].index[i],heading_format)\n",
    "                Waste_Gen_sheet.write(i+1,c+1,Waste_Gen[s].loc[ind,col],percentage_format)\n",
    "            if c==1:\n",
    "                Waste_Gen_sheet.write(i+1,c+1,Waste_Gen[s].loc[ind,col],number_format)\n",
    "    Waste_Gen_sheet.set_column_pixels(0,len(Waste_Gen[s].columns)+1, 100)  \n",
    "    Waste_Gen_sheet.hide()"
   ]
  },
  {
   "cell_type": "markdown",
   "id": "8d97ed5a",
   "metadata": {},
   "source": [
    "<a class=\"anchor\" id=\"3412\"></a>\n",
    "#### 3.4.12 Waste Composition"
   ]
  },
  {
   "cell_type": "code",
   "execution_count": 119,
   "id": "cf424f96",
   "metadata": {},
   "outputs": [],
   "source": [
    "# Waste Composition\n",
    "for s in scenarios:\n",
    "    Waste_Comp_sheet=Waste_Comp_sheets[s]\n",
    "    for c,col in enumerate(Waste_Comp[s].columns):\n",
    "        Waste_Comp_sheet.write(0,c+1,Waste_Comp[s].columns[c],heading_format)    \n",
    "        for i,ind in enumerate(Waste_Comp[s].index):\n",
    "            if c==0:\n",
    "                Waste_Comp_sheet.write(i+1,0,Waste_Comp[s].index[i],heading_format)\n",
    "            try:\n",
    "                Waste_Comp_sheet.write(i+1,c+1,Waste_Comp[s].loc[ind,col],percentage_format)\n",
    "            except:\n",
    "                pass\n",
    "    Waste_Comp_sheet.set_column_pixels(0,len(Waste_Comp[s].columns)+1, 100)\n",
    "    Waste_Comp_sheet.hide()"
   ]
  },
  {
   "cell_type": "markdown",
   "id": "72b878a1",
   "metadata": {},
   "source": [
    "<a class=\"anchor\" id=\"3413\"></a>\n",
    "#### 3.4.13 LCI"
   ]
  },
  {
   "cell_type": "code",
   "execution_count": 120,
   "id": "6355422a",
   "metadata": {},
   "outputs": [],
   "source": [
    "# LCI\n",
    "for db in db_names:\n",
    "    for s in scenarios:\n",
    "        LCI_df_sheet=LCI_df_sheets[db+'_'+s]\n",
    "        for c,col in enumerate(LCI_dbs[db+'_'+s].columns):\n",
    "            LCI_df_sheet.write(0,c,LCI_dbs[db+'_'+s].columns[c],heading_format)\n",
    "            for i,ind in enumerate(LCI_dbs[db+'_'+s].index):\n",
    "                try:\n",
    "                    LCI_df_sheet.write(i+1,c,LCI_dbs[db+'_'+s].loc[ind,col],number_format)\n",
    "                except:\n",
    "                    pass\n",
    "        LCI_df_sheet.set_column_pixels(1,len(LCI_dbs[db+'_'+s].columns)+1, 100)\n",
    "        LCI_df_sheet.hide()"
   ]
  },
  {
   "cell_type": "markdown",
   "id": "d146e8ca",
   "metadata": {},
   "source": [
    "<a class=\"anchor\" id=\"3414\"></a>\n",
    "#### 3.4.14 Original Environmental Value (Material Value)"
   ]
  },
  {
   "cell_type": "code",
   "execution_count": 121,
   "id": "4989bb2f",
   "metadata": {},
   "outputs": [],
   "source": [
    "# Original Environmental Value - materials\n",
    "for db in db_names:\n",
    "    OEV_material_sheet=OEV_material_sheets[db]\n",
    "    for c,col in enumerate(OEV_materials[db].columns):\n",
    "        OEV_material_sheet.write(0,c+1,OEV_materials[db].columns[c],heading_format)    \n",
    "        for i,ind in enumerate(OEV_materials[db].index):\n",
    "            if c==0:\n",
    "                OEV_material_sheet.write(i+1,0,OEV_materials[db].index[i],heading_format)\n",
    "            try:\n",
    "                OEV_material_sheet.write(i+1,c+1,OEV_materials[db].loc[ind,col],scientific_format)\n",
    "            except:\n",
    "                pass\n",
    "    OEV_material_sheet.set_column_pixels(0,len(OEV_materials[db].columns)+1, 100)\n",
    "    OEV_material_sheet.hide()"
   ]
  },
  {
   "cell_type": "code",
   "execution_count": 122,
   "id": "1c746e66",
   "metadata": {},
   "outputs": [],
   "source": [
    "# Original Environmental Value - Treatment Paths\n",
    "for db in db_names:\n",
    "    for s in scenarios:\n",
    "        OEV_Pathways_sheet=OEV_Pathways_sheets[db+'_'+s]\n",
    "        for c,col in enumerate(OEV_Pathways[db+'_'+s].columns):\n",
    "            OEV_Pathways_sheet.write(0,c+1,OEV_Pathways[db+'_'+s].columns[c],heading_format)    \n",
    "            for i,ind in enumerate(OEV_Pathways[db+'_'+s].index):\n",
    "                if c==0:\n",
    "                    OEV_Pathways_sheet.write(i+1,0,OEV_Pathways[db+'_'+s].index[i],heading_format)\n",
    "                try:\n",
    "                    OEV_Pathways_sheet.write(i+1,c+1,OEV_Pathways[db+'_'+s].loc[ind,col],scientific_format)\n",
    "                except:\n",
    "                    pass\n",
    "        OEV_Pathways_sheet.set_column_pixels(0,len(OEV_Pathways[db+'_'+s].columns)+1, 100)  \n",
    "        OEV_Pathways_sheet.hide()"
   ]
  },
  {
   "cell_type": "markdown",
   "id": "12bb0d43",
   "metadata": {},
   "source": [
    "<a class=\"anchor\" id=\"3415\"></a>\n",
    "#### 3.4.15 Normalization Factors"
   ]
  },
  {
   "cell_type": "code",
   "execution_count": 123,
   "id": "72b03e7d",
   "metadata": {},
   "outputs": [],
   "source": [
    "# NormalizationFactor\n",
    "for c,col in enumerate(LCIAmethod_df.columns):\n",
    "    LCIAmethod_sheet.write(0,c+1,LCIAmethod_df.columns[c],heading_format)\n",
    "    for i,ind in enumerate(LCIAmethod_df.index):\n",
    "        if c==0:\n",
    "            LCIAmethod_sheet.write(i+1,0,LCIAmethod_df.index[i],heading_format)\n",
    "        LCIAmethod_sheet.write(i+1,c+1,LCIAmethod_df.loc[ind,col],scientific_format)\n",
    "        \n",
    "LCIAmethod_sheet.set_column_pixels(1,1, 300)\n",
    "LCIAmethod_sheet.set_column_pixels(3,3, 100)\n",
    "LCIAmethod_sheet.hide()"
   ]
  },
  {
   "cell_type": "markdown",
   "id": "c55119da",
   "metadata": {},
   "source": [
    "<a class=\"anchor\" id=\"3416\"></a>\n",
    "#### 3.4.16 Dictionary"
   ]
  },
  {
   "cell_type": "code",
   "execution_count": 124,
   "id": "54160c6c",
   "metadata": {},
   "outputs": [],
   "source": [
    "dict_df=pd.DataFrame(columns=['long','short'])"
   ]
  },
  {
   "cell_type": "code",
   "execution_count": 125,
   "id": "adcb296a",
   "metadata": {},
   "outputs": [],
   "source": [
    "i=0\n",
    "for a,act in enumerate(Indicator_db.index):\n",
    "    dict_df.loc[i,'long']=act\n",
    "    dict_df.loc[i,'short']=i+2\n",
    "    i=i+1\n",
    "    \n",
    "for d,db in enumerate(db_names):\n",
    "    dict_df.loc[i,'long']=dbs[d].name\n",
    "    dict_df.loc[i,'short']=db\n",
    "    i=i+1"
   ]
  },
  {
   "cell_type": "code",
   "execution_count": 126,
   "id": "1191bbc2",
   "metadata": {},
   "outputs": [],
   "source": [
    "# dictionary\n",
    "for c,col in enumerate(dict_df.columns):\n",
    "    dict_sheet.write(0,c,dict_df.columns[c],heading_format)\n",
    "    for i,ind in enumerate(dict_df.index):\n",
    "        dict_sheet.write(i+1,c,dict_df.loc[ind,col])\n",
    "        \n",
    "dict_sheet.set_column_pixels(1,1, 300)\n",
    "dict_sheet.set_column_pixels(3,3, 100)\n",
    "dict_sheet.hide()"
   ]
  },
  {
   "cell_type": "markdown",
   "id": "b0e06199",
   "metadata": {},
   "source": [
    "<a class=\"anchor\" id=\"3417\"></a>\n",
    "#### 3.4.17 Documentation"
   ]
  },
  {
   "cell_type": "code",
   "execution_count": 127,
   "id": "3a48931d",
   "metadata": {},
   "outputs": [],
   "source": [
    "#Get locally imported modules from current notebook\n",
    "#htPathways://stackoverflow.com/questions/40428931/package-for-listing-version-of-packages-used-in-a-jupyter-notebook\n",
    "import pkg_resources\n",
    "import types\n",
    "def get_imports():\n",
    "    for name, val in globals().items():\n",
    "        if isinstance(val, types.ModuleType):\n",
    "            # Split ensures you get root package, \n",
    "            # not just imported function\n",
    "            name = val.__name__.split(\".\")[0]\n",
    "\n",
    "        elif isinstance(val, type):\n",
    "            name = val.__module__.split(\".\")[0]\n",
    "\n",
    "        yield name\n",
    "imports = list(set(get_imports()))\n",
    "\n",
    "requirements = []\n",
    "for m in pkg_resources.working_set:\n",
    "    if m.project_name in imports and m.project_name!=\"pip\":\n",
    "        requirements.append((m.project_name, m.version))"
   ]
  },
  {
   "cell_type": "code",
   "execution_count": 128,
   "id": "07c98213",
   "metadata": {},
   "outputs": [],
   "source": [
    "activity_references=pd.read_excel('EWU_Dashboard_InputTemplate.xlsx', \n",
    "                                   sheet_name='Activities')[['Activity code', \n",
    "                                                            'Activity name',\n",
    "                                                           'Unit',\n",
    "                                                           'Location','Reference']]"
   ]
  },
  {
   "cell_type": "code",
   "execution_count": 129,
   "id": "14c19b14",
   "metadata": {},
   "outputs": [],
   "source": [
    "package_df=pd.DataFrame()\n",
    "for p,package in enumerate(requirements):\n",
    "    package_df.loc[p,'package']=package[0]\n",
    "    package_df.loc[p,'version']=package[1]"
   ]
  },
  {
   "cell_type": "code",
   "execution_count": 130,
   "id": "e6a22a8c",
   "metadata": {},
   "outputs": [],
   "source": [
    "activity_references=activity_references.replace(np.nan, 'Assumption')"
   ]
  },
  {
   "cell_type": "code",
   "execution_count": 131,
   "id": "96124ea2",
   "metadata": {},
   "outputs": [],
   "source": [
    "premise_doc=premise_scenarios.dropna(axis=1,how='all').dropna()\n",
    "premise_doc=premise_doc.reset_index(drop=True)\n",
    "premise_doc['Update']=[str([i for i in premise_update.index]) for i in range(len(premise_doc))]"
   ]
  },
  {
   "cell_type": "code",
   "execution_count": 132,
   "id": "0b828452",
   "metadata": {},
   "outputs": [],
   "source": [
    "for c,col in enumerate(activity_references.columns):\n",
    "    documentation_sheet.write(0,c,activity_references.columns[c],heading_format)\n",
    "    for i,ind in enumerate(activity_references.index):\n",
    "        documentation_sheet.write(i+1,c,activity_references.loc[ind,col],percentage_format)\n",
    "        \n",
    "first_row=len(activity_references)+5\n",
    "\n",
    "for c,col in enumerate(package_df.columns):\n",
    "    documentation_sheet.write(first_row,c,package_df.columns[c],heading_format)\n",
    "    for i,ind in enumerate(package_df.index):\n",
    "        documentation_sheet.write(i+1+first_row,c,package_df.loc[ind,col],percentage_format)\n",
    "        \n",
    "documentation_sheet.write(first_row+len(package_df)+2,0,'Database',percentage_format)\n",
    "documentation_sheet.write(first_row+len(package_df)+2,1,general_info['Database name'],percentage_format)\n",
    "\n",
    "documentation_sheet.write(first_row+len(package_df)+4,0,'Background system scenarios',heading_format)\n",
    "for c,col in enumerate(premise_doc.columns):\n",
    "    documentation_sheet.write(first_row+len(package_df)+5,c,str(premise_doc.columns[c]),heading_format)\n",
    "    for i,ind in enumerate(premise_doc.index):\n",
    "        documentation_sheet.write(i+1+first_row+len(package_df)+5,c,premise_doc.loc[ind,col],percentage_format)\n",
    "\n",
    "documentation_sheet.set_column_pixels(0,4, 300)\n",
    "documentation_sheet.set_column_pixels(2,3, 100)\n",
    "\n",
    "documentation_sheet.hide_gridlines(option=2)\n",
    "documentation_sheet.hide()"
   ]
  },
  {
   "cell_type": "markdown",
   "id": "2994d50b",
   "metadata": {},
   "source": [
    "<a class=\"anchor\" id=\"3418\"></a>\n",
    "#### 3.4.18 Figure Data"
   ]
  },
  {
   "cell_type": "code",
   "execution_count": 133,
   "id": "6ad2a6e0",
   "metadata": {},
   "outputs": [],
   "source": [
    "# Figure1\n",
    "for c,col in enumerate(figure1_df.columns):\n",
    "    figure1_sheet.write(0,c+1,col,heading_format)\n",
    "    for i,ind in enumerate(figure1_df.index):\n",
    "        if c==0:\n",
    "            figure1_sheet.write(i+1,0,figure1_df.index[i],heading_format)\n",
    "        cell=excel_cols[c+1]+str(i+2)\n",
    "        figure1_sheet.write_dynamic_array_formula(cell,formula=figure1_df.loc[ind,col], cell_format=percentage_format)\n",
    "figure1_sheet.set_tab_color('orange')\n",
    "figure1_sheet.hide()"
   ]
  },
  {
   "cell_type": "code",
   "execution_count": 134,
   "id": "55ea86a4",
   "metadata": {},
   "outputs": [],
   "source": [
    "# Figure2\n",
    "for c,col in enumerate(figure2_df.columns):\n",
    "    figure2_sheet.write(0,c+1,col,heading_format)\n",
    "    for i,ind in enumerate(figure2_df.index):\n",
    "        if c==0:\n",
    "            figure2_sheet.write(i+1,0,figure2_df.index[i],heading_format)\n",
    "        cell=excel_cols[c+1]+str(i+2)\n",
    "        figure2_sheet.write_dynamic_array_formula(cell,formula=figure2_df.loc[ind,col], cell_format=percentage_format)\n",
    "figure2_sheet.set_tab_color('orange')\n",
    "figure2_sheet.hide()"
   ]
  },
  {
   "cell_type": "code",
   "execution_count": 135,
   "id": "7af7f9e5",
   "metadata": {},
   "outputs": [],
   "source": [
    "# Figure3\n",
    "figure3_sheet.write('A1','sheet_name',heading_format)\n",
    "figure3_sheet.write('A2','db_short',heading_format)\n",
    "#figure3_sheet.write('A3','wg_sheet_name',heading_format)\n",
    "figure3_sheet.write('B1',fig3_sheet_name,heading_format)\n",
    "figure3_sheet.write('B2',fig3_db_short,heading_format)\n",
    "#figure3_sheet.write('B3',fig3_wg_sheet_name,heading_format)\n",
    "\n",
    "for c,col in enumerate(figure3_df.columns):\n",
    "    figure3_sheet.write(4,c+1,col,heading_format)\n",
    "    for i,ind in enumerate(figure3_df.index):\n",
    "        if c==0:\n",
    "            figure3_sheet.write(i+5,0,figure3_df.index[i],heading_format)\n",
    "        cell=excel_cols[c+1]+str(i+6)\n",
    "        figure3_sheet.write_dynamic_array_formula(cell,formula=figure3_df.loc[ind,col], cell_format=scientific_format)\n",
    "figure3_sheet.set_tab_color('orange')\n",
    "figure3_sheet.hide()"
   ]
  },
  {
   "cell_type": "code",
   "execution_count": 136,
   "id": "a61014b9",
   "metadata": {},
   "outputs": [],
   "source": [
    "# Figure4\n",
    "figure4_sheet.write('A1','sheet_name',heading_format)\n",
    "figure4_sheet.write('A2','db_short',heading_format)\n",
    "figure4_sheet.write('B1',fig4_sheet_name,heading_format)\n",
    "figure4_sheet.write('B2',fig4_db_short,heading_format)\n",
    "\n",
    "for c,col in enumerate(figure4_df.columns):\n",
    "    figure4_sheet.write(4,c+1,col,heading_format)\n",
    "    for i,ind in enumerate(figure4_df.index):\n",
    "        if c==0:\n",
    "            figure4_sheet.write(i+5,0,figure4_df.index[i],heading_format)\n",
    "        cell=excel_cols[c+1]+str(i+6)\n",
    "        figure4_sheet.write_dynamic_array_formula(cell,formula=figure4_df.loc[ind,col], cell_format=scientific_format)\n",
    "figure4_sheet.set_tab_color('orange')\n",
    "figure4_sheet.hide()"
   ]
  },
  {
   "cell_type": "code",
   "execution_count": 137,
   "id": "c2cada19",
   "metadata": {},
   "outputs": [],
   "source": [
    "# Figure5\n",
    "for c,col in enumerate(figure5_df.columns):\n",
    "    figure5_sheet.write(0,c+1,col,heading_format)\n",
    "    for i,ind in enumerate(figure5_df.index):\n",
    "        if c==0:\n",
    "            figure5_sheet.write(i+1,0,figure5_df.index[i],heading_format)\n",
    "        cell=excel_cols[c+1]+str(i+2)\n",
    "        figure5_sheet.write_dynamic_array_formula(cell,formula=figure5_df.loc[ind,col], cell_format=percentage_format)\n",
    "figure5_sheet.set_tab_color('orange')\n",
    "figure5_sheet.hide()"
   ]
  },
  {
   "cell_type": "code",
   "execution_count": 138,
   "id": "974faf35",
   "metadata": {},
   "outputs": [],
   "source": [
    "# Figure6\n",
    "for c,col in enumerate(figure6_df.columns):\n",
    "    figure6_sheet.write(0,c+1,col,heading_format)\n",
    "    for i,ind in enumerate(figure6_df.index):\n",
    "        if c==0:\n",
    "            figure6_sheet.write(i+1,0,figure6_df.index[i],heading_format)\n",
    "        cell=excel_cols[c+1]+str(i+2)\n",
    "        figure6_sheet.write_dynamic_array_formula(cell,formula=figure6_df.loc[ind,col], cell_format=percentage_format)\n",
    "figure6_sheet.set_tab_color('orange')\n",
    "figure6_sheet.hide()"
   ]
  },
  {
   "cell_type": "code",
   "execution_count": 139,
   "id": "73dbadb2",
   "metadata": {},
   "outputs": [],
   "source": [
    "# Figure7\n",
    "for c,col in enumerate(figure7_df.columns):\n",
    "    figure7_sheet.write(0,c+1,col,heading_format)\n",
    "    for i,ind in enumerate(figure7_df.index):\n",
    "        if c==0:\n",
    "            figure7_sheet.write(i+1,0,figure7_df.index[i],heading_format)\n",
    "        cell=excel_cols[c+1]+str(i+2)\n",
    "        figure7_sheet.write_dynamic_array_formula(cell,formula=figure7_df.loc[ind,col], cell_format=scientific_format)\n",
    "figure7_sheet.set_tab_color('orange')\n",
    "figure7_sheet.hide()"
   ]
  },
  {
   "cell_type": "markdown",
   "id": "edad887a",
   "metadata": {},
   "source": [
    "<a class=\"anchor\" id=\"3419\"></a>\n",
    "#### 3.4.19 Dashboard"
   ]
  },
  {
   "cell_type": "code",
   "execution_count": 140,
   "id": "46d09aae",
   "metadata": {},
   "outputs": [],
   "source": [
    "waste=general_info['Type of waste']\n",
    "geo=general_info['Geographical scope']\n",
    "time=general_info['Temporal scope']\n",
    "title=f'Treatment of {waste}, {geo}, {time}'"
   ]
  },
  {
   "cell_type": "markdown",
   "id": "76bbfd41",
   "metadata": {},
   "source": [
    "**Text**"
   ]
  },
  {
   "cell_type": "code",
   "execution_count": 141,
   "id": "c57e6cd7",
   "metadata": {},
   "outputs": [],
   "source": [
    "Dashboard_sheet.set_column(0, 200, 100, background_format)\n",
    "Dashboard_sheet.set_column(0, 0, 50, background_format)\n",
    "Dashboard_sheet.set_column(1, 1, 60, background_format)\n",
    "\n",
    "\n",
    "Dashboard_sheet.write('A1',title,title_format)\n",
    "Dashboard_sheet.write('A9','Environmental Waste Utilization', title_format)\n",
    "Dashboard_sheet.write('C9','Contribution Analysis', title_format)\n",
    "Dashboard_sheet.write('P9','Scenario Analysis', title_format)\n",
    "\n",
    "Dashboard_sheet.write('A3','Pathway/WMS',text_format2)\n",
    "Dashboard_sheet.write('B3',act_names[0],text_format)\n",
    "Dashboard_sheet.data_validation('B3', {'validate': 'list',\n",
    "                                 'source': act_names})\n",
    "\n",
    "Dashboard_sheet.write('A4','Database',text_format2)\n",
    "Dashboard_sheet.write('B4',[db.name for db in dbs][0],text_format)\n",
    "Dashboard_sheet.data_validation('B4', {'validate': 'list',\n",
    "                                 'source': [db.name for db in dbs]})\n",
    "\n",
    "Dashboard_sheet.write('A5','Scenario',text_format2)\n",
    "Dashboard_sheet.write('B5',scenarios[0],text_format)\n",
    "Dashboard_sheet.data_validation('B5', {'validate': 'list',\n",
    "                                 'source': scenarios})\n",
    "\n",
    "Dashboard_sheet.write('A6','Weighting Method',text_format2)\n",
    "Dashboard_sheet.write('B6',Weighting.columns[0],text_format)\n",
    "Dashboard_sheet.data_validation('B6', {'validate': 'list',\n",
    "                                 'source': '=Weighting!B1:'+str(excel_cols[len(Weighting.columns)])+'1'})\n",
    "\n",
    "Dashboard_sheet.set_zoom(30)\n",
    "Dashboard_sheet.hide_gridlines(option=2) #hide gridlines on screen and printed"
   ]
  },
  {
   "cell_type": "markdown",
   "id": "cdc85ba8",
   "metadata": {},
   "source": [
    "**Figure1**"
   ]
  },
  {
   "cell_type": "code",
   "execution_count": 142,
   "id": "add2e536",
   "metadata": {},
   "outputs": [],
   "source": [
    "chart = workbook.add_chart({'type': 'radar', 'subtype':'filled'})\n",
    "\n",
    "# Get the number of rows and column index\n",
    "max_col = len(LCIA_method_names)\n",
    "col_x = figure1_df.columns.get_loc(LCIA_method_names[0]) + 1\n",
    "col_y = figure1_df.columns.get_loc(LCIA_method_names[-1]) + 1\n",
    "\n",
    "max_row = len(act_names)\n",
    "\n",
    "for i,ind in enumerate(figure5_df.index[:max_row]):\n",
    "    row_x = figure1_df.index.get_loc(ind) + 1\n",
    "    chart.add_series({\n",
    "        'name':       ['EWU_Dashboard', 2, 1, 2, 1],\n",
    "        'categories': [figure1_sheet_name, 0, col_x, 0, max_col], #[sheetname, first_row, first_col, last_row, last_col]\n",
    "        'values':     [figure1_sheet_name, row_x, col_x, row_x, col_y],\n",
    "        'line':       {'color': color_dict[ind]},\n",
    "        'fill':       {'color': color_dict[ind], 'transparency': 50},\n",
    "        #'marker':     {'type': 'circle', 'size': 4},\n",
    "        #'trendline': {'type': 'linear'},\n",
    "    })\n",
    "    # Set name on axis\n",
    "#     chart.set_x_axis({'name': 'Concentration'})\n",
    "    chart.set_y_axis({'name': 'Measured','major_unit': 1}) #'min': -1, 'max': 2,\n",
    "                      #'major_gridlines': {'visible': False}},\n",
    "    chart.set_size({'width': 700, 'height': 370})\n",
    "    chart.set_legend({'none': True})\n",
    "\n",
    "    Dashboard_sheet.insert_chart('A10', chart)\n",
    "    # Close and save the Excel file"
   ]
  },
  {
   "cell_type": "markdown",
   "id": "35eadaf2",
   "metadata": {},
   "source": [
    "**Figure2**"
   ]
  },
  {
   "cell_type": "code",
   "execution_count": 143,
   "id": "8ad809a2",
   "metadata": {},
   "outputs": [],
   "source": [
    "# Figure 2: Results - figure2_df Aggregated Scores\n",
    "# Add charts\n",
    "\n",
    "# Create a chart object.\n",
    "act_colors=[color_dict[act] for act in act_names]\n",
    "\n",
    "n=0\n",
    "for i,ind in enumerate(figure2_df.index[:1]):\n",
    "    chart = workbook.add_chart({'type': 'column'})\n",
    "    # Get the number of rows and column index\n",
    "    max_col = len(LCIA_method_names)\n",
    "    col_x = figure2_df.columns.get_loc(act_names[0]) + 1\n",
    "    col_y = figure2_df.columns.get_loc(act_names[-1]) + 1\n",
    "    row_x = figure2_df.index.get_loc(ind) + 1\n",
    "    # Create the bar chart\n",
    "    chart.add_series({\n",
    "        'name':       ['EWU_Dashboard', 5, 1, 5, 1],\n",
    "        'categories': [figure2_sheet_name, 0, col_x, 0, max_col], #[sheetname, first_row, first_col, last_row, last_col]\n",
    "        'values':     [figure2_sheet_name, row_x, col_x, row_x, col_y],\n",
    "        'points':     [{'fill': {'color': act_color}} for act_color in act_colors],\n",
    "        #'fill':       {'color': act_colors},\n",
    "        #'marker':     {'type': 'circle', 'size': 4},\n",
    "        #'trendline': {'type': 'linear'},\n",
    "    })\n",
    "    # Set name on axis\n",
    "#     chart.set_x_axis({'name': 'Concentration'})\n",
    "    chart.set_y_axis({'name': 'Indicator Score',})#'min': -1, 'max': 2,'major_unit': 1})\n",
    "                      #'major_gridlines': {'visible': False}},\n",
    "    chart.set_size({'width': 700, 'height': 370})\n",
    "    chart.set_legend({'none': True})\n",
    "\n",
    "    Dashboard_sheet.insert_chart('A30', chart)\n",
    "    \n",
    "    # Close and save the Excel file"
   ]
  },
  {
   "cell_type": "markdown",
   "id": "6bbf583f",
   "metadata": {},
   "source": [
    "**Figure3**"
   ]
  },
  {
   "cell_type": "code",
   "execution_count": 144,
   "id": "8f9e9e74",
   "metadata": {},
   "outputs": [
    {
     "data": {
      "text/plain": [
       "0"
      ]
     },
     "execution_count": 144,
     "metadata": {},
     "output_type": "execute_result"
    }
   ],
   "source": [
    "# Results - Contribution Analysis (Pathways)\n",
    "# Add charts\n",
    "\n",
    "# Create a chart object.\n",
    "chart = workbook.add_chart({'type': 'column', 'subtype': 'stacked'})\n",
    "max_col = len(LCIA_method_names)\n",
    "col_x = figure3_df.columns.get_loc(LCIA_method_names[0]) + 1\n",
    "col_y = figure3_df.columns.get_loc(LCIA_method_names[-1]) + 1\n",
    "first_row=4\n",
    "max_row = len(figure3_df.index)+4\n",
    "\n",
    "for i,ind in enumerate(figure3_df.index[1:]):\n",
    "    # Get the number of rows and column index\n",
    "\n",
    "    # Create the scatter plot, use a trendline to fit it\n",
    "    chart.add_series({\n",
    "        'name':       ind,\n",
    "        'categories': [figure3_sheet_name, first_row, col_x, first_row, col_y], #[sheetname, first_row, first_col, last_row, last_col]\n",
    "        'values':     [figure3_sheet_name, i+first_row+2, col_x, i+first_row+2, col_y],\n",
    "        'fill':       {'color': color_dict[ind]},\n",
    "    })\n",
    "    # Set name on axis\n",
    "chart.set_x_axis({'label_position':'low'})\n",
    "chart.set_y_axis({'name': 'Environmental Impact in Person Equivalents'})\n",
    "                  #'major_gridlines': {'visible': False}},\n",
    "chart.set_size({'width': 7500, 'height': 370})\n",
    "#chart.set_legend({'none': True})\n",
    "chart.set_title({'name':'Contribution Analysis - Treatment Paths'})\n",
    "\n",
    "line_chart = workbook.add_chart({'type': 'line'})\n",
    "line_chart.add_series({     \n",
    "        'name':       [figure3_sheet_name, first_row+1, 0],\n",
    "        'categories': [figure3_sheet_name, first_row, col_x, first_row, col_y], #[sheetname, first_row, first_col, last_row, last_col]\n",
    "        'values':     [figure3_sheet_name, first_row+1, col_x, first_row+1, col_y],\n",
    "        'line':       {'color': 'black','transparency':100},\n",
    "        'marker':     {'border': {'color':'black'}, 'fill': {'color':'black'},'size':5,'type': 'diamond'}\n",
    "        })\n",
    "\n",
    "chart.combine(line_chart)\n",
    "\n",
    "Dashboard_sheet.insert_chart('C10', chart)"
   ]
  },
  {
   "cell_type": "markdown",
   "id": "a9842ecf",
   "metadata": {},
   "source": [
    "**Figure4**"
   ]
  },
  {
   "cell_type": "code",
   "execution_count": 145,
   "id": "0750c32c",
   "metadata": {},
   "outputs": [
    {
     "data": {
      "text/plain": [
       "0"
      ]
     },
     "execution_count": 145,
     "metadata": {},
     "output_type": "execute_result"
    }
   ],
   "source": [
    "# Results - Contribution Analysis (Pathways)\n",
    "# Add charts\n",
    "\n",
    "# Create a chart object.\n",
    "chart = workbook.add_chart({'type': 'column', 'subtype': 'stacked'})\n",
    "max_col = len(LCIA_method_names)\n",
    "col_x = figure4_df.columns.get_loc(LCIA_method_names[0]) + 1\n",
    "col_y = figure4_df.columns.get_loc(LCIA_method_names[-1]) + 1\n",
    "first_row=4\n",
    "max_row = len(figure4_df.index)+4\n",
    "\n",
    "for i,ind in enumerate(figure4_df.index):\n",
    "    # Get the number of rows and column index\n",
    "\n",
    "    # Create the scatter plot, use a trendline to fit it\n",
    "    chart.add_series({\n",
    "        'name':       ind,\n",
    "        'categories': [figure4_sheet_name, first_row, col_x, first_row, col_y], #[sheetname, first_row, first_col, last_row, last_col]\n",
    "        'values':     [figure4_sheet_name, i+first_row+1, col_x, i+first_row+1, col_y],\n",
    "        'fill':       {'color': color_dict[ind]},\n",
    "    })\n",
    "    # Set name on axis\n",
    "chart.set_x_axis({'label_position':'low'})\n",
    "chart.set_y_axis({'name': 'Environmental Impact in Person Equivalents'})\n",
    "                  #'major_gridlines': {'visible': False}},\n",
    "chart.set_size({'width': 7500, 'height': 370})\n",
    "#chart.set_legend({'none': True})\n",
    "chart.set_title({'name':'Contribution Analysis - Activities'})\n",
    "\n",
    "line_chart = workbook.add_chart({'type': 'line'})\n",
    "line_chart.add_series({     \n",
    "        'name':       [figure3_sheet_name, first_row+1, 0],\n",
    "        'categories': [figure3_sheet_name, first_row, col_x, first_row, col_y], #[sheetname, first_row, first_col, last_row, last_col]\n",
    "        'values':     [figure3_sheet_name, first_row+1, col_x, first_row+1, col_y],\n",
    "        'line':       {'color': 'black','transparency':100},\n",
    "        'marker':     {'border': {'color':'black'}, 'fill': {'color':'black'},'size':5,'type': 'diamond'}\n",
    "        })\n",
    "\n",
    "chart.combine(line_chart)\n",
    "\n",
    "Dashboard_sheet.insert_chart('C30', chart)"
   ]
  },
  {
   "cell_type": "markdown",
   "id": "6e9f0810",
   "metadata": {},
   "source": [
    "**Figure5**"
   ]
  },
  {
   "cell_type": "code",
   "execution_count": 146,
   "id": "cbe01b21",
   "metadata": {},
   "outputs": [
    {
     "data": {
      "text/plain": [
       "0"
      ]
     },
     "execution_count": 146,
     "metadata": {},
     "output_type": "execute_result"
    }
   ],
   "source": [
    "# Figure 5: Results - figure5_df Aggregated Scores\n",
    "# Add charts\n",
    "\n",
    "# Create a chart object.\n",
    "act_colors=[color_dict[act] for act in act_names]\n",
    "\n",
    "n=0\n",
    "# Create a chart object.\n",
    "chart = workbook.add_chart({'type': 'column', 'subtype': 'stacked'})\n",
    "col_x = 1\n",
    "col_y = len(figure5_df.columns)\n",
    "first_row=0\n",
    "max_row = len(act_names)\n",
    "\n",
    "for i,ind in enumerate(figure5_df.index[:max_row]):\n",
    "    # Get the number of rows and column index\n",
    "\n",
    "    # Create the scatter plot, use a trendline to fit it\n",
    "    chart.add_series({\n",
    "        'name':       ind,\n",
    "        'categories': [figure5_sheet_name, first_row, col_x, first_row, col_y], #[sheetname, first_row, first_col, last_row, last_col]\n",
    "        'values':     [figure5_sheet_name, i+first_row+1, col_x, i+first_row+1, col_y],\n",
    "        'fill':       {'color': color_dict[ind]},\n",
    "    })\n",
    "    # Set name on axis\n",
    "#     chart.set_x_axis({'name': 'Concentration'})\n",
    "chart.set_y_axis({'name': 'Indicator Score',})#'min': -1, 'max': 2,'major_unit': 1})\n",
    "                  #'major_gridlines': {'visible': False}},\n",
    "chart.set_size({'width': 7500, 'height': 370})\n",
    "chart.set_legend({'none': True})\n",
    "chart.set_title({'name': 'EWU_Dashboard!B3'})\n",
    "\n",
    "Dashboard_sheet.insert_chart('P10', chart)\n",
    "    \n",
    "    # Close and save the Excel file"
   ]
  },
  {
   "cell_type": "markdown",
   "id": "3a6f87a9",
   "metadata": {},
   "source": [
    "**Figure6**"
   ]
  },
  {
   "cell_type": "code",
   "execution_count": 147,
   "id": "3225c64e",
   "metadata": {},
   "outputs": [
    {
     "data": {
      "text/plain": [
       "0"
      ]
     },
     "execution_count": 147,
     "metadata": {},
     "output_type": "execute_result"
    }
   ],
   "source": [
    "# Figure 6: Results - figure6_df Aggregated Scores\n",
    "# Add charts\n",
    "\n",
    "# Create a chart object.\n",
    "act_colors=[color_dict[act] for act in act_names]\n",
    "\n",
    "n=0\n",
    "# Create a chart object.\n",
    "chart = workbook.add_chart({'type': 'column', 'subtype': 'stacked'})\n",
    "col_x = 1\n",
    "col_y = len(figure6_df.columns)\n",
    "first_row=0\n",
    "max_row = len(act_names)\n",
    "\n",
    "for i,ind in enumerate(figure6_df.index[:max_row]):\n",
    "    # Get the number of rows and column index\n",
    "\n",
    "    # Create the scatter plot, use a trendline to fit it\n",
    "    chart.add_series({\n",
    "        'name':       ind,\n",
    "        'categories': [figure6_sheet_name, first_row, col_x, first_row, col_y], #[sheetname, first_row, first_col, last_row, last_col]\n",
    "        'values':     [figure6_sheet_name, i+first_row+1, col_x, i+first_row+1, col_y],\n",
    "        'fill':       {'color': color_dict[ind]},\n",
    "    })\n",
    "    # Set name on axis\n",
    "#     chart.set_x_axis({'name': 'Concentration'})\n",
    "chart.set_y_axis({'name': 'Indicator Score',})#'min': -1, 'max': 2,'major_unit': 1})\n",
    "                  #'major_gridlines': {'visible': False}},\n",
    "chart.set_size({'width': 7500, 'height': 370})\n",
    "chart.set_legend({'none': True})\n",
    "chart.set_title({'name': 'EWU_Dashboard!B3'})\n",
    "\n",
    "Dashboard_sheet.insert_chart('P30', chart)\n",
    "    \n",
    "    # Close and save the Excel file"
   ]
  },
  {
   "cell_type": "markdown",
   "id": "28e6f312",
   "metadata": {},
   "source": [
    "**Figure7**"
   ]
  },
  {
   "cell_type": "code",
   "execution_count": 148,
   "id": "cd9a7488",
   "metadata": {},
   "outputs": [
    {
     "data": {
      "text/plain": [
       "0"
      ]
     },
     "execution_count": 148,
     "metadata": {},
     "output_type": "execute_result"
    }
   ],
   "source": [
    "# Figure 7: Results - figure7_df Aggregated Scores\n",
    "# Add charts\n",
    "\n",
    "# Create a chart object.\n",
    "act_colors=[color_dict[act] for act in act_names]\n",
    "\n",
    "n=0\n",
    "# Create a chart object.\n",
    "chart = workbook.add_chart({'type': 'column'})\n",
    "col_x = 1\n",
    "col_y = len(figure7_df.columns)\n",
    "first_row=0\n",
    "max_row = len(act_names)\n",
    "\n",
    "for i,ind in enumerate(figure7_df.index[:max_row]):\n",
    "    # Get the number of rows and column index\n",
    "\n",
    "    # Create the scatter plot, use a trendline to fit it\n",
    "    chart.add_series({\n",
    "        'name':       ind,\n",
    "        'categories': [figure7_sheet_name, first_row, col_x, first_row, col_y], #[sheetname, first_row, first_col, last_row, last_col]\n",
    "        'values':     [figure7_sheet_name, i+first_row+1, col_x, i+first_row+1, col_y],\n",
    "        'fill':       {'color': color_dict[ind]},\n",
    "    })\n",
    "chart.set_x_axis({'label_position':'low'})\n",
    "chart.set_y_axis({'name': 'Environmental Impact in Person Equivalents',})#'min': -1, 'max': 2,'major_unit': 1})\n",
    "                  #'major_gridlines': {'visible': False}},\n",
    "chart.set_size({'width': 700, 'height': 370})\n",
    "chart.set_legend({'none': True})\n",
    "chart.set_title({'name': 'EWU-Components'})\n",
    "\n",
    "Dashboard_sheet.insert_chart('A50', chart)\n",
    "    \n",
    "    # Close and save the Excel file"
   ]
  },
  {
   "cell_type": "markdown",
   "id": "8a6ff932",
   "metadata": {},
   "source": [
    "<a class=\"anchor\" id=\"35\"></a>\n",
    "### 3.5 Save & Close "
   ]
  },
  {
   "cell_type": "code",
   "execution_count": 149,
   "id": "0797b014",
   "metadata": {
    "scrolled": false
   },
   "outputs": [],
   "source": [
    "writer.save()\n",
    "writer.close()"
   ]
  },
  {
   "cell_type": "markdown",
   "id": "f17bce82",
   "metadata": {},
   "source": [
    "<a class=\"anchor\" id=\"36\"></a>\n",
    "### 3.6 Insert User Guide and Glossar"
   ]
  },
  {
   "cell_type": "code",
   "execution_count": 150,
   "id": "898f38fc",
   "metadata": {},
   "outputs": [],
   "source": [
    "from win32com.client import Dispatch\n",
    "\n",
    "path1 = os.path.abspath('EWU_Dashboard_InputTemplate.xlsx')\n",
    "path2 = os.path.abspath(EWU_dashboard)\n",
    "\n",
    "xl = Dispatch(\"Excel.Application\")\n",
    "xl.Visible = True\n",
    "\n",
    "wb1 = xl.Workbooks.Open(Filename=path1)\n",
    "wb2 = xl.Workbooks.Open(Filename=path2)\n",
    "\n",
    "ws1 = wb1.Worksheets(\"Glossary\")\n",
    "ws2 = wb1.Worksheets(\"UserGuide_EWU-Dashboard\")\n",
    "ws1.Copy(Before=wb2.Worksheets(1))\n",
    "ws2.Copy(Before=wb2.Worksheets(1))\n",
    "\n",
    "wb2.Close(SaveChanges=True)\n",
    "#xl.Quit()"
   ]
  }
 ],
 "metadata": {
  "kernelspec": {
   "display_name": "Python 3 (ipykernel)",
   "language": "python",
   "name": "python3"
  },
  "language_info": {
   "codemirror_mode": {
    "name": "ipython",
    "version": 3
   },
   "file_extension": ".py",
   "mimetype": "text/x-python",
   "name": "python",
   "nbconvert_exporter": "python",
   "pygments_lexer": "ipython3",
   "version": "3.9.12"
  },
  "toc": {
   "base_numbering": 1,
   "nav_menu": {},
   "number_sections": false,
   "sideBar": true,
   "skip_h1_title": true,
   "title_cell": "Table of Contents",
   "title_sidebar": "Contents",
   "toc_cell": false,
   "toc_position": {
    "height": "calc(100% - 180px)",
    "left": "10px",
    "top": "150px",
    "width": "384px"
   },
   "toc_section_display": true,
   "toc_window_display": true
  }
 },
 "nbformat": 4,
 "nbformat_minor": 5
}
