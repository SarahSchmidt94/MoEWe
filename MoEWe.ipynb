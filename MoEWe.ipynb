{
 "cells": [
  {
   "cell_type": "markdown",
   "id": "aa720897",
   "metadata": {},
   "source": [
    "# Monitoring Environmental Waste Utilization Scores\n",
    "# A guide for generating EWU-Dashboards\n",
    "**Sarah Schmidt & David Laner**  \n",
    "*January 2023*"
   ]
  },
  {
   "cell_type": "markdown",
   "id": "2c01f25a",
   "metadata": {},
   "source": [
    "## 1. Configuration"
   ]
  },
  {
   "cell_type": "markdown",
   "id": "b70e434c",
   "metadata": {},
   "source": [
    "### 1.1 Import packages"
   ]
  },
  {
   "cell_type": "code",
   "execution_count": 3,
   "id": "4304d1f6",
   "metadata": {},
   "outputs": [],
   "source": [
    "import pandas as pd\n",
    "import numpy as np\n",
    "import brightway2 as bw\n",
    "import premise\n",
    "from mycolorpy import colorlist as mcp\n",
    "import string\n",
    "\n",
    "import warnings\n",
    "warnings.simplefilter(action='ignore', category=UserWarning)"
   ]
  },
  {
   "cell_type": "code",
   "execution_count": 4,
   "id": "b9d331b1",
   "metadata": {},
   "outputs": [],
   "source": [
    "# create a list with MS Excel column indices (A, B, ..., Z, AA, AB, ...)\n",
    "# will be used for preparing calculations in MS Excel\n",
    "alphabet = list(string.ascii_uppercase)\n",
    "excel_cols=[]\n",
    "\n",
    "for i in range(100):\n",
    "    n=0\n",
    "    j=i\n",
    "    while j-len(alphabet)>=0:\n",
    "        j=j-len(alphabet)\n",
    "        n=n+1\n",
    "    if n>0:\n",
    "        col=alphabet[n-1]+alphabet[j]\n",
    "    else:\n",
    "        col=alphabet[j]\n",
    "    excel_cols.append(col)"
   ]
  },
  {
   "cell_type": "code",
   "execution_count": 8,
   "id": "cf4349af",
   "metadata": {},
   "outputs": [],
   "source": [
    "conversion_factors={'kg':1,\n",
    "                    't':1e3,\n",
    "                    'kt':1e6,\n",
    "                    'g':1e-3,\n",
    "                    'Mg':1e3,\n",
    "                    'Gg':1e6}"
   ]
  },
  {
   "cell_type": "markdown",
   "id": "f9c0d104",
   "metadata": {},
   "source": [
    "### 1.2 Gather case study-specific information"
   ]
  },
  {
   "cell_type": "code",
   "execution_count": 19,
   "id": "96cf1ef3",
   "metadata": {},
   "outputs": [],
   "source": [
    "# read various case study specific information from input data file (ExcelTool_GeneratorInput_Template.xlsx)\n",
    "general_info=pd.read_excel('ExcelTool_GeneratorInput_Template.xlsx', sheet_name='GeneralInformation', index_col=0)\n",
    "general_info=general_info[general_info.columns[0]].to_dict()\n",
    "\n",
    "Pathway_codes=pd.read_excel('ExcelTool_GeneratorInput_Template.xlsx', sheet_name='Activities')\n",
    "Pathway_codes=Pathway_codes[Pathway_codes['Pathway tag'].notnull()]['Activity code'].to_list()\n",
    "Pathway_names=pd.read_excel('ExcelTool_GeneratorInput_Template.xlsx', sheet_name='Activities')\n",
    "Pathway_names=Pathway_names[Pathway_names['Pathway tag'].notnull()]['Pathway tag'].to_list()\n",
    "\n",
    "WasteGen_code=pd.read_excel('ExcelTool_GeneratorInput_Template.xlsx', sheet_name='Activities')\n",
    "WasteGen_code=WasteGen_code[WasteGen_code['Waste generation'].notnull()]['Activity code'].iloc[0]\n",
    "\n",
    "act_codes=[WasteGen_code,*Pathway_codes]\n",
    "act_names=[general_info['Acronym'],*Pathway_names]\n",
    "\n",
    "# materials for calculation of the environmental impact of materials\n",
    "material_names=pd.read_excel('ExcelTool_GeneratorInput_Template.xlsx', sheet_name='EnvironmentalValue')\n",
    "material_names=material_names['Material Name'].to_list()\n",
    "material_codes=pd.read_excel('ExcelTool_GeneratorInput_Template.xlsx', sheet_name='EnvironmentalValue')\n",
    "material_codes=material_codes['Material Code'].to_list()\n",
    "\n",
    "waste_utilization_codes=pd.read_excel('ExcelTool_GeneratorInput_Template.xlsx', sheet_name='Activities')\n",
    "waste_utilization_codes=waste_utilization_codes[pd.isnull(waste_utilization_codes['Waste utilization'])==False]['Activity code'].to_list()\n",
    "\n",
    "# activity tags for contribution analysis\n",
    "activity_tags=pd.read_excel('ExcelTool_GeneratorInput_Template.xlsx', sheet_name='Activities')\n",
    "activity_tags=activity_tags['Activity tag'].to_list()\n",
    "activity_tags=[tag for tag in activity_tags if pd.isnull(tag)==False]\n",
    "activity_tags=list(set(activity_tags))\n",
    "activity_tags.append('Others')\n",
    "\n",
    "# waste quantity in kg\n",
    "WQ_kg=general_info['Waste quantity']*conversion_factors[general_info['Unit']]"
   ]
  },
  {
   "cell_type": "markdown",
   "id": "185fa625",
   "metadata": {},
   "source": [
    "### 1.3 Setup and import of databases"
   ]
  },
  {
   "cell_type": "markdown",
   "id": "1dedf69a",
   "metadata": {},
   "source": [
    "#### 1.3.1 Setup"
   ]
  },
  {
   "cell_type": "code",
   "execution_count": 11,
   "id": "b643f775",
   "metadata": {},
   "outputs": [],
   "source": [
    "# create a new project or open an existing project\n",
    "bw.projects.set_current(general_info['Project name'])"
   ]
  },
  {
   "cell_type": "code",
   "execution_count": 12,
   "id": "e2caa2f9",
   "metadata": {},
   "outputs": [
    {
     "name": "stdout",
     "output_type": "stream",
     "text": [
      "Biosphere database already present!!! No setup is needed\n"
     ]
    }
   ],
   "source": [
    "# creates the database \"biosphere 3\"\n",
    "bw.bw2setup() \n",
    "biosphere = bw.Database(\"biosphere3\")"
   ]
  },
  {
   "cell_type": "markdown",
   "id": "3801d8bc",
   "metadata": {},
   "source": [
    "#### 1.3.2 Ecoinvent"
   ]
  },
  {
   "cell_type": "code",
   "execution_count": 13,
   "id": "c9d5bfce",
   "metadata": {},
   "outputs": [
    {
     "name": "stdout",
     "output_type": "stream",
     "text": [
      "Database has already been imported.\n"
     ]
    }
   ],
   "source": [
    "# import of the ecoinvent database\n",
    "db_default_name=general_info['Database name']+'_default'\n",
    "if db_default_name in bw.databases:\n",
    "    print(\"Database has already been imported.\")\n",
    "    eidb_default = bw.Database(db_default_name)\n",
    "else:\n",
    "    # mind that the ecoinvent file must be unzipped; then: path to the datasets subfolder\n",
    "    fpeidbcut = r\"{}\".format(general_info['Database file path'])\n",
    "    # the \"r\" makes sure that the path is read as a string - especially useful when you have spaces in your string\n",
    "    eidbcut = bw.SingleOuPathwayutEcospold2Importer(fpeidbcut, general_info['Database name']+'_default')\n",
    "    eidbcut\n",
    "    eidbcut.apply_strategies()\n",
    "    eidbcut.statistics()\n",
    "    eidb_default=eidbcut.write_database()"
   ]
  },
  {
   "cell_type": "code",
   "execution_count": 14,
   "id": "5f7f5157",
   "metadata": {},
   "outputs": [
    {
     "name": "stdout",
     "output_type": "stream",
     "text": [
      "Database has already been imported.\n"
     ]
    }
   ],
   "source": [
    "# copy of the unmodified version of the ecoinvent database\n",
    "if general_info['Database name'] in bw.databases:\n",
    "    print(\"Database has already been imported.\")\n",
    "else:\n",
    "    eidb_default.copy(general_info['Database name'])\n",
    "eidb = bw.Database(general_info['Database name'])"
   ]
  },
  {
   "cell_type": "markdown",
   "id": "78833e1d",
   "metadata": {},
   "source": [
    "#### 1.3.3 Prospective Databases (premise)"
   ]
  },
  {
   "cell_type": "code",
   "execution_count": 15,
   "id": "61ab0ff3",
   "metadata": {},
   "outputs": [],
   "source": [
    "# gather information which prospective scenarios shall be created\n",
    "premise_scenarios=pd.read_excel('ExcelTool_GeneratorInput_Template.xlsx', sheet_name='ProspectiveScenarios', \n",
    "                                skiprows=3, nrows=8)\n",
    "premise_update=pd.read_excel('ExcelTool_GeneratorInput_Template.xlsx', sheet_name='ProspectiveScenarios', \n",
    "                                index_col=0, skiprows=15, nrows=9, usecols='A:B')\n",
    "premise_update=premise_update[premise_update['Update']=='yes']"
   ]
  },
  {
   "cell_type": "code",
   "execution_count": 17,
   "id": "0078fc58",
   "metadata": {},
   "outputs": [],
   "source": [
    "# read encryption key \n",
    "# (to be requested from the premise library maintainers if you want ot use default scenarios included in `premise`)\n",
    "encryption_key=pd.read_excel('ExcelTool_GeneratorInput_Template.xlsx', sheet_name='ProspectiveScenarios', \n",
    "                         usecols = \"B\", header = 0, nrows=0).columns[0]"
   ]
  },
  {
   "cell_type": "code",
   "execution_count": 21,
   "id": "27fad3fa",
   "metadata": {},
   "outputs": [],
   "source": [
    "if general_info['Generate background system scenarios']=='yes':\n",
    "    if general_info ['Type of background system scenarios']=='premise':\n",
    "        \n",
    "        premise_scenarios_dictlist=[]\n",
    "        premise_scenario_names_list=[]\n",
    "\n",
    "        for i in premise_scenarios.index:\n",
    "            for c in premise_scenarios.columns[3:]:\n",
    "                if premise_scenarios.loc[i,c]=='x':\n",
    "                    scenario_dict={\"model\":premise_scenarios.loc[i,'IAM'], \n",
    "                                   \"pathway\":premise_scenarios.loc[i,'SSP']+'-'+premise_scenarios.loc[i,'RCP'], \n",
    "                                   \"year\":c}\n",
    "                    scenario_name=premise_scenarios.loc[i,'IAM']+str(c)+'_'+premise_scenarios.loc[i,'SSP']+'-'+premise_scenarios.loc[i,'RCP']\n",
    "                    premise_scenarios_dictlist.append(scenario_dict)\n",
    "                    premise_scenario_names_list.append(scenario_name)\n",
    "       \n",
    "                    if scenario_name not in bw.databases:\n",
    "                        ndb = premise.NewDatabase(\n",
    "                            scenarios=[scenario_name],\n",
    "                            source_db=eidb_default.name, # name of the database in the BW2 project. Must be a string.\n",
    "                            source_version=general_info['Database version'], # version of ecoinvent. Can be \"3.5\", \"3.6\", \"3.7\" or \"3.8\". Must be a string.\n",
    "                            key=encryption_key,# <-- decryption key\n",
    "                            quiet=True\n",
    "                            # to be requested from the library maintainers if you want ot use default scenarios included in `premise`\n",
    "                            )\n",
    "\n",
    "\n",
    "                        if len(premise_update)==8:\n",
    "                            ndb.update_all()\n",
    "                        else:\n",
    "                            if 'Electricity' in premise_update.index:\n",
    "                                ndb.update_electricity()\n",
    "                            if 'Cement' in premise_update.index:\n",
    "                                ndb.update_cement()\n",
    "                            if 'Steel' in premise_update.index:\n",
    "                                ndb.update_steel()\n",
    "                            if 'Fuels' in premise_update.index:\n",
    "                                ndb.update_fuels()\n",
    "                            if 'Cars' in premise_update.index:\n",
    "                                ndb.update_cars()\n",
    "                            if 'Trucks' in premise_update.index:\n",
    "                                ndb.update_trucks()\n",
    "                            if 'Two wheelers' in premise_update.index:\n",
    "                                ndb.update_two_wheelers()\n",
    "                            if 'Buses' in premise_update.index:\n",
    "                                ndb.update_buses()\n",
    "\n",
    "                        ndb.write_db_to_brightway(name=[scenario_name])    "
   ]
  },
  {
   "cell_type": "markdown",
   "id": "79cc24c0",
   "metadata": {},
   "source": [
    "#### 1.3.4 Manual Background Scenarios"
   ]
  },
  {
   "cell_type": "code",
   "execution_count": 22,
   "id": "4c46d390",
   "metadata": {},
   "outputs": [
    {
     "data": {
      "text/html": [
       "<div>\n",
       "<style scoped>\n",
       "    .dataframe tbody tr th:only-of-type {\n",
       "        vertical-align: middle;\n",
       "    }\n",
       "\n",
       "    .dataframe tbody tr th {\n",
       "        vertical-align: top;\n",
       "    }\n",
       "\n",
       "    .dataframe thead th {\n",
       "        text-align: right;\n",
       "    }\n",
       "</style>\n",
       "<table border=\"1\" class=\"dataframe\">\n",
       "  <thead>\n",
       "    <tr style=\"text-align: right;\">\n",
       "      <th></th>\n",
       "      <th>background scenario</th>\n",
       "      <th>database</th>\n",
       "      <th>input</th>\n",
       "      <th>input code</th>\n",
       "      <th>input unit</th>\n",
       "      <th>input location / biosphere category</th>\n",
       "      <th>activity</th>\n",
       "      <th>activity code</th>\n",
       "      <th>activity location</th>\n",
       "      <th>amount</th>\n",
       "      <th>type</th>\n",
       "    </tr>\n",
       "  </thead>\n",
       "  <tbody>\n",
       "  </tbody>\n",
       "</table>\n",
       "</div>"
      ],
      "text/plain": [
       "Empty DataFrame\n",
       "Columns: [background scenario, database, input, input code, input unit, input location / biosphere category, activity, activity code, activity location, amount, type]\n",
       "Index: []"
      ]
     },
     "execution_count": 22,
     "metadata": {},
     "output_type": "execute_result"
    }
   ],
   "source": [
    "background_scenarios=pd.read_excel('ExcelTool_GeneratorInput_Template.xlsx', \n",
    "                                   sheet_name='BackgroundScenarios')\n",
    "background_scenarios"
   ]
  },
  {
   "cell_type": "code",
   "execution_count": 23,
   "id": "94c9672a",
   "metadata": {},
   "outputs": [],
   "source": [
    "if general_info['Generate background system scenarios']=='yes':\n",
    "    if (general_info ['Type of background system scenarios']=='manual') or (general_info ['Type of background system scenarios']=='manual + premise'):\n",
    "        \n",
    "        background_scenario_names_list=[]\n",
    "        \n",
    "        for i in background_scenarios.index:\n",
    "            db_name=background_scenarios.loc[i,'database']+'_'+background_scenarios.loc[i,'background scenario']\n",
    "            if db_name not in bw.databases:\n",
    "                db=bw.Database(background_scenarios.loc[i,'database'])\n",
    "                db.copy(db_name)\n",
    "            else:\n",
    "                print(\"Database has already been imported.\")\n",
    "            bsdb=bw.Database(db_name)\n",
    "            \n",
    "            act=bsdb.get(background_scenarios.loc[i,'activity code'])\n",
    "            exc=[exc for exc in act.exchanges() if exc.input.as_dict()['code']==background_scenarios.loc[i,'input code']][0]\n",
    "            \n",
    "            exc['amount']=background_scenarios.loc[i,'amount']\n",
    "            exc.save()\n",
    "            \n",
    "            if db_name not in background_scenario_names_list:\n",
    "                background_scenario_names_list.append(db_name)"
   ]
  },
  {
   "cell_type": "markdown",
   "id": "d3489a3c",
   "metadata": {},
   "source": [
    "#### 1.3.5 Overview of databases to be included in the EWU-Dashboard"
   ]
  },
  {
   "cell_type": "code",
   "execution_count": 24,
   "id": "52e5f169",
   "metadata": {},
   "outputs": [],
   "source": [
    "dbs=[eidb]\n",
    "\n",
    "db_names_dict={}\n",
    "db_names_dict['default']=eidb.name\n",
    "n=1\n",
    "\n",
    "if general_info['Generate background system scenarios']=='yes':\n",
    "    if general_info ['Type of background system scenarios']=='premise':\n",
    "        for scenario in premise_scenario_names_list:\n",
    "            dbs.append(bw.Database(scenario))\n",
    "            db='db'+str(n)\n",
    "            db_names_dict[db]=scenario\n",
    "            n=n+1\n",
    "\n",
    "if general_info['Generate background system scenarios']=='yes':\n",
    "    if (general_info ['Type of background system scenarios']=='manual') or (general_info ['Type of background system scenarios']=='manual + premise'):\n",
    "        for scenario in background_scenario_names_list:\n",
    "            dbs.append(bw.Database(scenario))\n",
    "            db='db'+str(n)\n",
    "            db_names_dict[db]=scenario\n",
    "            n=n+1\n",
    "            \n",
    "db_names=[db for db in db_names_dict.keys()]"
   ]
  },
  {
   "cell_type": "code",
   "execution_count": null,
   "id": "463e4ca3",
   "metadata": {},
   "outputs": [],
   "source": []
  }
 ],
 "metadata": {
  "kernelspec": {
   "display_name": "Python 3 (ipykernel)",
   "language": "python",
   "name": "python3"
  },
  "language_info": {
   "codemirror_mode": {
    "name": "ipython",
    "version": 3
   },
   "file_extension": ".py",
   "mimetype": "text/x-python",
   "name": "python",
   "nbconvert_exporter": "python",
   "pygments_lexer": "ipython3",
   "version": "3.9.12"
  },
  "toc": {
   "base_numbering": 1,
   "nav_menu": {},
   "number_sections": false,
   "sideBar": true,
   "skip_h1_title": true,
   "title_cell": "Table of Contents",
   "title_sidebar": "Contents",
   "toc_cell": false,
   "toc_position": {},
   "toc_section_display": true,
   "toc_window_display": true
  }
 },
 "nbformat": 4,
 "nbformat_minor": 5
}
