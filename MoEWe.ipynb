{
 "cells": [
  {
   "cell_type": "markdown",
   "id": "aa720897",
   "metadata": {},
   "source": [
    "# Monitoring Environmental Waste Utilization Scores\n",
    "# A guide for generating EWU-Dashboards\n",
    "**Sarah Schmidt & David Laner**  \n",
    "*January 2023*"
   ]
  },
  {
   "cell_type": "markdown",
   "id": "2c01f25a",
   "metadata": {},
   "source": [
    "## 1. Configuration"
   ]
  },
  {
   "cell_type": "markdown",
   "id": "88be2be5",
   "metadata": {},
   "source": [
    "### 1.1 Import packages"
   ]
  },
  {
   "cell_type": "code",
   "execution_count": 3,
   "id": "9ee196c1",
   "metadata": {},
   "outputs": [],
   "source": [
    "import pandas as pd\n",
    "import numpy as np\n",
    "import brightway2 as bw\n",
    "import premise\n",
    "from mycolorpy import colorlist as mcp\n",
    "import string\n",
    "\n",
    "import warnings\n",
    "warnings.simplefilter(action='ignore', category=UserWarning)"
   ]
  },
  {
   "cell_type": "code",
   "execution_count": 4,
   "id": "651f896b",
   "metadata": {},
   "outputs": [],
   "source": [
    "# create a list with MS Excel column indices (A, B, ..., Z, AA, AB, ...)\n",
    "# will be used for preparing calculations in MS Excel\n",
    "alphabet = list(string.ascii_uppercase)\n",
    "excel_cols=[]\n",
    "\n",
    "for i in range(100):\n",
    "    n=0\n",
    "    j=i\n",
    "    while j-len(alphabet)>=0:\n",
    "        j=j-len(alphabet)\n",
    "        n=n+1\n",
    "    if n>0:\n",
    "        col=alphabet[n-1]+alphabet[j]\n",
    "    else:\n",
    "        col=alphabet[j]\n",
    "    excel_cols.append(col)"
   ]
  },
  {
   "cell_type": "code",
   "execution_count": 8,
   "id": "158e39c7",
   "metadata": {},
   "outputs": [],
   "source": [
    "conversion_factors={'kg':1,\n",
    "                    't':1e3,\n",
    "                    'kt':1e6,\n",
    "                    'g':1e-3,\n",
    "                    'Mg':1e3,\n",
    "                    'Gg':1e6}"
   ]
  },
  {
   "cell_type": "markdown",
   "id": "963a588e",
   "metadata": {},
   "source": [
    "### 1.2 Gather case study-specific information"
   ]
  },
  {
   "cell_type": "code",
   "execution_count": 19,
   "id": "ff646e5b",
   "metadata": {},
   "outputs": [],
   "source": [
    "# read various case study specific information from input data file (ExcelTool_GeneratorInput_Template.xlsx)\n",
    "general_info=pd.read_excel('ExcelTool_GeneratorInput_Template.xlsx', sheet_name='GeneralInformation', index_col=0)\n",
    "general_info=general_info[general_info.columns[0]].to_dict()\n",
    "\n",
    "Pathway_codes=pd.read_excel('ExcelTool_GeneratorInput_Template.xlsx', sheet_name='Activities')\n",
    "Pathway_codes=Pathway_codes[Pathway_codes['Pathway tag'].notnull()]['Activity code'].to_list()\n",
    "Pathway_names=pd.read_excel('ExcelTool_GeneratorInput_Template.xlsx', sheet_name='Activities')\n",
    "Pathway_names=Pathway_names[Pathway_names['Pathway tag'].notnull()]['Pathway tag'].to_list()\n",
    "\n",
    "WasteGen_code=pd.read_excel('ExcelTool_GeneratorInput_Template.xlsx', sheet_name='Activities')\n",
    "WasteGen_code=WasteGen_code[WasteGen_code['Waste generation'].notnull()]['Activity code'].iloc[0]\n",
    "\n",
    "act_codes=[WasteGen_code,*Pathway_codes]\n",
    "act_names=[general_info['Acronym'],*Pathway_names]\n",
    "\n",
    "# materials for calculation of the environmental impact of materials\n",
    "material_names=pd.read_excel('ExcelTool_GeneratorInput_Template.xlsx', sheet_name='EnvironmentalValue')\n",
    "material_names=material_names['Material Name'].to_list()\n",
    "material_codes=pd.read_excel('ExcelTool_GeneratorInput_Template.xlsx', sheet_name='EnvironmentalValue')\n",
    "material_codes=material_codes['Material Code'].to_list()\n",
    "\n",
    "waste_utilization_codes=pd.read_excel('ExcelTool_GeneratorInput_Template.xlsx', sheet_name='Activities')\n",
    "waste_utilization_codes=waste_utilization_codes[pd.isnull(waste_utilization_codes['Waste utilization'])==False]['Activity code'].to_list()\n",
    "\n",
    "# activity tags for contribution analysis\n",
    "activity_tags=pd.read_excel('ExcelTool_GeneratorInput_Template.xlsx', sheet_name='Activities')\n",
    "activity_tags=activity_tags['Activity tag'].to_list()\n",
    "activity_tags=[tag for tag in activity_tags if pd.isnull(tag)==False]\n",
    "activity_tags=list(set(activity_tags))\n",
    "activity_tags.append('Others')\n",
    "\n",
    "# waste quantity in kg\n",
    "WQ_kg=general_info['Waste quantity']*conversion_factors[general_info['Unit']]"
   ]
  },
  {
   "cell_type": "markdown",
   "id": "65d5055b",
   "metadata": {},
   "source": [
    "### 1.3 Setup and import databases"
   ]
  },
  {
   "cell_type": "markdown",
   "id": "8db65095",
   "metadata": {},
   "source": [
    "#### 1.3.1 Setup"
   ]
  },
  {
   "cell_type": "code",
   "execution_count": 11,
   "id": "3bd97cf0",
   "metadata": {},
   "outputs": [],
   "source": [
    "# create a new project or open an existing project\n",
    "bw.projects.set_current(general_info['Project name'])"
   ]
  },
  {
   "cell_type": "code",
   "execution_count": 12,
   "id": "0d248240",
   "metadata": {},
   "outputs": [
    {
     "name": "stdout",
     "output_type": "stream",
     "text": [
      "Biosphere database already present!!! No setup is needed\n"
     ]
    }
   ],
   "source": [
    "# creates the database \"biosphere 3\"\n",
    "bw.bw2setup() \n",
    "biosphere = bw.Database(\"biosphere3\")"
   ]
  },
  {
   "cell_type": "markdown",
   "id": "83e565fd",
   "metadata": {},
   "source": [
    "#### 1.3.2 Ecoinvent"
   ]
  },
  {
   "cell_type": "code",
   "execution_count": 13,
   "id": "87865a24",
   "metadata": {},
   "outputs": [
    {
     "name": "stdout",
     "output_type": "stream",
     "text": [
      "Database has already been imported.\n"
     ]
    }
   ],
   "source": [
    "# import of the ecoinvent database\n",
    "db_default_name=general_info['Database name']+'_default'\n",
    "if db_default_name in bw.databases:\n",
    "    print(\"Database has already been imported.\")\n",
    "    eidb_default = bw.Database(db_default_name)\n",
    "else:\n",
    "    # mind that the ecoinvent file must be unzipped; then: path to the datasets subfolder\n",
    "    fpeidbcut = r\"{}\".format(general_info['Database file path'])\n",
    "    # the \"r\" makes sure that the path is read as a string - especially useful when you have spaces in your string\n",
    "    eidbcut = bw.SingleOuPathwayutEcospold2Importer(fpeidbcut, general_info['Database name']+'_default')\n",
    "    eidbcut\n",
    "    eidbcut.apply_strategies()\n",
    "    eidbcut.statistics()\n",
    "    eidb_default=eidbcut.write_database()"
   ]
  },
  {
   "cell_type": "code",
   "execution_count": 14,
   "id": "34f58fb1",
   "metadata": {},
   "outputs": [
    {
     "name": "stdout",
     "output_type": "stream",
     "text": [
      "Database has already been imported.\n"
     ]
    }
   ],
   "source": [
    "# copy of the unmodified version of the ecoinvent database\n",
    "if general_info['Database name'] in bw.databases:\n",
    "    print(\"Database has already been imported.\")\n",
    "else:\n",
    "    eidb_default.copy(general_info['Database name'])\n",
    "eidb = bw.Database(general_info['Database name'])"
   ]
  },
  {
   "cell_type": "markdown",
   "id": "2e8d8788",
   "metadata": {},
   "source": [
    "#### 1.3.3 Prospective Databases (premise)"
   ]
  },
  {
   "cell_type": "code",
   "execution_count": 15,
   "id": "1cb237bd",
   "metadata": {},
   "outputs": [],
   "source": [
    "# gather information which prospective scenarios shall be created\n",
    "premise_scenarios=pd.read_excel('ExcelTool_GeneratorInput_Template.xlsx', sheet_name='ProspectiveScenarios', \n",
    "                                skiprows=3, nrows=8)\n",
    "premise_update=pd.read_excel('ExcelTool_GeneratorInput_Template.xlsx', sheet_name='ProspectiveScenarios', \n",
    "                                index_col=0, skiprows=15, nrows=9, usecols='A:B')\n",
    "premise_update=premise_update[premise_update['Update']=='yes']"
   ]
  },
  {
   "cell_type": "code",
   "execution_count": 17,
   "id": "eefd82dc",
   "metadata": {},
   "outputs": [],
   "source": [
    "# read encryption key \n",
    "# (to be requested from the premise library maintainers if you want ot use default scenarios included in `premise`)\n",
    "encryption_key=pd.read_excel('ExcelTool_GeneratorInput_Template.xlsx', sheet_name='ProspectiveScenarios', \n",
    "                         usecols = \"B\", header = 0, nrows=0).columns[0]"
   ]
  },
  {
   "cell_type": "code",
   "execution_count": 21,
   "id": "0402b419",
   "metadata": {},
   "outputs": [],
   "source": [
    "if general_info['Generate background system scenarios']=='yes':\n",
    "    if general_info ['Type of background system scenarios']=='premise':\n",
    "        \n",
    "        premise_scenarios_dictlist=[]\n",
    "        premise_scenario_names_list=[]\n",
    "\n",
    "        for i in premise_scenarios.index:\n",
    "            for c in premise_scenarios.columns[3:]:\n",
    "                if premise_scenarios.loc[i,c]=='x':\n",
    "                    scenario_dict={\"model\":premise_scenarios.loc[i,'IAM'], \n",
    "                                   \"pathway\":premise_scenarios.loc[i,'SSP']+'-'+premise_scenarios.loc[i,'RCP'], \n",
    "                                   \"year\":c}\n",
    "                    scenario_name=premise_scenarios.loc[i,'IAM']+str(c)+'_'+premise_scenarios.loc[i,'SSP']+'-'+premise_scenarios.loc[i,'RCP']\n",
    "                    premise_scenarios_dictlist.append(scenario_dict)\n",
    "                    premise_scenario_names_list.append(scenario_name)\n",
    "       \n",
    "                    if scenario_name not in bw.databases:\n",
    "                        ndb = premise.NewDatabase(\n",
    "                            scenarios=[scenario_name],\n",
    "                            source_db=eidb_default.name, # name of the database in the BW2 project. Must be a string.\n",
    "                            source_version=general_info['Database version'], # version of ecoinvent. Can be \"3.5\", \"3.6\", \"3.7\" or \"3.8\". Must be a string.\n",
    "                            key=encryption_key,# <-- decryption key\n",
    "                            quiet=True\n",
    "                            # to be requested from the library maintainers if you want ot use default scenarios included in `premise`\n",
    "                            )\n",
    "\n",
    "\n",
    "                        if len(premise_update)==8:\n",
    "                            ndb.update_all()\n",
    "                        else:\n",
    "                            if 'Electricity' in premise_update.index:\n",
    "                                ndb.update_electricity()\n",
    "                            if 'Cement' in premise_update.index:\n",
    "                                ndb.update_cement()\n",
    "                            if 'Steel' in premise_update.index:\n",
    "                                ndb.update_steel()\n",
    "                            if 'Fuels' in premise_update.index:\n",
    "                                ndb.update_fuels()\n",
    "                            if 'Cars' in premise_update.index:\n",
    "                                ndb.update_cars()\n",
    "                            if 'Trucks' in premise_update.index:\n",
    "                                ndb.update_trucks()\n",
    "                            if 'Two wheelers' in premise_update.index:\n",
    "                                ndb.update_two_wheelers()\n",
    "                            if 'Buses' in premise_update.index:\n",
    "                                ndb.update_buses()\n",
    "\n",
    "                        ndb.write_db_to_brightway(name=[scenario_name])    "
   ]
  },
  {
   "cell_type": "markdown",
   "id": "6e34ff8e",
   "metadata": {},
   "source": [
    "#### 1.3.4 Manual Background"
   ]
  }
 ],
 "metadata": {
  "kernelspec": {
   "display_name": "Python 3 (ipykernel)",
   "language": "python",
   "name": "python3"
  },
  "language_info": {
   "codemirror_mode": {
    "name": "ipython",
    "version": 3
   },
   "file_extension": ".py",
   "mimetype": "text/x-python",
   "name": "python",
   "nbconvert_exporter": "python",
   "pygments_lexer": "ipython3",
   "version": "3.9.12"
  },
  "toc": {
   "base_numbering": 1,
   "nav_menu": {},
   "number_sections": false,
   "sideBar": true,
   "skip_h1_title": true,
   "title_cell": "Table of Contents",
   "title_sidebar": "Contents",
   "toc_cell": false,
   "toc_position": {},
   "toc_section_display": true,
   "toc_window_display": true
  }
 },
 "nbformat": 4,
 "nbformat_minor": 5
}
