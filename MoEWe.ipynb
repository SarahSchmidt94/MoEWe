{
 "cells": [
  {
   "cell_type": "markdown",
   "id": "aa720897",
   "metadata": {},
   "source": [
    "# Monitoring Environmental Waste Utilization Scores\n",
    "# A guide for generating EWU-Dashboards\n",
    "**Sarah Schmidt & David Laner**  \n",
    "*January 2023*"
   ]
  },
  {
   "cell_type": "markdown",
   "id": "2c01f25a",
   "metadata": {},
   "source": [
    "## 1. Configuration"
   ]
  },
  {
   "cell_type": "markdown",
   "id": "fa327900",
   "metadata": {},
   "source": [
    "### 1.1 Import packages"
   ]
  },
  {
   "cell_type": "code",
   "execution_count": 3,
   "id": "f9c05821",
   "metadata": {},
   "outputs": [],
   "source": [
    "import pandas as pd\n",
    "import numpy as np\n",
    "import brightway2 as bw\n",
    "import premise\n",
    "from mycolorpy import colorlist as mcp\n",
    "import string\n",
    "\n",
    "import warnings\n",
    "warnings.simplefilter(action='ignore', category=UserWarning)"
   ]
  },
  {
   "cell_type": "code",
   "execution_count": 4,
   "id": "bd4a9dbb",
   "metadata": {},
   "outputs": [],
   "source": [
    "# create a list with MS Excel column indices (A, B, ..., Z, AA, AB, ...)\n",
    "# will be used for preparing calculations in MS Excel\n",
    "alphabet = list(string.ascii_uppercase)\n",
    "excel_cols=[]\n",
    "\n",
    "for i in range(100):\n",
    "    n=0\n",
    "    j=i\n",
    "    while j-len(alphabet)>=0:\n",
    "        j=j-len(alphabet)\n",
    "        n=n+1\n",
    "    if n>0:\n",
    "        col=alphabet[n-1]+alphabet[j]\n",
    "    else:\n",
    "        col=alphabet[j]\n",
    "    excel_cols.append(col)"
   ]
  },
  {
   "cell_type": "code",
   "execution_count": 8,
   "id": "49b4901a",
   "metadata": {},
   "outputs": [],
   "source": [
    "conversion_factors={'kg':1,\n",
    "                    't':1e3,\n",
    "                    'kt':1e6,\n",
    "                    'g':1e-3,\n",
    "                    'Mg':1e3,\n",
    "                    'Gg':1e6}"
   ]
  },
  {
   "cell_type": "markdown",
   "id": "eaa6cbc9",
   "metadata": {},
   "source": [
    "### 1.2 Gather case study-specific information"
   ]
  },
  {
   "cell_type": "code",
   "execution_count": 10,
   "id": "4756f3df",
   "metadata": {},
   "outputs": [],
   "source": [
    "# read various case study specific information from input data file (ExcelTool_GeneratorInput_Template.xlsx)\n",
    "general_info=pd.read_excel('ExcelTool_GeneratorInput_Template.xlsx', sheet_name='GeneralInformation', index_col=0)\n",
    "general_info=general_info[general_info.columns[0]].to_dict()\n",
    "\n",
    "Pathway_codes=pd.read_excel('ExcelTool_GeneratorInput_Template.xlsx', sheet_name='Activities')\n",
    "Pathway_codes=Pathway_codes[Pathway_codes['Pathway tag'].notnull()]['Activity code'].to_list()\n",
    "Pathway_names=pd.read_excel('ExcelTool_GeneratorInput_Template.xlsx', sheet_name='Activities')\n",
    "Pathway_names=Pathway_names[Pathway_names['Pathway tag'].notnull()]['Pathway tag'].to_list()\n",
    "\n",
    "WasteGen_code=pd.read_excel('ExcelTool_GeneratorInput_Template.xlsx', sheet_name='Activities')\n",
    "WasteGen_code=WasteGen_code[WasteGen_code['Waste generation'].notnull()]['Activity code'].iloc[0]\n",
    "\n",
    "act_codes=[WasteGen_code,*Pathway_codes]\n",
    "act_names=[general_info['Acronym'],*Pathway_names]\n",
    "\n",
    "# materials for calculation of the environmental impact of materials\n",
    "material_names=pd.read_excel('ExcelTool_GeneratorInput_Template.xlsx', sheet_name='EnvironmentalValue')\n",
    "material_names=material_names['Material Name'].to_list()\n",
    "material_codes=pd.read_excel('ExcelTool_GeneratorInput_Template.xlsx', sheet_name='EnvironmentalValue')\n",
    "material_codes=material_codes['Material Code'].to_list()\n",
    "\n",
    "waste_utilization_codes=pd.read_excel('ExcelTool_GeneratorInput_Template.xlsx', sheet_name='Activities')\n",
    "waste_utilization_codes=waste_utilization_codes[pd.isnull(waste_utilization_codes['Waste utilization'])==False]['Activity code'].to_list()\n",
    "\n",
    "# activity tags for contribution analysis\n",
    "activity_tags=pd.read_excel('ExcelTool_GeneratorInput_Template.xlsx', sheet_name='Activities')\n",
    "activity_tags=activity_tags['Activity tag'].to_list()\n",
    "activity_tags=[tag for tag in activity_tags if pd.isnull(tag)==False]\n",
    "activity_tags=list(set(activity_tags))\n",
    "activity_tags.append('Others')\n",
    "\n",
    "# waste quantity in kg\n",
    "WQ_kg=general_info['Waste quantity']*conversion_factors[general_info['Unit']]"
   ]
  },
  {
   "cell_type": "markdown",
   "id": "1add41df",
   "metadata": {},
   "source": [
    "### 1.3 Create databases"
   ]
  },
  {
   "cell_type": "code",
   "execution_count": null,
   "id": "ed741e10",
   "metadata": {},
   "outputs": [],
   "source": []
  }
 ],
 "metadata": {
  "kernelspec": {
   "display_name": "Python 3 (ipykernel)",
   "language": "python",
   "name": "python3"
  },
  "language_info": {
   "codemirror_mode": {
    "name": "ipython",
    "version": 3
   },
   "file_extension": ".py",
   "mimetype": "text/x-python",
   "name": "python",
   "nbconvert_exporter": "python",
   "pygments_lexer": "ipython3",
   "version": "3.9.12"
  },
  "toc": {
   "base_numbering": 1,
   "nav_menu": {},
   "number_sections": false,
   "sideBar": true,
   "skip_h1_title": true,
   "title_cell": "Table of Contents",
   "title_sidebar": "Contents",
   "toc_cell": false,
   "toc_position": {},
   "toc_section_display": true,
   "toc_window_display": true
  }
 },
 "nbformat": 4,
 "nbformat_minor": 5
}
