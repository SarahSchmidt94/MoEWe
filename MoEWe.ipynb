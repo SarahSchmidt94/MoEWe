{
 "cells": [
  {
   "cell_type": "markdown",
   "id": "aa720897",
   "metadata": {},
   "source": [
    "# Monitoring Environmental Waste Utilization Scores\n",
    "# A guide for generating EWU-Dashboards\n",
    "**Sarah Schmidt & David Laner**  \n",
    "*January 2023*"
   ]
  },
  {
   "cell_type": "markdown",
   "id": "2c01f25a",
   "metadata": {},
   "source": [
    "## 1. Configuration"
   ]
  },
  {
   "cell_type": "markdown",
   "id": "aeb6c2b9",
   "metadata": {},
   "source": [
    "### 1.1 Import packages"
   ]
  },
  {
   "cell_type": "code",
   "execution_count": 238,
   "id": "5015ea60",
   "metadata": {},
   "outputs": [],
   "source": [
    "import os\n",
    "import pandas as pd\n",
    "import numpy as np\n",
    "import brightway2 as bw\n",
    "import premise\n",
    "from mycolorpy import colorlist as mcp\n",
    "import string\n",
    "\n",
    "import warnings\n",
    "warnings.simplefilter(action='ignore', category=UserWarning)"
   ]
  },
  {
   "cell_type": "code",
   "execution_count": 4,
   "id": "a6dbbe68",
   "metadata": {},
   "outputs": [],
   "source": [
    "# create a list with MS Excel column indices (A, B, ..., Z, AA, AB, ...)\n",
    "# will be used for preparing calculations in MS Excel\n",
    "alphabet = list(string.ascii_uppercase)\n",
    "excel_cols=[]\n",
    "\n",
    "for i in range(100):\n",
    "    n=0\n",
    "    j=i\n",
    "    while j-len(alphabet)>=0:\n",
    "        j=j-len(alphabet)\n",
    "        n=n+1\n",
    "    if n>0:\n",
    "        col=alphabet[n-1]+alphabet[j]\n",
    "    else:\n",
    "        col=alphabet[j]\n",
    "    excel_cols.append(col)"
   ]
  },
  {
   "cell_type": "code",
   "execution_count": 8,
   "id": "d82edd39",
   "metadata": {},
   "outputs": [],
   "source": [
    "conversion_factors={'kg':1,\n",
    "                    't':1e3,\n",
    "                    'kt':1e6,\n",
    "                    'g':1e-3,\n",
    "                    'Mg':1e3,\n",
    "                    'Gg':1e6}"
   ]
  },
  {
   "cell_type": "markdown",
   "id": "b3237e32",
   "metadata": {},
   "source": [
    "### 1.2 Gather case study-specific information"
   ]
  },
  {
   "cell_type": "code",
   "execution_count": 56,
   "id": "b5e19960",
   "metadata": {},
   "outputs": [],
   "source": [
    "# read various case study specific information from input data file (ExcelTool_GeneratorInput_Template.xlsx)\n",
    "general_info=pd.read_excel('ExcelTool_GeneratorInput_Template.xlsx', sheet_name='GeneralInformation', index_col=0)\n",
    "general_info=general_info[general_info.columns[0]].to_dict()\n",
    "\n",
    "Pathway_codes=pd.read_excel('ExcelTool_GeneratorInput_Template.xlsx', sheet_name='Activities')\n",
    "Pathway_codes=Pathway_codes[Pathway_codes['Pathway tag'].notnull()]['Activity code'].to_list()\n",
    "Pathway_names=pd.read_excel('ExcelTool_GeneratorInput_Template.xlsx', sheet_name='Activities')\n",
    "Pathway_names=Pathway_names[Pathway_names['Pathway tag'].notnull()]['Pathway tag'].to_list()\n",
    "\n",
    "WasteGen_code=pd.read_excel('ExcelTool_GeneratorInput_Template.xlsx', sheet_name='Activities')\n",
    "WasteGen_code=WasteGen_code[WasteGen_code['Waste generation'].notnull()]['Activity code'].iloc[0]\n",
    "\n",
    "act_codes=[WasteGen_code,*Pathway_codes]\n",
    "act_names=[general_info['Acronym'],*Pathway_names]\n",
    "\n",
    "# foreground system\n",
    "foreground_system_codes=activity_df[activity_df['Foreground'].notnull()]['Activity code'].to_list()\n",
    "\n",
    "# number of foreground system scenarios\n",
    "n_scenarios=general_info['Maximum number of foreground system scenarios']\n",
    "\n",
    "# materials for calculation of the environmental impact of materials\n",
    "material_names=pd.read_excel('ExcelTool_GeneratorInput_Template.xlsx', sheet_name='EnvironmentalValue')\n",
    "material_names=material_names['Material Name'].to_list()\n",
    "material_codes=pd.read_excel('ExcelTool_GeneratorInput_Template.xlsx', sheet_name='EnvironmentalValue')\n",
    "material_codes=material_codes['Material Code'].to_list()\n",
    "\n",
    "waste_utilization_codes=pd.read_excel('ExcelTool_GeneratorInput_Template.xlsx', sheet_name='Activities')\n",
    "waste_utilization_codes=waste_utilization_codes[pd.isnull(waste_utilization_codes['Waste utilization'])==False]['Activity code'].to_list()\n",
    "\n",
    "# activity tags for contribution analysis\n",
    "activity_tags=pd.read_excel('ExcelTool_GeneratorInput_Template.xlsx', sheet_name='Activities')\n",
    "activity_tags=activity_tags['Activity tag'].to_list()\n",
    "activity_tags=[tag for tag in activity_tags if pd.isnull(tag)==False]\n",
    "activity_tags=list(set(activity_tags))\n",
    "activity_tags.append('Others')\n",
    "\n",
    "# waste quantity in kg\n",
    "WQ_kg=general_info['Waste quantity']*conversion_factors[general_info['Unit']]"
   ]
  },
  {
   "cell_type": "markdown",
   "id": "06d41f1f",
   "metadata": {},
   "source": [
    "### 1.3 Setup and import of databases"
   ]
  },
  {
   "cell_type": "markdown",
   "id": "6b609664",
   "metadata": {},
   "source": [
    "#### 1.3.1 Setup"
   ]
  },
  {
   "cell_type": "code",
   "execution_count": 11,
   "id": "3bca4e50",
   "metadata": {},
   "outputs": [],
   "source": [
    "# create a new project or open an existing project\n",
    "bw.projects.set_current(general_info['Project name'])"
   ]
  },
  {
   "cell_type": "code",
   "execution_count": 12,
   "id": "cd6d38a5",
   "metadata": {},
   "outputs": [
    {
     "name": "stdout",
     "output_type": "stream",
     "text": [
      "Biosphere database already present!!! No setup is needed\n"
     ]
    }
   ],
   "source": [
    "# creates the database \"biosphere 3\"\n",
    "bw.bw2setup() \n",
    "biosphere = bw.Database(\"biosphere3\")"
   ]
  },
  {
   "cell_type": "markdown",
   "id": "0182c83c",
   "metadata": {},
   "source": [
    "#### 1.3.2 Ecoinvent"
   ]
  },
  {
   "cell_type": "code",
   "execution_count": 13,
   "id": "1504d84e",
   "metadata": {},
   "outputs": [
    {
     "name": "stdout",
     "output_type": "stream",
     "text": [
      "Database has already been imported.\n"
     ]
    }
   ],
   "source": [
    "# import of the ecoinvent database\n",
    "db_default_name=general_info['Database name']+'_default'\n",
    "if db_default_name in bw.databases:\n",
    "    print(\"Database has already been imported.\")\n",
    "    eidb_default = bw.Database(db_default_name)\n",
    "else:\n",
    "    # mind that the ecoinvent file must be unzipped; then: path to the datasets subfolder\n",
    "    fpeidbcut = r\"{}\".format(general_info['Database file path'])\n",
    "    # the \"r\" makes sure that the path is read as a string - especially useful when you have spaces in your string\n",
    "    eidbcut = bw.SingleOutputEcospold2Importer(fpeidbcut, general_info['Database name']+'_default')\n",
    "    eidbcut\n",
    "    eidbcut.apply_strategies()\n",
    "    eidbcut.statistics()\n",
    "    eidb_default=eidbcut.write_database()"
   ]
  },
  {
   "cell_type": "code",
   "execution_count": 14,
   "id": "2f06fe55",
   "metadata": {},
   "outputs": [
    {
     "name": "stdout",
     "output_type": "stream",
     "text": [
      "Database has already been imported.\n"
     ]
    }
   ],
   "source": [
    "# copy of the unmodified version of the ecoinvent database\n",
    "if general_info['Database name'] in bw.databases:\n",
    "    print(\"Database has already been imported.\")\n",
    "else:\n",
    "    eidb_default.copy(general_info['Database name'])\n",
    "eidb = bw.Database(general_info['Database name'])"
   ]
  },
  {
   "cell_type": "markdown",
   "id": "3eec131d",
   "metadata": {},
   "source": [
    "#### 1.3.3 Prospective Databases (premise)"
   ]
  },
  {
   "cell_type": "code",
   "execution_count": 15,
   "id": "4e6b3332",
   "metadata": {},
   "outputs": [],
   "source": [
    "# gather information which prospective scenarios shall be created\n",
    "premise_scenarios=pd.read_excel('ExcelTool_GeneratorInput_Template.xlsx', sheet_name='ProspectiveScenarios', \n",
    "                                skiprows=3, nrows=8)\n",
    "premise_update=pd.read_excel('ExcelTool_GeneratorInput_Template.xlsx', sheet_name='ProspectiveScenarios', \n",
    "                                index_col=0, skiprows=15, nrows=9, usecols='A:B')\n",
    "premise_update=premise_update[premise_update['Update']=='yes']"
   ]
  },
  {
   "cell_type": "code",
   "execution_count": 17,
   "id": "06ae6560",
   "metadata": {},
   "outputs": [],
   "source": [
    "# read encryption key \n",
    "# (to be requested from the premise library maintainers if you want ot use default scenarios included in `premise`)\n",
    "encryption_key=pd.read_excel('ExcelTool_GeneratorInput_Template.xlsx', sheet_name='ProspectiveScenarios', \n",
    "                         usecols = \"B\", header = 0, nrows=0).columns[0]"
   ]
  },
  {
   "cell_type": "code",
   "execution_count": 21,
   "id": "9c34a72f",
   "metadata": {},
   "outputs": [],
   "source": [
    "if general_info['Generate background system scenarios']=='yes':\n",
    "    if general_info ['Type of background system scenarios']=='premise':\n",
    "        \n",
    "        premise_scenarios_dictlist=[]\n",
    "        premise_scenario_names_list=[]\n",
    "\n",
    "        for i in premise_scenarios.index:\n",
    "            for c in premise_scenarios.columns[3:]:\n",
    "                if premise_scenarios.loc[i,c]=='x':\n",
    "                    scenario_dict={\"model\":premise_scenarios.loc[i,'IAM'], \n",
    "                                   \"pathway\":premise_scenarios.loc[i,'SSP']+'-'+premise_scenarios.loc[i,'RCP'], \n",
    "                                   \"year\":c}\n",
    "                    scenario_name=premise_scenarios.loc[i,'IAM']+str(c)+'_'+premise_scenarios.loc[i,'SSP']+'-'+premise_scenarios.loc[i,'RCP']\n",
    "                    premise_scenarios_dictlist.append(scenario_dict)\n",
    "                    premise_scenario_names_list.append(scenario_name)\n",
    "       \n",
    "                    if scenario_name not in bw.databases:\n",
    "                        ndb = premise.NewDatabase(\n",
    "                            scenarios=[scenario_name],\n",
    "                            source_db=eidb_default.name, # name of the database in the BW2 project. Must be a string.\n",
    "                            source_version=general_info['Database version'], # version of ecoinvent. Can be \"3.5\", \"3.6\", \"3.7\" or \"3.8\". Must be a string.\n",
    "                            key=encryption_key,# <-- decryption key\n",
    "                            quiet=True\n",
    "                            # to be requested from the library maintainers if you want ot use default scenarios included in `premise`\n",
    "                            )\n",
    "\n",
    "\n",
    "                        if len(premise_update)==8:\n",
    "                            ndb.update_all()\n",
    "                        else:\n",
    "                            if 'Electricity' in premise_update.index:\n",
    "                                ndb.update_electricity()\n",
    "                            if 'Cement' in premise_update.index:\n",
    "                                ndb.update_cement()\n",
    "                            if 'Steel' in premise_update.index:\n",
    "                                ndb.update_steel()\n",
    "                            if 'Fuels' in premise_update.index:\n",
    "                                ndb.update_fuels()\n",
    "                            if 'Cars' in premise_update.index:\n",
    "                                ndb.update_cars()\n",
    "                            if 'Trucks' in premise_update.index:\n",
    "                                ndb.update_trucks()\n",
    "                            if 'Two wheelers' in premise_update.index:\n",
    "                                ndb.update_two_wheelers()\n",
    "                            if 'Buses' in premise_update.index:\n",
    "                                ndb.update_buses()\n",
    "\n",
    "                        ndb.write_db_to_brightway(name=[scenario_name])    "
   ]
  },
  {
   "cell_type": "markdown",
   "id": "0434ad03",
   "metadata": {},
   "source": [
    "#### 1.3.4 Manual Background Scenarios"
   ]
  },
  {
   "cell_type": "code",
   "execution_count": 22,
   "id": "563d3726",
   "metadata": {},
   "outputs": [
    {
     "data": {
      "text/html": [
       "<div>\n",
       "<style scoped>\n",
       "    .dataframe tbody tr th:only-of-type {\n",
       "        vertical-align: middle;\n",
       "    }\n",
       "\n",
       "    .dataframe tbody tr th {\n",
       "        vertical-align: top;\n",
       "    }\n",
       "\n",
       "    .dataframe thead th {\n",
       "        text-align: right;\n",
       "    }\n",
       "</style>\n",
       "<table border=\"1\" class=\"dataframe\">\n",
       "  <thead>\n",
       "    <tr style=\"text-align: right;\">\n",
       "      <th></th>\n",
       "      <th>background scenario</th>\n",
       "      <th>database</th>\n",
       "      <th>input</th>\n",
       "      <th>input code</th>\n",
       "      <th>input unit</th>\n",
       "      <th>input location / biosphere category</th>\n",
       "      <th>activity</th>\n",
       "      <th>activity code</th>\n",
       "      <th>activity location</th>\n",
       "      <th>amount</th>\n",
       "      <th>type</th>\n",
       "    </tr>\n",
       "  </thead>\n",
       "  <tbody>\n",
       "  </tbody>\n",
       "</table>\n",
       "</div>"
      ],
      "text/plain": [
       "Empty DataFrame\n",
       "Columns: [background scenario, database, input, input code, input unit, input location / biosphere category, activity, activity code, activity location, amount, type]\n",
       "Index: []"
      ]
     },
     "execution_count": 22,
     "metadata": {},
     "output_type": "execute_result"
    }
   ],
   "source": [
    "background_scenarios=pd.read_excel('ExcelTool_GeneratorInput_Template.xlsx', \n",
    "                                   sheet_name='BackgroundScenarios')\n",
    "background_scenarios"
   ]
  },
  {
   "cell_type": "code",
   "execution_count": 23,
   "id": "33bc247c",
   "metadata": {},
   "outputs": [],
   "source": [
    "if general_info['Generate background system scenarios']=='yes':\n",
    "    if (general_info ['Type of background system scenarios']=='manual') or (general_info ['Type of background system scenarios']=='manual + premise'):\n",
    "        \n",
    "        background_scenario_names_list=[]\n",
    "        \n",
    "        for i in background_scenarios.index:\n",
    "            db_name=background_scenarios.loc[i,'database']+'_'+background_scenarios.loc[i,'background scenario']\n",
    "            if db_name not in bw.databases:\n",
    "                db=bw.Database(background_scenarios.loc[i,'database'])\n",
    "                db.copy(db_name)\n",
    "            else:\n",
    "                print(\"Database has already been imported.\")\n",
    "            bsdb=bw.Database(db_name)\n",
    "            \n",
    "            act=bsdb.get(background_scenarios.loc[i,'activity code'])\n",
    "            exc=[exc for exc in act.exchanges() if exc.input.as_dict()['code']==background_scenarios.loc[i,'input code']][0]\n",
    "            \n",
    "            exc['amount']=background_scenarios.loc[i,'amount']\n",
    "            exc.save()\n",
    "            \n",
    "            if db_name not in background_scenario_names_list:\n",
    "                background_scenario_names_list.append(db_name)"
   ]
  },
  {
   "cell_type": "markdown",
   "id": "a7aa75b7",
   "metadata": {},
   "source": [
    "#### 1.3.5 Overview of databases to be included in the EWU-Dashboard"
   ]
  },
  {
   "cell_type": "code",
   "execution_count": 24,
   "id": "21a5c539",
   "metadata": {},
   "outputs": [],
   "source": [
    "dbs=[eidb]\n",
    "\n",
    "db_names_dict={}\n",
    "db_names_dict['default']=eidb.name\n",
    "n=1\n",
    "\n",
    "if general_info['Generate background system scenarios']=='yes':\n",
    "    if general_info ['Type of background system scenarios']=='premise':\n",
    "        for scenario in premise_scenario_names_list:\n",
    "            dbs.append(bw.Database(scenario))\n",
    "            db='db'+str(n)\n",
    "            db_names_dict[db]=scenario\n",
    "            n=n+1\n",
    "\n",
    "if general_info['Generate background system scenarios']=='yes':\n",
    "    if (general_info ['Type of background system scenarios']=='manual') or (general_info['Type of background system scenarios']=='manual + premise'):\n",
    "        for scenario in background_scenario_names_list:\n",
    "            dbs.append(bw.Database(scenario))\n",
    "            db='db'+str(n)\n",
    "            db_names_dict[db]=scenario\n",
    "            n=n+1\n",
    "            \n",
    "db_names=[db for db in db_names_dict.keys()]"
   ]
  },
  {
   "cell_type": "markdown",
   "id": "3f3840e7",
   "metadata": {},
   "source": [
    "### 1.4 LCIA Methods, Normalization Factors & Weighting Factors"
   ]
  },
  {
   "cell_type": "markdown",
   "id": "029b6023",
   "metadata": {},
   "source": [
    "**Methods**"
   ]
  },
  {
   "cell_type": "code",
   "execution_count": 65,
   "id": "93c02c2a",
   "metadata": {},
   "outputs": [],
   "source": [
    "LCIAmethod_df=pd.read_excel('ExcelTool_GeneratorInput_Template.xlsx', sheet_name='LCIA_Methods')\n",
    "LCIA_method_names=LCIA_method_df['Acronym'].to_list()"
   ]
  },
  {
   "cell_type": "code",
   "execution_count": 67,
   "id": "eacb9086",
   "metadata": {},
   "outputs": [],
   "source": [
    "LCIA_methods=[]\n",
    "for i in LCIAmethod_df.index:\n",
    "    method=[m for m in bw.methods if m[0]==LCIAmethod_df.loc[i, 'Method_Part1'] and\n",
    "                                     m[1]==LCIAmethod_df.loc[i, 'Method_Part2'] and\n",
    "                                     m[2]==LCIAmethod_df.loc[i, 'Method_Part3']][0]\n",
    "    LCIA_methods.append(method)"
   ]
  },
  {
   "cell_type": "code",
   "execution_count": 70,
   "id": "3215f5f5",
   "metadata": {},
   "outputs": [],
   "source": [
    "LCIAmethod_sheet_name='LCIA_Methods'"
   ]
  },
  {
   "cell_type": "code",
   "execution_count": 69,
   "id": "67172d62",
   "metadata": {},
   "outputs": [],
   "source": [
    "LCIAmethod_df=LCIAmethod_df.set_index('Acronym', drop=True)"
   ]
  },
  {
   "cell_type": "markdown",
   "id": "36325cf2",
   "metadata": {},
   "source": [
    "**Normalization Factors**"
   ]
  },
  {
   "cell_type": "code",
   "execution_count": 68,
   "id": "449ceda3",
   "metadata": {},
   "outputs": [],
   "source": [
    "nfs=LCIAmethod_df['Normalization Factor'].to_list()"
   ]
  },
  {
   "cell_type": "markdown",
   "id": "e905d0d6",
   "metadata": {},
   "source": [
    "**Weighting Factors**"
   ]
  },
  {
   "cell_type": "code",
   "execution_count": 87,
   "id": "51085b70",
   "metadata": {},
   "outputs": [],
   "source": [
    "Weighting_sheet_name='Weighting'"
   ]
  },
  {
   "cell_type": "code",
   "execution_count": 88,
   "id": "df273665",
   "metadata": {},
   "outputs": [],
   "source": [
    "Weighting=pd.read_excel(\"ExcelTool_GeneratorInput_Template.xlsx\", sheet_name=\"Weighting\", index_col=0)"
   ]
  },
  {
   "cell_type": "markdown",
   "id": "611cd902",
   "metadata": {},
   "source": [
    "## 2. Calculations"
   ]
  },
  {
   "cell_type": "markdown",
   "id": "21d49d15",
   "metadata": {},
   "source": [
    "### 2.1 Life Cycle Inventory"
   ]
  },
  {
   "cell_type": "markdown",
   "id": "eef694a2",
   "metadata": {},
   "source": [
    "#### 2.1.1 Activities"
   ]
  },
  {
   "cell_type": "code",
   "execution_count": 25,
   "id": "38d4b5e1",
   "metadata": {},
   "outputs": [],
   "source": [
    "activity_df=pd.read_excel('ExcelTool_GeneratorInput_Template.xlsx', sheet_name='Activities')"
   ]
  },
  {
   "cell_type": "code",
   "execution_count": 26,
   "id": "0d1774c6",
   "metadata": {},
   "outputs": [
    {
     "name": "stdout",
     "output_type": "stream",
     "text": [
      "ecoinvent 3.7.1_cutoff_ecoSpold02\n",
      "image2030_SSP2-RCP19\n",
      "image2050_SSP2-RCP19\n"
     ]
    }
   ],
   "source": [
    "for db in dbs:\n",
    "    print(db.name)\n",
    "    for i in activity_df.index:\n",
    "        if len([act for act in db if act['code']==activity_df.loc[i,'Activity code']])==0:\n",
    "            activity = db.new_activity(code = activity_df.loc[i,'Activity code'], name = activity_df.loc[i,'Activity name'], unit = activity_df.loc[i,'Unit'], location = activity_df.loc[i,'Location'])\n",
    "            activity.save()\n",
    "        else:\n",
    "            activity=[act for act in db if act['code']==activity_df.loc[i,'Activity code']][0]\n",
    "            if activity['name']!=activity_df.loc[i,'Activity name']:\n",
    "                print(\"Error: Activity name\", activity['name'], activity_df.loc[i,'Activity name'])\n",
    "            if activity['location']!=activity_df.loc[i,'Location']:\n",
    "                print(\"Error: Activity location\", activity['location'], activity_df.loc[i,'Location'])\n",
    "            if activity['unit']!=activity_df.loc[i,'Unit']:\n",
    "                print(\"Error: Activity unit\", activity['unit'], activity_df.loc[i,'Unit'])"
   ]
  },
  {
   "cell_type": "markdown",
   "id": "4a2ef177",
   "metadata": {},
   "source": [
    "#### 2.2.2 Exchanges"
   ]
  },
  {
   "cell_type": "code",
   "execution_count": 27,
   "id": "b2909979",
   "metadata": {},
   "outputs": [],
   "source": [
    "exchanges_df=pd.read_excel('ExcelTool_GeneratorInput_Template.xlsx', sheet_name='Exchanges')"
   ]
  },
  {
   "cell_type": "code",
   "execution_count": 28,
   "id": "4219705d",
   "metadata": {},
   "outputs": [
    {
     "name": "stdout",
     "output_type": "stream",
     "text": [
      "ecoinvent 3.7.1_cutoff_ecoSpold02\n",
      "image2030_SSP2-RCP19\n",
      "image2050_SSP2-RCP19\n"
     ]
    }
   ],
   "source": [
    "for db in dbs:\n",
    "    print(db.name)\n",
    "    for actcode in exchanges_df['activity code'].unique():\n",
    "        act_exchanges_df=exchanges_df[exchanges_df['activity code']==actcode]\n",
    "        act=[act for act in db if act['code']==actcode][0]\n",
    "        act.exchanges().delete()\n",
    "        for i in act_exchanges_df.index:\n",
    "            if (act_exchanges_df.loc[i,'type']=='technosphere') or (act_exchanges_df.loc[i,'type']=='production'):\n",
    "                exc_input=[act for act in db if act['code']==act_exchanges_df.loc[i,'input code']][0]\n",
    "            if act_exchanges_df.loc[i,'type']=='biosphere':\n",
    "                exc_input=[act for act in biosphere if act['code']==act_exchanges_df.loc[i,'input code']][0]\n",
    "            act.new_exchange(input = exc_input.key, amount = act_exchanges_df.loc[i,'amount'], \n",
    "                                 unit = act_exchanges_df.loc[i,'input unit'], type = act_exchanges_df.loc[i,'type']).save() \n",
    "            act.save()             \n",
    "\n",
    "            exc=[exc for exc in act.exchanges() if exc['input']==exc_input.key][0]\n",
    "\n",
    "            #import material flow tag\n",
    "            if (exc_input['code'] in activity_df['Activity code']) & (exc_input['unit'] == 'kilogram'):\n",
    "                exc['tag']='material flow'\n",
    "                exc.save()\n",
    "                act.save()"
   ]
  },
  {
   "cell_type": "markdown",
   "id": "76e1c599",
   "metadata": {},
   "source": [
    "### 2.2 Modular Life Cycle Assessment"
   ]
  },
  {
   "cell_type": "code",
   "execution_count": 29,
   "id": "9c2eca54",
   "metadata": {},
   "outputs": [],
   "source": [
    "activity_df=pd.read_excel('ExcelTool_GeneratorInput_Template.xlsx', sheet_name='Activities')"
   ]
  },
  {
   "cell_type": "code",
   "execution_count": 32,
   "id": "80533ed5",
   "metadata": {},
   "outputs": [],
   "source": [
    "foreground_system=[]\n",
    "for actcode in foreground_system_codes:\n",
    "    foreground_system.append(eidb.get(actcode))"
   ]
  },
  {
   "cell_type": "code",
   "execution_count": 33,
   "id": "a78cb025",
   "metadata": {},
   "outputs": [],
   "source": [
    "foreground_system_groups={}\n",
    "for ac,actcode in enumerate(foreground_system_codes):\n",
    "    foreground_system_groups[actcode]=ac"
   ]
  },
  {
   "cell_type": "markdown",
   "id": "3bd9fe85",
   "metadata": {},
   "source": [
    "#### 2.2.1 LCI to DataFrame"
   ]
  },
  {
   "cell_type": "code",
   "execution_count": 40,
   "id": "9888da57",
   "metadata": {},
   "outputs": [
    {
     "data": {
      "text/html": [
       "<div>\n",
       "<style scoped>\n",
       "    .dataframe tbody tr th:only-of-type {\n",
       "        vertical-align: middle;\n",
       "    }\n",
       "\n",
       "    .dataframe tbody tr th {\n",
       "        vertical-align: top;\n",
       "    }\n",
       "\n",
       "    .dataframe thead th {\n",
       "        text-align: right;\n",
       "    }\n",
       "</style>\n",
       "<table border=\"1\" class=\"dataframe\">\n",
       "  <thead>\n",
       "    <tr style=\"text-align: right;\">\n",
       "      <th></th>\n",
       "      <th>input</th>\n",
       "      <th>input code</th>\n",
       "      <th>input unit</th>\n",
       "      <th>input location</th>\n",
       "      <th>activity</th>\n",
       "      <th>activity code</th>\n",
       "      <th>activity location</th>\n",
       "      <th>amount</th>\n",
       "      <th>type</th>\n",
       "      <th>material flow</th>\n",
       "    </tr>\n",
       "  </thead>\n",
       "  <tbody>\n",
       "    <tr>\n",
       "      <th>0</th>\n",
       "      <td>biowaste generation</td>\n",
       "      <td>waste_generation</td>\n",
       "      <td>kilogram</td>\n",
       "      <td>DE</td>\n",
       "      <td>biowaste generation</td>\n",
       "      <td>waste_generation</td>\n",
       "      <td>DE</td>\n",
       "      <td>-1.000000e+00</td>\n",
       "      <td>production</td>\n",
       "      <td>False</td>\n",
       "    </tr>\n",
       "    <tr>\n",
       "      <th>1</th>\n",
       "      <td>home composting</td>\n",
       "      <td>PW1</td>\n",
       "      <td>kilogram</td>\n",
       "      <td>DE</td>\n",
       "      <td>biowaste generation</td>\n",
       "      <td>waste_generation</td>\n",
       "      <td>DE</td>\n",
       "      <td>-2.000000e-01</td>\n",
       "      <td>technosphere</td>\n",
       "      <td>True</td>\n",
       "    </tr>\n",
       "    <tr>\n",
       "      <th>2</th>\n",
       "      <td>industrial biowaste treatment</td>\n",
       "      <td>PW2</td>\n",
       "      <td>kilogram</td>\n",
       "      <td>DE</td>\n",
       "      <td>biowaste generation</td>\n",
       "      <td>waste_generation</td>\n",
       "      <td>DE</td>\n",
       "      <td>-8.000000e-01</td>\n",
       "      <td>technosphere</td>\n",
       "      <td>True</td>\n",
       "    </tr>\n",
       "    <tr>\n",
       "      <th>3</th>\n",
       "      <td>home composting</td>\n",
       "      <td>PW1</td>\n",
       "      <td>kilogram</td>\n",
       "      <td>DE</td>\n",
       "      <td>home composting</td>\n",
       "      <td>PW1</td>\n",
       "      <td>DE</td>\n",
       "      <td>-1.000000e+00</td>\n",
       "      <td>production</td>\n",
       "      <td>False</td>\n",
       "    </tr>\n",
       "    <tr>\n",
       "      <th>4</th>\n",
       "      <td>home composting, apples</td>\n",
       "      <td>PW1_apples</td>\n",
       "      <td>kilogram</td>\n",
       "      <td>DE</td>\n",
       "      <td>home composting</td>\n",
       "      <td>PW1</td>\n",
       "      <td>DE</td>\n",
       "      <td>-8.000000e-01</td>\n",
       "      <td>technosphere</td>\n",
       "      <td>True</td>\n",
       "    </tr>\n",
       "    <tr>\n",
       "      <th>...</th>\n",
       "      <td>...</td>\n",
       "      <td>...</td>\n",
       "      <td>...</td>\n",
       "      <td>...</td>\n",
       "      <td>...</td>\n",
       "      <td>...</td>\n",
       "      <td>...</td>\n",
       "      <td>...</td>\n",
       "      <td>...</td>\n",
       "      <td>...</td>\n",
       "    </tr>\n",
       "    <tr>\n",
       "      <th>106</th>\n",
       "      <td>Carbon dioxide, non-fossil</td>\n",
       "      <td>73ed05cc-9727-4abf-9516-4b5c0fe54a16</td>\n",
       "      <td>kilogram</td>\n",
       "      <td>('air', 'urban air close to ground')</td>\n",
       "      <td>treatment of biowaste by anaerobic digestion, ...</td>\n",
       "      <td>anaerobic_digestion_bananas</td>\n",
       "      <td>DE</td>\n",
       "      <td>2.100000e-01</td>\n",
       "      <td>biosphere</td>\n",
       "      <td>False</td>\n",
       "    </tr>\n",
       "    <tr>\n",
       "      <th>107</th>\n",
       "      <td>Dinitrogen monoxide</td>\n",
       "      <td>6dc1b46f-ee89-4495-95c4-b8a637bcd6cb</td>\n",
       "      <td>kilogram</td>\n",
       "      <td>('air', 'urban air close to ground')</td>\n",
       "      <td>treatment of biowaste by anaerobic digestion, ...</td>\n",
       "      <td>anaerobic_digestion_bananas</td>\n",
       "      <td>DE</td>\n",
       "      <td>3.300000e-05</td>\n",
       "      <td>biosphere</td>\n",
       "      <td>False</td>\n",
       "    </tr>\n",
       "    <tr>\n",
       "      <th>108</th>\n",
       "      <td>Nitrogen, organic bound</td>\n",
       "      <td>a703733d-fabc-487b-826a-06c11ac4c0c6</td>\n",
       "      <td>kilogram</td>\n",
       "      <td>('water',)</td>\n",
       "      <td>treatment of biowaste by anaerobic digestion, ...</td>\n",
       "      <td>anaerobic_digestion_bananas</td>\n",
       "      <td>DE</td>\n",
       "      <td>1.090000e-07</td>\n",
       "      <td>biosphere</td>\n",
       "      <td>False</td>\n",
       "    </tr>\n",
       "    <tr>\n",
       "      <th>109</th>\n",
       "      <td>Nitrate</td>\n",
       "      <td>5189de76-6bbb-44ba-8c42-5714f1b4371f</td>\n",
       "      <td>kilogram</td>\n",
       "      <td>('water',)</td>\n",
       "      <td>treatment of biowaste by anaerobic digestion, ...</td>\n",
       "      <td>anaerobic_digestion_bananas</td>\n",
       "      <td>DE</td>\n",
       "      <td>2.970000e-06</td>\n",
       "      <td>biosphere</td>\n",
       "      <td>False</td>\n",
       "    </tr>\n",
       "    <tr>\n",
       "      <th>110</th>\n",
       "      <td>Ammonium, ion</td>\n",
       "      <td>fb005c47-7b90-41f3-a5ca-f0eb11db354a</td>\n",
       "      <td>kilogram</td>\n",
       "      <td>('water',)</td>\n",
       "      <td>treatment of biowaste by anaerobic digestion, ...</td>\n",
       "      <td>anaerobic_digestion_bananas</td>\n",
       "      <td>DE</td>\n",
       "      <td>9.280000e-08</td>\n",
       "      <td>biosphere</td>\n",
       "      <td>False</td>\n",
       "    </tr>\n",
       "  </tbody>\n",
       "</table>\n",
       "<p>111 rows × 10 columns</p>\n",
       "</div>"
      ],
      "text/plain": [
       "                             input                            input code  \\\n",
       "0              biowaste generation                      waste_generation   \n",
       "1                  home composting                                   PW1   \n",
       "2    industrial biowaste treatment                                   PW2   \n",
       "3                  home composting                                   PW1   \n",
       "4          home composting, apples                            PW1_apples   \n",
       "..                             ...                                   ...   \n",
       "106     Carbon dioxide, non-fossil  73ed05cc-9727-4abf-9516-4b5c0fe54a16   \n",
       "107            Dinitrogen monoxide  6dc1b46f-ee89-4495-95c4-b8a637bcd6cb   \n",
       "108        Nitrogen, organic bound  a703733d-fabc-487b-826a-06c11ac4c0c6   \n",
       "109                        Nitrate  5189de76-6bbb-44ba-8c42-5714f1b4371f   \n",
       "110                  Ammonium, ion  fb005c47-7b90-41f3-a5ca-f0eb11db354a   \n",
       "\n",
       "    input unit                        input location  \\\n",
       "0     kilogram                                    DE   \n",
       "1     kilogram                                    DE   \n",
       "2     kilogram                                    DE   \n",
       "3     kilogram                                    DE   \n",
       "4     kilogram                                    DE   \n",
       "..         ...                                   ...   \n",
       "106   kilogram  ('air', 'urban air close to ground')   \n",
       "107   kilogram  ('air', 'urban air close to ground')   \n",
       "108   kilogram                            ('water',)   \n",
       "109   kilogram                            ('water',)   \n",
       "110   kilogram                            ('water',)   \n",
       "\n",
       "                                              activity  \\\n",
       "0                                  biowaste generation   \n",
       "1                                  biowaste generation   \n",
       "2                                  biowaste generation   \n",
       "3                                      home composting   \n",
       "4                                      home composting   \n",
       "..                                                 ...   \n",
       "106  treatment of biowaste by anaerobic digestion, ...   \n",
       "107  treatment of biowaste by anaerobic digestion, ...   \n",
       "108  treatment of biowaste by anaerobic digestion, ...   \n",
       "109  treatment of biowaste by anaerobic digestion, ...   \n",
       "110  treatment of biowaste by anaerobic digestion, ...   \n",
       "\n",
       "                   activity code activity location        amount  \\\n",
       "0               waste_generation                DE -1.000000e+00   \n",
       "1               waste_generation                DE -2.000000e-01   \n",
       "2               waste_generation                DE -8.000000e-01   \n",
       "3                            PW1                DE -1.000000e+00   \n",
       "4                            PW1                DE -8.000000e-01   \n",
       "..                           ...               ...           ...   \n",
       "106  anaerobic_digestion_bananas                DE  2.100000e-01   \n",
       "107  anaerobic_digestion_bananas                DE  3.300000e-05   \n",
       "108  anaerobic_digestion_bananas                DE  1.090000e-07   \n",
       "109  anaerobic_digestion_bananas                DE  2.970000e-06   \n",
       "110  anaerobic_digestion_bananas                DE  9.280000e-08   \n",
       "\n",
       "             type material flow  \n",
       "0      production         False  \n",
       "1    technosphere          True  \n",
       "2    technosphere          True  \n",
       "3      production         False  \n",
       "4    technosphere          True  \n",
       "..            ...           ...  \n",
       "106     biosphere         False  \n",
       "107     biosphere         False  \n",
       "108     biosphere         False  \n",
       "109     biosphere         False  \n",
       "110     biosphere         False  \n",
       "\n",
       "[111 rows x 10 columns]"
      ]
     },
     "execution_count": 40,
     "metadata": {},
     "output_type": "execute_result"
    }
   ],
   "source": [
    "LCI_df=pd.DataFrame()\n",
    "i=0\n",
    "\n",
    "for act in foreground_system:   \n",
    "    act_name=act.as_dict()['name']\n",
    "    act_code=act.as_dict()['code']\n",
    "    act_unit=act.as_dict()['unit']\n",
    "    act_location=act.as_dict()['location']\n",
    "    #production exchange\n",
    "    LCI_df.loc[i,'input']=act_name\n",
    "    LCI_df.loc[i,'input code']=act_code\n",
    "    LCI_df.loc[i,'input unit']=act_unit\n",
    "    LCI_df.loc[i,'input location']=act_location\n",
    "    LCI_df.loc[i,'activity']=act_name\n",
    "    LCI_df.loc[i,'activity code']=act_code\n",
    "    LCI_df.loc[i,'activity location']=act_location\n",
    "    if len([exc for exc in eidb.get(act_code).production()]) >0:\n",
    "        LCI_df.loc[i,'amount']=[exc.amount for exc in eidb.get(act_code).production()][0]\n",
    "    else:\n",
    "        LCI_df.loc[i,'amount']=1\n",
    "    LCI_df.loc[i,'type']='production'\n",
    "    LCI_df.loc[i,'material flow']=False\n",
    "    i=i+1\n",
    "\n",
    "    #technosphere exchanges\n",
    "    for exc in act.technosphere():\n",
    "        LCI_df.loc[i,'input']=exc.input.as_dict()['name']\n",
    "        LCI_df.loc[i,'input code']=exc.input.as_dict()['code']\n",
    "        LCI_df.loc[i,'input unit']=exc.input.as_dict()['unit']\n",
    "        LCI_df.loc[i,'input location']=exc.input.as_dict()['location']\n",
    "        LCI_df.loc[i,'activity']=act_name\n",
    "        LCI_df.loc[i,'activity code']=act_code\n",
    "        LCI_df.loc[i,'activity location']=act_location\n",
    "        LCI_df.loc[i,'amount']=exc.amount\n",
    "        LCI_df.loc[i,'type']='technosphere'\n",
    "        if exc.input.as_dict()['code'] in foreground_system_codes:\n",
    "            LCI_df.loc[i,'material flow']=True\n",
    "        else:\n",
    "            LCI_df.loc[i,'material flow']=False\n",
    "        i=i+1\n",
    "        \n",
    "    #biosphere exchanges\n",
    "    for exc in act.biosphere():\n",
    "        LCI_df.loc[i,'input']=exc.input.as_dict()['name']\n",
    "        LCI_df.loc[i,'input code']=exc.input.as_dict()['code']\n",
    "        LCI_df.loc[i,'input unit']=exc.input.as_dict()['unit']\n",
    "        LCI_df.loc[i,'input location']=str(exc.input.as_dict()['categories'])\n",
    "        LCI_df.loc[i,'activity']=act_name\n",
    "        LCI_df.loc[i,'activity code']=act_code\n",
    "        LCI_df.loc[i,'activity location']=act_location\n",
    "        LCI_df.loc[i,'amount']=exc.amount\n",
    "        LCI_df.loc[i,'type']='biosphere'\n",
    "        LCI_df.loc[i,'material flow']=False\n",
    "        i=i+1\n",
    "\n",
    "LCI_df"
   ]
  },
  {
   "cell_type": "markdown",
   "id": "32ae2f67",
   "metadata": {},
   "source": [
    "#### 2.2.2 Add parameters"
   ]
  },
  {
   "cell_type": "code",
   "execution_count": 34,
   "id": "fa411afe",
   "metadata": {},
   "outputs": [],
   "source": [
    "# Excel sheet name (EWU-Dashboard)\n",
    "params_sheet_name='Parameter'"
   ]
  },
  {
   "cell_type": "code",
   "execution_count": 38,
   "id": "3bd5ad67",
   "metadata": {},
   "outputs": [],
   "source": [
    "scenarios=['Default']\n",
    "\n",
    "for s in range(n_scenarios):\n",
    "    scenarios.append('S'+str(s+1))"
   ]
  },
  {
   "cell_type": "code",
   "execution_count": 152,
   "id": "dcba3a11",
   "metadata": {
    "scrolled": true
   },
   "outputs": [],
   "source": [
    "parameter_df=pd.DataFrame()\n",
    "p=1\n",
    "\n",
    "parameter_df.loc[0,'Parameter-ID']='P1'\n",
    "parameter_df.loc[0,'Parameter']='Waste Quantity'\n",
    "for s in range(n_scenarios):\n",
    "    parameter_df.loc[0,'Parameter Value - S'+str(s+1)]=WQ_kg\n",
    "parameter_df.loc[0,'Parameter Value - Default']=WQ_kg\n",
    "parameter_df.loc[0,'Unit']='kilogram'\n",
    "\n",
    "for i in LCI_df.index:\n",
    "    if LCI_df.loc[i,'type']=='technosphere':\n",
    "        param='P'+str(p+1)\n",
    "        LCI_df.loc[i,'formula']=param\n",
    "        parameter_df.loc[p,'Parameter-ID']=param\n",
    "        parameter_df.loc[p,'Parameter']='FROM: '+LCI_df.loc[i,'input']+' ('+LCI_df.loc[i,'input location']+', '+LCI_df.loc[i,'input unit']+'), TO: '+LCI_df.loc[i,'activity']+'('+LCI_df.loc[i,'activity location']+')'\n",
    "        parameter_df.loc[p,'Unit']=LCI_df.loc[i,'input unit']       \n",
    "        for s in range(n_scenarios):\n",
    "            parameter_df.loc[p,'Parameter Value - S'+str(s+1)]=LCI_df.loc[i,'amount']\n",
    "        parameter_df.loc[p,'Parameter Value - Default']=LCI_df.loc[i,'amount']\n",
    "        if LCI_df.loc[i,'material flow'] == True:\n",
    "            parameter_df.loc[p, 'Group']=foreground_system_groups[LCI_df.loc[i,'activity code']]\n",
    "        p=p+1"
   ]
  },
  {
   "cell_type": "code",
   "execution_count": 42,
   "id": "aa67be95",
   "metadata": {},
   "outputs": [],
   "source": [
    "params_col_dict={}\n",
    "for c,col in enumerate(parameter_df.columns):\n",
    "    params_col_dict[col]=excel_cols[c]\n",
    "    \n",
    "params_row_dict={}\n",
    "for p,param in enumerate(parameter_df['Parameter-ID']):\n",
    "    params_row_dict[param]=p+2\n",
    "#params_row_dict"
   ]
  },
  {
   "cell_type": "markdown",
   "id": "05533e53",
   "metadata": {},
   "source": [
    "#### 2.2.3 LCA calculations for unique exchanges"
   ]
  },
  {
   "cell_type": "markdown",
   "id": "a71a389b",
   "metadata": {},
   "source": [
    "**Technosphere**"
   ]
  },
  {
   "cell_type": "code",
   "execution_count": 54,
   "id": "8a4edb7e",
   "metadata": {},
   "outputs": [],
   "source": [
    "LCI_df_tech=LCI_df[LCI_df['type']=='technosphere']\n",
    "unique_inputs_tech=LCI_df_tech['input code'].unique()\n",
    "unique_activities_tech=LCI_df_tech['activity code'].unique()\n",
    "CF_dict_techno={}\n",
    "\n",
    "for d,db in enumerate(dbs):\n",
    "    functional_units_tech=[]\n",
    "    reference_actcodes_tech=[]\n",
    "\n",
    "    for actcode in unique_inputs_tech:\n",
    "        if actcode not in unique_activities_tech:\n",
    "            reference_actcodes_tech.append(actcode)\n",
    "            functional_unit={db.get(actcode):1}\n",
    "            functional_units_tech.append(functional_unit)\n",
    "        \n",
    "    calculation_setup = {'inv': functional_units_tech, 'ia': LCIA_methods}\n",
    "    bw.calculation_setups['excel tool'] = calculation_setup\n",
    "    mlca = bw.MultiLCA('excel tool')\n",
    "    \n",
    "    CF_dict_techno_db={}\n",
    "\n",
    "    for a,actcode in enumerate(reference_actcodes_tech):\n",
    "        CF_dict_techno_flow={}\n",
    "        for i,IC in enumerate(LCIA_method_names):\n",
    "            CF_dict_techno_flow[IC]=mlca.results[a,i]\n",
    "        CF_dict_techno_db[actcode]=CF_dict_techno_flow\n",
    "    \n",
    "    CF_dict_techno[db_names[d]]=CF_dict_techno_db"
   ]
  },
  {
   "cell_type": "markdown",
   "id": "ccadb891",
   "metadata": {},
   "source": [
    "**Biosphere**"
   ]
  },
  {
   "cell_type": "code",
   "execution_count": 57,
   "id": "f99e6000",
   "metadata": {},
   "outputs": [],
   "source": [
    "LCIA_fp=r\"{}\".format(general_info['LCIA implementation file path'])"
   ]
  },
  {
   "cell_type": "code",
   "execution_count": 58,
   "id": "cf173c9e",
   "metadata": {},
   "outputs": [],
   "source": [
    "LCIA=pd.read_excel(LCIA_fp,sheet_name='CFs')\n",
    "\n",
    "LCI_df_bio=LCI_df[LCI_df['type']=='biosphere']\n",
    "unique_inputs_bio=LCI_df_bio['input code'].unique()\n",
    "unique_activities_bio=LCI_df_bio['activity code'].unique()\n",
    "\n",
    "functional_units_bio=[]\n",
    "reference_actcodes_bio=[]\n",
    "\n",
    "for actcode in unique_inputs_bio:\n",
    "    if actcode not in unique_activities_bio:\n",
    "        reference_actcodes_bio.append(actcode)\n",
    "        functional_unit={biosphere.get(actcode):1}\n",
    "        functional_units_bio.append(functional_unit)\n",
    "        \n",
    "functional_units=[*functional_units_tech,*functional_units_bio]\n",
    "reference_actcodes=[*reference_actcodes_tech,*reference_actcodes_bio]\n",
    "\n",
    "CF_dfs={}\n",
    "for i,IC in enumerate(LCIA_method_names):\n",
    "    CF_dfs[IC]=LCIA[(LCIA['Method']==LCIA_methods[i][0])&(LCIA['Category']==LCIA_methods[i][1])&(LCIA['Indicator']==LCIA_methods[i][2])]\n",
    "    \n",
    "    \n",
    "CF_dict_bio={}\n",
    "for actcode in reference_actcodes_bio:\n",
    "    bioflow=biosphere.get(actcode)\n",
    "    bioflow_name=bioflow['name']\n",
    "    bioflow_c0=bioflow['categories'][0]\n",
    "    if len(bioflow['categories'])==2:\n",
    "        bioflow_c1=bioflow['categories'][1]\n",
    "    else:\n",
    "        bioflow_c1='unspecified'\n",
    "    CF_dict_bio_bioflow={}\n",
    "    for IC in LCIA_method_names:\n",
    "        CF_df=CF_dfs[IC]\n",
    "        CF_df_filtered=CF_df[(CF_df['Name']==bioflow_name)&(CF_df['Compartment']==bioflow_c0)&(CF_df['Subcompartment']==bioflow_c1)]\n",
    "        if len(CF_df_filtered)==0:\n",
    "            CF=0\n",
    "        else:\n",
    "            CF=CF_df_filtered['CF'].values[0]\n",
    "        CF_dict_bio_bioflow[IC]=CF\n",
    "    CF_dict_bio[actcode]=CF_dict_bio_bioflow    "
   ]
  },
  {
   "cell_type": "markdown",
   "id": "74d6ea81",
   "metadata": {},
   "source": [
    "#### 2.2.4 Add characterization factors to LCI-DataFrame"
   ]
  },
  {
   "cell_type": "code",
   "execution_count": 59,
   "id": "6826bd4a",
   "metadata": {},
   "outputs": [],
   "source": [
    "LCI_df_sheet_names={}\n",
    "\n",
    "for db in db_names:\n",
    "    for s in scenarios:\n",
    "        LCI_df_sheet_names[db+'_'+s]='LCI_'+db+'_'+s"
   ]
  },
  {
   "cell_type": "code",
   "execution_count": 60,
   "id": "7f28779f",
   "metadata": {},
   "outputs": [],
   "source": [
    "LCI_dbs={}\n",
    "\n",
    "for d,db in enumerate(dbs):\n",
    "    for s in scenarios:\n",
    "        LCI_df_db=LCI_df.copy()\n",
    "\n",
    "        for i in LCI_df_db.index:\n",
    "            input_code=LCI_df_db.loc[i,'input code']\n",
    "            exc_type=LCI_df_db.loc[i,'type']\n",
    "            if exc_type=='biosphere':\n",
    "                for IC in LCIA_method_names:\n",
    "                    LCI_df_db.loc[i,IC]=CF_dict_bio[input_code][IC]\n",
    "            if exc_type=='technosphere':\n",
    "                if input_code in reference_actcodes_tech:\n",
    "                    for IC in LCIA_method_names:\n",
    "                        LCI_df_db.loc[i,IC]=CF_dict_techno[db_names[d]][input_code][IC] \n",
    "                        \n",
    "        LCI_df_db['formula excel']=LCI_df_db['formula']\n",
    "        parameters=parameter_df['Parameter-ID']        \n",
    "            \n",
    "        # Excel formula\n",
    "        for i in LCI_df_db.index:\n",
    "            formula=LCI_df_db.loc[i,'formula']\n",
    "            if type(formula)==str:\n",
    "                formula_new=formula\n",
    "                for p,param in enumerate(reversed(parameters)):\n",
    "                    formula_new=formula_new.replace(param,params_sheet_name+'!'\\\n",
    "                                +params_col_dict['Parameter Value - '+s]+str(params_row_dict[param]))\n",
    "                formula_new='='+formula_new\n",
    "                LCI_df_db.loc[i,'formula excel']=formula_new\n",
    "            else:\n",
    "                LCI_df_db.loc[i,'formula excel']='='+excel_cols[LCI_df_db.columns.get_loc('amount')]\\\n",
    "                                                    +str(i+2)\n",
    "        \n",
    "        for i in LCI_df_db.index:\n",
    "            if LCI_df_db.loc[i,'type']!='production':\n",
    "                for IC in LCIA_method_names:\n",
    "                    LCI_df_db.loc[i,IC+' Impact']='='+excel_cols[LCI_df_db.columns.get_loc('formula excel')]\\\n",
    "                                                        +str(i+2)+'*'\\\n",
    "                                                    +excel_cols[LCI_df_db.columns.get_loc(IC)]+str(i+2)\n",
    "                    \n",
    "        for actcode in LCI_df_db['activity code'].unique():\n",
    "            sub_df=LCI_df_db[LCI_df_db['activity code']==actcode]\n",
    "            for n,IC in enumerate(LCIA_method_names):\n",
    "                formula='='\n",
    "                col=excel_cols[LCI_df_db.columns.get_loc(IC+' Impact')]\n",
    "                for i in sub_df.index[1:]:\n",
    "                    ind=str(i+2)\n",
    "                    formula=formula+'+'+col+ind\n",
    "                LCI_df_db.loc[sub_df.index[0], IC+' Impact']=formula\n",
    "                \n",
    "        LCI_df_db_prod=LCI_df_db[LCI_df_db['type']=='production']\n",
    "        prod_dict={}\n",
    "        \n",
    "        for i in LCI_df_db_prod.index:\n",
    "            actcode=LCI_df_db_prod.loc[i,'activity code']\n",
    "            prod_dict[actcode]=i+2\n",
    "            \n",
    "        for i in LCI_df_db.index:\n",
    "            if LCI_df_db.loc[i,'type']!='production':\n",
    "                input_code=LCI_df_db.loc[i,'input code']\n",
    "                if input_code in prod_dict.keys():\n",
    "                    for n,IC in enumerate(LCIA_method_names):\n",
    "                        col=excel_cols[LCI_df_db.columns.get_loc(IC+' Impact')]\n",
    "                        LCI_df_db.loc[i,IC]='='+col+str(prod_dict[input_code])+'*'\\\n",
    "                                               +excel_cols[LCI_df_db.columns.get_loc('formula excel')]\\\n",
    "                                               +str(prod_dict[input_code])\n",
    "                    \n",
    "        LCI_dbs[db_names[d]+'_'+s]=LCI_df_db"
   ]
  },
  {
   "cell_type": "code",
   "execution_count": 61,
   "id": "81e7efa6",
   "metadata": {},
   "outputs": [],
   "source": [
    "LCI_df_col_dict={}\n",
    "for c,col in enumerate(LCI_df_db.columns):\n",
    "    LCI_df_col_dict[col]=excel_cols[c]"
   ]
  },
  {
   "cell_type": "markdown",
   "id": "3ce580af",
   "metadata": {},
   "source": [
    "#### 2.2.5 LCA Results"
   ]
  },
  {
   "cell_type": "code",
   "execution_count": 71,
   "id": "830b4e4e",
   "metadata": {},
   "outputs": [],
   "source": [
    "LCA_results_sheet_names={}\n",
    "\n",
    "for db in db_names:\n",
    "    for s in scenarios:\n",
    "        LCA_results_sheet_names[db+'_'+s]='LCA_'+db+'_'+s"
   ]
  },
  {
   "cell_type": "code",
   "execution_count": 72,
   "id": "74816175",
   "metadata": {},
   "outputs": [],
   "source": [
    "LCA_results={}\n",
    "\n",
    "for db in db_names:\n",
    "    for s in scenarios:\n",
    "        LCA_results_db=pd.DataFrame()\n",
    "        actcodes=act_codes\n",
    "        actnames=act_names\n",
    "\n",
    "        for a,actcode in enumerate(actcodes):\n",
    "            LCA_results_db.loc[a,'Pathway']=actnames[a]\n",
    "            for i,IC in enumerate(LCIA_method_names):\n",
    "                col=IC+' Impact'\n",
    "                LCA_results_db.loc[a,IC]='=LCI_'+db+'_'+s+'!'+LCI_df_col_dict[col]+str(prod_dict[actcode])\\\n",
    "                                         +'/LCIA_Methods!D'+str(i+2)\n",
    "\n",
    "        LCA_results[db+'_'+s]=LCA_results_db"
   ]
  },
  {
   "cell_type": "markdown",
   "id": "19e0277c",
   "metadata": {},
   "source": [
    "### 2.3 Perturbation Analysis"
   ]
  },
  {
   "cell_type": "code",
   "execution_count": 62,
   "id": "e585c805",
   "metadata": {},
   "outputs": [],
   "source": [
    "if general_info['Conduct perturbation analysis'] == 'yes':\n",
    "\n",
    "    default_values={}\n",
    "    for i in parameter_df.index:\n",
    "        default_values[parameter_df.loc[i,'Parameter-ID']]=parameter_df.loc[i,'Parameter Value - Default']\n",
    "\n",
    "    perturbation_runs={}\n",
    "    for r in parameter_df.index:\n",
    "        run='run'+str(r+1)\n",
    "        run_params={}\n",
    "        for i in parameter_df.index:\n",
    "            if i!=r:\n",
    "                run_params[parameter_df.loc[i,'Parameter-ID']]=parameter_df.loc[i,'Parameter Value - Default']\n",
    "            else:\n",
    "                run_params[parameter_df.loc[i,'Parameter-ID']]=parameter_df.loc[i,'Parameter Value - Default']*1.001\n",
    "        perturbation_runs[run]=run_params\n",
    "\n",
    "    relevant_indices_runs={}\n",
    "    for run in perturbation_runs.keys():\n",
    "        relevant_indices={}\n",
    "        for i in LCI_df_db.index:\n",
    "            formula=LCI_df_db.loc[i,'formula']\n",
    "            if type(formula)==str:\n",
    "                evaluated_formula=formula\n",
    "                for p,param in enumerate(reversed(perturbation_runs[run].keys())):\n",
    "                    evaluated_formula=evaluated_formula.replace(param,str(perturbation_runs[run][param]))\n",
    "                evaluated_formula=float(evaluated_formula)\n",
    "                if LCI_df_db.loc[i,'amount']!=evaluated_formula:\n",
    "                    relevant_indices[i]=evaluated_formula\n",
    "                    #print(run,i,evaluated_formula)\n",
    "        relevant_indices_runs[run]=relevant_indices\n",
    "    relevant_indices_runs\n",
    "\n",
    "    exc_dict={}\n",
    "    for i in LCI_df.index:\n",
    "        act=eidb.get(LCI_df.loc[i,'activity code'])\n",
    "        exchg=[exc for exc in act.exchanges() if exc.input.as_dict()['code'] ==LCI_df.loc[i,'input code']][0]\n",
    "        exc_dict[i]=exchg\n",
    "    exc_dict\n",
    "\n",
    "    perturbation_df=pd.DataFrame()\n",
    "\n",
    "    wg=eidb.get(WasteGen_code)\n",
    "    for r,run in enumerate(perturbation_runs.keys()):\n",
    "        print(run)\n",
    "        if run == 'run1':\n",
    "            calculation_setup = {'inv': [{wg:1.001}], 'ia': LCIA_methods}\n",
    "            bw.calculation_setups['perturbation'] = calculation_setup\n",
    "            mlca = bw.MultiLCA('perturbation')       \n",
    "            perturbation_df.loc['P'+str(r+1),LCIA_method_names]=mlca.results\n",
    "\n",
    "        else:\n",
    "            for ind in relevant_indices_runs[run].keys():\n",
    "                default_amount=LCI_df.loc[ind,'amount']\n",
    "                exc_dict[ind]['amount']=relevant_indices_runs[run][ind]\n",
    "                exc_dict[ind].save()\n",
    "\n",
    "            #multi LCA\n",
    "            calculation_setup = {'inv': [{wg:1}], 'ia': LCIA_methods}\n",
    "            bw.calculation_setups['perturbation'] = calculation_setup\n",
    "            mlca = bw.MultiLCA('perturbation')       \n",
    "            perturbation_df.loc['P'+str(r+1),LCIA_method_names]=mlca.results\n",
    "\n",
    "            for ind in relevant_indices_runs[run].keys():\n",
    "                default_amount=LCI_df.loc[ind,'amount']\n",
    "                exc_dict[ind]['amount']=default_amount\n",
    "                exc_dict[ind].save()        \n",
    "\n",
    "    # calculation of sensitivity ratios\n",
    "    calculation_setup = {'inv': [{wg:1}], 'ia': LCIA_methods}\n",
    "    bw.calculation_setups['perturbation'] = calculation_setup\n",
    "    default_mlca = bw.MultiLCA('perturbation')       \n",
    "    perturbation_df.loc['P'+str(r+1),LCIA_method_names]=default_mlca.results\n",
    "\n",
    "    senstivity_ratio_df=pd.DataFrame()\n",
    "\n",
    "    for i,ind in enumerate(perturbation_df.index):\n",
    "        for c,col in enumerate(perturbation_df.columns):\n",
    "            delta_rel_lca=(perturbation_df.loc[ind,col]-default_mlca.results[0][c])/default_mlca.results[0][c]\n",
    "            delta_rel_param=1.001\n",
    "            senstivity_ratio_df.loc[ind,col]=delta_rel_lca/delta_rel_param\n",
    "\n",
    "    senstivity_ratio_df=senstivity_ratio_df.reset_index(drop=True)\n",
    "\n",
    "    parameter_df=pd.concat([parameter_df, senstivity_ratio_df], axis=1)"
   ]
  },
  {
   "cell_type": "markdown",
   "id": "79f56b74",
   "metadata": {},
   "source": [
    "### 2.4 Waste Composition"
   ]
  },
  {
   "cell_type": "code",
   "execution_count": 75,
   "id": "ad5da437",
   "metadata": {},
   "outputs": [],
   "source": [
    "Waste_Comp_sheet_names={}\n",
    "\n",
    "for s in scenarios:\n",
    "    Waste_Comp_sheet_names[s]='Waste_Composition_'+s"
   ]
  },
  {
   "cell_type": "code",
   "execution_count": 76,
   "id": "b8b17d29",
   "metadata": {},
   "outputs": [],
   "source": [
    "Waste_Comp={}\n",
    "\n",
    "for s in scenarios:\n",
    "    Waste_Comp_S=pd.DataFrame()\n",
    "    for a,actname in enumerate(Pathway_names):\n",
    "        sub_df=LCI_df[LCI_df['activity code']==Pathway_codes[a]]\n",
    "        for i in sub_df.index:\n",
    "            for mat in material_codes:\n",
    "                if mat in sub_df.loc[i,'input code']:\n",
    "                    Waste_Comp_S.loc[mat,actname]='=ABS(LCI_default_'+s+'!'+LCI_df_col_dict['formula excel']+str(i+2)+')'    \n",
    "    Waste_Comp_S=Waste_Comp_S.loc[material_codes]\n",
    "    Waste_Comp[s]=Waste_Comp_S"
   ]
  },
  {
   "cell_type": "code",
   "execution_count": 77,
   "id": "90130932",
   "metadata": {},
   "outputs": [],
   "source": [
    "Waste_Comp_col_dict={}\n",
    "for c,col in enumerate(Waste_Comp_S.columns):\n",
    "    Waste_Comp_col_dict[col]=excel_cols[c+1]"
   ]
  },
  {
   "cell_type": "markdown",
   "id": "0b7a3c8f",
   "metadata": {},
   "source": [
    "### 2.5 Waste Generation"
   ]
  },
  {
   "cell_type": "code",
   "execution_count": 78,
   "id": "7d1942b7",
   "metadata": {},
   "outputs": [],
   "source": [
    "Waste_Gen_sheet_names={}\n",
    "\n",
    "for s in scenarios:\n",
    "    Waste_Gen_sheet_names[s]='Waste_Generation_'+s"
   ]
  },
  {
   "cell_type": "code",
   "execution_count": 79,
   "id": "e8402988",
   "metadata": {},
   "outputs": [],
   "source": [
    "Waste_Gen={}\n",
    "\n",
    "for s in scenarios:\n",
    "    Waste_Gen_S=pd.DataFrame(index=act_names)\n",
    "    name_code_dict={}\n",
    "    for a,ac in enumerate(Pathway_codes):\n",
    "        name_code_dict[Pathway_names[a]]=ac\n",
    "\n",
    "    sub_df=LCI_df[LCI_df['activity code']==WasteGen_code]\n",
    "    for i in sub_df.index:\n",
    "        for a,ac in enumerate(Pathway_codes):\n",
    "            if ac == sub_df.loc[i,'input code']:\n",
    "                Waste_Gen_S.loc[Pathway_names[a],'relative']='=ABS(LCI_default_'+s+'!'\\\n",
    "                                                        +LCI_df_col_dict['formula excel']+str(i+2)+')'\n",
    "                Waste_Gen_S.loc[Pathway_names[a],'absolute [kg]']='=ABS(LCI_default_'+s+'!'\\\n",
    "                                                +LCI_df_col_dict['formula excel']+str(i+2)+'*'\\\n",
    "                                                +\"HLOOKUP(\\\"Parameter Value - \"+s+\"\\\",Parameter!C1:\"\\\n",
    "                                                +excel_cols[n_scenarios+2]+\"2,2,FALSE))\"\n",
    "    #Waste_Gen_S=Waste_Gen_S.sort_index()\n",
    "    for c,col in enumerate(Waste_Gen_S.columns):\n",
    "        Waste_Gen_S.loc[act_names[0],col]='=SUM('+excel_cols[c+1]+str(3)+':'+excel_cols[c+1]+str(len(Waste_Gen_S)+1)+')'\n",
    "    \n",
    "    Waste_Gen[s]=Waste_Gen_S"
   ]
  },
  {
   "cell_type": "markdown",
   "id": "cc724380",
   "metadata": {},
   "source": [
    "### 2.6 Original Environmental Value"
   ]
  },
  {
   "cell_type": "markdown",
   "id": "40b55fb0",
   "metadata": {},
   "source": [
    "#### 2.6.1 Materials"
   ]
  },
  {
   "cell_type": "code",
   "execution_count": 80,
   "id": "34f87529",
   "metadata": {},
   "outputs": [],
   "source": [
    "EV_df=pd.read_excel(\"ExcelTool_GeneratorInput_Template.xlsx\", index_col=0, sheet_name='EnvironmentalValue')"
   ]
  },
  {
   "cell_type": "code",
   "execution_count": 81,
   "id": "4e6f156c",
   "metadata": {},
   "outputs": [],
   "source": [
    "OEV_material_sheet_names={}\n",
    "\n",
    "for db in db_names:\n",
    "    OEV_material_sheet_names[db]='OEV_materials_'+db"
   ]
  },
  {
   "cell_type": "code",
   "execution_count": 82,
   "id": "f91fbacd",
   "metadata": {},
   "outputs": [],
   "source": [
    "material_dict={}\n",
    "material_dict_db={}\n",
    "\n",
    "for d,db in enumerate(dbs):\n",
    "    for i in EV_df.index:\n",
    "        material_dict_db[i]=[act for act in db if act['name']==EV_df.loc[i,'Material activity name']\n",
    "                            and act['unit']==EV_df.loc[i,'Material activity unit']\n",
    "                            and act['location']==EV_df.loc[i,'Material activity location']][0]\n",
    "    material_dict[db_names[d]]=material_dict_db"
   ]
  },
  {
   "cell_type": "code",
   "execution_count": 83,
   "id": "d5147ef5",
   "metadata": {},
   "outputs": [],
   "source": [
    "OEV_materials={}\n",
    "\n",
    "for d,db in enumerate(db_names):\n",
    "    functional_units=[]\n",
    "    for act in material_dict[db].values():\n",
    "        functional_units.append({act:1})\n",
    "    functional_units\n",
    "\n",
    "    calculation_setup = {'inv': functional_units, 'ia': LCIA_methods}\n",
    "\n",
    "    bw.calculation_setups['materials'] = calculation_setup\n",
    "\n",
    "    mlca = bw.MultiLCA('materials')\n",
    "\n",
    "    OEV_material_norm=np.empty(np.shape(mlca.results))\n",
    "\n",
    "    for f,fu in enumerate(functional_units):\n",
    "        OEV_material_norm[f]=mlca.results[f]/nfs\n",
    "\n",
    "    OEV_materials_db=pd.DataFrame(OEV_material_norm, \n",
    "                 index=EV_df.index,\n",
    "                 columns=LCIA_method_names)\n",
    "\n",
    "    OEV_materials[db]=OEV_materials_db"
   ]
  },
  {
   "cell_type": "code",
   "execution_count": 84,
   "id": "a632ad12",
   "metadata": {},
   "outputs": [],
   "source": [
    "OEV_materials_col_dict={}\n",
    "for c,col in enumerate(OEV_materials[db].columns):\n",
    "    OEV_materials_col_dict[col]=excel_cols[c+1]"
   ]
  },
  {
   "cell_type": "markdown",
   "id": "beb16566",
   "metadata": {},
   "source": [
    "#### 2.6.2 Treatment Paths"
   ]
  },
  {
   "cell_type": "code",
   "execution_count": 85,
   "id": "94f7788e",
   "metadata": {},
   "outputs": [],
   "source": [
    "OEV_Pathways_sheet_names={}\n",
    "\n",
    "for db in db_names:\n",
    "    for s in scenarios:\n",
    "        OEV_Pathways_sheet_names[db+'_'+s]='OEV_Pathways_'+db+'_'+s"
   ]
  },
  {
   "cell_type": "code",
   "execution_count": 86,
   "id": "754cbf6b",
   "metadata": {},
   "outputs": [],
   "source": [
    "OEV_Pathways={}\n",
    "\n",
    "for db in db_names:\n",
    "    for s in scenarios:\n",
    "        OEV_Pathways_db=pd.DataFrame(index=act_names)\n",
    "        actnames=Pathway_names\n",
    "\n",
    "        for Pathway in actnames:\n",
    "            for n,IC in enumerate(LCIA_method_names):\n",
    "                OEV_Pathways_db.loc[Pathway,IC]='=SUMPRODUCT('+OEV_material_sheet_names[db]+'!'+OEV_materials_col_dict[IC]+'2:'+\\\n",
    "                                    OEV_material_sheet_names[db]+'!'+OEV_materials_col_dict[IC]+str(len(EV_df.index)+1)+','+ \\\n",
    "                                    Waste_Comp_sheet_names[s]+'!'+Waste_Comp_col_dict[Pathway]+'2:'+\\\n",
    "                                    Waste_Comp_sheet_names[s]+'!'+Waste_Comp_col_dict[Pathway]+str(len(EV_df.index)+1) \\\n",
    "                                    +')'\n",
    "    \n",
    "        for i,IC in enumerate(LCIA_method_names):\n",
    "            OEV_Pathways_db.loc[act_names[0],IC]='=SUMPRODUCT('+Waste_Gen_sheet_names[s]+'!B3:'+Waste_Gen_sheet_names[s]+'!B'+str(len(actnames)+2)+','\\\n",
    "                                            +excel_cols[i+1]+str(3)+':'+excel_cols[i+1]+str(len(actnames)+2)+')'\n",
    "\n",
    "        OEV_Pathways[db+'_'+s]=OEV_Pathways_db"
   ]
  },
  {
   "cell_type": "markdown",
   "id": "45719d20",
   "metadata": {},
   "source": [
    "### 2.7 Environmental Waste Utilization"
   ]
  },
  {
   "cell_type": "markdown",
   "id": "98543f51",
   "metadata": {},
   "source": [
    "#### 2.7.1 Per Pathway"
   ]
  },
  {
   "cell_type": "code",
   "execution_count": 90,
   "id": "334c9595",
   "metadata": {},
   "outputs": [],
   "source": [
    "Indicator_sheet_names={}\n",
    "\n",
    "for db in db_names:\n",
    "    for s in scenarios:\n",
    "        Indicator_sheet_names[db+'_'+s]='Indicator_'+db+'_'+s"
   ]
  },
  {
   "cell_type": "code",
   "execution_count": 91,
   "id": "b473ce34",
   "metadata": {},
   "outputs": [],
   "source": [
    "Indicator={}\n",
    "\n",
    "for db in db_names:\n",
    "    for s in scenarios:\n",
    "        Indicator_db=pd.DataFrame(index=OEV_Pathways_db.index,columns=OEV_Pathways_db.columns)\n",
    "\n",
    "        for i,ind in enumerate(Indicator_db.index):\n",
    "            for c,col in enumerate(Indicator_db.columns):\n",
    "                Indicator_db.loc[ind,col]='=-'+LCA_results_sheet_names[db+'_'+s]+'!'\\\n",
    "                +excel_cols[c+1]+str(i+2)+'/'+OEV_Pathways_sheet_names[db+'_'+s]+'!'+excel_cols[c+1]+str(i+2)\n",
    "        \n",
    "        Indicator[db+'_'+s]=Indicator_db"
   ]
  },
  {
   "cell_type": "markdown",
   "id": "984c4ec5",
   "metadata": {},
   "source": [
    "#### 2.7.2 Aggregated"
   ]
  },
  {
   "cell_type": "code",
   "execution_count": 92,
   "id": "c657f25c",
   "metadata": {},
   "outputs": [],
   "source": [
    "Weighted_Indicator_sheet_names={}\n",
    "\n",
    "for db in db_names:\n",
    "    for s in scenarios:\n",
    "        Weighted_Indicator_sheet_names[db+'_'+s]='W_Ind_'+db+'_'+s"
   ]
  },
  {
   "cell_type": "code",
   "execution_count": 93,
   "id": "0a676dc7",
   "metadata": {},
   "outputs": [],
   "source": [
    "Weighted_Indicator={}\n",
    "\n",
    "for db in db_names:\n",
    "    for s in scenarios:\n",
    "        Weighted_Indicator_db=pd.DataFrame()\n",
    "\n",
    "        for a,act in enumerate(Indicator_db.index):\n",
    "            for w,wm in enumerate(Weighting.columns):\n",
    "                formula='='\n",
    "                for i,IC in enumerate(LCIA_method_names):\n",
    "                    formula=formula+'+'+Indicator_sheet_names[db+'_'+s]+'!'+excel_cols[i+1]+str(a+2)\\\n",
    "                            +'*'+Weighting_sheet_name+'!'+excel_cols[w+1]+str(i+2)\n",
    "                Weighted_Indicator_db.loc[act,wm]=formula\n",
    "        Weighted_Indicator[db+'_'+s]=Weighted_Indicator_db"
   ]
  },
  {
   "cell_type": "markdown",
   "id": "85a457e0",
   "metadata": {},
   "source": [
    "### 2.8 Supply Chain"
   ]
  },
  {
   "cell_type": "code",
   "execution_count": 94,
   "id": "e956b18a",
   "metadata": {},
   "outputs": [],
   "source": [
    "supply_chain_sheet_names={}\n",
    "\n",
    "for s in scenarios:\n",
    "    for act in act_names:\n",
    "        supply_chain_sheet_names[s+'_'+act]='supply_chain_'+s+'_'+act"
   ]
  },
  {
   "cell_type": "code",
   "execution_count": 98,
   "id": "b3242d41",
   "metadata": {},
   "outputs": [],
   "source": [
    "LCI=LCI_dbs[db_names[0]+'_'+scenarios[0]]"
   ]
  },
  {
   "cell_type": "code",
   "execution_count": 96,
   "id": "a5b72496",
   "metadata": {},
   "outputs": [],
   "source": [
    "def supply_chain_per_Pathway(LCI,\n",
    "                       activity_df,\n",
    "                       supply_chain_df,\n",
    "                       db, scenario, n_scenarios, \n",
    "                       amount_col=None,\n",
    "                       excel_cols=excel_cols,\n",
    "                       previous_input_code=None, \n",
    "                       previous_input_name=None,\n",
    "                       first=True, x=None):\n",
    "    if first == True:\n",
    "        x=1\n",
    "        amount_col=excel_cols[LCI.columns.get_loc('formula excel')]\n",
    "        reference_amount=\"=VLOOKUP(\\\"\"+previous_input_name+\"\\\",Waste_Generation_\"+scenario+\"!A1:C100,3,FALSE)*\" \\\n",
    "                            +str(LCI[(LCI['type']=='production')&(LCI['input code']==previous_input_code)]['amount'].iloc[0])\n",
    "        supply_chain_df.loc[previous_input_code,'amount']=reference_amount\n",
    "        \n",
    "    if previous_input_code not in LCI['activity code'].unique():\n",
    "        return\n",
    "    else:\n",
    "        if x ==1000:\n",
    "            return\n",
    "        else:\n",
    "            x=x+1\n",
    "            ref=LCI[LCI['activity code']==previous_input_code]\n",
    "            previous_index=supply_chain_df.index.get_loc(previous_input_code)+2\n",
    "            production_index=ref[(ref['input code']==previous_input_code)&(ref['type']=='production')].index[0]+2\n",
    "            for i in ref.index:\n",
    "                if ref.loc[i,'type']!='production':\n",
    "                    input_code=ref.loc[i,'input code']\n",
    "                    if len(LCI[(LCI['input code']==input_code)&(LCI['type']=='production')])>0:\n",
    "                        act_index=LCI[(LCI['input code']==input_code)&(LCI['type']=='production')].index[0]+2\n",
    "                    else:\n",
    "                        act_index=LCI[(LCI['input code']==input_code)].index[0]+2\n",
    "                    if pd.isnull(supply_chain_df.loc[input_code,'amount'])==True:\n",
    "                        supply_chain_df.loc[input_code,'amount']='=B'+str(previous_index)+'*'+'LCI_'+db+'_'+scenario+'!'\\\n",
    "                                                                +amount_col+str(i+2)+'*'+'LCI_'+db+'_'+scenario+'!'\\\n",
    "                                                                +amount_col+str(production_index)\n",
    "                    else:\n",
    "                        supply_chain_df.loc[input_code,'amount']=supply_chain_df.loc[input_code,'amount']+'+B'\\\n",
    "                                                                +str(previous_index)+'*'+'LCI_'+db+'_'+scenario+'!'\\\n",
    "                                                                +amount_col+str(i+2)+'*'+'LCI_'+db+'_'+scenario+'!'\\\n",
    "                                                                +amount_col+str(production_index)\n",
    "                    previous_input_code=input_code\n",
    "                    supply_chain_per_Pathway(LCI=LCI,\n",
    "                                       activity_df=activity_df,\n",
    "                                       supply_chain_df=supply_chain_df,\n",
    "                                       db=db, scenario=scenario, n_scenarios=n_scenarios, \n",
    "                                       amount_col=amount_col,\n",
    "                                       excel_cols=excel_cols,\n",
    "                                       previous_input_code=previous_input_code, \n",
    "                                       first=False,x=x)"
   ]
  },
  {
   "cell_type": "code",
   "execution_count": 99,
   "id": "763fc0da",
   "metadata": {},
   "outputs": [],
   "source": [
    "supply_chain={}\n",
    "\n",
    "for scenario in scenarios:\n",
    "    for a,actcode in enumerate(act_codes):\n",
    "        #print(scenario+'_'+act_names[a], actcode)\n",
    "        supply_chain_df=pd.DataFrame(index=LCI['input code'].unique())\n",
    "\n",
    "        supply_chain_per_Pathway(LCI,\n",
    "                       activity_df, \n",
    "                       supply_chain_df,\n",
    "                       db, scenario, n_scenarios,\n",
    "                       previous_input_code=actcode,\n",
    "                       previous_input_name=act_names[a])\n",
    "\n",
    "        supply_chain_df=supply_chain_df.replace(np.nan,0)\n",
    "\n",
    "        supply_chain[scenario+'_'+act_names[a]]=supply_chain_df"
   ]
  },
  {
   "cell_type": "markdown",
   "id": "4cf1589b",
   "metadata": {},
   "source": [
    "### 2.9 Contribution Analysis"
   ]
  },
  {
   "cell_type": "markdown",
   "id": "79bf5fc9",
   "metadata": {},
   "source": [
    "#### 2.9.1 Pathways"
   ]
  },
  {
   "cell_type": "code",
   "execution_count": 100,
   "id": "f53db82c",
   "metadata": {},
   "outputs": [],
   "source": [
    "CA_Pathways_sheet_names={}\n",
    "\n",
    "for db in db_names:\n",
    "    for s in scenarios:\n",
    "        CA_Pathways_sheet_names[db+'_'+s]='CA_Pathways_'+db+'_'+s"
   ]
  },
  {
   "cell_type": "code",
   "execution_count": 157,
   "id": "f8bdcd62",
   "metadata": {},
   "outputs": [],
   "source": [
    "CA_Pathways={}\n",
    "amount_col=excel_cols[LCI_df_db.columns.get_loc('formula excel')]\n",
    "\n",
    "for db in db_names:\n",
    "    for s in scenarios:\n",
    "        CA_Pathways_db=pd.DataFrame(index=OEV_Pathways_db.index, columns=LCIA_method_names)\n",
    "\n",
    "        for n,IC in enumerate(CA_Pathways_db.columns):\n",
    "            for i,ind in enumerate(CA_Pathways_db.index):\n",
    "                 CA_Pathways_db.loc[ind,IC]='='+LCA_results_sheet_names[db+'_'+s]+'!'+excel_cols[n+1]\\\n",
    "                                    +str(i+2)+'*'+Waste_Gen_sheet_names[s]+'!C'+str(i+2)\n",
    "\n",
    "        CA_Pathways[db+'_'+s]=CA_Pathways_db"
   ]
  },
  {
   "cell_type": "markdown",
   "id": "d6100641",
   "metadata": {},
   "source": [
    "#### 2.9.2 Activities"
   ]
  },
  {
   "cell_type": "code",
   "execution_count": 101,
   "id": "a19bb042",
   "metadata": {},
   "outputs": [],
   "source": [
    "CA_acts_sheet_names={}\n",
    "\n",
    "for db in db_names:\n",
    "    for s in scenarios:\n",
    "        CA_acts_sheet_names[db+'_'+s]='CA_acts_'+db+'_'+s"
   ]
  },
  {
   "cell_type": "code",
   "execution_count": 102,
   "id": "15d9db58",
   "metadata": {},
   "outputs": [],
   "source": [
    "# activity tags\n",
    "activity_tag_dict={}\n",
    "\n",
    "for tag in activity_df['Activity tag'].unique():\n",
    "    if pd.isnull(tag)==False:\n",
    "        tag_list=[]\n",
    "        sub_df=activity_df[activity_df['Activity tag']==tag]\n",
    "        for i in sub_df.index:\n",
    "            sub_dict={}\n",
    "            sub_dict['name']=activity_df.loc[i,'Activity name']\n",
    "            sub_dict['unit']=activity_df.loc[i,'Unit']\n",
    "            sub_dict['location']=activity_df.loc[i,'Location']\n",
    "            tag_list.append(sub_dict)\n",
    "        activity_tag_dict[tag]=tag_list"
   ]
  },
  {
   "cell_type": "code",
   "execution_count": 104,
   "id": "4a7bcea9",
   "metadata": {},
   "outputs": [],
   "source": [
    "df=LCI_dbs['default_Default']\n",
    "db='default'\n",
    "scenario='Default'"
   ]
  },
  {
   "cell_type": "code",
   "execution_count": 105,
   "id": "f6adc801",
   "metadata": {},
   "outputs": [],
   "source": [
    "for tag in activity_tag_dict.keys():\n",
    "    for tag_act in activity_tag_dict[tag]:\n",
    "        name=tag_act['name']\n",
    "        location=tag_act['location']\n",
    "        unit=tag_act['unit']\n",
    "        for i in df.index:\n",
    "            if (df.loc[i,'input']==name)&(df.loc[i,'input location']==location)&(df.loc[i,'input unit']==unit):\n",
    "                df.loc[i,'activity tag']=tag"
   ]
  },
  {
   "cell_type": "code",
   "execution_count": 106,
   "id": "2203d715",
   "metadata": {},
   "outputs": [],
   "source": [
    "for db in db_names:\n",
    "    for scenario in scenarios:\n",
    "        for tag in activity_tag_dict.keys():\n",
    "            for tag_act in activity_tag_dict[tag]:\n",
    "                if len(df[(df['activity']==tag_act['name'])&(df['type']=='production')])>0:\n",
    "                    for i in df[(df['activity']==tag_act['name'])&(df['type']=='production')].index:\n",
    "                        sub_dict={}\n",
    "                        sub=df[(df['activity']==tag_act['name'])&(df['activity location']==tag_act['location'])]\n",
    "                        index=sub[(sub['activity tag'].isnull()==False)&(sub['type']=='production')].index[0]\n",
    "                        sub_tags=sub[(sub['activity tag'].isnull()==False)&(sub['type']!='production')].index\n",
    "                        tag_act['sub_tags']=sub_tags\n",
    "                        ref_amount= LCI_df_col_dict['formula excel']+str(index+2)\n",
    "                else:\n",
    "                    index=df[(df['input']==tag_act['name'])].index[0]\n",
    "                    ref_amount= LCI_df_col_dict['formula excel']+str(index+2)\n",
    "                tag_act['index']=index\n",
    "                tag_act['ref_amount']=ref_amount\n",
    "                code=df.loc[index,'input code']\n",
    "                tag_act['code']=code"
   ]
  },
  {
   "cell_type": "code",
   "execution_count": 107,
   "id": "2c04fb31",
   "metadata": {},
   "outputs": [],
   "source": [
    "CA_acts={}\n",
    "\n",
    "for db in db_names:\n",
    "    for scenario in scenarios:\n",
    "        CA_acts_df=pd.DataFrame()\n",
    "        for tag in activity_tag_dict:\n",
    "            for i,IC in enumerate(LCIA_method_names):\n",
    "                unit_impact='('\n",
    "                \n",
    "                for t,tag_act in enumerate(activity_tag_dict[tag]):\n",
    "                    if t != 0:\n",
    "                        unit_impact=unit_impact+'+'\n",
    "                    unit_impact=unit_impact+supply_chain_sheet_names[scenario+'_'+act_names[0]]+'!B'\\\n",
    "                                    +str(supply_chain_df.index.get_loc(tag_act['code'])+2)+'*'+'('+'LCI_'+db+'_'+scenario+'!'+LCI_df_col_dict[IC+' Impact']\\\n",
    "                                    +str(tag_act['index']+2)\n",
    "                    if 'sub_tags' in tag_act.keys():\n",
    "                        for sub_tag in tag_act['sub_tags']:\n",
    "                            unit_impact=unit_impact+'-LCI_'+db+'_'+scenario+'!'+LCI_df_col_dict[IC+' Impact']\\\n",
    "                                        +str(sub_tag+2)\n",
    "                    unit_impact=unit_impact+')'+'/'+'LCI_'+db+'_'+scenario+'!'+tag_act['ref_amount']\n",
    "\n",
    "                CA_acts_df.loc[tag,IC]='='+unit_impact+')'+'/LCIA_Methods!D'+str(i+2)\n",
    "        CA_acts[db+'_'+scenario]=CA_acts_df"
   ]
  },
  {
   "cell_type": "code",
   "execution_count": 108,
   "id": "72f7fe66",
   "metadata": {},
   "outputs": [],
   "source": [
    "n_tags=len(activity_tag_dict.keys())"
   ]
  },
  {
   "cell_type": "code",
   "execution_count": 109,
   "id": "c5459660",
   "metadata": {},
   "outputs": [],
   "source": [
    "for db in db_names:\n",
    "    for scenario in scenarios:\n",
    "        CA_acts_df=CA_acts[db+'_'+scenario]\n",
    "        for i,IC in enumerate(LCIA_method_names):\n",
    "            col=excel_cols[i+1]\n",
    "            reference_amount='ABS('+supply_chain_sheet_names[scenario+'_'+act_names[0]]+'!B'\\\n",
    "                                    +str(supply_chain_df.index.get_loc(WasteGen_code)+2)+')'\n",
    "            CA_acts_df.loc['Others', IC]='=LCA_'+db+'_'+scenario+'!'+col+'2*'+reference_amount+'-SUM('+col+'2:'\\\n",
    "                                        +col+str(n_tags+1)+')'"
   ]
  },
  {
   "cell_type": "markdown",
   "id": "9992a30a",
   "metadata": {},
   "source": [
    "### 2.10 EWU-Components: Treatment - Utilization - Material"
   ]
  },
  {
   "cell_type": "markdown",
   "id": "6aa726fb",
   "metadata": {},
   "source": [
    "#### 2.10.1 Per Impact Category"
   ]
  },
  {
   "cell_type": "code",
   "execution_count": 110,
   "id": "dc0a2cb5",
   "metadata": {},
   "outputs": [],
   "source": [
    "TUM_sheet_names={}\n",
    "\n",
    "for db in db_names:\n",
    "    for s in scenarios:\n",
    "        for TUM_type in ['Treatm', 'Util', 'Mat']:\n",
    "            TUM_sheet_names[db+'_'+s+'_'+TUM_type]='TUM_'+db+'_'+s+'_'+TUM_type"
   ]
  },
  {
   "cell_type": "code",
   "execution_count": 111,
   "id": "7dd3a4fc",
   "metadata": {},
   "outputs": [],
   "source": [
    "sc_indices={}\n",
    "LCI_indices={}\n",
    "for wuc in waste_utilization_codes:\n",
    "    sc_indices[wuc]=str(supply_chain_df.index.get_loc(wuc)+2)\n",
    "    LCI_indices[wuc]=str(LCI[LCI['input code']==wuc].index[0]+2)"
   ]
  },
  {
   "cell_type": "code",
   "execution_count": 112,
   "id": "e76f4738",
   "metadata": {},
   "outputs": [],
   "source": [
    "TUM={}\n",
    "\n",
    "for db in db_names:\n",
    "    for s in scenarios:\n",
    "        for TUM_type in ['Treatm', 'Util', 'Mat']:\n",
    "            TUM_df=pd.DataFrame(index=act_names, columns=LCIA_method_names)\n",
    "            if TUM_type == 'Util':\n",
    "                for act in TUM_df.index:\n",
    "                    for i,IC in enumerate(LCIA_method_names):\n",
    "                        formula='='\n",
    "                        for wuc in waste_utilization_codes:\n",
    "                            formula = formula + '+(supply_chain_'+scenario+'_'+act+'!B'+sc_indices[wuc]+'*'+'LCI_'+db+'_'+scenario+'!'+LCI_df_col_dict[IC+' Impact']\\\n",
    "                                                    +LCI_indices[wuc]+'/'+'LCI_'+db+'_'+scenario+'!AB'+LCI_indices[wuc]+')'                   \n",
    "                        TUM_df.loc[act, IC]=formula+'/LCIA_Methods!D'+str(i+2)\n",
    "                TUM[db+'_'+s+'_'+'Util']=TUM_df\n",
    "            if TUM_type == 'Treatm':\n",
    "                for a,act in enumerate(TUM_df.index):\n",
    "                    for i,IC in enumerate(LCIA_method_names):\n",
    "                        TUM_df.loc[act, IC]='=CA_Pathways_'+db+'_'+s+'!'+excel_cols[i+1]+str(a+2)+\\\n",
    "                                            '-TUM_'+db+'_'+s+'_'+'Util'+'!'+excel_cols[i+1]+str(a+2)\n",
    "                TUM[db+'_'+s+'_'+'Treatm']=TUM_df\n",
    "            if TUM_type == 'Mat':\n",
    "                for a,act in enumerate(TUM_df.index):\n",
    "                    for i,IC in enumerate(LCIA_method_names):\n",
    "                        TUM_df.loc[act, IC]='=OEV_Pathways_'+db+'_'+s+'!'+excel_cols[i+1]+str(a+2)+\"*VLOOKUP(\\\"\"+act+\"\\\",Waste_Generation_\"+scenario+\"!A1:C100,3,FALSE)\"\n",
    "                TUM[db+'_'+s+'_'+'Mat']=TUM_df                "
   ]
  },
  {
   "cell_type": "markdown",
   "id": "b1d246cd",
   "metadata": {},
   "source": [
    "#### 2.10.2 Aggregated"
   ]
  },
  {
   "cell_type": "code",
   "execution_count": 113,
   "id": "74c6dfe9",
   "metadata": {},
   "outputs": [],
   "source": [
    "Weighted_TUM_sheet_names={}\n",
    "\n",
    "for db in db_names:\n",
    "    for s in scenarios:\n",
    "        for TUM_type in ['Treatm', 'Util', 'Mat']:\n",
    "            Weighted_TUM_sheet_names[db+'_'+s+'_'+TUM_type]='WTUM_'+db+'_'+s+'_'+TUM_type"
   ]
  },
  {
   "cell_type": "code",
   "execution_count": 114,
   "id": "38c34cfa",
   "metadata": {},
   "outputs": [],
   "source": [
    "Weighted_TUM={}\n",
    "\n",
    "for db in db_names:\n",
    "    for s in scenarios:\n",
    "        for TUM_type in ['Treatm', 'Util', 'Mat']:\n",
    "            Weighted_TUM_df=pd.DataFrame()\n",
    "\n",
    "            for a,act in enumerate(TUM_df.index):\n",
    "                for w,wm in enumerate(Weighting.columns):\n",
    "                    formula='='\n",
    "                    for i,IC in enumerate(LCIA_method_names):\n",
    "                        formula=formula+'+'+TUM_sheet_names[db+'_'+s+'_'+TUM_type]+'!'+excel_cols[i+1]+str(a+2)\\\n",
    "                                +'*'+Weighting_sheet_name+'!'+excel_cols[w+1]+str(i+2)\n",
    "                    Weighted_TUM_df.loc[act,wm]=formula\n",
    "            Weighted_TUM[db+'_'+s+'_'+TUM_type]=Weighted_TUM_df"
   ]
  },
  {
   "cell_type": "markdown",
   "id": "884c8c7f",
   "metadata": {},
   "source": [
    "### 2.11 Dashboard"
   ]
  },
  {
   "cell_type": "markdown",
   "id": "151da685",
   "metadata": {},
   "source": [
    "#### 2.11.1 Figure 1: Indicator Scores per Impact Category (Spider Chart)"
   ]
  },
  {
   "cell_type": "code",
   "execution_count": 115,
   "id": "b6603e3c",
   "metadata": {},
   "outputs": [],
   "source": [
    "figure1_sheet_name='Figure1_Data'"
   ]
  },
  {
   "cell_type": "code",
   "execution_count": 116,
   "id": "2cc06c48",
   "metadata": {},
   "outputs": [],
   "source": [
    "figure1_index='=EWU_Dashboard!B3' #selected treatment path / system\n",
    "figure1_df=pd.DataFrame(columns=LCIA_method_names)\n",
    "for i,IC in enumerate(LCIA_method_names):\n",
    "    for a,act in enumerate(act_names):\n",
    "        figure1_df.loc[act,IC]=\"=IF(EWU_Dashboard!B3=A\"+str(a+2)+\",INDIRECT(\\\"\\'\\\"&\"+\\\n",
    "                                            excel_cols[i+1]+str(len(act_names)+2)+\\\n",
    "                                            \"&\\\"\\'!\"+excel_cols[i+1]\\\n",
    "                                            +\"\\\"&VLOOKUP(EWU_Dashboard!B3,dict!A2:B100,2,FALSE)),#N/A)\"\n",
    "    figure1_df.loc['sheet_name',IC]=\"=\\\"Indicator_\\\"&\"+excel_cols[i+1]+str(len(act_names)+3)\\\n",
    "                                        +\"&\\\"_\\\"&EWU_Dashboard!B5\"\n",
    "    figure1_df.loc['db_short',IC]=\"=VLOOKUP(EWU_Dashboard!B4,dict!A2:B100,2,FALSE)\""
   ]
  },
  {
   "cell_type": "markdown",
   "id": "9ca96293",
   "metadata": {},
   "source": [
    "#### 2.11.2 Figure 2: Aggregated Indicator Scores (Bar Chart)"
   ]
  },
  {
   "cell_type": "code",
   "execution_count": 117,
   "id": "6f8ab267",
   "metadata": {},
   "outputs": [],
   "source": [
    "figure2_sheet_name='Figure2_Data'"
   ]
  },
  {
   "cell_type": "code",
   "execution_count": 118,
   "id": "bcfc0c9d",
   "metadata": {},
   "outputs": [],
   "source": [
    "figure2_index='=EWU_Dashboard!B6' #selected weighting method\n",
    "figure2_df=pd.DataFrame(columns=act_names)\n",
    "\n",
    "for a,act in enumerate(act_names):\n",
    "    figure2_df.loc[figure2_index,act]=\"=HLOOKUP(A2,INDIRECT(\"+excel_cols[a+1]+\"3\"+\"&\\\"!B1:\"\\\n",
    "                                        +excel_cols[len(Weighting.columns)]+str(len(act_names)+1)+\"\\\"),\"+\\\n",
    "                                        \"VLOOKUP(\"+excel_cols[a+1]+\"1,dict!A2:B100,2,FALSE),FALSE)\"\n",
    "    figure2_df.loc['sheet_name',act]=\"=\\\"W_Ind_\\\"&\"+excel_cols[a+1]+\"4&\\\"_\\\"&EWU_Dashboard!B5\"\n",
    "    figure2_df.loc['db_short',act]=\"=VLOOKUP(EWU_Dashboard!B4,dict!A2:B100,2,FALSE)\""
   ]
  },
  {
   "cell_type": "markdown",
   "id": "bc523980",
   "metadata": {},
   "source": [
    "#### 2.11.3 Figure 3: Contribution Analysis - Pathways (Bar Chart - Stacked)"
   ]
  },
  {
   "cell_type": "code",
   "execution_count": 119,
   "id": "20316805",
   "metadata": {},
   "outputs": [],
   "source": [
    "figure3_sheet_name='Figure3_Data'"
   ]
  },
  {
   "cell_type": "code",
   "execution_count": 120,
   "id": "4c105b70",
   "metadata": {},
   "outputs": [],
   "source": [
    "figure3_df=pd.DataFrame(columns=LCIA_method_names)\n",
    "fig3_sheet_name=\"=\\\"CA_Pathways_\\\"&B2&\\\"_\\\"&EWU_Dashboard!B5\" #cell B1\n",
    "fig3_db_short=\"=VLOOKUP(EWU_Dashboard!B4,dict!A2:B100,2,FALSE)\" # cell B2\n",
    "\n",
    "for a,act in enumerate(act_names):\n",
    "    for i,IC in enumerate(LCIA_method_names):\n",
    "        figure3_df.loc[act,IC]=\"=INDIRECT(B1&\\\"!\"+excel_cols[i+1]+str(a+2)+\"\\\")\"#+\"*INDIRECT(B3&\\\"!C\"+str(a+2)+\"\\\")\""
   ]
  },
  {
   "cell_type": "markdown",
   "id": "1eb45391",
   "metadata": {},
   "source": [
    "#### 2.11.4 Figure 4: Contribution Analysis - Processes (Bar Chart - Stacked)"
   ]
  },
  {
   "cell_type": "code",
   "execution_count": 122,
   "id": "f2fb81c8",
   "metadata": {},
   "outputs": [],
   "source": [
    "figure4_sheet_name='Figure4_Data'"
   ]
  },
  {
   "cell_type": "code",
   "execution_count": 123,
   "id": "147e08c1",
   "metadata": {},
   "outputs": [],
   "source": [
    "figure4_df=pd.DataFrame(columns=LCIA_method_names)\n",
    "fig4_sheet_name=\"=\\\"CA_acts_\\\"&B2&\\\"_\\\"&EWU_Dashboard!B5\" #cell B1\n",
    "fig4_db_short=\"=VLOOKUP(EWU_Dashboard!B4,dict!A2:B100,2,FALSE)\" # cell B2\n",
    "\n",
    "for a,act in enumerate(CA_acts_df.index):\n",
    "    for i,IC in enumerate(LCIA_method_names):\n",
    "        figure4_df.loc[act,IC]=\"=INDIRECT(B1&\\\"!\"+excel_cols[i+1]+str(a+2)+\"\\\")\""
   ]
  },
  {
   "cell_type": "markdown",
   "id": "53e3ce64",
   "metadata": {},
   "source": [
    "#### 2.11.5 Figure 5: Scenario Analysis - Foreground System (Bar Chart)"
   ]
  },
  {
   "cell_type": "code",
   "execution_count": 124,
   "id": "e65cf844",
   "metadata": {},
   "outputs": [],
   "source": [
    "figure5_sheet_name='Figure5_Data'"
   ]
  },
  {
   "cell_type": "code",
   "execution_count": 126,
   "id": "8b97f8fb",
   "metadata": {},
   "outputs": [],
   "source": [
    "n_weightingsets=len(Weighting.columns)\n",
    "n_acts=len(act_names)"
   ]
  },
  {
   "cell_type": "code",
   "execution_count": 127,
   "id": "a8c1deae",
   "metadata": {},
   "outputs": [],
   "source": [
    "figure5_index='=EWU_Dashboard!B3' #selected treatment path / system\n",
    "figure5_df=pd.DataFrame(columns=scenarios)\n",
    "\n",
    "for s,scenario in enumerate(scenarios):\n",
    "    for a,act in enumerate(act_names):\n",
    "        figure5_df.loc[act,scenario]=\"=IF(EWU_Dashboard!B3=A\"+str(a+2)+\",HLOOKUP(EWU_Dashboard!B6,INDIRECT(\"+excel_cols[s+1]\\\n",
    "                                                +str(len(act_names)+2)+\"&\\\"!A1:\"\\\n",
    "                                                +excel_cols[n_weightingsets]+str(n_acts+1)\\\n",
    "                                                +\"\\\"),VLOOKUP(EWU_Dashboard!B3,dict!A2:B100,2,FALSE),FALSE),0)\"\n",
    "    figure5_df.loc['sheet_name',scenario]=\"=\\\"W_Ind_\\\"&\"+excel_cols[s+1]+str(len(act_names)+3)+\"&\\\"_\\\"&\\\"\"+scenario+\"\\\"\"\n",
    "    figure5_df.loc['db_short',scenario]=\"=VLOOKUP(EWU_Dashboard!B4,dict!A2:B100,2,FALSE)\""
   ]
  },
  {
   "cell_type": "markdown",
   "id": "4ea7ae5f",
   "metadata": {},
   "source": [
    "#### 2.11.6 Figure 6: Scenario Analysis - Background System (Bar Chart)"
   ]
  },
  {
   "cell_type": "code",
   "execution_count": 128,
   "id": "fb74562e",
   "metadata": {},
   "outputs": [],
   "source": [
    "figure6_sheet_name='Figure6_Data'"
   ]
  },
  {
   "cell_type": "code",
   "execution_count": 129,
   "id": "3faf4639",
   "metadata": {},
   "outputs": [],
   "source": [
    "figure6_index='=EWU_Dashboard!B3' #selected treatment path / system\n",
    "figure6_df=pd.DataFrame(columns=db_names)\n",
    "\n",
    "for d,db in enumerate(db_names):\n",
    "    for a,act in enumerate(act_names):\n",
    "        figure6_df.loc[act,db]=\"=IF(EWU_Dashboard!B3=A\"+str(a+2)+\",HLOOKUP(\"+excel_cols[d+1]+str(len(act_names)+3)+\",INDIRECT(\"+excel_cols[d+1]\\\n",
    "                                            +str(len(act_names)+4)+\"&\\\"!A1:\"\\\n",
    "                                            +excel_cols[n_weightingsets]+str(n_acts+1)\\\n",
    "                                            +\"\\\"),VLOOKUP(EWU_Dashboard!B3,dict!A1:B100,2,FALSE),FALSE),0)\"\n",
    "    figure6_df.loc['scenario',db]=\"=EWU_Dashboard!B5\"\n",
    "    figure6_df.loc['weighting_method',db]=\"=EWU_Dashboard!B6\"\n",
    "    figure6_df.loc['sheet_name',db]=\"=\\\"W_Ind_\\\"&\"+excel_cols[d+1]+\"1&\\\"_\\\"&\"+excel_cols[d+1]+str(len(act_names)+2)"
   ]
  },
  {
   "cell_type": "markdown",
   "id": "63a64932",
   "metadata": {},
   "source": [
    "#### 2.11.7 Figure 7: EWU - Components"
   ]
  },
  {
   "cell_type": "code",
   "execution_count": 130,
   "id": "d7e59361",
   "metadata": {},
   "outputs": [],
   "source": [
    "figure7_sheet_name='Figure7_Data'"
   ]
  },
  {
   "cell_type": "code",
   "execution_count": 131,
   "id": "35e0be0c",
   "metadata": {},
   "outputs": [],
   "source": [
    "figure7_df=pd.DataFrame(columns=['Treatment', 'Utilization', 'Material'])\n",
    "col_shorts=['Treatm', 'Util', 'Mat']\n",
    "\n",
    "for c,col in enumerate(figure7_df.columns):\n",
    "    for a,act in enumerate(act_names):\n",
    "        figure7_df.loc[act,col]=\"=HLOOKUP(\"+excel_cols[c+1]+str(len(act_names)+4)+\",INDIRECT(\"+excel_cols[c+1]\\\n",
    "                                            +str(len(act_names)+5)+\"&\\\"!A1:\"\\\n",
    "                                            +excel_cols[n_weightingsets]+str(n_acts+1)\\\n",
    "                                            +\"\\\"),\"+str(a+2)+\",FALSE)\"\n",
    "    figure7_df.loc['db_short',col]=\"=VLOOKUP(EWU_Dashboard!B4,dict!A2:B100,2,FALSE)\"\n",
    "    figure7_df.loc['scenario',col]=\"=EWU_Dashboard!B5\"\n",
    "    figure7_df.loc['weighting_method',col]=\"=EWU_Dashboard!B6\"\n",
    "    figure7_df.loc['sheet_name',col]=\"=\\\"WTUM_\\\"&\"+excel_cols[c+1]+str(len(act_names)+2)+\"&\\\"_\\\"&\"+\\\n",
    "                                        excel_cols[c+1]+str(len(act_names)+3)+\"&\\\"_\"+col_shorts[c]+\"\\\"\""
   ]
  },
  {
   "cell_type": "markdown",
   "id": "842ee1d0",
   "metadata": {},
   "source": [
    "## 3. Export to Excel"
   ]
  },
  {
   "cell_type": "markdown",
   "id": "630eabe2",
   "metadata": {},
   "source": [
    "### 3.1 Format"
   ]
  },
  {
   "cell_type": "code",
   "execution_count": 308,
   "id": "7b0eb3db",
   "metadata": {},
   "outputs": [],
   "source": [
    "EWU_dashboard='EWU_Dashboard.xlsx'"
   ]
  },
  {
   "cell_type": "code",
   "execution_count": 309,
   "id": "aa974438",
   "metadata": {},
   "outputs": [],
   "source": [
    "writer = pd.ExcelWriter(EWU_dashboard, engine='xlsxwriter')\n",
    "workbook = writer.book"
   ]
  },
  {
   "cell_type": "code",
   "execution_count": 310,
   "id": "e0be9eac",
   "metadata": {},
   "outputs": [],
   "source": [
    "title_format = workbook.add_format({'num_format': '0.00','text_wrap':False, \n",
    "                                         'font':'Arial', 'font_size':22,'bold':True, \n",
    "                                         'border':0,'border_color':'black'})\n",
    "subtitle_format = workbook.add_format({'num_format': '0.00','text_wrap':False, \n",
    "                                         'font':'Arial', 'font_size':22,'bold':True, \n",
    "                                         'border':0,'border_color':'black'})\n",
    "text_format = workbook.add_format({'num_format': '0%','text_wrap':False, \n",
    "                                         'font':'Arial', 'font_size':18, \n",
    "                                         'border':1,'border_color':'black'})\n",
    "text_format2 = workbook.add_format({'num_format': '0%','text_wrap':False, \n",
    "                                         'font':'Arial', 'font_size':18, \n",
    "                                         'bold': True, 'font_color': 'white',\n",
    "                                         'fg_color':'#595959',\n",
    "                                         'border':1,'border_color':'black'})\n",
    "heading_format = workbook.add_format({'num_format': '0.00','text_wrap':True, \n",
    "                                         'font':'Arial', 'font_size':10,'bold':True, \n",
    "                                         'border':1,'border_color':'black'})\n",
    "percentage_format = workbook.add_format({'num_format': '0%','text_wrap':True, \n",
    "                                         'font':'Arial', 'font_size':10, \n",
    "                                         'border':1,'border_color':'black'})\n",
    "number_format = workbook.add_format({'num_format': '0.00','text_wrap':True, \n",
    "                                         'font':'Arial', 'font_size':10, \n",
    "                                         'border':1,'border_color':'black'})\n",
    "scientific_format = workbook.add_format({'num_format': '0.00E+00','text_wrap':True, \n",
    "                                         'font':'Arial', 'font_size':10, \n",
    "                                         'border':1,'border_color':'black'})\n",
    "background_format = workbook.add_format({'bg_color':'white'})"
   ]
  },
  {
   "cell_type": "markdown",
   "id": "67ee290e",
   "metadata": {},
   "source": [
    "### 3.2 Colors"
   ]
  },
  {
   "cell_type": "code",
   "execution_count": 311,
   "id": "1a851d50",
   "metadata": {},
   "outputs": [],
   "source": [
    "color_df=pd.read_excel('ExcelTool_GeneratorInput_Template.xlsx', sheet_name='Format', index_col=0)"
   ]
  },
  {
   "cell_type": "code",
   "execution_count": 312,
   "id": "6d784030",
   "metadata": {},
   "outputs": [],
   "source": [
    "if len(color_df)==0:\n",
    "    color_dict={}\n",
    "else:\n",
    "    color_dict=color_df.iloc[:,0].to_dict()\n",
    "    \n",
    "color_keys=[*act_names, *activity_tags]"
   ]
  },
  {
   "cell_type": "code",
   "execution_count": 313,
   "id": "7a1efff7",
   "metadata": {},
   "outputs": [],
   "source": [
    "ck_notincl=[]\n",
    "for ck in color_keys:\n",
    "    if ck not in color_dict.keys():\n",
    "        ck_notincl.append(ck)\n",
    "        \n",
    "add_colors=mcp.gen_color(cmap=\"turbo\",n=len(ck_notincl))\n",
    "\n",
    "for c,ck in enumerate(ck_notincl):\n",
    "    color_dict[ck]=add_colors[c]"
   ]
  },
  {
   "cell_type": "markdown",
   "id": "7cb8f07f",
   "metadata": {},
   "source": [
    "### 3.3 Create workbooks"
   ]
  },
  {
   "cell_type": "code",
   "execution_count": 314,
   "id": "272e410a",
   "metadata": {},
   "outputs": [],
   "source": [
    "Dashboard_sheet=workbook.add_worksheet('EWU_Dashboard')\n",
    "\n",
    "figure1_sheet=workbook.add_worksheet(figure1_sheet_name)\n",
    "figure2_sheet=workbook.add_worksheet(figure2_sheet_name)\n",
    "figure3_sheet=workbook.add_worksheet(figure3_sheet_name)\n",
    "figure4_sheet=workbook.add_worksheet(figure4_sheet_name)\n",
    "figure5_sheet=workbook.add_worksheet(figure5_sheet_name)\n",
    "figure6_sheet=workbook.add_worksheet(figure6_sheet_name)\n",
    "figure7_sheet=workbook.add_worksheet(figure7_sheet_name)\n",
    "documentation_sheet=workbook.add_worksheet('Documentation')\n",
    "dict_sheet=workbook.add_worksheet('dict')\n",
    "\n",
    "Indicator_sheets={}\n",
    "for db_s in Indicator_sheet_names.keys():\n",
    "    Indicator_sheets[db_s]=workbook.add_worksheet(Indicator_sheet_names[db_s])\n",
    "    \n",
    "Weighted_Indicator_sheets={}\n",
    "for db_s in Weighted_Indicator_sheet_names.keys():\n",
    "    Weighted_Indicator_sheets[db_s]=workbook.add_worksheet(Weighted_Indicator_sheet_names[db_s])\n",
    "    \n",
    "Weighting_sheet=workbook.add_worksheet(Weighting_sheet_name)\n",
    "\n",
    "LCA_results_sheets={}\n",
    "for db_s in LCA_results_sheet_names.keys():\n",
    "    LCA_results_sheets[db_s]=workbook.add_worksheet(LCA_results_sheet_names[db_s])\n",
    "\n",
    "CA_Pathways_sheets={}\n",
    "for db_s in CA_Pathways_sheet_names.keys():\n",
    "    CA_Pathways_sheets[db_s]=workbook.add_worksheet(CA_Pathways_sheet_names[db_s])\n",
    "\n",
    "CA_acts_sheets={}\n",
    "for db_s in CA_acts_sheet_names.keys():\n",
    "    CA_acts_sheets[db_s]=workbook.add_worksheet(CA_acts_sheet_names[db_s])\n",
    "\n",
    "params_sheet=workbook.add_worksheet(params_sheet_name)\n",
    "\n",
    "Waste_Gen_sheets={}\n",
    "for db_s in Waste_Gen_sheet_names.keys():\n",
    "    Waste_Gen_sheets[db_s]=workbook.add_worksheet(Waste_Gen_sheet_names[db_s])\n",
    "    \n",
    "Waste_Comp_sheets={}\n",
    "for db_s in Waste_Comp_sheet_names.keys():\n",
    "    Waste_Comp_sheets[db_s]=workbook.add_worksheet(Waste_Comp_sheet_names[db_s])\n",
    "    \n",
    "LCI_df_sheets={}\n",
    "for db_s in LCI_df_sheet_names.keys():    \n",
    "    LCI_df_sheets[db_s]=workbook.add_worksheet(LCI_df_sheet_names[db_s])\n",
    "    \n",
    "LCIAmethod_sheet=workbook.add_worksheet(LCIAmethod_sheet_name)\n",
    "\n",
    "OEV_material_sheets={}\n",
    "for db_s in OEV_material_sheet_names.keys():\n",
    "    OEV_material_sheets[db_s]=workbook.add_worksheet(OEV_material_sheet_names[db_s])\n",
    "    \n",
    "OEV_Pathways_sheets={}\n",
    "for db_s in OEV_Pathways_sheet_names.keys():\n",
    "    OEV_Pathways_sheets[db_s]=workbook.add_worksheet(OEV_Pathways_sheet_names[db_s])\n",
    "    \n",
    "supply_chain_sheets={}\n",
    "for db_s in supply_chain_sheet_names.keys():\n",
    "    supply_chain_sheets[db_s]=workbook.add_worksheet(supply_chain_sheet_names[db_s])\n",
    "    \n",
    "TUM_sheets={}\n",
    "for db_s_m in TUM_sheet_names.keys():\n",
    "    TUM_sheets[db_s_m]=workbook.add_worksheet(TUM_sheet_names[db_s_m])\n",
    "    \n",
    "Weighted_TUM_sheets={}\n",
    "for db_s_m in Weighted_TUM_sheet_names.keys():\n",
    "    Weighted_TUM_sheets[db_s_m]=workbook.add_worksheet(Weighted_TUM_sheet_names[db_s_m])"
   ]
  },
  {
   "cell_type": "markdown",
   "id": "2e2d803f",
   "metadata": {},
   "source": [
    "### 3.4 Write data to workbooks"
   ]
  },
  {
   "cell_type": "markdown",
   "id": "e9a1405d",
   "metadata": {},
   "source": [
    "#### 3.4.1 Indicator"
   ]
  },
  {
   "cell_type": "code",
   "execution_count": 315,
   "id": "11f412b2",
   "metadata": {},
   "outputs": [],
   "source": [
    "# Indicator\n",
    "for db in db_names:\n",
    "    for s in scenarios:\n",
    "        Indicator_sheet=Indicator_sheets[db+'_'+s]\n",
    "        for c,col in enumerate(Indicator[db+'_'+s].columns):\n",
    "            Indicator_sheet.write(0,c+1,Indicator[db+'_'+s].columns[c],heading_format)\n",
    "            for i,ind in enumerate(Indicator[db+'_'+s].index):\n",
    "                if c==0:\n",
    "                    Indicator_sheet.write(i+1,0,Indicator[db+'_'+s].index[i],heading_format)\n",
    "                Indicator_sheet.write(i+1,c+1,Indicator[db+'_'+s].loc[ind,col],percentage_format)\n",
    "        Indicator_sheet.set_tab_color('green')\n",
    "        Indicator_sheet.hide()"
   ]
  },
  {
   "cell_type": "markdown",
   "id": "1e2b2e94",
   "metadata": {},
   "source": [
    "#### 3.4.2 Weighted Indicator"
   ]
  },
  {
   "cell_type": "code",
   "execution_count": 316,
   "id": "b544fad1",
   "metadata": {},
   "outputs": [],
   "source": [
    "# Weighted Indicator\n",
    "for db in db_names:\n",
    "    for s in scenarios:\n",
    "        Weighted_Indicator_sheet=Weighted_Indicator_sheets[db+'_'+s]\n",
    "        for c,col in enumerate(Weighted_Indicator[db+'_'+s].columns):\n",
    "            Weighted_Indicator_sheet.write(0,c+1,Weighted_Indicator[db+'_'+s].columns[c],heading_format)    \n",
    "            for i,ind in enumerate(Weighted_Indicator[db+'_'+s].index):\n",
    "                if c==0:\n",
    "                    Weighted_Indicator_sheet.write(i+1,0,Weighted_Indicator[db+'_'+s].index[i],heading_format)\n",
    "                Weighted_Indicator_sheet.write(i+1,c+1,Weighted_Indicator[db+'_'+s].loc[ind,col],percentage_format)\n",
    "        Weighted_Indicator_sheet.set_column_pixels(0,c+1, 100)    \n",
    "        Weighted_Indicator_sheet.set_tab_color('green')\n",
    "        Weighted_Indicator_sheet.hide()"
   ]
  },
  {
   "cell_type": "markdown",
   "id": "6bfa4be8",
   "metadata": {},
   "source": [
    "#### 3.4.3 Weighting Methods"
   ]
  },
  {
   "cell_type": "code",
   "execution_count": 317,
   "id": "25984b3d",
   "metadata": {},
   "outputs": [],
   "source": [
    "# Weighting\n",
    "for c,col in enumerate(Weighting.columns):\n",
    "    Weighting_sheet.write(0,c+1,Weighting.columns[c],heading_format)    \n",
    "    for i,ind in enumerate(Weighting.index):\n",
    "        if c==0:\n",
    "            Weighting_sheet.write(i+1,0,Weighting.index[i],heading_format)\n",
    "        Weighting_sheet.write(i+1,c+1,Weighting.loc[ind,col],percentage_format)\n",
    "Weighting_sheet.set_column_pixels(0,len(Weighting.columns)+1, 100)   \n",
    "Weighting_sheet.hide()"
   ]
  },
  {
   "cell_type": "markdown",
   "id": "37e25b61",
   "metadata": {},
   "source": [
    "#### 3.4.4 LCA Results"
   ]
  },
  {
   "cell_type": "code",
   "execution_count": 318,
   "id": "535daf1f",
   "metadata": {},
   "outputs": [],
   "source": [
    "# LCA Results\n",
    "for db in db_names:\n",
    "    for s in scenarios:\n",
    "        LCA_results_sheet=LCA_results_sheets[db+'_'+s]\n",
    "        for c,col in enumerate(LCA_results[db+'_'+s].columns):\n",
    "            if c>0:\n",
    "                LCA_results_sheet.write(0,c,LCA_results[db+'_'+s].columns[c],heading_format)\n",
    "                for i,ind in enumerate(LCA_results[db+'_'+s].index):\n",
    "                    if c==1:\n",
    "                        LCA_results_sheet.write(i+1,0,LCA_results[db+'_'+s].loc[ind,'Pathway'],heading_format)\n",
    "                    LCA_results_sheet.write(i+1,c,LCA_results[db+'_'+s].loc[ind,col],scientific_format)\n",
    "        LCA_results_sheet.hide()"
   ]
  },
  {
   "cell_type": "markdown",
   "id": "84c9b6b4",
   "metadata": {},
   "source": [
    "#### 3.4.5 Contribution Analysis - Pathways"
   ]
  },
  {
   "cell_type": "code",
   "execution_count": 319,
   "id": "5114c2e8",
   "metadata": {},
   "outputs": [],
   "source": [
    "# CA_Pathways\n",
    "for db in db_names:\n",
    "    for s in scenarios:\n",
    "        CA_Pathways_sheet=CA_Pathways_sheets[db+'_'+s]\n",
    "        for c,col in enumerate(CA_Pathways[db+'_'+s].columns):\n",
    "            CA_Pathways_sheet.write(0,c+1,CA_Pathways[db+'_'+s].columns[c],heading_format)\n",
    "            for i,ind in enumerate(CA_Pathways[db+'_'+s].index):\n",
    "                if c==0:\n",
    "                    CA_Pathways_sheet.write(i+1,0,CA_Pathways[db+'_'+s].index[i],heading_format)\n",
    "                CA_Pathways_sheet.write(i+1,c+1,CA_Pathways[db+'_'+s].loc[ind,col],scientific_format)\n",
    "        CA_Pathways_sheet.hide()"
   ]
  },
  {
   "cell_type": "markdown",
   "id": "7b245959",
   "metadata": {},
   "source": [
    "#### 3.4.6 Contribution Analysis - Activities"
   ]
  },
  {
   "cell_type": "code",
   "execution_count": 320,
   "id": "358d9a21",
   "metadata": {},
   "outputs": [],
   "source": [
    "# CA_acts\n",
    "for db in db_names:\n",
    "    for s in scenarios:\n",
    "        CA_acts_sheet=CA_acts_sheets[db+'_'+s]\n",
    "        for c,col in enumerate(CA_acts[db+'_'+s].columns):\n",
    "            CA_acts_sheet.write(0,c+1,CA_acts[db+'_'+s].columns[c],heading_format)\n",
    "            for i,ind in enumerate(CA_acts[db+'_'+s].index):\n",
    "                if c==0:\n",
    "                    CA_acts_sheet.write(i+1,0,CA_acts[db+'_'+s].index[i],heading_format)\n",
    "                CA_acts_sheet.write(i+1,c+1,CA_acts[db+'_'+s].loc[ind,col],scientific_format)\n",
    "        CA_acts_sheet.hide()"
   ]
  },
  {
   "cell_type": "markdown",
   "id": "6511bae9",
   "metadata": {},
   "source": [
    "#### 3.4.7 Supply Chain"
   ]
  },
  {
   "cell_type": "code",
   "execution_count": 321,
   "id": "2968b09a",
   "metadata": {},
   "outputs": [],
   "source": [
    "# supply_chain\n",
    "for s in scenarios:\n",
    "    for actname in act_names:\n",
    "        supply_chain_sheet=supply_chain_sheets[s+'_'+actname]\n",
    "        for c,col in enumerate(supply_chain[s+'_'+actname].columns):\n",
    "            supply_chain_sheet.write(0,c+1,supply_chain[s+'_'+actname].columns[c],heading_format)\n",
    "            for i,ind in enumerate(supply_chain[s+'_'+actname].index):\n",
    "                if c==0:\n",
    "                    supply_chain_sheet.write(i+1,0,supply_chain[s+'_'+actname].index[i],heading_format)\n",
    "                supply_chain_sheet.write(i+1,c+1,supply_chain[s+'_'+actname].loc[ind,col],scientific_format)\n",
    "        supply_chain_sheet.hide()"
   ]
  },
  {
   "cell_type": "markdown",
   "id": "db29ffa7",
   "metadata": {},
   "source": [
    "#### 3.4.8 EWU-Components: Treatment - Utilization - Material"
   ]
  },
  {
   "cell_type": "code",
   "execution_count": 322,
   "id": "44338814",
   "metadata": {},
   "outputs": [],
   "source": [
    "# TUM\n",
    "for db in db_names:\n",
    "    for s in scenarios:\n",
    "        for TUM_type in ['Treatm', 'Util', 'Mat']:\n",
    "            TUM_sheet=TUM_sheets[db+'_'+s+'_'+TUM_type]\n",
    "            for c,col in enumerate(TUM[db+'_'+s+'_'+TUM_type].columns):\n",
    "                TUM_sheet.write(0,c+1,TUM[db+'_'+s+'_'+TUM_type].columns[c],heading_format)\n",
    "                for i,ind in enumerate(TUM[db+'_'+s+'_'+TUM_type].index):\n",
    "                    if c==0:\n",
    "                        TUM_sheet.write(i+1,0,TUM[db+'_'+s+'_'+TUM_type].index[i],heading_format)\n",
    "                    TUM_sheet.write(i+1,c+1,TUM[db+'_'+s+'_'+TUM_type].loc[ind,col],scientific_format)\n",
    "                    TUM_sheet.hide()"
   ]
  },
  {
   "cell_type": "markdown",
   "id": "06268f9b",
   "metadata": {},
   "source": [
    "#### 3.4.9 Weighted EWU-Components: Treatment - Utilization - Material"
   ]
  },
  {
   "cell_type": "code",
   "execution_count": 323,
   "id": "790cf025",
   "metadata": {},
   "outputs": [],
   "source": [
    "# TUM\n",
    "for db in db_names:\n",
    "    for s in scenarios:\n",
    "        for TUM_type in ['Treatm', 'Util', 'Mat']:\n",
    "            Weighted_TUM_sheet=Weighted_TUM_sheets[db+'_'+s+'_'+TUM_type]\n",
    "            for c,col in enumerate(Weighted_TUM[db+'_'+s+'_'+TUM_type].columns):\n",
    "                Weighted_TUM_sheet.write(0,c+1,Weighted_TUM[db+'_'+s+'_'+TUM_type].columns[c],heading_format)\n",
    "                for i,ind in enumerate(Weighted_TUM[db+'_'+s+'_'+TUM_type].index):\n",
    "                    if c==0:\n",
    "                        Weighted_TUM_sheet.write(i+1,0,Weighted_TUM[db+'_'+s+'_'+TUM_type].index[i],heading_format)\n",
    "                    Weighted_TUM_sheet.write(i+1,c+1,Weighted_TUM[db+'_'+s+'_'+TUM_type].loc[ind,col],scientific_format)\n",
    "                    Weighted_TUM_sheet.hide()"
   ]
  },
  {
   "cell_type": "markdown",
   "id": "1270c149",
   "metadata": {},
   "source": [
    "#### 3.4.10 Parameters"
   ]
  },
  {
   "cell_type": "code",
   "execution_count": 324,
   "id": "67221d3f",
   "metadata": {},
   "outputs": [],
   "source": [
    "# Parameters\n",
    "for c,col in enumerate(parameter_df.columns):\n",
    "    if c>0:\n",
    "        params_sheet.write(0,c,parameter_df.columns[c],heading_format)\n",
    "        for i,ind in enumerate(parameter_df.index):\n",
    "            if c==1:\n",
    "                params_sheet.write(i+1,0,str(parameter_df.loc[ind,'Parameter-ID']),heading_format)\n",
    "            try:\n",
    "                params_sheet.write(i+1,c,parameter_df.loc[ind,col],scientific_format)\n",
    "            except:\n",
    "                pass\n",
    "params_sheet.set_column_pixels(1,len(parameter_df.columns)+1, 100)  \n",
    "\n",
    "sc_format = workbook.add_format({'bold': 1, 'bg_color': 'yellow'})\n",
    "col_default = excel_cols[parameter_df.columns.get_loc(\"Parameter Value - \"+scenarios[0])]\n",
    "scenario_cols=[col for col in parameter_df.columns if ('Parameter Value' in col) and ('Parameter Value - Default' not in col)]\n",
    "for i in parameter_df.index:\n",
    "    for col in scenario_cols:\n",
    "        col_name = excel_cols[parameter_df.columns.get_loc(col)]\n",
    "        cell=col_name+str(i+2)\n",
    "        params_sheet.conditional_format(cell, \n",
    "                                        {'type': 'cell',\n",
    "                                                 'criteria': \"not equal to\",\n",
    "                                                 'value': col_default+str(i+2),\n",
    "                                                 'format': sc_format})\n",
    "    \n",
    "if general_info['Conduct perturbation analysis'] == 'yes':\n",
    "    col_x = parameter_df.columns.get_loc(LCIA_method_names[0])\n",
    "    #col_y = parameter_df.columns.get_loc(LCIA_method_names[-1]) + 1\n",
    "    for i,IC in enumerate(LCIA_method_names):\n",
    "        min_val=parameter_df[IC].min()\n",
    "        max_val=parameter_df[IC].max()\n",
    "        cells=excel_cols[col_x+i]+str(2)+':'+excel_cols[col_x+i]+str(len(parameter_df)+2)\n",
    "        params_sheet.conditional_format(cells, {'type': '3_color_scale',\n",
    "                                             'min_color': \"#C00000\",\n",
    "                                             'mid_color': \"#FFFFFF\",\n",
    "                                             'max_color': \"#9BBB59\",\n",
    "                                             'min_value':min_val,\n",
    "                                             'mid_value':0,\n",
    "                                             'max_value':max_val})\n",
    "\n",
    "#params_sheet.set_tab_color('yellow')"
   ]
  },
  {
   "cell_type": "markdown",
   "id": "4d4ef602",
   "metadata": {},
   "source": [
    "#### 3.4.11 Waste Quantitities"
   ]
  },
  {
   "cell_type": "code",
   "execution_count": 325,
   "id": "174a880e",
   "metadata": {},
   "outputs": [],
   "source": [
    "# Waste Generation\n",
    "for s in scenarios:\n",
    "    Waste_Gen_sheet=Waste_Gen_sheets[s]\n",
    "    for c,col in enumerate(Waste_Gen[s].columns):\n",
    "        Waste_Gen_sheet.write(0,c+1,Waste_Gen[s].columns[c],heading_format)    \n",
    "        for i,ind in enumerate(Waste_Gen[s].index):\n",
    "            if c==0:\n",
    "                Waste_Gen_sheet.write(i+1,0,Waste_Gen[s].index[i],heading_format)\n",
    "                Waste_Gen_sheet.write(i+1,c+1,Waste_Gen[s].loc[ind,col],percentage_format)\n",
    "            if c==1:\n",
    "                Waste_Gen_sheet.write(i+1,c+1,Waste_Gen[s].loc[ind,col],number_format)\n",
    "    Waste_Gen_sheet.set_column_pixels(0,len(Waste_Gen[s].columns)+1, 100)  \n",
    "    Waste_Gen_sheet.hide()"
   ]
  },
  {
   "cell_type": "markdown",
   "id": "1d261ead",
   "metadata": {},
   "source": [
    "#### 3.4.12 Waste Composition"
   ]
  },
  {
   "cell_type": "code",
   "execution_count": 326,
   "id": "3ecf6512",
   "metadata": {},
   "outputs": [],
   "source": [
    "# Waste Composition\n",
    "for s in scenarios:\n",
    "    Waste_Comp_sheet=Waste_Comp_sheets[s]\n",
    "    for c,col in enumerate(Waste_Comp[s].columns):\n",
    "        Waste_Comp_sheet.write(0,c+1,Waste_Comp[s].columns[c],heading_format)    \n",
    "        for i,ind in enumerate(Waste_Comp[s].index):\n",
    "            if c==0:\n",
    "                Waste_Comp_sheet.write(i+1,0,Waste_Comp[s].index[i],heading_format)\n",
    "            try:\n",
    "                Waste_Comp_sheet.write(i+1,c+1,Waste_Comp[s].loc[ind,col],percentage_format)\n",
    "            except:\n",
    "                pass\n",
    "    Waste_Comp_sheet.set_column_pixels(0,len(Waste_Comp[s].columns)+1, 100)\n",
    "    Waste_Comp_sheet.hide()"
   ]
  },
  {
   "cell_type": "markdown",
   "id": "390894c5",
   "metadata": {},
   "source": [
    "#### 3.4.13 LCI"
   ]
  },
  {
   "cell_type": "code",
   "execution_count": 327,
   "id": "2825ccf7",
   "metadata": {},
   "outputs": [],
   "source": [
    "# LCI\n",
    "for db in db_names:\n",
    "    for s in scenarios:\n",
    "        LCI_df_sheet=LCI_df_sheets[db+'_'+s]\n",
    "        for c,col in enumerate(LCI_dbs[db+'_'+s].columns):\n",
    "            LCI_df_sheet.write(0,c,LCI_dbs[db+'_'+s].columns[c],heading_format)\n",
    "            for i,ind in enumerate(LCI_dbs[db+'_'+s].index):\n",
    "                try:\n",
    "                    LCI_df_sheet.write(i+1,c,LCI_dbs[db+'_'+s].loc[ind,col],number_format)\n",
    "                except:\n",
    "                    pass\n",
    "        LCI_df_sheet.set_column_pixels(1,len(LCI_dbs[db+'_'+s].columns)+1, 100)\n",
    "        LCI_df_sheet.hide()"
   ]
  },
  {
   "cell_type": "markdown",
   "id": "fcdd97a3",
   "metadata": {},
   "source": [
    "#### 3.4.14 Original Environmental Value (Material Value)"
   ]
  },
  {
   "cell_type": "code",
   "execution_count": 328,
   "id": "7a3d50d0",
   "metadata": {},
   "outputs": [],
   "source": [
    "# Original Environmental Value - materials\n",
    "for db in db_names:\n",
    "    OEV_material_sheet=OEV_material_sheets[db]\n",
    "    for c,col in enumerate(OEV_materials[db].columns):\n",
    "        OEV_material_sheet.write(0,c+1,OEV_materials[db].columns[c],heading_format)    \n",
    "        for i,ind in enumerate(OEV_materials[db].index):\n",
    "            if c==0:\n",
    "                OEV_material_sheet.write(i+1,0,OEV_materials[db].index[i],heading_format)\n",
    "            try:\n",
    "                OEV_material_sheet.write(i+1,c+1,OEV_materials[db].loc[ind,col],scientific_format)\n",
    "            except:\n",
    "                pass\n",
    "    OEV_material_sheet.set_column_pixels(0,len(OEV_materials[db].columns)+1, 100)\n",
    "    OEV_material_sheet.hide()"
   ]
  },
  {
   "cell_type": "code",
   "execution_count": 329,
   "id": "a3e7f4a4",
   "metadata": {},
   "outputs": [],
   "source": [
    "# Original Environmental Value - Treatment Paths\n",
    "for db in db_names:\n",
    "    for s in scenarios:\n",
    "        OEV_Pathways_sheet=OEV_Pathways_sheets[db+'_'+s]\n",
    "        for c,col in enumerate(OEV_Pathways[db+'_'+s].columns):\n",
    "            OEV_Pathways_sheet.write(0,c+1,OEV_Pathways[db+'_'+s].columns[c],heading_format)    \n",
    "            for i,ind in enumerate(OEV_Pathways[db+'_'+s].index):\n",
    "                if c==0:\n",
    "                    OEV_Pathways_sheet.write(i+1,0,OEV_Pathways[db+'_'+s].index[i],heading_format)\n",
    "                try:\n",
    "                    OEV_Pathways_sheet.write(i+1,c+1,OEV_Pathways[db+'_'+s].loc[ind,col],scientific_format)\n",
    "                except:\n",
    "                    pass\n",
    "        OEV_Pathways_sheet.set_column_pixels(0,len(OEV_Pathways[db+'_'+s].columns)+1, 100)  \n",
    "        OEV_Pathways_sheet.hide()"
   ]
  },
  {
   "cell_type": "markdown",
   "id": "b33dcff3",
   "metadata": {},
   "source": [
    "#### 3.4.15 Normalization Factors"
   ]
  },
  {
   "cell_type": "code",
   "execution_count": 330,
   "id": "bc58ff58",
   "metadata": {},
   "outputs": [],
   "source": [
    "# NormalizationFactor\n",
    "for c,col in enumerate(LCIAmethod_df.columns):\n",
    "    LCIAmethod_sheet.write(0,c+1,LCIAmethod_df.columns[c],heading_format)\n",
    "    for i,ind in enumerate(LCIAmethod_df.index):\n",
    "        if c==0:\n",
    "            LCIAmethod_sheet.write(i+1,0,LCIAmethod_df.index[i],heading_format)\n",
    "        LCIAmethod_sheet.write(i+1,c+1,LCIAmethod_df.loc[ind,col],scientific_format)\n",
    "        \n",
    "LCIAmethod_sheet.set_column_pixels(1,1, 300)\n",
    "LCIAmethod_sheet.set_column_pixels(3,3, 100)\n",
    "LCIAmethod_sheet.hide()"
   ]
  },
  {
   "cell_type": "markdown",
   "id": "416176e0",
   "metadata": {},
   "source": [
    "#### 3.4.16 Dictionary"
   ]
  },
  {
   "cell_type": "code",
   "execution_count": 331,
   "id": "908dfd2a",
   "metadata": {},
   "outputs": [],
   "source": [
    "dict_df=pd.DataFrame(columns=['long','short'])"
   ]
  },
  {
   "cell_type": "code",
   "execution_count": 332,
   "id": "866b69c8",
   "metadata": {},
   "outputs": [],
   "source": [
    "i=0\n",
    "for a,act in enumerate(Indicator_db.index):\n",
    "    dict_df.loc[i,'long']=act\n",
    "    dict_df.loc[i,'short']=i+2\n",
    "    i=i+1\n",
    "    \n",
    "for d,db in enumerate(db_names):\n",
    "    dict_df.loc[i,'long']=dbs[d].name\n",
    "    dict_df.loc[i,'short']=db\n",
    "    i=i+1"
   ]
  },
  {
   "cell_type": "code",
   "execution_count": 333,
   "id": "fae9132f",
   "metadata": {},
   "outputs": [],
   "source": [
    "# dictionary\n",
    "for c,col in enumerate(dict_df.columns):\n",
    "    dict_sheet.write(0,c,dict_df.columns[c],heading_format)\n",
    "    for i,ind in enumerate(dict_df.index):\n",
    "        dict_sheet.write(i+1,c,dict_df.loc[ind,col])\n",
    "        \n",
    "dict_sheet.set_column_pixels(1,1, 300)\n",
    "dict_sheet.set_column_pixels(3,3, 100)\n",
    "dict_sheet.hide()"
   ]
  },
  {
   "cell_type": "markdown",
   "id": "85154ac2",
   "metadata": {},
   "source": [
    "#### 3.4.17 Documentation"
   ]
  },
  {
   "cell_type": "code",
   "execution_count": 334,
   "id": "d466dca6",
   "metadata": {},
   "outputs": [],
   "source": [
    "#add ecoinvent and premise version"
   ]
  },
  {
   "cell_type": "code",
   "execution_count": 335,
   "id": "020960c3",
   "metadata": {},
   "outputs": [],
   "source": [
    "#Get locally imported modules from current notebook\n",
    "#htPathways://stackoverflow.com/questions/40428931/package-for-listing-version-of-packages-used-in-a-jupyter-notebook\n",
    "import pkg_resources\n",
    "import types\n",
    "def get_imports():\n",
    "    for name, val in globals().items():\n",
    "        if isinstance(val, types.ModuleType):\n",
    "            # Split ensures you get root package, \n",
    "            # not just imported function\n",
    "            name = val.__name__.split(\".\")[0]\n",
    "\n",
    "        elif isinstance(val, type):\n",
    "            name = val.__module__.split(\".\")[0]\n",
    "\n",
    "        yield name\n",
    "imports = list(set(get_imports()))\n",
    "\n",
    "requirements = []\n",
    "for m in pkg_resources.working_set:\n",
    "    if m.project_name in imports and m.project_name!=\"pip\":\n",
    "        requirements.append((m.project_name, m.version))"
   ]
  },
  {
   "cell_type": "code",
   "execution_count": 336,
   "id": "9787c159",
   "metadata": {},
   "outputs": [],
   "source": [
    "activity_references=pd.read_excel('ExcelTool_GeneratorInput_Template.xlsx', \n",
    "                                   sheet_name='Activities')[['Activity code', \n",
    "                                                            'Activity name',\n",
    "                                                           'Unit',\n",
    "                                                           'Location','Reference']]"
   ]
  },
  {
   "cell_type": "code",
   "execution_count": 337,
   "id": "0a394766",
   "metadata": {},
   "outputs": [
    {
     "data": {
      "text/html": [
       "<div>\n",
       "<style scoped>\n",
       "    .dataframe tbody tr th:only-of-type {\n",
       "        vertical-align: middle;\n",
       "    }\n",
       "\n",
       "    .dataframe tbody tr th {\n",
       "        vertical-align: top;\n",
       "    }\n",
       "\n",
       "    .dataframe thead th {\n",
       "        text-align: right;\n",
       "    }\n",
       "</style>\n",
       "<table border=\"1\" class=\"dataframe\">\n",
       "  <thead>\n",
       "    <tr style=\"text-align: right;\">\n",
       "      <th></th>\n",
       "      <th>package</th>\n",
       "      <th>version</th>\n",
       "    </tr>\n",
       "  </thead>\n",
       "  <tbody>\n",
       "    <tr>\n",
       "      <th>0</th>\n",
       "      <td>brightway2</td>\n",
       "      <td>2.4.2</td>\n",
       "    </tr>\n",
       "    <tr>\n",
       "      <th>1</th>\n",
       "      <td>numpy</td>\n",
       "      <td>1.22.3</td>\n",
       "    </tr>\n",
       "    <tr>\n",
       "      <th>2</th>\n",
       "      <td>mycolorpy</td>\n",
       "      <td>1.5.1</td>\n",
       "    </tr>\n",
       "    <tr>\n",
       "      <th>3</th>\n",
       "      <td>pandas</td>\n",
       "      <td>1.4.2</td>\n",
       "    </tr>\n",
       "    <tr>\n",
       "      <th>4</th>\n",
       "      <td>premise</td>\n",
       "      <td>1.3.0</td>\n",
       "    </tr>\n",
       "  </tbody>\n",
       "</table>\n",
       "</div>"
      ],
      "text/plain": [
       "      package version\n",
       "0  brightway2   2.4.2\n",
       "1       numpy  1.22.3\n",
       "2   mycolorpy   1.5.1\n",
       "3      pandas   1.4.2\n",
       "4     premise   1.3.0"
      ]
     },
     "execution_count": 337,
     "metadata": {},
     "output_type": "execute_result"
    }
   ],
   "source": [
    "package_df=pd.DataFrame()\n",
    "for p,package in enumerate(requirements):\n",
    "    package_df.loc[p,'package']=package[0]\n",
    "    package_df.loc[p,'version']=package[1]\n",
    "package_df"
   ]
  },
  {
   "cell_type": "code",
   "execution_count": 338,
   "id": "8567be7e",
   "metadata": {},
   "outputs": [],
   "source": [
    "activity_references=activity_references.replace(np.nan, 'Assumption')"
   ]
  },
  {
   "cell_type": "code",
   "execution_count": 339,
   "id": "03184197",
   "metadata": {},
   "outputs": [
    {
     "data": {
      "text/html": [
       "<div>\n",
       "<style scoped>\n",
       "    .dataframe tbody tr th:only-of-type {\n",
       "        vertical-align: middle;\n",
       "    }\n",
       "\n",
       "    .dataframe tbody tr th {\n",
       "        vertical-align: top;\n",
       "    }\n",
       "\n",
       "    .dataframe thead th {\n",
       "        text-align: right;\n",
       "    }\n",
       "</style>\n",
       "<table border=\"1\" class=\"dataframe\">\n",
       "  <thead>\n",
       "    <tr style=\"text-align: right;\">\n",
       "      <th></th>\n",
       "      <th>SSP</th>\n",
       "      <th>RCP</th>\n",
       "      <th>IAM</th>\n",
       "      <th>2030</th>\n",
       "      <th>2050</th>\n",
       "      <th>Update</th>\n",
       "    </tr>\n",
       "  </thead>\n",
       "  <tbody>\n",
       "    <tr>\n",
       "      <th>0</th>\n",
       "      <td>SSP2</td>\n",
       "      <td>RCP19</td>\n",
       "      <td>image</td>\n",
       "      <td>x</td>\n",
       "      <td>x</td>\n",
       "      <td>['Electricity']</td>\n",
       "    </tr>\n",
       "  </tbody>\n",
       "</table>\n",
       "</div>"
      ],
      "text/plain": [
       "    SSP    RCP    IAM 2030 2050           Update\n",
       "0  SSP2  RCP19  image    x    x  ['Electricity']"
      ]
     },
     "execution_count": 339,
     "metadata": {},
     "output_type": "execute_result"
    }
   ],
   "source": [
    "premise_doc=premise_scenarios.dropna(axis=1,how='all').dropna()\n",
    "premise_doc=premise_doc.reset_index(drop=True)\n",
    "premise_doc['Update']=[str([i for i in premise_update.index]) for i in range(len(premise_doc))]\n",
    "premise_doc"
   ]
  },
  {
   "cell_type": "code",
   "execution_count": 340,
   "id": "b43687cd",
   "metadata": {},
   "outputs": [],
   "source": [
    "for c,col in enumerate(activity_references.columns):\n",
    "    documentation_sheet.write(0,c,activity_references.columns[c],heading_format)\n",
    "    for i,ind in enumerate(activity_references.index):\n",
    "        documentation_sheet.write(i+1,c,activity_references.loc[ind,col],percentage_format)\n",
    "        \n",
    "first_row=len(activity_references)+5\n",
    "\n",
    "for c,col in enumerate(package_df.columns):\n",
    "    documentation_sheet.write(first_row,c,package_df.columns[c],heading_format)\n",
    "    for i,ind in enumerate(package_df.index):\n",
    "        documentation_sheet.write(i+1+first_row,c,package_df.loc[ind,col],percentage_format)\n",
    "        \n",
    "documentation_sheet.write(first_row+len(package_df)+2,0,'Database',percentage_format)\n",
    "documentation_sheet.write(first_row+len(package_df)+2,1,general_info['Database name'],percentage_format)\n",
    "\n",
    "documentation_sheet.write(first_row+len(package_df)+4,0,'Background system scenarios',heading_format)\n",
    "for c,col in enumerate(premise_doc.columns):\n",
    "    documentation_sheet.write(first_row+len(package_df)+5,c,str(premise_doc.columns[c]),heading_format)\n",
    "    for i,ind in enumerate(premise_doc.index):\n",
    "        documentation_sheet.write(i+1+first_row+len(package_df)+5,c,premise_doc.loc[ind,col],percentage_format)\n",
    "\n",
    "documentation_sheet.set_column_pixels(0,4, 300)\n",
    "documentation_sheet.set_column_pixels(2,3, 100)\n",
    "\n",
    "documentation_sheet.hide_gridlines(option=2)\n",
    "documentation_sheet.hide()"
   ]
  },
  {
   "cell_type": "markdown",
   "id": "4359d2fa",
   "metadata": {},
   "source": [
    "#### 3.4.18 Figure Data"
   ]
  },
  {
   "cell_type": "code",
   "execution_count": 341,
   "id": "f79e6649",
   "metadata": {},
   "outputs": [],
   "source": [
    "# Figure1\n",
    "for c,col in enumerate(figure1_df.columns):\n",
    "    figure1_sheet.write(0,c+1,col,heading_format)\n",
    "    for i,ind in enumerate(figure1_df.index):\n",
    "        if c==0:\n",
    "            figure1_sheet.write(i+1,0,figure1_df.index[i],heading_format)\n",
    "        cell=excel_cols[c+1]+str(i+2)\n",
    "        figure1_sheet.write_dynamic_array_formula(cell,formula=figure1_df.loc[ind,col], cell_format=percentage_format)\n",
    "figure1_sheet.set_tab_color('orange')\n",
    "figure1_sheet.hide()"
   ]
  },
  {
   "cell_type": "code",
   "execution_count": 342,
   "id": "59ab3d77",
   "metadata": {},
   "outputs": [],
   "source": [
    "# Figure2\n",
    "for c,col in enumerate(figure2_df.columns):\n",
    "    figure2_sheet.write(0,c+1,col,heading_format)\n",
    "    for i,ind in enumerate(figure2_df.index):\n",
    "        if c==0:\n",
    "            figure2_sheet.write(i+1,0,figure2_df.index[i],heading_format)\n",
    "        cell=excel_cols[c+1]+str(i+2)\n",
    "        figure2_sheet.write_dynamic_array_formula(cell,formula=figure2_df.loc[ind,col], cell_format=percentage_format)\n",
    "figure2_sheet.set_tab_color('orange')\n",
    "figure2_sheet.hide()"
   ]
  },
  {
   "cell_type": "code",
   "execution_count": 343,
   "id": "bd3be1c3",
   "metadata": {},
   "outputs": [],
   "source": [
    "# Figure3\n",
    "figure3_sheet.write('A1','sheet_name',heading_format)\n",
    "figure3_sheet.write('A2','db_short',heading_format)\n",
    "#figure3_sheet.write('A3','wg_sheet_name',heading_format)\n",
    "figure3_sheet.write('B1',fig3_sheet_name,heading_format)\n",
    "figure3_sheet.write('B2',fig3_db_short,heading_format)\n",
    "#figure3_sheet.write('B3',fig3_wg_sheet_name,heading_format)\n",
    "\n",
    "for c,col in enumerate(figure3_df.columns):\n",
    "    figure3_sheet.write(4,c+1,col,heading_format)\n",
    "    for i,ind in enumerate(figure3_df.index):\n",
    "        if c==0:\n",
    "            figure3_sheet.write(i+5,0,figure3_df.index[i],heading_format)\n",
    "        cell=excel_cols[c+1]+str(i+6)\n",
    "        figure3_sheet.write_dynamic_array_formula(cell,formula=figure3_df.loc[ind,col], cell_format=scientific_format)\n",
    "figure3_sheet.set_tab_color('orange')\n",
    "figure3_sheet.hide()"
   ]
  },
  {
   "cell_type": "code",
   "execution_count": 344,
   "id": "97bc2580",
   "metadata": {},
   "outputs": [],
   "source": [
    "# Figure4\n",
    "figure4_sheet.write('A1','sheet_name',heading_format)\n",
    "figure4_sheet.write('A2','db_short',heading_format)\n",
    "figure4_sheet.write('B1',fig4_sheet_name,heading_format)\n",
    "figure4_sheet.write('B2',fig4_db_short,heading_format)\n",
    "\n",
    "for c,col in enumerate(figure4_df.columns):\n",
    "    figure4_sheet.write(4,c+1,col,heading_format)\n",
    "    for i,ind in enumerate(figure4_df.index):\n",
    "        if c==0:\n",
    "            figure4_sheet.write(i+5,0,figure4_df.index[i],heading_format)\n",
    "        cell=excel_cols[c+1]+str(i+6)\n",
    "        figure4_sheet.write_dynamic_array_formula(cell,formula=figure4_df.loc[ind,col], cell_format=scientific_format)\n",
    "figure4_sheet.set_tab_color('orange')\n",
    "figure4_sheet.hide()"
   ]
  },
  {
   "cell_type": "code",
   "execution_count": 345,
   "id": "4b38d7b1",
   "metadata": {},
   "outputs": [],
   "source": [
    "# Figure5\n",
    "for c,col in enumerate(figure5_df.columns):\n",
    "    figure5_sheet.write(0,c+1,col,heading_format)\n",
    "    for i,ind in enumerate(figure5_df.index):\n",
    "        if c==0:\n",
    "            figure5_sheet.write(i+1,0,figure5_df.index[i],heading_format)\n",
    "        cell=excel_cols[c+1]+str(i+2)\n",
    "        figure5_sheet.write_dynamic_array_formula(cell,formula=figure5_df.loc[ind,col], cell_format=percentage_format)\n",
    "figure5_sheet.set_tab_color('orange')\n",
    "figure5_sheet.hide()"
   ]
  },
  {
   "cell_type": "code",
   "execution_count": 346,
   "id": "dd51fb4e",
   "metadata": {},
   "outputs": [],
   "source": [
    "# Figure6\n",
    "for c,col in enumerate(figure6_df.columns):\n",
    "    figure6_sheet.write(0,c+1,col,heading_format)\n",
    "    for i,ind in enumerate(figure6_df.index):\n",
    "        if c==0:\n",
    "            figure6_sheet.write(i+1,0,figure6_df.index[i],heading_format)\n",
    "        cell=excel_cols[c+1]+str(i+2)\n",
    "        figure6_sheet.write_dynamic_array_formula(cell,formula=figure6_df.loc[ind,col], cell_format=percentage_format)\n",
    "figure6_sheet.set_tab_color('orange')\n",
    "figure6_sheet.hide()"
   ]
  },
  {
   "cell_type": "code",
   "execution_count": 347,
   "id": "806f1889",
   "metadata": {},
   "outputs": [],
   "source": [
    "# Figure7\n",
    "for c,col in enumerate(figure7_df.columns):\n",
    "    figure7_sheet.write(0,c+1,col,heading_format)\n",
    "    for i,ind in enumerate(figure7_df.index):\n",
    "        if c==0:\n",
    "            figure7_sheet.write(i+1,0,figure7_df.index[i],heading_format)\n",
    "        cell=excel_cols[c+1]+str(i+2)\n",
    "        figure7_sheet.write_dynamic_array_formula(cell,formula=figure7_df.loc[ind,col], cell_format=scientific_format)\n",
    "figure7_sheet.set_tab_color('orange')\n",
    "figure7_sheet.hide()"
   ]
  },
  {
   "cell_type": "markdown",
   "id": "31c74349",
   "metadata": {},
   "source": [
    "#### 3.4.19 Dashboard"
   ]
  },
  {
   "cell_type": "code",
   "execution_count": 348,
   "id": "1dd6495a",
   "metadata": {},
   "outputs": [],
   "source": [
    "waste=general_info['Type of waste']\n",
    "geo=general_info['Geographical scope']\n",
    "time=general_info['Temporal scope']\n",
    "title=f'Treatment of {waste}, {geo}, {time}'"
   ]
  },
  {
   "cell_type": "markdown",
   "id": "e37c78d2",
   "metadata": {},
   "source": [
    "**Text**"
   ]
  },
  {
   "cell_type": "code",
   "execution_count": 349,
   "id": "a405fc6f",
   "metadata": {},
   "outputs": [],
   "source": [
    "Dashboard_sheet.set_column(0, 200, 100, background_format)\n",
    "Dashboard_sheet.set_column(0, 0, 50, background_format)\n",
    "Dashboard_sheet.set_column(1, 1, 60, background_format)\n",
    "\n",
    "\n",
    "Dashboard_sheet.write('A1',title,title_format)\n",
    "Dashboard_sheet.write('A9','Environmental Waste Utilization', title_format)\n",
    "Dashboard_sheet.write('C9','Contribution Analysis', title_format)\n",
    "Dashboard_sheet.write('P9','Scenario Analysis', title_format)\n",
    "\n",
    "Dashboard_sheet.write('A3','Pathway/WMS',text_format2)\n",
    "Dashboard_sheet.write('B3',act_names[0],text_format)\n",
    "Dashboard_sheet.data_validation('B3', {'validate': 'list',\n",
    "                                 'source': act_names})\n",
    "\n",
    "Dashboard_sheet.write('A4','Database',text_format2)\n",
    "Dashboard_sheet.write('B4',[db.name for db in dbs][0],text_format)\n",
    "Dashboard_sheet.data_validation('B4', {'validate': 'list',\n",
    "                                 'source': [db.name for db in dbs]})\n",
    "\n",
    "Dashboard_sheet.write('A5','Scenario',text_format2)\n",
    "Dashboard_sheet.write('B5',scenarios[0],text_format)\n",
    "Dashboard_sheet.data_validation('B5', {'validate': 'list',\n",
    "                                 'source': scenarios})\n",
    "\n",
    "Dashboard_sheet.write('A6','Weighting Method',text_format2)\n",
    "Dashboard_sheet.write('B6',Weighting.columns[0],text_format)\n",
    "Dashboard_sheet.data_validation('B6', {'validate': 'list',\n",
    "                                 'source': '=Weighting!B1:'+str(excel_cols[len(Weighting.columns)])+'1'})\n",
    "\n",
    "Dashboard_sheet.set_zoom(30)\n",
    "Dashboard_sheet.hide_gridlines(option=2) #hide gridlines on screen and printed"
   ]
  },
  {
   "cell_type": "markdown",
   "id": "55bf9b0b",
   "metadata": {},
   "source": [
    "**Figure1**"
   ]
  },
  {
   "cell_type": "code",
   "execution_count": 350,
   "id": "63569e75",
   "metadata": {},
   "outputs": [],
   "source": [
    "chart = workbook.add_chart({'type': 'radar', 'subtype':'filled'})\n",
    "\n",
    "# Get the number of rows and column index\n",
    "max_col = len(LCIA_method_names)\n",
    "col_x = figure1_df.columns.get_loc(LCIA_method_names[0]) + 1\n",
    "col_y = figure1_df.columns.get_loc(LCIA_method_names[-1]) + 1\n",
    "\n",
    "max_row = len(act_names)\n",
    "\n",
    "for i,ind in enumerate(figure5_df.index[:max_row]):\n",
    "    row_x = figure1_df.index.get_loc(ind) + 1\n",
    "    chart.add_series({\n",
    "        'name':       ['EWU_Dashboard', 2, 1, 2, 1],\n",
    "        'categories': [figure1_sheet_name, 0, col_x, 0, max_col], #[sheetname, first_row, first_col, last_row, last_col]\n",
    "        'values':     [figure1_sheet_name, row_x, col_x, row_x, col_y],\n",
    "        'line':       {'color': color_dict[ind]},\n",
    "        'fill':       {'color': color_dict[ind], 'transparency': 50},\n",
    "        #'marker':     {'type': 'circle', 'size': 4},\n",
    "        #'trendline': {'type': 'linear'},\n",
    "    })\n",
    "    # Set name on axis\n",
    "#     chart.set_x_axis({'name': 'Concentration'})\n",
    "    chart.set_y_axis({'name': 'Measured','major_unit': 1}) #'min': -1, 'max': 2,\n",
    "                      #'major_gridlines': {'visible': False}},\n",
    "    chart.set_size({'width': 700, 'height': 370})\n",
    "    chart.set_legend({'none': True})\n",
    "\n",
    "    Dashboard_sheet.insert_chart('A10', chart)\n",
    "    # Close and save the Excel file"
   ]
  },
  {
   "cell_type": "markdown",
   "id": "39219a29",
   "metadata": {},
   "source": [
    "**Figure2**"
   ]
  },
  {
   "cell_type": "code",
   "execution_count": 351,
   "id": "165467df",
   "metadata": {},
   "outputs": [],
   "source": [
    "# Figure 2: Results - figure2_df Aggregated Scores\n",
    "# Add charts\n",
    "\n",
    "# Create a chart object.\n",
    "act_colors=[color_dict[act] for act in act_names]\n",
    "\n",
    "n=0\n",
    "for i,ind in enumerate(figure2_df.index[:1]):\n",
    "    chart = workbook.add_chart({'type': 'column'})\n",
    "    # Get the number of rows and column index\n",
    "    max_col = len(LCIA_method_names)\n",
    "    col_x = figure2_df.columns.get_loc(act_names[0]) + 1\n",
    "    col_y = figure2_df.columns.get_loc(act_names[-1]) + 1\n",
    "    row_x = figure2_df.index.get_loc(ind) + 1\n",
    "    # Create the bar chart\n",
    "    chart.add_series({\n",
    "        'name':       ['EWU_Dashboard', 5, 1, 5, 1],\n",
    "        'categories': [figure2_sheet_name, 0, col_x, 0, max_col], #[sheetname, first_row, first_col, last_row, last_col]\n",
    "        'values':     [figure2_sheet_name, row_x, col_x, row_x, col_y],\n",
    "        'points':     [{'fill': {'color': act_color}} for act_color in act_colors],\n",
    "        #'fill':       {'color': act_colors},\n",
    "        #'marker':     {'type': 'circle', 'size': 4},\n",
    "        #'trendline': {'type': 'linear'},\n",
    "    })\n",
    "    # Set name on axis\n",
    "#     chart.set_x_axis({'name': 'Concentration'})\n",
    "    chart.set_y_axis({'name': 'Indicator Score',})#'min': -1, 'max': 2,'major_unit': 1})\n",
    "                      #'major_gridlines': {'visible': False}},\n",
    "    chart.set_size({'width': 700, 'height': 370})\n",
    "    chart.set_legend({'none': True})\n",
    "\n",
    "    Dashboard_sheet.insert_chart('A30', chart)\n",
    "    \n",
    "    # Close and save the Excel file"
   ]
  },
  {
   "cell_type": "markdown",
   "id": "38e53d3b",
   "metadata": {},
   "source": [
    "**Figure3**"
   ]
  },
  {
   "cell_type": "code",
   "execution_count": 352,
   "id": "658a64fa",
   "metadata": {},
   "outputs": [
    {
     "data": {
      "text/plain": [
       "0"
      ]
     },
     "execution_count": 352,
     "metadata": {},
     "output_type": "execute_result"
    }
   ],
   "source": [
    "# Results - Contribution Analysis (Pathways)\n",
    "# Add charts\n",
    "\n",
    "# Create a chart object.\n",
    "chart = workbook.add_chart({'type': 'column', 'subtype': 'stacked'})\n",
    "max_col = len(LCIA_method_names)\n",
    "col_x = figure3_df.columns.get_loc(LCIA_method_names[0]) + 1\n",
    "col_y = figure3_df.columns.get_loc(LCIA_method_names[-1]) + 1\n",
    "first_row=4\n",
    "max_row = len(figure3_df.index)+4\n",
    "\n",
    "for i,ind in enumerate(figure3_df.index[1:]):\n",
    "    # Get the number of rows and column index\n",
    "\n",
    "    # Create the scatter plot, use a trendline to fit it\n",
    "    chart.add_series({\n",
    "        'name':       ind,\n",
    "        'categories': [figure3_sheet_name, first_row, col_x, first_row, col_y], #[sheetname, first_row, first_col, last_row, last_col]\n",
    "        'values':     [figure3_sheet_name, i+first_row+2, col_x, i+first_row+2, col_y],\n",
    "        'fill':       {'color': color_dict[ind]},\n",
    "    })\n",
    "    # Set name on axis\n",
    "chart.set_x_axis({'label_position':'low'})\n",
    "chart.set_y_axis({'name': 'Environmental Impact in Person Equivalents'})\n",
    "                  #'major_gridlines': {'visible': False}},\n",
    "chart.set_size({'width': 7500, 'height': 370})\n",
    "#chart.set_legend({'none': True})\n",
    "chart.set_title({'name':'Contribution Analysis - Treatment Paths'})\n",
    "\n",
    "line_chart = workbook.add_chart({'type': 'line'})\n",
    "line_chart.add_series({     \n",
    "        'name':       [figure3_sheet_name, first_row+1, 0],\n",
    "        'categories': [figure3_sheet_name, first_row, col_x, first_row, col_y], #[sheetname, first_row, first_col, last_row, last_col]\n",
    "        'values':     [figure3_sheet_name, first_row+1, col_x, first_row+1, col_y],\n",
    "        'line':       {'color': 'black','transparency':100},\n",
    "        'marker':     {'border': {'color':'black'}, 'fill': {'color':'black'},'size':5,'type': 'diamond'}\n",
    "        })\n",
    "\n",
    "chart.combine(line_chart)\n",
    "\n",
    "Dashboard_sheet.insert_chart('C10', chart)"
   ]
  },
  {
   "cell_type": "markdown",
   "id": "efee811a",
   "metadata": {},
   "source": [
    "**Figure4**"
   ]
  },
  {
   "cell_type": "code",
   "execution_count": 353,
   "id": "4fb88d6a",
   "metadata": {},
   "outputs": [
    {
     "data": {
      "text/plain": [
       "0"
      ]
     },
     "execution_count": 353,
     "metadata": {},
     "output_type": "execute_result"
    }
   ],
   "source": [
    "# Results - Contribution Analysis (Pathways)\n",
    "# Add charts\n",
    "\n",
    "# Create a chart object.\n",
    "chart = workbook.add_chart({'type': 'column', 'subtype': 'stacked'})\n",
    "max_col = len(LCIA_method_names)\n",
    "col_x = figure4_df.columns.get_loc(LCIA_method_names[0]) + 1\n",
    "col_y = figure4_df.columns.get_loc(LCIA_method_names[-1]) + 1\n",
    "first_row=4\n",
    "max_row = len(figure4_df.index)+4\n",
    "\n",
    "for i,ind in enumerate(figure4_df.index):\n",
    "    # Get the number of rows and column index\n",
    "\n",
    "    # Create the scatter plot, use a trendline to fit it\n",
    "    chart.add_series({\n",
    "        'name':       ind,\n",
    "        'categories': [figure4_sheet_name, first_row, col_x, first_row, col_y], #[sheetname, first_row, first_col, last_row, last_col]\n",
    "        'values':     [figure4_sheet_name, i+first_row+1, col_x, i+first_row+1, col_y],\n",
    "        'fill':       {'color': color_dict[ind]},\n",
    "    })\n",
    "    # Set name on axis\n",
    "chart.set_x_axis({'label_position':'low'})\n",
    "chart.set_y_axis({'name': 'Environmental Impact in Person Equivalents'})\n",
    "                  #'major_gridlines': {'visible': False}},\n",
    "chart.set_size({'width': 7500, 'height': 370})\n",
    "#chart.set_legend({'none': True})\n",
    "chart.set_title({'name':'Contribution Analysis - Activities'})\n",
    "\n",
    "line_chart = workbook.add_chart({'type': 'line'})\n",
    "line_chart.add_series({     \n",
    "        'name':       [figure3_sheet_name, first_row+1, 0],\n",
    "        'categories': [figure3_sheet_name, first_row, col_x, first_row, col_y], #[sheetname, first_row, first_col, last_row, last_col]\n",
    "        'values':     [figure3_sheet_name, first_row+1, col_x, first_row+1, col_y],\n",
    "        'line':       {'color': 'black','transparency':100},\n",
    "        'marker':     {'border': {'color':'black'}, 'fill': {'color':'black'},'size':5,'type': 'diamond'}\n",
    "        })\n",
    "\n",
    "chart.combine(line_chart)\n",
    "\n",
    "Dashboard_sheet.insert_chart('C30', chart)"
   ]
  },
  {
   "cell_type": "markdown",
   "id": "ae149c7e",
   "metadata": {},
   "source": [
    "**Figure5**"
   ]
  },
  {
   "cell_type": "code",
   "execution_count": 354,
   "id": "5b8c0d02",
   "metadata": {},
   "outputs": [
    {
     "data": {
      "text/plain": [
       "0"
      ]
     },
     "execution_count": 354,
     "metadata": {},
     "output_type": "execute_result"
    }
   ],
   "source": [
    "# Figure 5: Results - figure5_df Aggregated Scores\n",
    "# Add charts\n",
    "\n",
    "# Create a chart object.\n",
    "act_colors=[color_dict[act] for act in act_names]\n",
    "\n",
    "n=0\n",
    "# Create a chart object.\n",
    "chart = workbook.add_chart({'type': 'column', 'subtype': 'stacked'})\n",
    "col_x = 1\n",
    "col_y = len(figure5_df.columns)\n",
    "first_row=0\n",
    "max_row = len(act_names)\n",
    "\n",
    "for i,ind in enumerate(figure5_df.index[:max_row]):\n",
    "    # Get the number of rows and column index\n",
    "\n",
    "    # Create the scatter plot, use a trendline to fit it\n",
    "    chart.add_series({\n",
    "        'name':       ind,\n",
    "        'categories': [figure5_sheet_name, first_row, col_x, first_row, col_y], #[sheetname, first_row, first_col, last_row, last_col]\n",
    "        'values':     [figure5_sheet_name, i+first_row+1, col_x, i+first_row+1, col_y],\n",
    "        'fill':       {'color': color_dict[ind]},\n",
    "    })\n",
    "    # Set name on axis\n",
    "#     chart.set_x_axis({'name': 'Concentration'})\n",
    "chart.set_y_axis({'name': 'Indicator Score',})#'min': -1, 'max': 2,'major_unit': 1})\n",
    "                  #'major_gridlines': {'visible': False}},\n",
    "chart.set_size({'width': 7500, 'height': 370})\n",
    "chart.set_legend({'none': True})\n",
    "chart.set_title({'name': 'EWU_Dashboard!B3'})\n",
    "\n",
    "Dashboard_sheet.insert_chart('P10', chart)\n",
    "    \n",
    "    # Close and save the Excel file"
   ]
  },
  {
   "cell_type": "markdown",
   "id": "edf000ca",
   "metadata": {},
   "source": [
    "**Figure6**"
   ]
  },
  {
   "cell_type": "code",
   "execution_count": 355,
   "id": "f2a6b26c",
   "metadata": {},
   "outputs": [
    {
     "data": {
      "text/plain": [
       "0"
      ]
     },
     "execution_count": 355,
     "metadata": {},
     "output_type": "execute_result"
    }
   ],
   "source": [
    "# Figure 6: Results - figure6_df Aggregated Scores\n",
    "# Add charts\n",
    "\n",
    "# Create a chart object.\n",
    "act_colors=[color_dict[act] for act in act_names]\n",
    "\n",
    "n=0\n",
    "# Create a chart object.\n",
    "chart = workbook.add_chart({'type': 'column', 'subtype': 'stacked'})\n",
    "col_x = 1\n",
    "col_y = len(figure6_df.columns)\n",
    "first_row=0\n",
    "max_row = len(act_names)\n",
    "\n",
    "for i,ind in enumerate(figure6_df.index[:max_row]):\n",
    "    # Get the number of rows and column index\n",
    "\n",
    "    # Create the scatter plot, use a trendline to fit it\n",
    "    chart.add_series({\n",
    "        'name':       ind,\n",
    "        'categories': [figure6_sheet_name, first_row, col_x, first_row, col_y], #[sheetname, first_row, first_col, last_row, last_col]\n",
    "        'values':     [figure6_sheet_name, i+first_row+1, col_x, i+first_row+1, col_y],\n",
    "        'fill':       {'color': color_dict[ind]},\n",
    "    })\n",
    "    # Set name on axis\n",
    "#     chart.set_x_axis({'name': 'Concentration'})\n",
    "chart.set_y_axis({'name': 'Indicator Score',})#'min': -1, 'max': 2,'major_unit': 1})\n",
    "                  #'major_gridlines': {'visible': False}},\n",
    "chart.set_size({'width': 7500, 'height': 370})\n",
    "chart.set_legend({'none': True})\n",
    "chart.set_title({'name': 'EWU_Dashboard!B3'})\n",
    "\n",
    "Dashboard_sheet.insert_chart('P30', chart)\n",
    "    \n",
    "    # Close and save the Excel file"
   ]
  },
  {
   "cell_type": "markdown",
   "id": "f6a51952",
   "metadata": {},
   "source": [
    "**Figure7**"
   ]
  },
  {
   "cell_type": "code",
   "execution_count": 356,
   "id": "f48a2cfe",
   "metadata": {},
   "outputs": [
    {
     "data": {
      "text/plain": [
       "0"
      ]
     },
     "execution_count": 356,
     "metadata": {},
     "output_type": "execute_result"
    }
   ],
   "source": [
    "# Figure 7: Results - figure7_df Aggregated Scores\n",
    "# Add charts\n",
    "\n",
    "# Create a chart object.\n",
    "act_colors=[color_dict[act] for act in act_names]\n",
    "\n",
    "n=0\n",
    "# Create a chart object.\n",
    "chart = workbook.add_chart({'type': 'column'})\n",
    "col_x = 1\n",
    "col_y = len(figure7_df.columns)\n",
    "first_row=0\n",
    "max_row = len(act_names)\n",
    "\n",
    "for i,ind in enumerate(figure7_df.index[:max_row]):\n",
    "    # Get the number of rows and column index\n",
    "\n",
    "    # Create the scatter plot, use a trendline to fit it\n",
    "    chart.add_series({\n",
    "        'name':       ind,\n",
    "        'categories': [figure7_sheet_name, first_row, col_x, first_row, col_y], #[sheetname, first_row, first_col, last_row, last_col]\n",
    "        'values':     [figure7_sheet_name, i+first_row+1, col_x, i+first_row+1, col_y],\n",
    "        'fill':       {'color': color_dict[ind]},\n",
    "    })\n",
    "chart.set_x_axis({'label_position':'low'})\n",
    "chart.set_y_axis({'name': 'Environmental Impact in Person Equivalents',})#'min': -1, 'max': 2,'major_unit': 1})\n",
    "                  #'major_gridlines': {'visible': False}},\n",
    "chart.set_size({'width': 700, 'height': 370})\n",
    "chart.set_legend({'none': True})\n",
    "chart.set_title({'name': 'EWU-Components'})\n",
    "\n",
    "Dashboard_sheet.insert_chart('A50', chart)\n",
    "    \n",
    "    # Close and save the Excel file"
   ]
  },
  {
   "cell_type": "markdown",
   "id": "5aa1a1d4",
   "metadata": {},
   "source": [
    "### 3.5 Save & Close "
   ]
  },
  {
   "cell_type": "code",
   "execution_count": 357,
   "id": "60a9b5b1",
   "metadata": {
    "scrolled": false
   },
   "outputs": [],
   "source": [
    "writer.save()\n",
    "writer.close()"
   ]
  },
  {
   "cell_type": "markdown",
   "id": "beca2198",
   "metadata": {},
   "source": [
    "### 3.6 Insert User Guide and Glossar"
   ]
  },
  {
   "cell_type": "code",
   "execution_count": 358,
   "id": "8ff46a94",
   "metadata": {},
   "outputs": [],
   "source": [
    "from win32com.client import Dispatch\n",
    "\n",
    "path1 = os.path.abspath('ExcelTool_GeneratorInput_Template.xlsx')\n",
    "path2 = os.path.abspath(EWU_dashboard)\n",
    "\n",
    "xl = Dispatch(\"Excel.Application\")\n",
    "xl.Visible = True  # You can remove this line if you don't want the Excel application to be visible\n",
    "\n",
    "wb1 = xl.Workbooks.Open(Filename=path1)\n",
    "wb2 = xl.Workbooks.Open(Filename=path2)\n",
    "\n",
    "ws1 = wb1.Worksheets(\"Glossary\")\n",
    "ws2 = wb1.Worksheets(\"UserGuide_EWU-Calc\")\n",
    "ws1.Copy(Before=wb2.Worksheets(1))\n",
    "ws2.Copy(Before=wb2.Worksheets(1))\n",
    "\n",
    "wb2.Close(SaveChanges=True)\n",
    "#xl.Quit()"
   ]
  },
  {
   "cell_type": "code",
   "execution_count": null,
   "id": "5023545d",
   "metadata": {},
   "outputs": [],
   "source": []
  }
 ],
 "metadata": {
  "kernelspec": {
   "display_name": "Python 3 (ipykernel)",
   "language": "python",
   "name": "python3"
  },
  "language_info": {
   "codemirror_mode": {
    "name": "ipython",
    "version": 3
   },
   "file_extension": ".py",
   "mimetype": "text/x-python",
   "name": "python",
   "nbconvert_exporter": "python",
   "pygments_lexer": "ipython3",
   "version": "3.9.12"
  },
  "toc": {
   "base_numbering": 1,
   "nav_menu": {},
   "number_sections": false,
   "sideBar": true,
   "skip_h1_title": true,
   "title_cell": "Table of Contents",
   "title_sidebar": "Contents",
   "toc_cell": false,
   "toc_position": {
    "height": "calc(100% - 180px)",
    "left": "10px",
    "top": "150px",
    "width": "384px"
   },
   "toc_section_display": true,
   "toc_window_display": true
  }
 },
 "nbformat": 4,
 "nbformat_minor": 5
}
